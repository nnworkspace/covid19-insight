{
 "cells": [
  {
   "cell_type": "markdown",
   "metadata": {},
   "source": [
    "# Covid-19 Data Wrangling in Python"
   ]
  },
  {
   "cell_type": "markdown",
   "metadata": {},
   "source": [
    "## Fatality statistics and ranks among countries"
   ]
  },
  {
   "cell_type": "code",
   "execution_count": 35,
   "metadata": {},
   "outputs": [
    {
     "output_type": "stream",
     "name": "stdout",
     "text": "pandas version:  1.0.3\nnumpy version:  1.18.1\n"
    }
   ],
   "source": [
    "import pandas as pd\n",
    "import numpy as np\n",
    "\n",
    "print('pandas version: ', pd.__version__)\n",
    "print('numpy version: ', np.version.version)"
   ]
  },
  {
   "cell_type": "code",
   "execution_count": 36,
   "metadata": {},
   "outputs": [
    {
     "output_type": "execute_result",
     "data": {
      "text/plain": "      FIPS     Admin2  Province_State Country_Region          Last_Update  \\\n0  45001.0  Abbeville  South Carolina             US  2020-04-04 23:34:21   \n1  22001.0     Acadia       Louisiana             US  2020-04-04 23:34:21   \n2  51001.0   Accomack        Virginia             US  2020-04-04 23:34:21   \n3  16001.0        Ada           Idaho             US  2020-04-04 23:34:21   \n4  19001.0      Adair            Iowa             US  2020-04-04 23:34:21   \n\n         Lat       Long_  Confirmed  Deaths  Recovered  Active  \\\n0  34.223334  -82.461707          6       0          0       0   \n1  30.295065  -92.414197         65       2          0       0   \n2  37.767072  -75.632346          8       0          0       0   \n3  43.452658 -116.241552        360       3          0       0   \n4  41.330756  -94.471059          1       0          0       0   \n\n                    Combined_Key  \n0  Abbeville, South Carolina, US  \n1          Acadia, Louisiana, US  \n2         Accomack, Virginia, US  \n3                 Ada, Idaho, US  \n4                Adair, Iowa, US  ",
      "text/html": "<div>\n<style scoped>\n    .dataframe tbody tr th:only-of-type {\n        vertical-align: middle;\n    }\n\n    .dataframe tbody tr th {\n        vertical-align: top;\n    }\n\n    .dataframe thead th {\n        text-align: right;\n    }\n</style>\n<table border=\"1\" class=\"dataframe\">\n  <thead>\n    <tr style=\"text-align: right;\">\n      <th></th>\n      <th>FIPS</th>\n      <th>Admin2</th>\n      <th>Province_State</th>\n      <th>Country_Region</th>\n      <th>Last_Update</th>\n      <th>Lat</th>\n      <th>Long_</th>\n      <th>Confirmed</th>\n      <th>Deaths</th>\n      <th>Recovered</th>\n      <th>Active</th>\n      <th>Combined_Key</th>\n    </tr>\n  </thead>\n  <tbody>\n    <tr>\n      <th>0</th>\n      <td>45001.0</td>\n      <td>Abbeville</td>\n      <td>South Carolina</td>\n      <td>US</td>\n      <td>2020-04-04 23:34:21</td>\n      <td>34.223334</td>\n      <td>-82.461707</td>\n      <td>6</td>\n      <td>0</td>\n      <td>0</td>\n      <td>0</td>\n      <td>Abbeville, South Carolina, US</td>\n    </tr>\n    <tr>\n      <th>1</th>\n      <td>22001.0</td>\n      <td>Acadia</td>\n      <td>Louisiana</td>\n      <td>US</td>\n      <td>2020-04-04 23:34:21</td>\n      <td>30.295065</td>\n      <td>-92.414197</td>\n      <td>65</td>\n      <td>2</td>\n      <td>0</td>\n      <td>0</td>\n      <td>Acadia, Louisiana, US</td>\n    </tr>\n    <tr>\n      <th>2</th>\n      <td>51001.0</td>\n      <td>Accomack</td>\n      <td>Virginia</td>\n      <td>US</td>\n      <td>2020-04-04 23:34:21</td>\n      <td>37.767072</td>\n      <td>-75.632346</td>\n      <td>8</td>\n      <td>0</td>\n      <td>0</td>\n      <td>0</td>\n      <td>Accomack, Virginia, US</td>\n    </tr>\n    <tr>\n      <th>3</th>\n      <td>16001.0</td>\n      <td>Ada</td>\n      <td>Idaho</td>\n      <td>US</td>\n      <td>2020-04-04 23:34:21</td>\n      <td>43.452658</td>\n      <td>-116.241552</td>\n      <td>360</td>\n      <td>3</td>\n      <td>0</td>\n      <td>0</td>\n      <td>Ada, Idaho, US</td>\n    </tr>\n    <tr>\n      <th>4</th>\n      <td>19001.0</td>\n      <td>Adair</td>\n      <td>Iowa</td>\n      <td>US</td>\n      <td>2020-04-04 23:34:21</td>\n      <td>41.330756</td>\n      <td>-94.471059</td>\n      <td>1</td>\n      <td>0</td>\n      <td>0</td>\n      <td>0</td>\n      <td>Adair, Iowa, US</td>\n    </tr>\n  </tbody>\n</table>\n</div>"
     },
     "metadata": {},
     "execution_count": 36
    }
   ],
   "source": [
    "covid_daily_df = pd.read_csv('data/2020-04-04.csv')\n",
    "\n",
    "covid_daily_df.head()"
   ]
  },
  {
   "cell_type": "code",
   "execution_count": 38,
   "metadata": {},
   "outputs": [
    {
     "output_type": "execute_result",
     "data": {
      "text/plain": "(2679, 12)"
     },
     "metadata": {},
     "execution_count": 38
    }
   ],
   "source": [
    "covid_daily_df.shape"
   ]
  },
  {
   "cell_type": "code",
   "execution_count": 40,
   "metadata": {},
   "outputs": [
    {
     "output_type": "stream",
     "name": "stdout",
     "text": "['US' 'Canada' 'United Kingdom' 'China' 'Netherlands' 'Australia'\n 'Denmark' 'France' 'Afghanistan' 'Albania' 'Algeria' 'Andorra' 'Angola'\n 'Antigua and Barbuda' 'Argentina' 'Armenia' 'Austria' 'Azerbaijan'\n 'Bahamas' 'Bahrain' 'Bangladesh' 'Barbados' 'Belarus' 'Belgium' 'Belize'\n 'Benin' 'Bhutan' 'Bolivia' 'Bosnia and Herzegovina' 'Botswana' 'Brazil'\n 'Brunei' 'Bulgaria' 'Burkina Faso' 'Burma' 'Burundi' 'Cabo Verde'\n 'Cambodia' 'Cameroon' 'Central African Republic' 'Chad' 'Chile'\n 'Colombia' 'Congo (Brazzaville)' 'Congo (Kinshasa)' 'Costa Rica'\n \"Cote d'Ivoire\" 'Croatia' 'Cuba' 'Cyprus' 'Czechia' 'Diamond Princess'\n 'Djibouti' 'Dominica' 'Dominican Republic' 'Ecuador' 'Egypt'\n 'El Salvador' 'Equatorial Guinea' 'Eritrea' 'Estonia' 'Eswatini'\n 'Ethiopia' 'Fiji' 'Finland' 'Gabon' 'Gambia' 'Georgia' 'Germany' 'Ghana'\n 'Greece' 'Grenada' 'Guatemala' 'Guinea' 'Guinea-Bissau' 'Guyana' 'Haiti'\n 'Holy See' 'Honduras' 'Hungary' 'Iceland' 'India' 'Indonesia' 'Iran'\n 'Iraq' 'Ireland' 'Israel' 'Italy' 'Jamaica' 'Japan' 'Jordan' 'Kazakhstan'\n 'Kenya' 'Korea, South' 'Kosovo' 'Kuwait' 'Kyrgyzstan' 'Laos' 'Latvia'\n 'Lebanon' 'Liberia' 'Libya' 'Liechtenstein' 'Lithuania' 'Luxembourg'\n 'MS Zaandam' 'Madagascar' 'Malawi' 'Malaysia' 'Maldives' 'Mali' 'Malta'\n 'Mauritania' 'Mauritius' 'Mexico' 'Moldova' 'Monaco' 'Mongolia'\n 'Montenegro' 'Morocco' 'Mozambique' 'Namibia' 'Nepal' 'New Zealand'\n 'Nicaragua' 'Niger' 'Nigeria' 'North Macedonia' 'Norway' 'Oman'\n 'Pakistan' 'Panama' 'Papua New Guinea' 'Paraguay' 'Peru' 'Philippines'\n 'Poland' 'Portugal' 'Qatar' 'Romania' 'Russia' 'Rwanda'\n 'Saint Kitts and Nevis' 'Saint Lucia' 'Saint Vincent and the Grenadines'\n 'San Marino' 'Saudi Arabia' 'Senegal' 'Serbia' 'Seychelles'\n 'Sierra Leone' 'Singapore' 'Slovakia' 'Slovenia' 'Somalia' 'South Africa'\n 'Spain' 'Sri Lanka' 'Sudan' 'Suriname' 'Sweden' 'Switzerland' 'Syria'\n 'Taiwan*' 'Tanzania' 'Thailand' 'Timor-Leste' 'Togo'\n 'Trinidad and Tobago' 'Tunisia' 'Turkey' 'Uganda' 'Ukraine'\n 'United Arab Emirates' 'Uruguay' 'Uzbekistan' 'Venezuela' 'Vietnam'\n 'West Bank and Gaza' 'Zambia' 'Zimbabwe']\n"
    },
    {
     "output_type": "execute_result",
     "data": {
      "text/plain": "181"
     },
     "metadata": {},
     "execution_count": 40
    }
   ],
   "source": [
    "# show all unique Country_Region codes\n",
    "\n",
    "countries = covid_daily_df.Country_Region.unique()\n",
    "print(countries)\n",
    "len(countries)"
   ]
  },
  {
   "cell_type": "code",
   "execution_count": 41,
   "metadata": {},
   "outputs": [
    {
     "output_type": "execute_result",
     "data": {
      "text/plain": "                    Confirmed\nCountry_Region               \nAfghanistan               299\nAlbania                   333\nAlgeria                  1251\nAndorra                   466\nAngola                     10\n...                       ...\nVenezuela                 155\nVietnam                   240\nWest Bank and Gaza        217\nZambia                     39\nZimbabwe                    9\n\n[181 rows x 1 columns]",
      "text/html": "<div>\n<style scoped>\n    .dataframe tbody tr th:only-of-type {\n        vertical-align: middle;\n    }\n\n    .dataframe tbody tr th {\n        vertical-align: top;\n    }\n\n    .dataframe thead th {\n        text-align: right;\n    }\n</style>\n<table border=\"1\" class=\"dataframe\">\n  <thead>\n    <tr style=\"text-align: right;\">\n      <th></th>\n      <th>Confirmed</th>\n    </tr>\n    <tr>\n      <th>Country_Region</th>\n      <th></th>\n    </tr>\n  </thead>\n  <tbody>\n    <tr>\n      <th>Afghanistan</th>\n      <td>299</td>\n    </tr>\n    <tr>\n      <th>Albania</th>\n      <td>333</td>\n    </tr>\n    <tr>\n      <th>Algeria</th>\n      <td>1251</td>\n    </tr>\n    <tr>\n      <th>Andorra</th>\n      <td>466</td>\n    </tr>\n    <tr>\n      <th>Angola</th>\n      <td>10</td>\n    </tr>\n    <tr>\n      <th>...</th>\n      <td>...</td>\n    </tr>\n    <tr>\n      <th>Venezuela</th>\n      <td>155</td>\n    </tr>\n    <tr>\n      <th>Vietnam</th>\n      <td>240</td>\n    </tr>\n    <tr>\n      <th>West Bank and Gaza</th>\n      <td>217</td>\n    </tr>\n    <tr>\n      <th>Zambia</th>\n      <td>39</td>\n    </tr>\n    <tr>\n      <th>Zimbabwe</th>\n      <td>9</td>\n    </tr>\n  </tbody>\n</table>\n<p>181 rows × 1 columns</p>\n</div>"
     },
     "metadata": {},
     "execution_count": 41
    }
   ],
   "source": [
    "# statistics grouped by countries\n",
    "covid_daily_df.groupby('Country_Region').agg({'Confirmed': np.sum})"
   ]
  },
  {
   "cell_type": "code",
   "execution_count": 42,
   "metadata": {},
   "outputs": [
    {
     "output_type": "execute_result",
     "data": {
      "text/plain": "                    Confirmed  Deaths  Recovered  Active\nCountry_Region                                          \nAfghanistan               299       7         10     282\nAlbania                   333      20         99     214\nAlgeria                  1251     130         90    1031\nAndorra                   466      17         21     428\nAngola                     10       2          2       6\n...                       ...     ...        ...     ...\nVenezuela                 155       7         52      96\nVietnam                   240       0         90     150\nWest Bank and Gaza        217       1         21     195\nZambia                     39       1          2      36\nZimbabwe                    9       1          0       8\n\n[181 rows x 4 columns]",
      "text/html": "<div>\n<style scoped>\n    .dataframe tbody tr th:only-of-type {\n        vertical-align: middle;\n    }\n\n    .dataframe tbody tr th {\n        vertical-align: top;\n    }\n\n    .dataframe thead th {\n        text-align: right;\n    }\n</style>\n<table border=\"1\" class=\"dataframe\">\n  <thead>\n    <tr style=\"text-align: right;\">\n      <th></th>\n      <th>Confirmed</th>\n      <th>Deaths</th>\n      <th>Recovered</th>\n      <th>Active</th>\n    </tr>\n    <tr>\n      <th>Country_Region</th>\n      <th></th>\n      <th></th>\n      <th></th>\n      <th></th>\n    </tr>\n  </thead>\n  <tbody>\n    <tr>\n      <th>Afghanistan</th>\n      <td>299</td>\n      <td>7</td>\n      <td>10</td>\n      <td>282</td>\n    </tr>\n    <tr>\n      <th>Albania</th>\n      <td>333</td>\n      <td>20</td>\n      <td>99</td>\n      <td>214</td>\n    </tr>\n    <tr>\n      <th>Algeria</th>\n      <td>1251</td>\n      <td>130</td>\n      <td>90</td>\n      <td>1031</td>\n    </tr>\n    <tr>\n      <th>Andorra</th>\n      <td>466</td>\n      <td>17</td>\n      <td>21</td>\n      <td>428</td>\n    </tr>\n    <tr>\n      <th>Angola</th>\n      <td>10</td>\n      <td>2</td>\n      <td>2</td>\n      <td>6</td>\n    </tr>\n    <tr>\n      <th>...</th>\n      <td>...</td>\n      <td>...</td>\n      <td>...</td>\n      <td>...</td>\n    </tr>\n    <tr>\n      <th>Venezuela</th>\n      <td>155</td>\n      <td>7</td>\n      <td>52</td>\n      <td>96</td>\n    </tr>\n    <tr>\n      <th>Vietnam</th>\n      <td>240</td>\n      <td>0</td>\n      <td>90</td>\n      <td>150</td>\n    </tr>\n    <tr>\n      <th>West Bank and Gaza</th>\n      <td>217</td>\n      <td>1</td>\n      <td>21</td>\n      <td>195</td>\n    </tr>\n    <tr>\n      <th>Zambia</th>\n      <td>39</td>\n      <td>1</td>\n      <td>2</td>\n      <td>36</td>\n    </tr>\n    <tr>\n      <th>Zimbabwe</th>\n      <td>9</td>\n      <td>1</td>\n      <td>0</td>\n      <td>8</td>\n    </tr>\n  </tbody>\n</table>\n<p>181 rows × 4 columns</p>\n</div>"
     },
     "metadata": {},
     "execution_count": 42
    }
   ],
   "source": [
    "# construct a dataframe with five columns: \n",
    "# Country_Region (index), Confirmed, Deaths, Recovered, Active\n",
    "df_country_cases = covid_daily_df.groupby('Country_Region').agg({'Confirmed': np.sum, 'Deaths': np.sum, 'Recovered': np.sum, 'Active': np.sum})\n",
    "\n",
    "df_country_cases"
   ]
  },
  {
   "cell_type": "code",
   "execution_count": 43,
   "metadata": {},
   "outputs": [
    {
     "output_type": "execute_result",
     "data": {
      "text/plain": "0"
     },
     "metadata": {},
     "execution_count": 43
    }
   ],
   "source": [
    "# show counties that do not have any corona patients yet\n",
    "len(df_country_cases.loc[df_country_cases['Confirmed'] == 0])"
   ]
  },
  {
   "cell_type": "code",
   "execution_count": 44,
   "metadata": {},
   "outputs": [
    {
     "output_type": "execute_result",
     "data": {
      "text/plain": "                     Confirmed  Deaths  Recovered  Active  fatality_rate\nCountry_Region                                                          \nSan Marino                 259      32         27     200       0.123552\nItaly                   124632   15362      20996   88274       0.123259\nCongo (Kinshasa)           154      18          3     133       0.116883\nBangladesh                  70       8         30      32       0.114286\nAlgeria                   1251     130         90    1031       0.103917\nUnited Kingdom           42477    4320        215   37942       0.101702\nNetherlands              16727    1656        262   14809       0.099002\nSpain                   126168   11947      34219   80002       0.094691\nIndonesia                 2092     191        150    1751       0.091300\nFrance                   90848    7574      15572   67702       0.083370\nMali                        41       3          1      37       0.073171\nTogo                        41       3         17      21       0.073171\nBolivia                    139      10          1     128       0.071942\nBelgium                  18431    1283       3247   13901       0.069611\nEgypt                     1070      71        241     758       0.066355\nMorocco                    919      59         66     794       0.064200\nIraq                       878      56        259     563       0.063781\nIran                     55743    3452      19736   32555       0.061927\nAlbania                    333      20         99     214       0.060060\nTrinidad and Tobago        103       6          1      96       0.058252\nSweden                    6443     373        205    5865       0.057892\nHonduras                   264      15          3     246       0.056818\nJamaica                     53       3          7      43       0.056604\nNiger                      144       8          0     136       0.055556\nEl Salvador                 56       3          2      51       0.053571",
      "text/html": "<div>\n<style scoped>\n    .dataframe tbody tr th:only-of-type {\n        vertical-align: middle;\n    }\n\n    .dataframe tbody tr th {\n        vertical-align: top;\n    }\n\n    .dataframe thead th {\n        text-align: right;\n    }\n</style>\n<table border=\"1\" class=\"dataframe\">\n  <thead>\n    <tr style=\"text-align: right;\">\n      <th></th>\n      <th>Confirmed</th>\n      <th>Deaths</th>\n      <th>Recovered</th>\n      <th>Active</th>\n      <th>fatality_rate</th>\n    </tr>\n    <tr>\n      <th>Country_Region</th>\n      <th></th>\n      <th></th>\n      <th></th>\n      <th></th>\n      <th></th>\n    </tr>\n  </thead>\n  <tbody>\n    <tr>\n      <th>San Marino</th>\n      <td>259</td>\n      <td>32</td>\n      <td>27</td>\n      <td>200</td>\n      <td>0.123552</td>\n    </tr>\n    <tr>\n      <th>Italy</th>\n      <td>124632</td>\n      <td>15362</td>\n      <td>20996</td>\n      <td>88274</td>\n      <td>0.123259</td>\n    </tr>\n    <tr>\n      <th>Congo (Kinshasa)</th>\n      <td>154</td>\n      <td>18</td>\n      <td>3</td>\n      <td>133</td>\n      <td>0.116883</td>\n    </tr>\n    <tr>\n      <th>Bangladesh</th>\n      <td>70</td>\n      <td>8</td>\n      <td>30</td>\n      <td>32</td>\n      <td>0.114286</td>\n    </tr>\n    <tr>\n      <th>Algeria</th>\n      <td>1251</td>\n      <td>130</td>\n      <td>90</td>\n      <td>1031</td>\n      <td>0.103917</td>\n    </tr>\n    <tr>\n      <th>United Kingdom</th>\n      <td>42477</td>\n      <td>4320</td>\n      <td>215</td>\n      <td>37942</td>\n      <td>0.101702</td>\n    </tr>\n    <tr>\n      <th>Netherlands</th>\n      <td>16727</td>\n      <td>1656</td>\n      <td>262</td>\n      <td>14809</td>\n      <td>0.099002</td>\n    </tr>\n    <tr>\n      <th>Spain</th>\n      <td>126168</td>\n      <td>11947</td>\n      <td>34219</td>\n      <td>80002</td>\n      <td>0.094691</td>\n    </tr>\n    <tr>\n      <th>Indonesia</th>\n      <td>2092</td>\n      <td>191</td>\n      <td>150</td>\n      <td>1751</td>\n      <td>0.091300</td>\n    </tr>\n    <tr>\n      <th>France</th>\n      <td>90848</td>\n      <td>7574</td>\n      <td>15572</td>\n      <td>67702</td>\n      <td>0.083370</td>\n    </tr>\n    <tr>\n      <th>Mali</th>\n      <td>41</td>\n      <td>3</td>\n      <td>1</td>\n      <td>37</td>\n      <td>0.073171</td>\n    </tr>\n    <tr>\n      <th>Togo</th>\n      <td>41</td>\n      <td>3</td>\n      <td>17</td>\n      <td>21</td>\n      <td>0.073171</td>\n    </tr>\n    <tr>\n      <th>Bolivia</th>\n      <td>139</td>\n      <td>10</td>\n      <td>1</td>\n      <td>128</td>\n      <td>0.071942</td>\n    </tr>\n    <tr>\n      <th>Belgium</th>\n      <td>18431</td>\n      <td>1283</td>\n      <td>3247</td>\n      <td>13901</td>\n      <td>0.069611</td>\n    </tr>\n    <tr>\n      <th>Egypt</th>\n      <td>1070</td>\n      <td>71</td>\n      <td>241</td>\n      <td>758</td>\n      <td>0.066355</td>\n    </tr>\n    <tr>\n      <th>Morocco</th>\n      <td>919</td>\n      <td>59</td>\n      <td>66</td>\n      <td>794</td>\n      <td>0.064200</td>\n    </tr>\n    <tr>\n      <th>Iraq</th>\n      <td>878</td>\n      <td>56</td>\n      <td>259</td>\n      <td>563</td>\n      <td>0.063781</td>\n    </tr>\n    <tr>\n      <th>Iran</th>\n      <td>55743</td>\n      <td>3452</td>\n      <td>19736</td>\n      <td>32555</td>\n      <td>0.061927</td>\n    </tr>\n    <tr>\n      <th>Albania</th>\n      <td>333</td>\n      <td>20</td>\n      <td>99</td>\n      <td>214</td>\n      <td>0.060060</td>\n    </tr>\n    <tr>\n      <th>Trinidad and Tobago</th>\n      <td>103</td>\n      <td>6</td>\n      <td>1</td>\n      <td>96</td>\n      <td>0.058252</td>\n    </tr>\n    <tr>\n      <th>Sweden</th>\n      <td>6443</td>\n      <td>373</td>\n      <td>205</td>\n      <td>5865</td>\n      <td>0.057892</td>\n    </tr>\n    <tr>\n      <th>Honduras</th>\n      <td>264</td>\n      <td>15</td>\n      <td>3</td>\n      <td>246</td>\n      <td>0.056818</td>\n    </tr>\n    <tr>\n      <th>Jamaica</th>\n      <td>53</td>\n      <td>3</td>\n      <td>7</td>\n      <td>43</td>\n      <td>0.056604</td>\n    </tr>\n    <tr>\n      <th>Niger</th>\n      <td>144</td>\n      <td>8</td>\n      <td>0</td>\n      <td>136</td>\n      <td>0.055556</td>\n    </tr>\n    <tr>\n      <th>El Salvador</th>\n      <td>56</td>\n      <td>3</td>\n      <td>2</td>\n      <td>51</td>\n      <td>0.053571</td>\n    </tr>\n  </tbody>\n</table>\n</div>"
     },
     "metadata": {},
     "execution_count": 44
    }
   ],
   "source": [
    "# last operation tells that all countries in this csv file have confirmed cases. \n",
    "# now we can calculate the fatality rate\n",
    "\n",
    "df_country_cases['fatality_rate'] = df_country_cases.Deaths / df_country_cases.Confirmed\n",
    "\n",
    "fatalities = df_country_cases.query('(Deaths > 0) & (Confirmed > 30)') \\\n",
    "                            .sort_values(by = 'fatality_rate', ascending = False)\n",
    "\n",
    "fatalities[:25]"
   ]
  },
  {
   "cell_type": "code",
   "execution_count": 69,
   "metadata": {},
   "outputs": [
    {
     "output_type": "execute_result",
     "data": {
      "text/plain": "                      Confirmed  Deaths  Recovered  Active  fatality_rate\nCountry_Region                                                           \nNew Zealand                 950       1        127     822       0.001053\nLatvia                      509       1          1     507       0.001965\nKuwait                      479       1         93     385       0.002088\nSlovakia                    471       1         10     460       0.002123\nQatar                      1325       3        109    1213       0.002264\nIceland                    1417       4        396    1017       0.002823\nCote d'Ivoire               245       1         25     219       0.004082\nCosta Rica                  435       2         13     420       0.004598\nWest Bank and Gaza          217       1         21     195       0.004608\nSingapore                  1189       6        297     886       0.005046\nAustralia                  5550      30        701    4819       0.005405\nIsrael                     7851      44        427    7380       0.005604\nSouth Africa               1585       9         95    1481       0.005678\nBahrain                     688       4        423     261       0.005814\nGeorgia                     162       1         36     125       0.006173\nChile                      4161      27        528    3606       0.006489\nUnited Arab Emirates       1505      10        125    1370       0.006645\nKyrgyzstan                  144       1          9     134       0.006944\nOman                        277       2         61     214       0.007220\nBrunei                      135       1         66      68       0.007407\nKosovo                      135       1         16     118       0.007407\nUzbekistan                  266       2         25     239       0.007519\nRussia                     4731      43        333    4355       0.009089\nArmenia                     770       7         43     720       0.009091\nSenegal                     219       2         72     145       0.009132",
      "text/html": "<div>\n<style scoped>\n    .dataframe tbody tr th:only-of-type {\n        vertical-align: middle;\n    }\n\n    .dataframe tbody tr th {\n        vertical-align: top;\n    }\n\n    .dataframe thead th {\n        text-align: right;\n    }\n</style>\n<table border=\"1\" class=\"dataframe\">\n  <thead>\n    <tr style=\"text-align: right;\">\n      <th></th>\n      <th>Confirmed</th>\n      <th>Deaths</th>\n      <th>Recovered</th>\n      <th>Active</th>\n      <th>fatality_rate</th>\n    </tr>\n    <tr>\n      <th>Country_Region</th>\n      <th></th>\n      <th></th>\n      <th></th>\n      <th></th>\n      <th></th>\n    </tr>\n  </thead>\n  <tbody>\n    <tr>\n      <th>New Zealand</th>\n      <td>950</td>\n      <td>1</td>\n      <td>127</td>\n      <td>822</td>\n      <td>0.001053</td>\n    </tr>\n    <tr>\n      <th>Latvia</th>\n      <td>509</td>\n      <td>1</td>\n      <td>1</td>\n      <td>507</td>\n      <td>0.001965</td>\n    </tr>\n    <tr>\n      <th>Kuwait</th>\n      <td>479</td>\n      <td>1</td>\n      <td>93</td>\n      <td>385</td>\n      <td>0.002088</td>\n    </tr>\n    <tr>\n      <th>Slovakia</th>\n      <td>471</td>\n      <td>1</td>\n      <td>10</td>\n      <td>460</td>\n      <td>0.002123</td>\n    </tr>\n    <tr>\n      <th>Qatar</th>\n      <td>1325</td>\n      <td>3</td>\n      <td>109</td>\n      <td>1213</td>\n      <td>0.002264</td>\n    </tr>\n    <tr>\n      <th>Iceland</th>\n      <td>1417</td>\n      <td>4</td>\n      <td>396</td>\n      <td>1017</td>\n      <td>0.002823</td>\n    </tr>\n    <tr>\n      <th>Cote d'Ivoire</th>\n      <td>245</td>\n      <td>1</td>\n      <td>25</td>\n      <td>219</td>\n      <td>0.004082</td>\n    </tr>\n    <tr>\n      <th>Costa Rica</th>\n      <td>435</td>\n      <td>2</td>\n      <td>13</td>\n      <td>420</td>\n      <td>0.004598</td>\n    </tr>\n    <tr>\n      <th>West Bank and Gaza</th>\n      <td>217</td>\n      <td>1</td>\n      <td>21</td>\n      <td>195</td>\n      <td>0.004608</td>\n    </tr>\n    <tr>\n      <th>Singapore</th>\n      <td>1189</td>\n      <td>6</td>\n      <td>297</td>\n      <td>886</td>\n      <td>0.005046</td>\n    </tr>\n    <tr>\n      <th>Australia</th>\n      <td>5550</td>\n      <td>30</td>\n      <td>701</td>\n      <td>4819</td>\n      <td>0.005405</td>\n    </tr>\n    <tr>\n      <th>Israel</th>\n      <td>7851</td>\n      <td>44</td>\n      <td>427</td>\n      <td>7380</td>\n      <td>0.005604</td>\n    </tr>\n    <tr>\n      <th>South Africa</th>\n      <td>1585</td>\n      <td>9</td>\n      <td>95</td>\n      <td>1481</td>\n      <td>0.005678</td>\n    </tr>\n    <tr>\n      <th>Bahrain</th>\n      <td>688</td>\n      <td>4</td>\n      <td>423</td>\n      <td>261</td>\n      <td>0.005814</td>\n    </tr>\n    <tr>\n      <th>Georgia</th>\n      <td>162</td>\n      <td>1</td>\n      <td>36</td>\n      <td>125</td>\n      <td>0.006173</td>\n    </tr>\n    <tr>\n      <th>Chile</th>\n      <td>4161</td>\n      <td>27</td>\n      <td>528</td>\n      <td>3606</td>\n      <td>0.006489</td>\n    </tr>\n    <tr>\n      <th>United Arab Emirates</th>\n      <td>1505</td>\n      <td>10</td>\n      <td>125</td>\n      <td>1370</td>\n      <td>0.006645</td>\n    </tr>\n    <tr>\n      <th>Kyrgyzstan</th>\n      <td>144</td>\n      <td>1</td>\n      <td>9</td>\n      <td>134</td>\n      <td>0.006944</td>\n    </tr>\n    <tr>\n      <th>Oman</th>\n      <td>277</td>\n      <td>2</td>\n      <td>61</td>\n      <td>214</td>\n      <td>0.007220</td>\n    </tr>\n    <tr>\n      <th>Brunei</th>\n      <td>135</td>\n      <td>1</td>\n      <td>66</td>\n      <td>68</td>\n      <td>0.007407</td>\n    </tr>\n    <tr>\n      <th>Kosovo</th>\n      <td>135</td>\n      <td>1</td>\n      <td>16</td>\n      <td>118</td>\n      <td>0.007407</td>\n    </tr>\n    <tr>\n      <th>Uzbekistan</th>\n      <td>266</td>\n      <td>2</td>\n      <td>25</td>\n      <td>239</td>\n      <td>0.007519</td>\n    </tr>\n    <tr>\n      <th>Russia</th>\n      <td>4731</td>\n      <td>43</td>\n      <td>333</td>\n      <td>4355</td>\n      <td>0.009089</td>\n    </tr>\n    <tr>\n      <th>Armenia</th>\n      <td>770</td>\n      <td>7</td>\n      <td>43</td>\n      <td>720</td>\n      <td>0.009091</td>\n    </tr>\n    <tr>\n      <th>Senegal</th>\n      <td>219</td>\n      <td>2</td>\n      <td>72</td>\n      <td>145</td>\n      <td>0.009132</td>\n    </tr>\n  </tbody>\n</table>\n</div>"
     },
     "metadata": {},
     "execution_count": 69
    }
   ],
   "source": [
    "fatalities_asc = df_country_cases.query('(Deaths > 0) & (Confirmed > 30)').sort_values(by = 'fatality_rate', ascending = True)\n",
    "\n",
    "fatalities_asc[:25]"
   ]
  },
  {
   "cell_type": "code",
   "execution_count": 46,
   "metadata": {},
   "outputs": [
    {
     "output_type": "execute_result",
     "data": {
      "text/plain": "64606"
     },
     "metadata": {},
     "execution_count": 46
    }
   ],
   "source": [
    "df_country_cases.Deaths.sum()"
   ]
  },
  {
   "cell_type": "code",
   "execution_count": 47,
   "metadata": {},
   "outputs": [
    {
     "output_type": "execute_result",
     "data": {
      "text/plain": "0.054003064098532845"
     },
     "metadata": {},
     "execution_count": 47
    }
   ],
   "source": [
    "# fatalitiy over all countries having more than 30 confirmed cases. \n",
    "\n",
    "fatality_partial = fatalities.Deaths.sum() / fatalities.Confirmed.sum()\n",
    "\n",
    "fatality_partial"
   ]
  },
  {
   "cell_type": "code",
   "execution_count": 48,
   "metadata": {},
   "outputs": [
    {
     "output_type": "execute_result",
     "data": {
      "text/plain": "0.05395501104471753"
     },
     "metadata": {},
     "execution_count": 48
    }
   ],
   "source": [
    "# fatalitiy over all countries, regardless of how many confirmed cases and deaths. \n",
    "\n",
    "fatality_overall = df_country_cases.Deaths.sum() / df_country_cases.Confirmed.sum()\n",
    "\n",
    "fatality_overall"
   ]
  },
  {
   "cell_type": "code",
   "execution_count": 49,
   "metadata": {},
   "outputs": [],
   "source": [
    "# define a function which returns the rank of the fatality\n",
    "\n",
    "def fatality_rank( country: str, asc: bool ) -> int:\n",
    "    indices = fatalities.sort_values(by = 'fatality_rate', ascending = asc).index\n",
    "    return indices.get_loc(country)\n",
    ""
   ]
  },
  {
   "cell_type": "code",
   "execution_count": 50,
   "metadata": {},
   "outputs": [],
   "source": [
    "ranks_asc = fatalities.sort_values(by = 'fatality_rate', ascending = True).index\n",
    "\n",
    "def get_fatality_and_rank(country: str) -> pd.Series:\n",
    "    fatality = fatalities.loc[country].fatality_rate\n",
    "\n",
    "    rank_asc = ranks_asc.get_loc(country) + 1\n",
    "    rank_dsc = len(ranks_asc) - rank_asc + 1\n",
    "\n",
    "    return pd.Series({'Country_Region': country, 'fatality_rate': fatality, 'rank_asc': rank_asc, 'rank_dsc': rank_dsc})\n",
    ""
   ]
  },
  {
   "cell_type": "code",
   "execution_count": 51,
   "metadata": {},
   "outputs": [
    {
     "output_type": "execute_result",
     "data": {
      "text/plain": "Country_Region       Italy\nfatality_rate     0.123259\nrank_asc               120\nrank_dsc                 2\ndtype: object"
     },
     "metadata": {},
     "execution_count": 51
    }
   ],
   "source": [
    "# test the function get_fatality_and_rank\n",
    "\n",
    "get_fatality_and_rank('Italy')"
   ]
  },
  {
   "cell_type": "code",
   "execution_count": 52,
   "metadata": {},
   "outputs": [
    {
     "output_type": "execute_result",
     "data": {
      "text/plain": "  Country_Region  fatality_rate rank_asc rank_dsc\n0        Austria       0.015788       47       75\n1          China       0.040343       86       36\n2        Germany       0.015027       43       79\n3          Italy       0.123259      120        2\n4    New Zealand       0.001053        1      121\n5     San Marino       0.123552      121        1\n6      Singapore       0.005046       10      112\n7             US       0.027220       68       54",
      "text/html": "<div>\n<style scoped>\n    .dataframe tbody tr th:only-of-type {\n        vertical-align: middle;\n    }\n\n    .dataframe tbody tr th {\n        vertical-align: top;\n    }\n\n    .dataframe thead th {\n        text-align: right;\n    }\n</style>\n<table border=\"1\" class=\"dataframe\">\n  <thead>\n    <tr style=\"text-align: right;\">\n      <th></th>\n      <th>Country_Region</th>\n      <th>fatality_rate</th>\n      <th>rank_asc</th>\n      <th>rank_dsc</th>\n    </tr>\n  </thead>\n  <tbody>\n    <tr>\n      <th>0</th>\n      <td>Austria</td>\n      <td>0.015788</td>\n      <td>47</td>\n      <td>75</td>\n    </tr>\n    <tr>\n      <th>1</th>\n      <td>China</td>\n      <td>0.040343</td>\n      <td>86</td>\n      <td>36</td>\n    </tr>\n    <tr>\n      <th>2</th>\n      <td>Germany</td>\n      <td>0.015027</td>\n      <td>43</td>\n      <td>79</td>\n    </tr>\n    <tr>\n      <th>3</th>\n      <td>Italy</td>\n      <td>0.123259</td>\n      <td>120</td>\n      <td>2</td>\n    </tr>\n    <tr>\n      <th>4</th>\n      <td>New Zealand</td>\n      <td>0.001053</td>\n      <td>1</td>\n      <td>121</td>\n    </tr>\n    <tr>\n      <th>5</th>\n      <td>San Marino</td>\n      <td>0.123552</td>\n      <td>121</td>\n      <td>1</td>\n    </tr>\n    <tr>\n      <th>6</th>\n      <td>Singapore</td>\n      <td>0.005046</td>\n      <td>10</td>\n      <td>112</td>\n    </tr>\n    <tr>\n      <th>7</th>\n      <td>US</td>\n      <td>0.027220</td>\n      <td>68</td>\n      <td>54</td>\n    </tr>\n  </tbody>\n</table>\n</div>"
     },
     "metadata": {},
     "execution_count": 52
    }
   ],
   "source": [
    "# how do these countries score in the fatality_rate?\n",
    "\n",
    "cols = ['Country_Region', 'fatality_rate', 'rank_asc', 'rank_dsc']\n",
    "countries = ['Austria', 'China', 'Germany', 'Italy', 'New Zealand', 'San Marino', 'Singapore', 'US']\n",
    "\n",
    "df_fatality_scores = pd.DataFrame(columns = cols)\n",
    "\n",
    "for country in countries:\n",
    "    df_fatality_scores = df_fatality_scores.append(get_fatality_and_rank(country), ignore_index=True)\n",
    "\n",
    "df_fatality_scores"
   ]
  },
  {
   "cell_type": "code",
   "execution_count": 53,
   "metadata": {},
   "outputs": [
    {
     "output_type": "execute_result",
     "data": {
      "text/plain": "count    121.000000\nmean       0.032446\nstd        0.028943\nmin        0.001053\n25%        0.011171\n50%        0.024507\n75%        0.045161\nmax        0.123552\nName: fatality_rate, dtype: float64"
     },
     "metadata": {},
     "execution_count": 53
    }
   ],
   "source": [
    "# basic statistics of the fatality\n",
    "fatalities.fatality_rate.describe()"
   ]
  },
  {
   "cell_type": "code",
   "execution_count": 54,
   "metadata": {},
   "outputs": [
    {
     "output_type": "stream",
     "name": "stdout",
     "text": "Fatality median is 0.024506873879258817 and mode is 0    0.007407\n1    0.073171\ndtype: float64\n"
    }
   ],
   "source": [
    "# median and mode of fatality rate\n",
    "\n",
    "fatality_median = fatalities.fatality_rate.median()\n",
    "fatality_mode = fatalities.fatality_rate.mode()\n",
    "\n",
    "print(\"Fatality median is {} and mode is {}\".format(fatality_median, fatality_mode))\n",
    ""
   ]
  },
  {
   "cell_type": "code",
   "execution_count": 55,
   "metadata": {},
   "outputs": [
    {
     "output_type": "execute_result",
     "data": {
      "text/plain": "Country_Region\nSan Marino                            (0.111, 0.124]\nItaly                                 (0.111, 0.124]\nCongo (Kinshasa)                      (0.111, 0.124]\nBangladesh                            (0.111, 0.124]\nAlgeria                              (0.0991, 0.111]\n                                  ...               \nQatar               (-6.999999999999997e-05, 0.0133]\nSlovakia            (-6.999999999999997e-05, 0.0133]\nKuwait              (-6.999999999999997e-05, 0.0133]\nLatvia              (-6.999999999999997e-05, 0.0133]\nNew Zealand         (-6.999999999999997e-05, 0.0133]\nName: fatality_rate, Length: 121, dtype: category\nCategories (10, interval[float64]): [(-6.999999999999997e-05, 0.0133] < (0.0133, 0.0256] < (0.0256, 0.0378] < (0.0378, 0.0501] ... (0.0746, 0.0868] < (0.0868, 0.0991] < (0.0991, 0.111] < (0.111, 0.124]]"
     },
     "metadata": {},
     "execution_count": 55
    }
   ],
   "source": [
    "# the mode above does not make sense, let's fix it.\n",
    "\n",
    "# first, segment and sort fatality values into bins\n",
    "bins = pd.cut(fatalities['fatality_rate'], 10, include_lowest=True)\n",
    "\n",
    "bins\n",
    "\n",
    "# I'd like to see the content of each bin, what to do?"
   ]
  },
  {
   "cell_type": "markdown",
   "metadata": {},
   "source": [
    "## Joined with Population data from United Nations \n",
    "\n",
    "Poplation is in thousand persons.  "
   ]
  },
  {
   "cell_type": "code",
   "execution_count": 56,
   "metadata": {},
   "outputs": [
    {
     "output_type": "execute_result",
     "data": {
      "text/plain": "   LocID     Location  VarID Variant  Time  MidPeriod   PopMale  PopFemale  \\\n0      4  Afghanistan      2  Medium  1950     1950.5  4099.243   3652.874   \n1      4  Afghanistan      2  Medium  1951     1951.5  4134.756   3705.395   \n2      4  Afghanistan      2  Medium  1952     1952.5  4174.450   3761.546   \n3      4  Afghanistan      2  Medium  1953     1953.5  4218.336   3821.348   \n4      4  Afghanistan      2  Medium  1954     1954.5  4266.484   3884.832   \n\n   PopTotal  PopDensity  \n0  7752.117      11.874  \n1  7840.151      12.009  \n2  7935.996      12.156  \n3  8039.684      12.315  \n4  8151.316      12.486  ",
      "text/html": "<div>\n<style scoped>\n    .dataframe tbody tr th:only-of-type {\n        vertical-align: middle;\n    }\n\n    .dataframe tbody tr th {\n        vertical-align: top;\n    }\n\n    .dataframe thead th {\n        text-align: right;\n    }\n</style>\n<table border=\"1\" class=\"dataframe\">\n  <thead>\n    <tr style=\"text-align: right;\">\n      <th></th>\n      <th>LocID</th>\n      <th>Location</th>\n      <th>VarID</th>\n      <th>Variant</th>\n      <th>Time</th>\n      <th>MidPeriod</th>\n      <th>PopMale</th>\n      <th>PopFemale</th>\n      <th>PopTotal</th>\n      <th>PopDensity</th>\n    </tr>\n  </thead>\n  <tbody>\n    <tr>\n      <th>0</th>\n      <td>4</td>\n      <td>Afghanistan</td>\n      <td>2</td>\n      <td>Medium</td>\n      <td>1950</td>\n      <td>1950.5</td>\n      <td>4099.243</td>\n      <td>3652.874</td>\n      <td>7752.117</td>\n      <td>11.874</td>\n    </tr>\n    <tr>\n      <th>1</th>\n      <td>4</td>\n      <td>Afghanistan</td>\n      <td>2</td>\n      <td>Medium</td>\n      <td>1951</td>\n      <td>1951.5</td>\n      <td>4134.756</td>\n      <td>3705.395</td>\n      <td>7840.151</td>\n      <td>12.009</td>\n    </tr>\n    <tr>\n      <th>2</th>\n      <td>4</td>\n      <td>Afghanistan</td>\n      <td>2</td>\n      <td>Medium</td>\n      <td>1952</td>\n      <td>1952.5</td>\n      <td>4174.450</td>\n      <td>3761.546</td>\n      <td>7935.996</td>\n      <td>12.156</td>\n    </tr>\n    <tr>\n      <th>3</th>\n      <td>4</td>\n      <td>Afghanistan</td>\n      <td>2</td>\n      <td>Medium</td>\n      <td>1953</td>\n      <td>1953.5</td>\n      <td>4218.336</td>\n      <td>3821.348</td>\n      <td>8039.684</td>\n      <td>12.315</td>\n    </tr>\n    <tr>\n      <th>4</th>\n      <td>4</td>\n      <td>Afghanistan</td>\n      <td>2</td>\n      <td>Medium</td>\n      <td>1954</td>\n      <td>1954.5</td>\n      <td>4266.484</td>\n      <td>3884.832</td>\n      <td>8151.316</td>\n      <td>12.486</td>\n    </tr>\n  </tbody>\n</table>\n</div>"
     },
     "metadata": {},
     "execution_count": 56
    }
   ],
   "source": [
    "population = pd.read_csv('data/WPP2019_TotalPopulationBySex.csv')\n",
    "population.head()"
   ]
  },
  {
   "cell_type": "code",
   "execution_count": 57,
   "metadata": {},
   "outputs": [
    {
     "output_type": "execute_result",
     "data": {
      "text/plain": "      LocID                       Location  VarID Variant  Time  MidPeriod  \\\n69        4                    Afghanistan      2  Medium  2019     2019.5   \n953     903                         Africa      2  Medium  2019     2019.5   \n1837   1823                  African Group      2  Medium  2019     2019.5   \n1988   1560                  African Union      2  Medium  2019     2019.5   \n2139   2080  African Union: Central Africa      2  Medium  2019     2019.5   \n\n         PopMale   PopFemale     PopTotal  PopDensity  \n69     19529.727   18512.030    38041.757      58.269  \n953   653513.680  654550.496  1308064.176      44.119  \n1837  652644.714  653675.858  1306320.572      44.464  \n1988  652949.469  653953.561  1306903.030      44.085  \n2139   76945.498   77068.207   154013.705      29.192  ",
      "text/html": "<div>\n<style scoped>\n    .dataframe tbody tr th:only-of-type {\n        vertical-align: middle;\n    }\n\n    .dataframe tbody tr th {\n        vertical-align: top;\n    }\n\n    .dataframe thead th {\n        text-align: right;\n    }\n</style>\n<table border=\"1\" class=\"dataframe\">\n  <thead>\n    <tr style=\"text-align: right;\">\n      <th></th>\n      <th>LocID</th>\n      <th>Location</th>\n      <th>VarID</th>\n      <th>Variant</th>\n      <th>Time</th>\n      <th>MidPeriod</th>\n      <th>PopMale</th>\n      <th>PopFemale</th>\n      <th>PopTotal</th>\n      <th>PopDensity</th>\n    </tr>\n  </thead>\n  <tbody>\n    <tr>\n      <th>69</th>\n      <td>4</td>\n      <td>Afghanistan</td>\n      <td>2</td>\n      <td>Medium</td>\n      <td>2019</td>\n      <td>2019.5</td>\n      <td>19529.727</td>\n      <td>18512.030</td>\n      <td>38041.757</td>\n      <td>58.269</td>\n    </tr>\n    <tr>\n      <th>953</th>\n      <td>903</td>\n      <td>Africa</td>\n      <td>2</td>\n      <td>Medium</td>\n      <td>2019</td>\n      <td>2019.5</td>\n      <td>653513.680</td>\n      <td>654550.496</td>\n      <td>1308064.176</td>\n      <td>44.119</td>\n    </tr>\n    <tr>\n      <th>1837</th>\n      <td>1823</td>\n      <td>African Group</td>\n      <td>2</td>\n      <td>Medium</td>\n      <td>2019</td>\n      <td>2019.5</td>\n      <td>652644.714</td>\n      <td>653675.858</td>\n      <td>1306320.572</td>\n      <td>44.464</td>\n    </tr>\n    <tr>\n      <th>1988</th>\n      <td>1560</td>\n      <td>African Union</td>\n      <td>2</td>\n      <td>Medium</td>\n      <td>2019</td>\n      <td>2019.5</td>\n      <td>652949.469</td>\n      <td>653953.561</td>\n      <td>1306903.030</td>\n      <td>44.085</td>\n    </tr>\n    <tr>\n      <th>2139</th>\n      <td>2080</td>\n      <td>African Union: Central Africa</td>\n      <td>2</td>\n      <td>Medium</td>\n      <td>2019</td>\n      <td>2019.5</td>\n      <td>76945.498</td>\n      <td>77068.207</td>\n      <td>154013.705</td>\n      <td>29.192</td>\n    </tr>\n  </tbody>\n</table>\n</div>"
     },
     "metadata": {},
     "execution_count": 57
    }
   ],
   "source": [
    "# we only need the data of year 2020\n",
    "pop2019 = population[population.Time == 2019]\n",
    "pop2019.head()"
   ]
  },
  {
   "cell_type": "code",
   "execution_count": 58,
   "metadata": {},
   "outputs": [
    {
     "output_type": "execute_result",
     "data": {
      "text/plain": "477"
     },
     "metadata": {},
     "execution_count": 58
    }
   ],
   "source": [
    "len(pop2019)"
   ]
  },
  {
   "cell_type": "markdown",
   "metadata": {},
   "source": [
    "### Now we need to unify the lation names of the population data and the corona data "
   ]
  },
  {
   "cell_type": "code",
   "execution_count": 59,
   "metadata": {},
   "outputs": [
    {
     "output_type": "execute_result",
     "data": {
      "text/plain": "Index(['Bolivia', 'Brunei', 'Burma', 'Congo (Brazzaville)', 'Congo (Kinshasa)',\n       'Cote d'Ivoire', 'Diamond Princess', 'Iran', 'Korea, South', 'Kosovo',\n       'Laos', 'MS Zaandam', 'Moldova', 'Russia', 'Syria', 'Taiwan*',\n       'Tanzania', 'US', 'Venezuela', 'Vietnam', 'West Bank and Gaza'],\n      dtype='object', name='Country_Region')"
     },
     "metadata": {},
     "execution_count": 59
    }
   ],
   "source": [
    "# The set of location names of the population data is much bigger than corona's. \n",
    "# So we first find out which country names are not in the population data\n",
    "\n",
    "countryNames_covid19_only = df_country_cases[df_country_cases.index.isin(pop2019.Location) == False]\n",
    "\n",
    "countryNames_covid19_only.index"
   ]
  },
  {
   "cell_type": "code",
   "execution_count": 60,
   "metadata": {},
   "outputs": [
    {
     "output_type": "execute_result",
     "data": {
      "text/plain": "21"
     },
     "metadata": {},
     "execution_count": 60
    }
   ],
   "source": [
    "len(countryNames_covid19_only)"
   ]
  },
  {
   "cell_type": "code",
   "execution_count": 61,
   "metadata": {},
   "outputs": [
    {
     "output_type": "execute_result",
     "data": {
      "text/plain": "        LocID            Location  VarID Variant  Time  MidPeriod  PopMale  \\\n236754    275  State of Palestine      2  Medium  2019     2019.5  2526.35   \n\n        PopFemale  PopTotal  PopDensity  \n236754   2455.072  4981.422     827.479  ",
      "text/html": "<div>\n<style scoped>\n    .dataframe tbody tr th:only-of-type {\n        vertical-align: middle;\n    }\n\n    .dataframe tbody tr th {\n        vertical-align: top;\n    }\n\n    .dataframe thead th {\n        text-align: right;\n    }\n</style>\n<table border=\"1\" class=\"dataframe\">\n  <thead>\n    <tr style=\"text-align: right;\">\n      <th></th>\n      <th>LocID</th>\n      <th>Location</th>\n      <th>VarID</th>\n      <th>Variant</th>\n      <th>Time</th>\n      <th>MidPeriod</th>\n      <th>PopMale</th>\n      <th>PopFemale</th>\n      <th>PopTotal</th>\n      <th>PopDensity</th>\n    </tr>\n  </thead>\n  <tbody>\n    <tr>\n      <th>236754</th>\n      <td>275</td>\n      <td>State of Palestine</td>\n      <td>2</td>\n      <td>Medium</td>\n      <td>2019</td>\n      <td>2019.5</td>\n      <td>2526.35</td>\n      <td>2455.072</td>\n      <td>4981.422</td>\n      <td>827.479</td>\n    </tr>\n  </tbody>\n</table>\n</div>"
     },
     "metadata": {},
     "execution_count": 61
    }
   ],
   "source": [
    "pop2019[pop2019.Location.str.contains('Pales')]"
   ]
  },
  {
   "cell_type": "code",
   "execution_count": 62,
   "metadata": {},
   "outputs": [],
   "source": [
    "pop2019.Location.replace({'Bolivia (Plurinational State of)':'Bolivia', 'Brunei Darussalam':'Brunei', 'Myanmar': 'Burma', 'Congo':'Congo (Brazzaville)', 'Democratic Republic of the Congo':'Congo (Kinshasa)', 'Côte d\\'Ivoire':'Cote d\\'Ivoire', 'Iran (Islamic Republic of)':'Iran', 'Republic of Korea':'Korea, South', 'Lao People\\'s Democratic Republic':'Laos', 'Republic of Moldova':'Moldova', 'Russian Federation':'Russia', 'Syrian Arab Republic':'Syria', 'China, Taiwan Province of China':'Taiwan*', 'United Republic of Tanzania':'Tanzania', 'United States of America':'US', 'Venezuela (Bolivarian Republic of)':'Venezuela', 'Viet Nam':'Vietnam', 'State of Palestine':'West Bank and Gaza'}, inplace=True)"
   ]
  },
  {
   "cell_type": "code",
   "execution_count": 63,
   "metadata": {},
   "outputs": [
    {
     "output_type": "execute_result",
     "data": {
      "text/plain": "                           Location     PopMale   PopFemale     PopTotal  \\\n69                      Afghanistan   19529.727   18512.030    38041.757   \n953                          Africa  653513.680  654550.496  1308064.176   \n1837                  African Group  652644.714  653675.858  1306320.572   \n1988                  African Union  652949.469  653953.561  1306903.030   \n2139  African Union: Central Africa   76945.498   77068.207   154013.705   \n\n      PopDensity  \n69        58.269  \n953       44.119  \n1837      44.464  \n1988      44.085  \n2139      29.192  ",
      "text/html": "<div>\n<style scoped>\n    .dataframe tbody tr th:only-of-type {\n        vertical-align: middle;\n    }\n\n    .dataframe tbody tr th {\n        vertical-align: top;\n    }\n\n    .dataframe thead th {\n        text-align: right;\n    }\n</style>\n<table border=\"1\" class=\"dataframe\">\n  <thead>\n    <tr style=\"text-align: right;\">\n      <th></th>\n      <th>Location</th>\n      <th>PopMale</th>\n      <th>PopFemale</th>\n      <th>PopTotal</th>\n      <th>PopDensity</th>\n    </tr>\n  </thead>\n  <tbody>\n    <tr>\n      <th>69</th>\n      <td>Afghanistan</td>\n      <td>19529.727</td>\n      <td>18512.030</td>\n      <td>38041.757</td>\n      <td>58.269</td>\n    </tr>\n    <tr>\n      <th>953</th>\n      <td>Africa</td>\n      <td>653513.680</td>\n      <td>654550.496</td>\n      <td>1308064.176</td>\n      <td>44.119</td>\n    </tr>\n    <tr>\n      <th>1837</th>\n      <td>African Group</td>\n      <td>652644.714</td>\n      <td>653675.858</td>\n      <td>1306320.572</td>\n      <td>44.464</td>\n    </tr>\n    <tr>\n      <th>1988</th>\n      <td>African Union</td>\n      <td>652949.469</td>\n      <td>653953.561</td>\n      <td>1306903.030</td>\n      <td>44.085</td>\n    </tr>\n    <tr>\n      <th>2139</th>\n      <td>African Union: Central Africa</td>\n      <td>76945.498</td>\n      <td>77068.207</td>\n      <td>154013.705</td>\n      <td>29.192</td>\n    </tr>\n  </tbody>\n</table>\n</div>"
     },
     "metadata": {},
     "execution_count": 63
    }
   ],
   "source": [
    "# drop unnecessary columns\n",
    "\n",
    "df_pop2019 = pop2019.drop(columns=['LocID','VarID','Variant','Time','MidPeriod'])\n",
    "df_pop2019.head()"
   ]
  },
  {
   "cell_type": "code",
   "execution_count": 64,
   "metadata": {},
   "outputs": [
    {
     "output_type": "execute_result",
     "data": {
      "text/plain": "   Confirmed  Deaths  Recovered  Active  fatality_rate     Location  \\\n0        299       7         10     282       0.023411  Afghanistan   \n1        333      20         99     214       0.060060      Albania   \n2       1251     130         90    1031       0.103917      Algeria   \n3        466      17         21     428       0.036481      Andorra   \n4         10       2          2       6       0.200000       Angola   \n\n     PopMale  PopFemale   PopTotal  PopDensity  \n0  19529.727  18512.030  38041.757      58.269  \n1   1466.785   1414.128   2880.913     105.143  \n2  21749.666  21303.388  43053.054      18.076  \n3        NaN        NaN     77.146     164.140  \n4  15744.779  16080.520  31825.299      25.528  ",
      "text/html": "<div>\n<style scoped>\n    .dataframe tbody tr th:only-of-type {\n        vertical-align: middle;\n    }\n\n    .dataframe tbody tr th {\n        vertical-align: top;\n    }\n\n    .dataframe thead th {\n        text-align: right;\n    }\n</style>\n<table border=\"1\" class=\"dataframe\">\n  <thead>\n    <tr style=\"text-align: right;\">\n      <th></th>\n      <th>Confirmed</th>\n      <th>Deaths</th>\n      <th>Recovered</th>\n      <th>Active</th>\n      <th>fatality_rate</th>\n      <th>Location</th>\n      <th>PopMale</th>\n      <th>PopFemale</th>\n      <th>PopTotal</th>\n      <th>PopDensity</th>\n    </tr>\n  </thead>\n  <tbody>\n    <tr>\n      <th>0</th>\n      <td>299</td>\n      <td>7</td>\n      <td>10</td>\n      <td>282</td>\n      <td>0.023411</td>\n      <td>Afghanistan</td>\n      <td>19529.727</td>\n      <td>18512.030</td>\n      <td>38041.757</td>\n      <td>58.269</td>\n    </tr>\n    <tr>\n      <th>1</th>\n      <td>333</td>\n      <td>20</td>\n      <td>99</td>\n      <td>214</td>\n      <td>0.060060</td>\n      <td>Albania</td>\n      <td>1466.785</td>\n      <td>1414.128</td>\n      <td>2880.913</td>\n      <td>105.143</td>\n    </tr>\n    <tr>\n      <th>2</th>\n      <td>1251</td>\n      <td>130</td>\n      <td>90</td>\n      <td>1031</td>\n      <td>0.103917</td>\n      <td>Algeria</td>\n      <td>21749.666</td>\n      <td>21303.388</td>\n      <td>43053.054</td>\n      <td>18.076</td>\n    </tr>\n    <tr>\n      <th>3</th>\n      <td>466</td>\n      <td>17</td>\n      <td>21</td>\n      <td>428</td>\n      <td>0.036481</td>\n      <td>Andorra</td>\n      <td>NaN</td>\n      <td>NaN</td>\n      <td>77.146</td>\n      <td>164.140</td>\n    </tr>\n    <tr>\n      <th>4</th>\n      <td>10</td>\n      <td>2</td>\n      <td>2</td>\n      <td>6</td>\n      <td>0.200000</td>\n      <td>Angola</td>\n      <td>15744.779</td>\n      <td>16080.520</td>\n      <td>31825.299</td>\n      <td>25.528</td>\n    </tr>\n  </tbody>\n</table>\n</div>"
     },
     "metadata": {},
     "execution_count": 64
    }
   ],
   "source": [
    "# now join the corona and population data frames\n",
    "\n",
    "df_covid19_pop2019 = pd.merge(df_country_cases, df_pop2019, how='inner', left_on='Country_Region', right_on='Location')\n",
    "df_covid19_pop2019.head()"
   ]
  },
  {
   "cell_type": "code",
   "execution_count": 65,
   "metadata": {},
   "outputs": [
    {
     "output_type": "execute_result",
     "data": {
      "text/plain": "(178, 10)"
     },
     "metadata": {},
     "execution_count": 65
    }
   ],
   "source": [
    "df_covid19_pop2019.shape"
   ]
  },
  {
   "cell_type": "code",
   "execution_count": 66,
   "metadata": {},
   "outputs": [
    {
     "output_type": "execute_result",
     "data": {
      "text/plain": "-0.05805112816227241"
     },
     "metadata": {},
     "execution_count": 66
    }
   ],
   "source": [
    "# correlation between fatality_rate and PopDensity??\n",
    "\n",
    "corr_fatality_popDensity = df_covid19_pop2019.fatality_rate.corr(df_covid19_pop2019.PopDensity)\n",
    "corr_fatality_popDensity"
   ]
  },
  {
   "cell_type": "code",
   "execution_count": 67,
   "metadata": {},
   "outputs": [
    {
     "output_type": "execute_result",
     "data": {
      "text/plain": "0.2770900392937214"
     },
     "metadata": {},
     "execution_count": 67
    }
   ],
   "source": [
    "corr_confirmed_popTotal = df_covid19_pop2019.Confirmed.corr(df_covid19_pop2019.PopTotal)\n",
    "corr_confirmed_popTotal"
   ]
  },
  {
   "cell_type": "code",
   "execution_count": 68,
   "metadata": {},
   "outputs": [
    {
     "output_type": "execute_result",
     "data": {
      "text/plain": "0.16903918100873583"
     },
     "metadata": {},
     "execution_count": 68
    }
   ],
   "source": [
    "corr_deaths_popTotal = df_covid19_pop2019.Deaths.corr(df_covid19_pop2019.PopTotal)\n",
    "corr_deaths_popTotal"
   ]
  },
  {
   "cell_type": "code",
   "execution_count": null,
   "metadata": {},
   "outputs": [],
   "source": []
  }
 ],
 "metadata": {
  "kernelspec": {
   "display_name": "Python 3",
   "language": "python",
   "name": "python3"
  },
  "language_info": {
   "codemirror_mode": {
    "name": "ipython",
    "version": 3
   },
   "file_extension": ".py",
   "mimetype": "text/x-python",
   "name": "python",
   "nbconvert_exporter": "python",
   "pygments_lexer": "ipython3",
   "version": "3.7.7-final"
  }
 },
 "nbformat": 4,
 "nbformat_minor": 4
}