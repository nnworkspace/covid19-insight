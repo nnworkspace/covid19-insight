{
 "cells": [
  {
   "cell_type": "markdown",
   "metadata": {},
   "source": [
    "# Covid-19 Data Wrangling in Python"
   ]
  },
  {
   "cell_type": "markdown",
   "metadata": {},
   "source": [
    "## Fatality statistics and ranks among countries"
   ]
  },
  {
   "cell_type": "code",
   "execution_count": 1,
   "metadata": {},
   "outputs": [
    {
     "output_type": "stream",
     "name": "stdout",
     "text": "pandas version:  1.0.3\nnumpy version:  1.18.1\n"
    }
   ],
   "source": [
    "import pandas as pd\n",
    "import numpy as np\n",
    "\n",
    "print('pandas version: ', pd.__version__)\n",
    "print('numpy version: ', np.version.version)"
   ]
  },
  {
   "cell_type": "code",
   "execution_count": 32,
   "metadata": {},
   "outputs": [
    {
     "output_type": "execute_result",
     "data": {
      "text/plain": "      FIPS     Admin2  Province_State Country_Region   Last_Update        Lat  \\\n0  45001.0  Abbeville  South Carolina             US  4/6/20 23:22  34.223334   \n1  22001.0     Acadia       Louisiana             US  4/6/20 23:22  30.295065   \n2  51001.0   Accomack        Virginia             US  4/6/20 23:22  37.767072   \n3  16001.0        Ada           Idaho             US  4/6/20 23:22  43.452658   \n4  19001.0      Adair            Iowa             US  4/6/20 23:22  41.330756   \n\n        Long_  Confirmed  Deaths  Recovered  Active  \\\n0  -82.461707          6       0          0       0   \n1  -92.414197         79       2          0       0   \n2  -75.632346         11       0          0       0   \n3 -116.241552        402       3          0       0   \n4  -94.471059          1       0          0       0   \n\n                    Combined_Key  \n0  Abbeville, South Carolina, US  \n1          Acadia, Louisiana, US  \n2         Accomack, Virginia, US  \n3                 Ada, Idaho, US  \n4                Adair, Iowa, US  ",
      "text/html": "<div>\n<style scoped>\n    .dataframe tbody tr th:only-of-type {\n        vertical-align: middle;\n    }\n\n    .dataframe tbody tr th {\n        vertical-align: top;\n    }\n\n    .dataframe thead th {\n        text-align: right;\n    }\n</style>\n<table border=\"1\" class=\"dataframe\">\n  <thead>\n    <tr style=\"text-align: right;\">\n      <th></th>\n      <th>FIPS</th>\n      <th>Admin2</th>\n      <th>Province_State</th>\n      <th>Country_Region</th>\n      <th>Last_Update</th>\n      <th>Lat</th>\n      <th>Long_</th>\n      <th>Confirmed</th>\n      <th>Deaths</th>\n      <th>Recovered</th>\n      <th>Active</th>\n      <th>Combined_Key</th>\n    </tr>\n  </thead>\n  <tbody>\n    <tr>\n      <th>0</th>\n      <td>45001.0</td>\n      <td>Abbeville</td>\n      <td>South Carolina</td>\n      <td>US</td>\n      <td>4/6/20 23:22</td>\n      <td>34.223334</td>\n      <td>-82.461707</td>\n      <td>6</td>\n      <td>0</td>\n      <td>0</td>\n      <td>0</td>\n      <td>Abbeville, South Carolina, US</td>\n    </tr>\n    <tr>\n      <th>1</th>\n      <td>22001.0</td>\n      <td>Acadia</td>\n      <td>Louisiana</td>\n      <td>US</td>\n      <td>4/6/20 23:22</td>\n      <td>30.295065</td>\n      <td>-92.414197</td>\n      <td>79</td>\n      <td>2</td>\n      <td>0</td>\n      <td>0</td>\n      <td>Acadia, Louisiana, US</td>\n    </tr>\n    <tr>\n      <th>2</th>\n      <td>51001.0</td>\n      <td>Accomack</td>\n      <td>Virginia</td>\n      <td>US</td>\n      <td>4/6/20 23:22</td>\n      <td>37.767072</td>\n      <td>-75.632346</td>\n      <td>11</td>\n      <td>0</td>\n      <td>0</td>\n      <td>0</td>\n      <td>Accomack, Virginia, US</td>\n    </tr>\n    <tr>\n      <th>3</th>\n      <td>16001.0</td>\n      <td>Ada</td>\n      <td>Idaho</td>\n      <td>US</td>\n      <td>4/6/20 23:22</td>\n      <td>43.452658</td>\n      <td>-116.241552</td>\n      <td>402</td>\n      <td>3</td>\n      <td>0</td>\n      <td>0</td>\n      <td>Ada, Idaho, US</td>\n    </tr>\n    <tr>\n      <th>4</th>\n      <td>19001.0</td>\n      <td>Adair</td>\n      <td>Iowa</td>\n      <td>US</td>\n      <td>4/6/20 23:22</td>\n      <td>41.330756</td>\n      <td>-94.471059</td>\n      <td>1</td>\n      <td>0</td>\n      <td>0</td>\n      <td>0</td>\n      <td>Adair, Iowa, US</td>\n    </tr>\n  </tbody>\n</table>\n</div>"
     },
     "metadata": {},
     "execution_count": 32
    }
   ],
   "source": [
    "covid_daily_df = pd.read_csv('data/2020-04-06.csv')\n",
    "\n",
    "covid_daily_df.head()"
   ]
  },
  {
   "cell_type": "code",
   "execution_count": 33,
   "metadata": {},
   "outputs": [
    {
     "output_type": "execute_result",
     "data": {
      "text/plain": "(2809, 12)"
     },
     "metadata": {},
     "execution_count": 33
    }
   ],
   "source": [
    "covid_daily_df.shape"
   ]
  },
  {
   "cell_type": "code",
   "execution_count": 34,
   "metadata": {},
   "outputs": [
    {
     "output_type": "stream",
     "name": "stdout",
     "text": "['US' 'Canada' 'United Kingdom' 'China' 'Netherlands' 'Australia'\n 'Denmark' 'France' 'Afghanistan' 'Albania' 'Algeria' 'Andorra' 'Angola'\n 'Antigua and Barbuda' 'Argentina' 'Armenia' 'Austria' 'Azerbaijan'\n 'Bahamas' 'Bahrain' 'Bangladesh' 'Barbados' 'Belarus' 'Belgium' 'Belize'\n 'Benin' 'Bhutan' 'Bolivia' 'Bosnia and Herzegovina' 'Botswana' 'Brazil'\n 'Brunei' 'Bulgaria' 'Burkina Faso' 'Burma' 'Burundi' 'Cabo Verde'\n 'Cambodia' 'Cameroon' 'Central African Republic' 'Chad' 'Chile'\n 'Colombia' 'Congo (Brazzaville)' 'Congo (Kinshasa)' 'Costa Rica'\n \"Cote d'Ivoire\" 'Croatia' 'Cuba' 'Cyprus' 'Czechia' 'Diamond Princess'\n 'Djibouti' 'Dominica' 'Dominican Republic' 'Ecuador' 'Egypt'\n 'El Salvador' 'Equatorial Guinea' 'Eritrea' 'Estonia' 'Eswatini'\n 'Ethiopia' 'Fiji' 'Finland' 'Gabon' 'Gambia' 'Georgia' 'Germany' 'Ghana'\n 'Greece' 'Grenada' 'Guatemala' 'Guinea' 'Guinea-Bissau' 'Guyana' 'Haiti'\n 'Holy See' 'Honduras' 'Hungary' 'Iceland' 'India' 'Indonesia' 'Iran'\n 'Iraq' 'Ireland' 'Israel' 'Italy' 'Jamaica' 'Japan' 'Jordan' 'Kazakhstan'\n 'Kenya' 'Korea, South' 'Kosovo' 'Kuwait' 'Kyrgyzstan' 'Laos' 'Latvia'\n 'Lebanon' 'Liberia' 'Libya' 'Liechtenstein' 'Lithuania' 'Luxembourg'\n 'MS Zaandam' 'Madagascar' 'Malawi' 'Malaysia' 'Maldives' 'Mali' 'Malta'\n 'Mauritania' 'Mauritius' 'Mexico' 'Moldova' 'Monaco' 'Mongolia'\n 'Montenegro' 'Morocco' 'Mozambique' 'Namibia' 'Nepal' 'New Zealand'\n 'Nicaragua' 'Niger' 'Nigeria' 'North Macedonia' 'Norway' 'Oman'\n 'Pakistan' 'Panama' 'Papua New Guinea' 'Paraguay' 'Peru' 'Philippines'\n 'Poland' 'Portugal' 'Qatar' 'Romania' 'Russia' 'Rwanda'\n 'Saint Kitts and Nevis' 'Saint Lucia' 'Saint Vincent and the Grenadines'\n 'San Marino' 'Sao Tome and Principe' 'Saudi Arabia' 'Senegal' 'Serbia'\n 'Seychelles' 'Sierra Leone' 'Singapore' 'Slovakia' 'Slovenia' 'Somalia'\n 'South Africa' 'South Sudan' 'Spain' 'Sri Lanka' 'Sudan' 'Suriname'\n 'Sweden' 'Switzerland' 'Syria' 'Taiwan*' 'Tanzania' 'Thailand'\n 'Timor-Leste' 'Togo' 'Trinidad and Tobago' 'Tunisia' 'Turkey' 'Uganda'\n 'Ukraine' 'United Arab Emirates' 'Uruguay' 'Uzbekistan' 'Venezuela'\n 'Vietnam' 'West Bank and Gaza' 'Western Sahara' 'Zambia' 'Zimbabwe']\n"
    },
    {
     "output_type": "execute_result",
     "data": {
      "text/plain": "184"
     },
     "metadata": {},
     "execution_count": 34
    }
   ],
   "source": [
    "# show all unique Country_Region codes\n",
    "\n",
    "countries = covid_daily_df.Country_Region.unique()\n",
    "print(countries)\n",
    "len(countries)"
   ]
  },
  {
   "cell_type": "code",
   "execution_count": 35,
   "metadata": {},
   "outputs": [
    {
     "output_type": "execute_result",
     "data": {
      "text/plain": "                    Confirmed\nCountry_Region               \nAfghanistan               367\nAlbania                   377\nAlgeria                  1423\nAndorra                   525\nAngola                     16\n...                       ...\nVietnam                   245\nWest Bank and Gaza        254\nWestern Sahara              4\nZambia                     39\nZimbabwe                   10\n\n[184 rows x 1 columns]",
      "text/html": "<div>\n<style scoped>\n    .dataframe tbody tr th:only-of-type {\n        vertical-align: middle;\n    }\n\n    .dataframe tbody tr th {\n        vertical-align: top;\n    }\n\n    .dataframe thead th {\n        text-align: right;\n    }\n</style>\n<table border=\"1\" class=\"dataframe\">\n  <thead>\n    <tr style=\"text-align: right;\">\n      <th></th>\n      <th>Confirmed</th>\n    </tr>\n    <tr>\n      <th>Country_Region</th>\n      <th></th>\n    </tr>\n  </thead>\n  <tbody>\n    <tr>\n      <th>Afghanistan</th>\n      <td>367</td>\n    </tr>\n    <tr>\n      <th>Albania</th>\n      <td>377</td>\n    </tr>\n    <tr>\n      <th>Algeria</th>\n      <td>1423</td>\n    </tr>\n    <tr>\n      <th>Andorra</th>\n      <td>525</td>\n    </tr>\n    <tr>\n      <th>Angola</th>\n      <td>16</td>\n    </tr>\n    <tr>\n      <th>...</th>\n      <td>...</td>\n    </tr>\n    <tr>\n      <th>Vietnam</th>\n      <td>245</td>\n    </tr>\n    <tr>\n      <th>West Bank and Gaza</th>\n      <td>254</td>\n    </tr>\n    <tr>\n      <th>Western Sahara</th>\n      <td>4</td>\n    </tr>\n    <tr>\n      <th>Zambia</th>\n      <td>39</td>\n    </tr>\n    <tr>\n      <th>Zimbabwe</th>\n      <td>10</td>\n    </tr>\n  </tbody>\n</table>\n<p>184 rows × 1 columns</p>\n</div>"
     },
     "metadata": {},
     "execution_count": 35
    }
   ],
   "source": [
    "# statistics grouped by countries\n",
    "covid_daily_df.groupby('Country_Region').agg({'Confirmed': np.sum})"
   ]
  },
  {
   "cell_type": "code",
   "execution_count": 36,
   "metadata": {},
   "outputs": [
    {
     "output_type": "execute_result",
     "data": {
      "text/plain": "                    Confirmed  Deaths  Recovered  Active\nCountry_Region                                          \nAfghanistan               367      11         18     338\nAlbania                   377      21        116     240\nAlgeria                  1423     173         90    1160\nAndorra                   525      21         31     473\nAngola                     16       2          2      12\n...                       ...     ...        ...     ...\nVietnam                   245       0         95     150\nWest Bank and Gaza        254       1         24     229\nWestern Sahara              4       0          0       4\nZambia                     39       1          5      33\nZimbabwe                   10       1          0       9\n\n[184 rows x 4 columns]",
      "text/html": "<div>\n<style scoped>\n    .dataframe tbody tr th:only-of-type {\n        vertical-align: middle;\n    }\n\n    .dataframe tbody tr th {\n        vertical-align: top;\n    }\n\n    .dataframe thead th {\n        text-align: right;\n    }\n</style>\n<table border=\"1\" class=\"dataframe\">\n  <thead>\n    <tr style=\"text-align: right;\">\n      <th></th>\n      <th>Confirmed</th>\n      <th>Deaths</th>\n      <th>Recovered</th>\n      <th>Active</th>\n    </tr>\n    <tr>\n      <th>Country_Region</th>\n      <th></th>\n      <th></th>\n      <th></th>\n      <th></th>\n    </tr>\n  </thead>\n  <tbody>\n    <tr>\n      <th>Afghanistan</th>\n      <td>367</td>\n      <td>11</td>\n      <td>18</td>\n      <td>338</td>\n    </tr>\n    <tr>\n      <th>Albania</th>\n      <td>377</td>\n      <td>21</td>\n      <td>116</td>\n      <td>240</td>\n    </tr>\n    <tr>\n      <th>Algeria</th>\n      <td>1423</td>\n      <td>173</td>\n      <td>90</td>\n      <td>1160</td>\n    </tr>\n    <tr>\n      <th>Andorra</th>\n      <td>525</td>\n      <td>21</td>\n      <td>31</td>\n      <td>473</td>\n    </tr>\n    <tr>\n      <th>Angola</th>\n      <td>16</td>\n      <td>2</td>\n      <td>2</td>\n      <td>12</td>\n    </tr>\n    <tr>\n      <th>...</th>\n      <td>...</td>\n      <td>...</td>\n      <td>...</td>\n      <td>...</td>\n    </tr>\n    <tr>\n      <th>Vietnam</th>\n      <td>245</td>\n      <td>0</td>\n      <td>95</td>\n      <td>150</td>\n    </tr>\n    <tr>\n      <th>West Bank and Gaza</th>\n      <td>254</td>\n      <td>1</td>\n      <td>24</td>\n      <td>229</td>\n    </tr>\n    <tr>\n      <th>Western Sahara</th>\n      <td>4</td>\n      <td>0</td>\n      <td>0</td>\n      <td>4</td>\n    </tr>\n    <tr>\n      <th>Zambia</th>\n      <td>39</td>\n      <td>1</td>\n      <td>5</td>\n      <td>33</td>\n    </tr>\n    <tr>\n      <th>Zimbabwe</th>\n      <td>10</td>\n      <td>1</td>\n      <td>0</td>\n      <td>9</td>\n    </tr>\n  </tbody>\n</table>\n<p>184 rows × 4 columns</p>\n</div>"
     },
     "metadata": {},
     "execution_count": 36
    }
   ],
   "source": [
    "# construct a dataframe with five columns: \n",
    "# Country_Region (index), Confirmed, Deaths, Recovered, Active\n",
    "df_country_cases = covid_daily_df.groupby('Country_Region').agg({'Confirmed': np.sum, 'Deaths': np.sum, 'Recovered': np.sum, 'Active': np.sum})\n",
    "\n",
    "df_country_cases"
   ]
  },
  {
   "cell_type": "code",
   "execution_count": 37,
   "metadata": {},
   "outputs": [
    {
     "output_type": "execute_result",
     "data": {
      "text/plain": "0"
     },
     "metadata": {},
     "execution_count": 37
    }
   ],
   "source": [
    "# show counties that do not have any corona patients yet\n",
    "len(df_country_cases.loc[df_country_cases['Confirmed'] == 0])"
   ]
  },
  {
   "cell_type": "code",
   "execution_count": 38,
   "metadata": {},
   "outputs": [
    {
     "output_type": "execute_result",
     "data": {
      "text/plain": "                     Confirmed  Deaths  Recovered  Active  fatality_rate\nCountry_Region                                                          \nGuyana                      31       4          8      19       0.129032\nItaly                   132547   16523      22837   93187       0.124658\nAlgeria                   1423     173         90    1160       0.121574\nSan Marino                 266      32         35     199       0.120301\nCongo (Kinshasa)           161      18          5     138       0.111801\nCongo (Brazzaville)         45       5          2      38       0.111111\nMali                        47       5          9      33       0.106383\nUnited Kingdom           52279    5385        287   46607       0.103005\nNetherlands              18926    1874        258   16794       0.099017\nSpain                   136675   13341      40437   82897       0.097611\nBangladesh                 123      12         33      78       0.097561\nFrance                   98963    8926      17428   72609       0.090195\nIndonesia                 2491     209        192    2090       0.083902\nBelgium                  20814    1632       3986   15196       0.078409\nTrinidad and Tobago        105       8          1      96       0.076190\nHonduras                   298      22          6     270       0.073826\nMorocco                   1120      80         81     959       0.071429\nSweden                    7206     477        205    6524       0.066195\nEgypt                     1322      85        259     978       0.064297\nIraq                      1031      64        344     623       0.062076\nIran                     60500    3739      24236   32525       0.061802\nBolivia                    183      11          2     170       0.060109\nEl Salvador                 69       4          5      60       0.057971\nAlbania                    377      21        116     240       0.055703\nTogo                        58       3         23      32       0.051724",
      "text/html": "<div>\n<style scoped>\n    .dataframe tbody tr th:only-of-type {\n        vertical-align: middle;\n    }\n\n    .dataframe tbody tr th {\n        vertical-align: top;\n    }\n\n    .dataframe thead th {\n        text-align: right;\n    }\n</style>\n<table border=\"1\" class=\"dataframe\">\n  <thead>\n    <tr style=\"text-align: right;\">\n      <th></th>\n      <th>Confirmed</th>\n      <th>Deaths</th>\n      <th>Recovered</th>\n      <th>Active</th>\n      <th>fatality_rate</th>\n    </tr>\n    <tr>\n      <th>Country_Region</th>\n      <th></th>\n      <th></th>\n      <th></th>\n      <th></th>\n      <th></th>\n    </tr>\n  </thead>\n  <tbody>\n    <tr>\n      <th>Guyana</th>\n      <td>31</td>\n      <td>4</td>\n      <td>8</td>\n      <td>19</td>\n      <td>0.129032</td>\n    </tr>\n    <tr>\n      <th>Italy</th>\n      <td>132547</td>\n      <td>16523</td>\n      <td>22837</td>\n      <td>93187</td>\n      <td>0.124658</td>\n    </tr>\n    <tr>\n      <th>Algeria</th>\n      <td>1423</td>\n      <td>173</td>\n      <td>90</td>\n      <td>1160</td>\n      <td>0.121574</td>\n    </tr>\n    <tr>\n      <th>San Marino</th>\n      <td>266</td>\n      <td>32</td>\n      <td>35</td>\n      <td>199</td>\n      <td>0.120301</td>\n    </tr>\n    <tr>\n      <th>Congo (Kinshasa)</th>\n      <td>161</td>\n      <td>18</td>\n      <td>5</td>\n      <td>138</td>\n      <td>0.111801</td>\n    </tr>\n    <tr>\n      <th>Congo (Brazzaville)</th>\n      <td>45</td>\n      <td>5</td>\n      <td>2</td>\n      <td>38</td>\n      <td>0.111111</td>\n    </tr>\n    <tr>\n      <th>Mali</th>\n      <td>47</td>\n      <td>5</td>\n      <td>9</td>\n      <td>33</td>\n      <td>0.106383</td>\n    </tr>\n    <tr>\n      <th>United Kingdom</th>\n      <td>52279</td>\n      <td>5385</td>\n      <td>287</td>\n      <td>46607</td>\n      <td>0.103005</td>\n    </tr>\n    <tr>\n      <th>Netherlands</th>\n      <td>18926</td>\n      <td>1874</td>\n      <td>258</td>\n      <td>16794</td>\n      <td>0.099017</td>\n    </tr>\n    <tr>\n      <th>Spain</th>\n      <td>136675</td>\n      <td>13341</td>\n      <td>40437</td>\n      <td>82897</td>\n      <td>0.097611</td>\n    </tr>\n    <tr>\n      <th>Bangladesh</th>\n      <td>123</td>\n      <td>12</td>\n      <td>33</td>\n      <td>78</td>\n      <td>0.097561</td>\n    </tr>\n    <tr>\n      <th>France</th>\n      <td>98963</td>\n      <td>8926</td>\n      <td>17428</td>\n      <td>72609</td>\n      <td>0.090195</td>\n    </tr>\n    <tr>\n      <th>Indonesia</th>\n      <td>2491</td>\n      <td>209</td>\n      <td>192</td>\n      <td>2090</td>\n      <td>0.083902</td>\n    </tr>\n    <tr>\n      <th>Belgium</th>\n      <td>20814</td>\n      <td>1632</td>\n      <td>3986</td>\n      <td>15196</td>\n      <td>0.078409</td>\n    </tr>\n    <tr>\n      <th>Trinidad and Tobago</th>\n      <td>105</td>\n      <td>8</td>\n      <td>1</td>\n      <td>96</td>\n      <td>0.076190</td>\n    </tr>\n    <tr>\n      <th>Honduras</th>\n      <td>298</td>\n      <td>22</td>\n      <td>6</td>\n      <td>270</td>\n      <td>0.073826</td>\n    </tr>\n    <tr>\n      <th>Morocco</th>\n      <td>1120</td>\n      <td>80</td>\n      <td>81</td>\n      <td>959</td>\n      <td>0.071429</td>\n    </tr>\n    <tr>\n      <th>Sweden</th>\n      <td>7206</td>\n      <td>477</td>\n      <td>205</td>\n      <td>6524</td>\n      <td>0.066195</td>\n    </tr>\n    <tr>\n      <th>Egypt</th>\n      <td>1322</td>\n      <td>85</td>\n      <td>259</td>\n      <td>978</td>\n      <td>0.064297</td>\n    </tr>\n    <tr>\n      <th>Iraq</th>\n      <td>1031</td>\n      <td>64</td>\n      <td>344</td>\n      <td>623</td>\n      <td>0.062076</td>\n    </tr>\n    <tr>\n      <th>Iran</th>\n      <td>60500</td>\n      <td>3739</td>\n      <td>24236</td>\n      <td>32525</td>\n      <td>0.061802</td>\n    </tr>\n    <tr>\n      <th>Bolivia</th>\n      <td>183</td>\n      <td>11</td>\n      <td>2</td>\n      <td>170</td>\n      <td>0.060109</td>\n    </tr>\n    <tr>\n      <th>El Salvador</th>\n      <td>69</td>\n      <td>4</td>\n      <td>5</td>\n      <td>60</td>\n      <td>0.057971</td>\n    </tr>\n    <tr>\n      <th>Albania</th>\n      <td>377</td>\n      <td>21</td>\n      <td>116</td>\n      <td>240</td>\n      <td>0.055703</td>\n    </tr>\n    <tr>\n      <th>Togo</th>\n      <td>58</td>\n      <td>3</td>\n      <td>23</td>\n      <td>32</td>\n      <td>0.051724</td>\n    </tr>\n  </tbody>\n</table>\n</div>"
     },
     "metadata": {},
     "execution_count": 38
    }
   ],
   "source": [
    "# last operation tells that all countries in this csv file have confirmed cases. \n",
    "# now we can calculate the fatality rate\n",
    "\n",
    "df_country_cases['fatality_rate'] = df_country_cases.Deaths / df_country_cases.Confirmed\n",
    "\n",
    "fatalities = df_country_cases.query('(Deaths > 0) & (Confirmed > 30)') \\\n",
    "                            .sort_values(by = 'fatality_rate', ascending = False)\n",
    "\n",
    "fatalities[:25]"
   ]
  },
  {
   "cell_type": "code",
   "execution_count": 39,
   "metadata": {},
   "outputs": [
    {
     "output_type": "execute_result",
     "data": {
      "text/plain": "                      Confirmed  Deaths  Recovered  Active  fatality_rate\nCountry_Region                                                           \nNew Zealand                1106       1        176     929       0.000904\nKuwait                      665       1        103     561       0.001504\nLatvia                      542       1         16     525       0.001845\nQatar                      1832       4        131    1697       0.002183\nSlovakia                    534       2          8     524       0.003745\nIceland                    1562       6        460    1096       0.003841\nWest Bank and Gaza          254       1         24     229       0.003937\nCosta Rica                  467       2         18     447       0.004283\nSingapore                  1375       6        344    1025       0.004364\nUzbekistan                  457       2         30     425       0.004376\nBahrain                     756       4        458     294       0.005291\nUnited Arab Emirates       2076      11        167    1898       0.005299\nOman                        331       2         61     268       0.006042\nIsrael                     8904      57        585    8262       0.006402\nKosovo                      145       1         23     121       0.006897\nAustralia                  5797      40       1080    4677       0.006900\nSouth Africa               1686      12         95    1579       0.007117\nBrunei                      135       1         82      52       0.007407\nRussia                     6343      47        406    5890       0.007410\nChile                      4815      37        728    4050       0.007684\nMontenegro                  233       2          1     230       0.008584\nSenegal                     226       2         92     132       0.008850\nKazakhstan                  662       6         46     610       0.009063\nCote d'Ivoire               323       3         41     279       0.009288\nArmenia                     833       8         62     763       0.009604",
      "text/html": "<div>\n<style scoped>\n    .dataframe tbody tr th:only-of-type {\n        vertical-align: middle;\n    }\n\n    .dataframe tbody tr th {\n        vertical-align: top;\n    }\n\n    .dataframe thead th {\n        text-align: right;\n    }\n</style>\n<table border=\"1\" class=\"dataframe\">\n  <thead>\n    <tr style=\"text-align: right;\">\n      <th></th>\n      <th>Confirmed</th>\n      <th>Deaths</th>\n      <th>Recovered</th>\n      <th>Active</th>\n      <th>fatality_rate</th>\n    </tr>\n    <tr>\n      <th>Country_Region</th>\n      <th></th>\n      <th></th>\n      <th></th>\n      <th></th>\n      <th></th>\n    </tr>\n  </thead>\n  <tbody>\n    <tr>\n      <th>New Zealand</th>\n      <td>1106</td>\n      <td>1</td>\n      <td>176</td>\n      <td>929</td>\n      <td>0.000904</td>\n    </tr>\n    <tr>\n      <th>Kuwait</th>\n      <td>665</td>\n      <td>1</td>\n      <td>103</td>\n      <td>561</td>\n      <td>0.001504</td>\n    </tr>\n    <tr>\n      <th>Latvia</th>\n      <td>542</td>\n      <td>1</td>\n      <td>16</td>\n      <td>525</td>\n      <td>0.001845</td>\n    </tr>\n    <tr>\n      <th>Qatar</th>\n      <td>1832</td>\n      <td>4</td>\n      <td>131</td>\n      <td>1697</td>\n      <td>0.002183</td>\n    </tr>\n    <tr>\n      <th>Slovakia</th>\n      <td>534</td>\n      <td>2</td>\n      <td>8</td>\n      <td>524</td>\n      <td>0.003745</td>\n    </tr>\n    <tr>\n      <th>Iceland</th>\n      <td>1562</td>\n      <td>6</td>\n      <td>460</td>\n      <td>1096</td>\n      <td>0.003841</td>\n    </tr>\n    <tr>\n      <th>West Bank and Gaza</th>\n      <td>254</td>\n      <td>1</td>\n      <td>24</td>\n      <td>229</td>\n      <td>0.003937</td>\n    </tr>\n    <tr>\n      <th>Costa Rica</th>\n      <td>467</td>\n      <td>2</td>\n      <td>18</td>\n      <td>447</td>\n      <td>0.004283</td>\n    </tr>\n    <tr>\n      <th>Singapore</th>\n      <td>1375</td>\n      <td>6</td>\n      <td>344</td>\n      <td>1025</td>\n      <td>0.004364</td>\n    </tr>\n    <tr>\n      <th>Uzbekistan</th>\n      <td>457</td>\n      <td>2</td>\n      <td>30</td>\n      <td>425</td>\n      <td>0.004376</td>\n    </tr>\n    <tr>\n      <th>Bahrain</th>\n      <td>756</td>\n      <td>4</td>\n      <td>458</td>\n      <td>294</td>\n      <td>0.005291</td>\n    </tr>\n    <tr>\n      <th>United Arab Emirates</th>\n      <td>2076</td>\n      <td>11</td>\n      <td>167</td>\n      <td>1898</td>\n      <td>0.005299</td>\n    </tr>\n    <tr>\n      <th>Oman</th>\n      <td>331</td>\n      <td>2</td>\n      <td>61</td>\n      <td>268</td>\n      <td>0.006042</td>\n    </tr>\n    <tr>\n      <th>Israel</th>\n      <td>8904</td>\n      <td>57</td>\n      <td>585</td>\n      <td>8262</td>\n      <td>0.006402</td>\n    </tr>\n    <tr>\n      <th>Kosovo</th>\n      <td>145</td>\n      <td>1</td>\n      <td>23</td>\n      <td>121</td>\n      <td>0.006897</td>\n    </tr>\n    <tr>\n      <th>Australia</th>\n      <td>5797</td>\n      <td>40</td>\n      <td>1080</td>\n      <td>4677</td>\n      <td>0.006900</td>\n    </tr>\n    <tr>\n      <th>South Africa</th>\n      <td>1686</td>\n      <td>12</td>\n      <td>95</td>\n      <td>1579</td>\n      <td>0.007117</td>\n    </tr>\n    <tr>\n      <th>Brunei</th>\n      <td>135</td>\n      <td>1</td>\n      <td>82</td>\n      <td>52</td>\n      <td>0.007407</td>\n    </tr>\n    <tr>\n      <th>Russia</th>\n      <td>6343</td>\n      <td>47</td>\n      <td>406</td>\n      <td>5890</td>\n      <td>0.007410</td>\n    </tr>\n    <tr>\n      <th>Chile</th>\n      <td>4815</td>\n      <td>37</td>\n      <td>728</td>\n      <td>4050</td>\n      <td>0.007684</td>\n    </tr>\n    <tr>\n      <th>Montenegro</th>\n      <td>233</td>\n      <td>2</td>\n      <td>1</td>\n      <td>230</td>\n      <td>0.008584</td>\n    </tr>\n    <tr>\n      <th>Senegal</th>\n      <td>226</td>\n      <td>2</td>\n      <td>92</td>\n      <td>132</td>\n      <td>0.008850</td>\n    </tr>\n    <tr>\n      <th>Kazakhstan</th>\n      <td>662</td>\n      <td>6</td>\n      <td>46</td>\n      <td>610</td>\n      <td>0.009063</td>\n    </tr>\n    <tr>\n      <th>Cote d'Ivoire</th>\n      <td>323</td>\n      <td>3</td>\n      <td>41</td>\n      <td>279</td>\n      <td>0.009288</td>\n    </tr>\n    <tr>\n      <th>Armenia</th>\n      <td>833</td>\n      <td>8</td>\n      <td>62</td>\n      <td>763</td>\n      <td>0.009604</td>\n    </tr>\n  </tbody>\n</table>\n</div>"
     },
     "metadata": {},
     "execution_count": 39
    }
   ],
   "source": [
    "fatalities_asc = df_country_cases.query('(Deaths > 0) & (Confirmed > 30)').sort_values(by = 'fatality_rate', ascending = True)\n",
    "\n",
    "fatalities_asc[:25]"
   ]
  },
  {
   "cell_type": "code",
   "execution_count": 40,
   "metadata": {},
   "outputs": [
    {
     "output_type": "execute_result",
     "data": {
      "text/plain": "74565"
     },
     "metadata": {},
     "execution_count": 40
    }
   ],
   "source": [
    "df_country_cases.Deaths.sum()"
   ]
  },
  {
   "cell_type": "code",
   "execution_count": 41,
   "metadata": {},
   "outputs": [
    {
     "output_type": "execute_result",
     "data": {
      "text/plain": "0.05548095403272509"
     },
     "metadata": {},
     "execution_count": 41
    }
   ],
   "source": [
    "# fatalitiy over all countries having more than 30 confirmed cases. \n",
    "\n",
    "fatality_partial = fatalities.Deaths.sum() / fatalities.Confirmed.sum()\n",
    "\n",
    "fatality_partial"
   ]
  },
  {
   "cell_type": "code",
   "execution_count": 42,
   "metadata": {},
   "outputs": [
    {
     "output_type": "execute_result",
     "data": {
      "text/plain": "0.05543449897070926"
     },
     "metadata": {},
     "execution_count": 42
    }
   ],
   "source": [
    "# fatalitiy over all countries, regardless of how many confirmed cases and deaths. \n",
    "\n",
    "fatality_overall = df_country_cases.Deaths.sum() / df_country_cases.Confirmed.sum()\n",
    "\n",
    "fatality_overall"
   ]
  },
  {
   "cell_type": "code",
   "execution_count": 43,
   "metadata": {},
   "outputs": [],
   "source": [
    "# define a function which returns the rank of the fatality\n",
    "\n",
    "def fatality_rank( country: str, asc: bool ) -> int:\n",
    "    indices = fatalities.sort_values(by = 'fatality_rate', ascending = asc).index\n",
    "    return indices.get_loc(country)\n",
    ""
   ]
  },
  {
   "cell_type": "code",
   "execution_count": 44,
   "metadata": {},
   "outputs": [],
   "source": [
    "ranks_asc = fatalities.sort_values(by = 'fatality_rate', ascending = True).index\n",
    "\n",
    "def get_fatality_and_rank(country: str) -> pd.Series:\n",
    "    fatality = fatalities.loc[country].fatality_rate\n",
    "\n",
    "    rank_asc = ranks_asc.get_loc(country) + 1\n",
    "    rank_dsc = len(ranks_asc) - rank_asc + 1\n",
    "\n",
    "    return pd.Series({'Country_Region': country, 'fatality_rate': fatality, 'rank_asc': rank_asc, 'rank_dsc': rank_dsc})\n",
    ""
   ]
  },
  {
   "cell_type": "code",
   "execution_count": 45,
   "metadata": {},
   "outputs": [
    {
     "output_type": "execute_result",
     "data": {
      "text/plain": "Country_Region       Italy\nfatality_rate     0.124658\nrank_asc               124\nrank_dsc                 2\ndtype: object"
     },
     "metadata": {},
     "execution_count": 45
    }
   ],
   "source": [
    "# test the function get_fatality_and_rank\n",
    "\n",
    "get_fatality_and_rank('Italy')"
   ]
  },
  {
   "cell_type": "code",
   "execution_count": 46,
   "metadata": {},
   "outputs": [
    {
     "output_type": "execute_result",
     "data": {
      "text/plain": "  Country_Region  fatality_rate rank_asc rank_dsc\n0        Austria       0.017891       47       79\n1          China       0.040344       84       42\n2        Germany       0.017509       45       81\n3          Italy       0.124658      124        2\n4    New Zealand       0.000904        1      125\n5     San Marino       0.120301      122        4\n6      Singapore       0.004364        9      117\n7             US       0.029408       70       56",
      "text/html": "<div>\n<style scoped>\n    .dataframe tbody tr th:only-of-type {\n        vertical-align: middle;\n    }\n\n    .dataframe tbody tr th {\n        vertical-align: top;\n    }\n\n    .dataframe thead th {\n        text-align: right;\n    }\n</style>\n<table border=\"1\" class=\"dataframe\">\n  <thead>\n    <tr style=\"text-align: right;\">\n      <th></th>\n      <th>Country_Region</th>\n      <th>fatality_rate</th>\n      <th>rank_asc</th>\n      <th>rank_dsc</th>\n    </tr>\n  </thead>\n  <tbody>\n    <tr>\n      <th>0</th>\n      <td>Austria</td>\n      <td>0.017891</td>\n      <td>47</td>\n      <td>79</td>\n    </tr>\n    <tr>\n      <th>1</th>\n      <td>China</td>\n      <td>0.040344</td>\n      <td>84</td>\n      <td>42</td>\n    </tr>\n    <tr>\n      <th>2</th>\n      <td>Germany</td>\n      <td>0.017509</td>\n      <td>45</td>\n      <td>81</td>\n    </tr>\n    <tr>\n      <th>3</th>\n      <td>Italy</td>\n      <td>0.124658</td>\n      <td>124</td>\n      <td>2</td>\n    </tr>\n    <tr>\n      <th>4</th>\n      <td>New Zealand</td>\n      <td>0.000904</td>\n      <td>1</td>\n      <td>125</td>\n    </tr>\n    <tr>\n      <th>5</th>\n      <td>San Marino</td>\n      <td>0.120301</td>\n      <td>122</td>\n      <td>4</td>\n    </tr>\n    <tr>\n      <th>6</th>\n      <td>Singapore</td>\n      <td>0.004364</td>\n      <td>9</td>\n      <td>117</td>\n    </tr>\n    <tr>\n      <th>7</th>\n      <td>US</td>\n      <td>0.029408</td>\n      <td>70</td>\n      <td>56</td>\n    </tr>\n  </tbody>\n</table>\n</div>"
     },
     "metadata": {},
     "execution_count": 46
    }
   ],
   "source": [
    "# how do these countries score in the fatality_rate?\n",
    "\n",
    "cols = ['Country_Region', 'fatality_rate', 'rank_asc', 'rank_dsc']\n",
    "countries = ['Austria', 'China', 'Germany', 'Italy', 'New Zealand', 'San Marino', 'Singapore', 'US']\n",
    "\n",
    "df_fatality_scores = pd.DataFrame(columns = cols)\n",
    "\n",
    "for country in countries:\n",
    "    df_fatality_scores = df_fatality_scores.append(get_fatality_and_rank(country), ignore_index=True)\n",
    "\n",
    "df_fatality_scores"
   ]
  },
  {
   "cell_type": "code",
   "execution_count": 47,
   "metadata": {},
   "outputs": [
    {
     "output_type": "execute_result",
     "data": {
      "text/plain": "count    125.000000\nmean       0.035490\nstd        0.030859\nmin        0.000904\n25%        0.012987\n50%        0.027163\n75%        0.045455\nmax        0.129032\nName: fatality_rate, dtype: float64"
     },
     "metadata": {},
     "execution_count": 47
    }
   ],
   "source": [
    "# basic statistics of the fatality\n",
    "fatalities.fatality_rate.describe()"
   ]
  },
  {
   "cell_type": "code",
   "execution_count": 48,
   "metadata": {},
   "outputs": [
    {
     "output_type": "stream",
     "name": "stdout",
     "text": "Fatality median is 0.02716297786720322 and mode is 0    0.012987\n1    0.051724\ndtype: float64\n"
    }
   ],
   "source": [
    "# median and mode of fatality rate\n",
    "\n",
    "fatality_median = fatalities.fatality_rate.median()\n",
    "fatality_mode = fatalities.fatality_rate.mode()\n",
    "\n",
    "print(\"Fatality median is {} and mode is {}\".format(fatality_median, fatality_mode))\n",
    ""
   ]
  },
  {
   "cell_type": "code",
   "execution_count": 49,
   "metadata": {},
   "outputs": [
    {
     "output_type": "execute_result",
     "data": {
      "text/plain": "Country_Region\nGuyana                                 (0.116, 0.129]\nItaly                                  (0.116, 0.129]\nAlgeria                                (0.116, 0.129]\nSan Marino                             (0.116, 0.129]\nCongo (Kinshasa)                       (0.103, 0.116]\n                                  ...                \nSlovakia            (-0.00022400000000000002, 0.0137]\nQatar               (-0.00022400000000000002, 0.0137]\nLatvia              (-0.00022400000000000002, 0.0137]\nKuwait              (-0.00022400000000000002, 0.0137]\nNew Zealand         (-0.00022400000000000002, 0.0137]\nName: fatality_rate, Length: 125, dtype: category\nCategories (10, interval[float64]): [(-0.00022400000000000002, 0.0137] < (0.0137, 0.0265] < (0.0265, 0.0393] < (0.0393, 0.0522] ... (0.0778, 0.0906] < (0.0906, 0.103] < (0.103, 0.116] < (0.116, 0.129]]"
     },
     "metadata": {},
     "execution_count": 49
    }
   ],
   "source": [
    "# the mode above does not make sense, let's fix it.\n",
    "\n",
    "# first, segment and sort fatality values into bins\n",
    "bins = pd.cut(fatalities['fatality_rate'], 10, include_lowest=True)\n",
    "\n",
    "bins\n",
    "\n",
    "# I'd like to see the content of each bin, what to do?"
   ]
  },
  {
   "cell_type": "markdown",
   "metadata": {},
   "source": [
    "## Joined with Population data from United Nations \n",
    "\n",
    "Poplation is in thousand persons.  "
   ]
  },
  {
   "cell_type": "code",
   "execution_count": 50,
   "metadata": {},
   "outputs": [
    {
     "output_type": "execute_result",
     "data": {
      "text/plain": "   LocID     Location  VarID Variant  Time  MidPeriod   PopMale  PopFemale  \\\n0      4  Afghanistan      2  Medium  1950     1950.5  4099.243   3652.874   \n1      4  Afghanistan      2  Medium  1951     1951.5  4134.756   3705.395   \n2      4  Afghanistan      2  Medium  1952     1952.5  4174.450   3761.546   \n3      4  Afghanistan      2  Medium  1953     1953.5  4218.336   3821.348   \n4      4  Afghanistan      2  Medium  1954     1954.5  4266.484   3884.832   \n\n   PopTotal  PopDensity  \n0  7752.117      11.874  \n1  7840.151      12.009  \n2  7935.996      12.156  \n3  8039.684      12.315  \n4  8151.316      12.486  ",
      "text/html": "<div>\n<style scoped>\n    .dataframe tbody tr th:only-of-type {\n        vertical-align: middle;\n    }\n\n    .dataframe tbody tr th {\n        vertical-align: top;\n    }\n\n    .dataframe thead th {\n        text-align: right;\n    }\n</style>\n<table border=\"1\" class=\"dataframe\">\n  <thead>\n    <tr style=\"text-align: right;\">\n      <th></th>\n      <th>LocID</th>\n      <th>Location</th>\n      <th>VarID</th>\n      <th>Variant</th>\n      <th>Time</th>\n      <th>MidPeriod</th>\n      <th>PopMale</th>\n      <th>PopFemale</th>\n      <th>PopTotal</th>\n      <th>PopDensity</th>\n    </tr>\n  </thead>\n  <tbody>\n    <tr>\n      <th>0</th>\n      <td>4</td>\n      <td>Afghanistan</td>\n      <td>2</td>\n      <td>Medium</td>\n      <td>1950</td>\n      <td>1950.5</td>\n      <td>4099.243</td>\n      <td>3652.874</td>\n      <td>7752.117</td>\n      <td>11.874</td>\n    </tr>\n    <tr>\n      <th>1</th>\n      <td>4</td>\n      <td>Afghanistan</td>\n      <td>2</td>\n      <td>Medium</td>\n      <td>1951</td>\n      <td>1951.5</td>\n      <td>4134.756</td>\n      <td>3705.395</td>\n      <td>7840.151</td>\n      <td>12.009</td>\n    </tr>\n    <tr>\n      <th>2</th>\n      <td>4</td>\n      <td>Afghanistan</td>\n      <td>2</td>\n      <td>Medium</td>\n      <td>1952</td>\n      <td>1952.5</td>\n      <td>4174.450</td>\n      <td>3761.546</td>\n      <td>7935.996</td>\n      <td>12.156</td>\n    </tr>\n    <tr>\n      <th>3</th>\n      <td>4</td>\n      <td>Afghanistan</td>\n      <td>2</td>\n      <td>Medium</td>\n      <td>1953</td>\n      <td>1953.5</td>\n      <td>4218.336</td>\n      <td>3821.348</td>\n      <td>8039.684</td>\n      <td>12.315</td>\n    </tr>\n    <tr>\n      <th>4</th>\n      <td>4</td>\n      <td>Afghanistan</td>\n      <td>2</td>\n      <td>Medium</td>\n      <td>1954</td>\n      <td>1954.5</td>\n      <td>4266.484</td>\n      <td>3884.832</td>\n      <td>8151.316</td>\n      <td>12.486</td>\n    </tr>\n  </tbody>\n</table>\n</div>"
     },
     "metadata": {},
     "execution_count": 50
    }
   ],
   "source": [
    "population = pd.read_csv('data/WPP2019_TotalPopulationBySex.csv')\n",
    "population.head()"
   ]
  },
  {
   "cell_type": "code",
   "execution_count": 51,
   "metadata": {},
   "outputs": [
    {
     "output_type": "execute_result",
     "data": {
      "text/plain": "      LocID                       Location  VarID Variant  Time  MidPeriod  \\\n69        4                    Afghanistan      2  Medium  2019     2019.5   \n953     903                         Africa      2  Medium  2019     2019.5   \n1837   1823                  African Group      2  Medium  2019     2019.5   \n1988   1560                  African Union      2  Medium  2019     2019.5   \n2139   2080  African Union: Central Africa      2  Medium  2019     2019.5   \n\n         PopMale   PopFemale     PopTotal  PopDensity  \n69     19529.727   18512.030    38041.757      58.269  \n953   653513.680  654550.496  1308064.176      44.119  \n1837  652644.714  653675.858  1306320.572      44.464  \n1988  652949.469  653953.561  1306903.030      44.085  \n2139   76945.498   77068.207   154013.705      29.192  ",
      "text/html": "<div>\n<style scoped>\n    .dataframe tbody tr th:only-of-type {\n        vertical-align: middle;\n    }\n\n    .dataframe tbody tr th {\n        vertical-align: top;\n    }\n\n    .dataframe thead th {\n        text-align: right;\n    }\n</style>\n<table border=\"1\" class=\"dataframe\">\n  <thead>\n    <tr style=\"text-align: right;\">\n      <th></th>\n      <th>LocID</th>\n      <th>Location</th>\n      <th>VarID</th>\n      <th>Variant</th>\n      <th>Time</th>\n      <th>MidPeriod</th>\n      <th>PopMale</th>\n      <th>PopFemale</th>\n      <th>PopTotal</th>\n      <th>PopDensity</th>\n    </tr>\n  </thead>\n  <tbody>\n    <tr>\n      <th>69</th>\n      <td>4</td>\n      <td>Afghanistan</td>\n      <td>2</td>\n      <td>Medium</td>\n      <td>2019</td>\n      <td>2019.5</td>\n      <td>19529.727</td>\n      <td>18512.030</td>\n      <td>38041.757</td>\n      <td>58.269</td>\n    </tr>\n    <tr>\n      <th>953</th>\n      <td>903</td>\n      <td>Africa</td>\n      <td>2</td>\n      <td>Medium</td>\n      <td>2019</td>\n      <td>2019.5</td>\n      <td>653513.680</td>\n      <td>654550.496</td>\n      <td>1308064.176</td>\n      <td>44.119</td>\n    </tr>\n    <tr>\n      <th>1837</th>\n      <td>1823</td>\n      <td>African Group</td>\n      <td>2</td>\n      <td>Medium</td>\n      <td>2019</td>\n      <td>2019.5</td>\n      <td>652644.714</td>\n      <td>653675.858</td>\n      <td>1306320.572</td>\n      <td>44.464</td>\n    </tr>\n    <tr>\n      <th>1988</th>\n      <td>1560</td>\n      <td>African Union</td>\n      <td>2</td>\n      <td>Medium</td>\n      <td>2019</td>\n      <td>2019.5</td>\n      <td>652949.469</td>\n      <td>653953.561</td>\n      <td>1306903.030</td>\n      <td>44.085</td>\n    </tr>\n    <tr>\n      <th>2139</th>\n      <td>2080</td>\n      <td>African Union: Central Africa</td>\n      <td>2</td>\n      <td>Medium</td>\n      <td>2019</td>\n      <td>2019.5</td>\n      <td>76945.498</td>\n      <td>77068.207</td>\n      <td>154013.705</td>\n      <td>29.192</td>\n    </tr>\n  </tbody>\n</table>\n</div>"
     },
     "metadata": {},
     "execution_count": 51
    }
   ],
   "source": [
    "# we only need the data of year 2020\n",
    "pop2019 = population[population.Time == 2019]\n",
    "pop2019.head()"
   ]
  },
  {
   "cell_type": "code",
   "execution_count": 52,
   "metadata": {},
   "outputs": [
    {
     "output_type": "execute_result",
     "data": {
      "text/plain": "477"
     },
     "metadata": {},
     "execution_count": 52
    }
   ],
   "source": [
    "len(pop2019)"
   ]
  },
  {
   "cell_type": "markdown",
   "metadata": {},
   "source": [
    "### Now we need to unify the lation names of the population data and the corona data "
   ]
  },
  {
   "cell_type": "code",
   "execution_count": 53,
   "metadata": {},
   "outputs": [
    {
     "output_type": "execute_result",
     "data": {
      "text/plain": "Index(['Bolivia', 'Brunei', 'Burma', 'Congo (Brazzaville)', 'Congo (Kinshasa)',\n       'Cote d'Ivoire', 'Diamond Princess', 'Iran', 'Korea, South', 'Kosovo',\n       'Laos', 'MS Zaandam', 'Moldova', 'Russia', 'Syria', 'Taiwan*',\n       'Tanzania', 'US', 'Venezuela', 'Vietnam', 'West Bank and Gaza'],\n      dtype='object', name='Country_Region')"
     },
     "metadata": {},
     "execution_count": 53
    }
   ],
   "source": [
    "# The set of location names of the population data is much bigger than corona's. \n",
    "# So we first find out which country names are not in the population data\n",
    "\n",
    "countryNames_covid19_only = df_country_cases[df_country_cases.index.isin(pop2019.Location) == False]\n",
    "\n",
    "countryNames_covid19_only.index"
   ]
  },
  {
   "cell_type": "code",
   "execution_count": 54,
   "metadata": {},
   "outputs": [
    {
     "output_type": "execute_result",
     "data": {
      "text/plain": "21"
     },
     "metadata": {},
     "execution_count": 54
    }
   ],
   "source": [
    "len(countryNames_covid19_only)"
   ]
  },
  {
   "cell_type": "code",
   "execution_count": 55,
   "metadata": {},
   "outputs": [
    {
     "output_type": "execute_result",
     "data": {
      "text/plain": "        LocID            Location  VarID Variant  Time  MidPeriod  PopMale  \\\n236754    275  State of Palestine      2  Medium  2019     2019.5  2526.35   \n\n        PopFemale  PopTotal  PopDensity  \n236754   2455.072  4981.422     827.479  ",
      "text/html": "<div>\n<style scoped>\n    .dataframe tbody tr th:only-of-type {\n        vertical-align: middle;\n    }\n\n    .dataframe tbody tr th {\n        vertical-align: top;\n    }\n\n    .dataframe thead th {\n        text-align: right;\n    }\n</style>\n<table border=\"1\" class=\"dataframe\">\n  <thead>\n    <tr style=\"text-align: right;\">\n      <th></th>\n      <th>LocID</th>\n      <th>Location</th>\n      <th>VarID</th>\n      <th>Variant</th>\n      <th>Time</th>\n      <th>MidPeriod</th>\n      <th>PopMale</th>\n      <th>PopFemale</th>\n      <th>PopTotal</th>\n      <th>PopDensity</th>\n    </tr>\n  </thead>\n  <tbody>\n    <tr>\n      <th>236754</th>\n      <td>275</td>\n      <td>State of Palestine</td>\n      <td>2</td>\n      <td>Medium</td>\n      <td>2019</td>\n      <td>2019.5</td>\n      <td>2526.35</td>\n      <td>2455.072</td>\n      <td>4981.422</td>\n      <td>827.479</td>\n    </tr>\n  </tbody>\n</table>\n</div>"
     },
     "metadata": {},
     "execution_count": 55
    }
   ],
   "source": [
    "pop2019[pop2019.Location.str.contains('Pales')]"
   ]
  },
  {
   "cell_type": "code",
   "execution_count": 56,
   "metadata": {},
   "outputs": [],
   "source": [
    "pop2019.Location.replace({'Bolivia (Plurinational State of)':'Bolivia', 'Brunei Darussalam':'Brunei', 'Myanmar': 'Burma', 'Congo':'Congo (Brazzaville)', 'Democratic Republic of the Congo':'Congo (Kinshasa)', 'Côte d\\'Ivoire':'Cote d\\'Ivoire', 'Iran (Islamic Republic of)':'Iran', 'Republic of Korea':'Korea, South', 'Lao People\\'s Democratic Republic':'Laos', 'Republic of Moldova':'Moldova', 'Russian Federation':'Russia', 'Syrian Arab Republic':'Syria', 'China, Taiwan Province of China':'Taiwan*', 'United Republic of Tanzania':'Tanzania', 'United States of America':'US', 'Venezuela (Bolivarian Republic of)':'Venezuela', 'Viet Nam':'Vietnam', 'State of Palestine':'West Bank and Gaza'}, inplace=True)"
   ]
  },
  {
   "cell_type": "code",
   "execution_count": 57,
   "metadata": {},
   "outputs": [
    {
     "output_type": "execute_result",
     "data": {
      "text/plain": "                           Location     PopMale   PopFemale     PopTotal  \\\n69                      Afghanistan   19529.727   18512.030    38041.757   \n953                          Africa  653513.680  654550.496  1308064.176   \n1837                  African Group  652644.714  653675.858  1306320.572   \n1988                  African Union  652949.469  653953.561  1306903.030   \n2139  African Union: Central Africa   76945.498   77068.207   154013.705   \n\n      PopDensity  \n69        58.269  \n953       44.119  \n1837      44.464  \n1988      44.085  \n2139      29.192  ",
      "text/html": "<div>\n<style scoped>\n    .dataframe tbody tr th:only-of-type {\n        vertical-align: middle;\n    }\n\n    .dataframe tbody tr th {\n        vertical-align: top;\n    }\n\n    .dataframe thead th {\n        text-align: right;\n    }\n</style>\n<table border=\"1\" class=\"dataframe\">\n  <thead>\n    <tr style=\"text-align: right;\">\n      <th></th>\n      <th>Location</th>\n      <th>PopMale</th>\n      <th>PopFemale</th>\n      <th>PopTotal</th>\n      <th>PopDensity</th>\n    </tr>\n  </thead>\n  <tbody>\n    <tr>\n      <th>69</th>\n      <td>Afghanistan</td>\n      <td>19529.727</td>\n      <td>18512.030</td>\n      <td>38041.757</td>\n      <td>58.269</td>\n    </tr>\n    <tr>\n      <th>953</th>\n      <td>Africa</td>\n      <td>653513.680</td>\n      <td>654550.496</td>\n      <td>1308064.176</td>\n      <td>44.119</td>\n    </tr>\n    <tr>\n      <th>1837</th>\n      <td>African Group</td>\n      <td>652644.714</td>\n      <td>653675.858</td>\n      <td>1306320.572</td>\n      <td>44.464</td>\n    </tr>\n    <tr>\n      <th>1988</th>\n      <td>African Union</td>\n      <td>652949.469</td>\n      <td>653953.561</td>\n      <td>1306903.030</td>\n      <td>44.085</td>\n    </tr>\n    <tr>\n      <th>2139</th>\n      <td>African Union: Central Africa</td>\n      <td>76945.498</td>\n      <td>77068.207</td>\n      <td>154013.705</td>\n      <td>29.192</td>\n    </tr>\n  </tbody>\n</table>\n</div>"
     },
     "metadata": {},
     "execution_count": 57
    }
   ],
   "source": [
    "# drop unnecessary columns\n",
    "\n",
    "df_pop2019 = pop2019.drop(columns=['LocID','VarID','Variant','Time','MidPeriod'])\n",
    "df_pop2019.head()"
   ]
  },
  {
   "cell_type": "code",
   "execution_count": 58,
   "metadata": {},
   "outputs": [
    {
     "output_type": "execute_result",
     "data": {
      "text/plain": "   Confirmed  Deaths  Recovered  Active  fatality_rate     Location  \\\n0        367      11         18     338       0.029973  Afghanistan   \n1        377      21        116     240       0.055703      Albania   \n2       1423     173         90    1160       0.121574      Algeria   \n3        525      21         31     473       0.040000      Andorra   \n4         16       2          2      12       0.125000       Angola   \n\n     PopMale  PopFemale   PopTotal  PopDensity  \n0  19529.727  18512.030  38041.757      58.269  \n1   1466.785   1414.128   2880.913     105.143  \n2  21749.666  21303.388  43053.054      18.076  \n3        NaN        NaN     77.146     164.140  \n4  15744.779  16080.520  31825.299      25.528  ",
      "text/html": "<div>\n<style scoped>\n    .dataframe tbody tr th:only-of-type {\n        vertical-align: middle;\n    }\n\n    .dataframe tbody tr th {\n        vertical-align: top;\n    }\n\n    .dataframe thead th {\n        text-align: right;\n    }\n</style>\n<table border=\"1\" class=\"dataframe\">\n  <thead>\n    <tr style=\"text-align: right;\">\n      <th></th>\n      <th>Confirmed</th>\n      <th>Deaths</th>\n      <th>Recovered</th>\n      <th>Active</th>\n      <th>fatality_rate</th>\n      <th>Location</th>\n      <th>PopMale</th>\n      <th>PopFemale</th>\n      <th>PopTotal</th>\n      <th>PopDensity</th>\n    </tr>\n  </thead>\n  <tbody>\n    <tr>\n      <th>0</th>\n      <td>367</td>\n      <td>11</td>\n      <td>18</td>\n      <td>338</td>\n      <td>0.029973</td>\n      <td>Afghanistan</td>\n      <td>19529.727</td>\n      <td>18512.030</td>\n      <td>38041.757</td>\n      <td>58.269</td>\n    </tr>\n    <tr>\n      <th>1</th>\n      <td>377</td>\n      <td>21</td>\n      <td>116</td>\n      <td>240</td>\n      <td>0.055703</td>\n      <td>Albania</td>\n      <td>1466.785</td>\n      <td>1414.128</td>\n      <td>2880.913</td>\n      <td>105.143</td>\n    </tr>\n    <tr>\n      <th>2</th>\n      <td>1423</td>\n      <td>173</td>\n      <td>90</td>\n      <td>1160</td>\n      <td>0.121574</td>\n      <td>Algeria</td>\n      <td>21749.666</td>\n      <td>21303.388</td>\n      <td>43053.054</td>\n      <td>18.076</td>\n    </tr>\n    <tr>\n      <th>3</th>\n      <td>525</td>\n      <td>21</td>\n      <td>31</td>\n      <td>473</td>\n      <td>0.040000</td>\n      <td>Andorra</td>\n      <td>NaN</td>\n      <td>NaN</td>\n      <td>77.146</td>\n      <td>164.140</td>\n    </tr>\n    <tr>\n      <th>4</th>\n      <td>16</td>\n      <td>2</td>\n      <td>2</td>\n      <td>12</td>\n      <td>0.125000</td>\n      <td>Angola</td>\n      <td>15744.779</td>\n      <td>16080.520</td>\n      <td>31825.299</td>\n      <td>25.528</td>\n    </tr>\n  </tbody>\n</table>\n</div>"
     },
     "metadata": {},
     "execution_count": 58
    }
   ],
   "source": [
    "# now join the corona and population data frames\n",
    "\n",
    "df_covid19_pop2019 = pd.merge(df_country_cases, df_pop2019, how='inner', left_on='Country_Region', right_on='Location')\n",
    "df_covid19_pop2019.head()"
   ]
  },
  {
   "cell_type": "code",
   "execution_count": 59,
   "metadata": {},
   "outputs": [
    {
     "output_type": "execute_result",
     "data": {
      "text/plain": "(181, 10)"
     },
     "metadata": {},
     "execution_count": 59
    }
   ],
   "source": [
    "df_covid19_pop2019.shape"
   ]
  },
  {
   "cell_type": "code",
   "execution_count": 60,
   "metadata": {},
   "outputs": [
    {
     "output_type": "execute_result",
     "data": {
      "text/plain": "-0.06734892835356265"
     },
     "metadata": {},
     "execution_count": 60
    }
   ],
   "source": [
    "# correlation between fatality_rate and PopDensity??\n",
    "\n",
    "corr_fatality_popDensity = df_covid19_pop2019.fatality_rate.corr(df_covid19_pop2019.PopDensity)\n",
    "corr_fatality_popDensity"
   ]
  },
  {
   "cell_type": "code",
   "execution_count": 61,
   "metadata": {},
   "outputs": [
    {
     "output_type": "execute_result",
     "data": {
      "text/plain": "0.26522536845586414"
     },
     "metadata": {},
     "execution_count": 61
    }
   ],
   "source": [
    "corr_confirmed_popTotal = df_covid19_pop2019.Confirmed.corr(df_covid19_pop2019.PopTotal)\n",
    "corr_confirmed_popTotal"
   ]
  },
  {
   "cell_type": "code",
   "execution_count": 62,
   "metadata": {},
   "outputs": [
    {
     "output_type": "execute_result",
     "data": {
      "text/plain": "0.1664759467246551"
     },
     "metadata": {},
     "execution_count": 62
    }
   ],
   "source": [
    "corr_deaths_popTotal = df_covid19_pop2019.Deaths.corr(df_covid19_pop2019.PopTotal)\n",
    "corr_deaths_popTotal"
   ]
  },
  {
   "cell_type": "code",
   "execution_count": null,
   "metadata": {},
   "outputs": [],
   "source": []
  }
 ],
 "metadata": {
  "kernelspec": {
   "display_name": "Python 3",
   "language": "python",
   "name": "python3"
  },
  "language_info": {
   "codemirror_mode": {
    "name": "ipython",
    "version": 3
   },
   "file_extension": ".py",
   "mimetype": "text/x-python",
   "name": "python",
   "nbconvert_exporter": "python",
   "pygments_lexer": "ipython3",
   "version": "3.7.7-final"
  }
 },
 "nbformat": 4,
 "nbformat_minor": 4
}