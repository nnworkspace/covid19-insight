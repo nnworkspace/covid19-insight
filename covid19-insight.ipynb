{
 "cells": [
  {
   "cell_type": "markdown",
   "metadata": {},
   "source": [
    "# Covid-19 Data Wrangling in Python"
   ]
  },
  {
   "cell_type": "markdown",
   "metadata": {},
   "source": [
    "## Fatality statistics and ranks among countries"
   ]
  },
  {
   "cell_type": "code",
   "execution_count": 1,
   "metadata": {},
   "outputs": [
    {
     "output_type": "stream",
     "name": "stdout",
     "text": "pandas version:  1.0.3\nnumpy version:  1.18.1\n"
    }
   ],
   "source": [
    "import pandas as pd\n",
    "import numpy as np\n",
    "\n",
    "print('pandas version: ', pd.__version__)\n",
    "print('numpy version: ', np.version.version)"
   ]
  },
  {
   "cell_type": "code",
   "execution_count": 2,
   "metadata": {},
   "outputs": [
    {
     "output_type": "execute_result",
     "data": {
      "text/plain": "      FIPS     Admin2  Province_State Country_Region          Last_Update  \\\n0  45001.0  Abbeville  South Carolina             US  2020-04-03 22:46:37   \n1  22001.0     Acadia       Louisiana             US  2020-04-03 22:46:37   \n2  51001.0   Accomack        Virginia             US  2020-04-03 22:46:37   \n3  16001.0        Ada           Idaho             US  2020-04-03 22:46:37   \n4  19001.0      Adair            Iowa             US  2020-04-03 22:46:37   \n\n         Lat       Long_  Confirmed  Deaths  Recovered  Active  \\\n0  34.223334  -82.461707          6       0          0       0   \n1  30.295065  -92.414197         72       1          0       0   \n2  37.767072  -75.632346          8       0          0       0   \n3  43.452658 -116.241552        307       3          0       0   \n4  41.330756  -94.471059          1       0          0       0   \n\n                    Combined_Key  \n0  Abbeville, South Carolina, US  \n1          Acadia, Louisiana, US  \n2         Accomack, Virginia, US  \n3                 Ada, Idaho, US  \n4                Adair, Iowa, US  ",
      "text/html": "<div>\n<style scoped>\n    .dataframe tbody tr th:only-of-type {\n        vertical-align: middle;\n    }\n\n    .dataframe tbody tr th {\n        vertical-align: top;\n    }\n\n    .dataframe thead th {\n        text-align: right;\n    }\n</style>\n<table border=\"1\" class=\"dataframe\">\n  <thead>\n    <tr style=\"text-align: right;\">\n      <th></th>\n      <th>FIPS</th>\n      <th>Admin2</th>\n      <th>Province_State</th>\n      <th>Country_Region</th>\n      <th>Last_Update</th>\n      <th>Lat</th>\n      <th>Long_</th>\n      <th>Confirmed</th>\n      <th>Deaths</th>\n      <th>Recovered</th>\n      <th>Active</th>\n      <th>Combined_Key</th>\n    </tr>\n  </thead>\n  <tbody>\n    <tr>\n      <th>0</th>\n      <td>45001.0</td>\n      <td>Abbeville</td>\n      <td>South Carolina</td>\n      <td>US</td>\n      <td>2020-04-03 22:46:37</td>\n      <td>34.223334</td>\n      <td>-82.461707</td>\n      <td>6</td>\n      <td>0</td>\n      <td>0</td>\n      <td>0</td>\n      <td>Abbeville, South Carolina, US</td>\n    </tr>\n    <tr>\n      <th>1</th>\n      <td>22001.0</td>\n      <td>Acadia</td>\n      <td>Louisiana</td>\n      <td>US</td>\n      <td>2020-04-03 22:46:37</td>\n      <td>30.295065</td>\n      <td>-92.414197</td>\n      <td>72</td>\n      <td>1</td>\n      <td>0</td>\n      <td>0</td>\n      <td>Acadia, Louisiana, US</td>\n    </tr>\n    <tr>\n      <th>2</th>\n      <td>51001.0</td>\n      <td>Accomack</td>\n      <td>Virginia</td>\n      <td>US</td>\n      <td>2020-04-03 22:46:37</td>\n      <td>37.767072</td>\n      <td>-75.632346</td>\n      <td>8</td>\n      <td>0</td>\n      <td>0</td>\n      <td>0</td>\n      <td>Accomack, Virginia, US</td>\n    </tr>\n    <tr>\n      <th>3</th>\n      <td>16001.0</td>\n      <td>Ada</td>\n      <td>Idaho</td>\n      <td>US</td>\n      <td>2020-04-03 22:46:37</td>\n      <td>43.452658</td>\n      <td>-116.241552</td>\n      <td>307</td>\n      <td>3</td>\n      <td>0</td>\n      <td>0</td>\n      <td>Ada, Idaho, US</td>\n    </tr>\n    <tr>\n      <th>4</th>\n      <td>19001.0</td>\n      <td>Adair</td>\n      <td>Iowa</td>\n      <td>US</td>\n      <td>2020-04-03 22:46:37</td>\n      <td>41.330756</td>\n      <td>-94.471059</td>\n      <td>1</td>\n      <td>0</td>\n      <td>0</td>\n      <td>0</td>\n      <td>Adair, Iowa, US</td>\n    </tr>\n  </tbody>\n</table>\n</div>"
     },
     "metadata": {},
     "execution_count": 2
    }
   ],
   "source": [
    "covid_daily_df = pd.read_csv('data/2020-04-03.csv')\n",
    "\n",
    "covid_daily_df.head()"
   ]
  },
  {
   "cell_type": "code",
   "execution_count": 3,
   "metadata": {},
   "outputs": [
    {
     "output_type": "execute_result",
     "data": {
      "text/plain": "FIPS              float64\nAdmin2             object\nProvince_State     object\nCountry_Region     object\nLast_Update        object\nLat               float64\nLong_             float64\nConfirmed           int64\nDeaths              int64\nRecovered           int64\nActive              int64\nCombined_Key       object\ndtype: object"
     },
     "metadata": {},
     "execution_count": 3
    }
   ],
   "source": [
    "covid_daily_df.dtypes"
   ]
  },
  {
   "cell_type": "code",
   "execution_count": 4,
   "metadata": {},
   "outputs": [
    {
     "output_type": "execute_result",
     "data": {
      "text/plain": "(2625, 12)"
     },
     "metadata": {},
     "execution_count": 4
    }
   ],
   "source": [
    "covid_daily_df.shape"
   ]
  },
  {
   "cell_type": "code",
   "execution_count": 5,
   "metadata": {},
   "outputs": [
    {
     "output_type": "execute_result",
     "data": {
      "text/plain": "    FIPS     Admin2  Province_State Country_Region          Last_Update  \\\n0  45001  Abbeville  South Carolina             US  2020-04-03 22:46:37   \n1  22001     Acadia       Louisiana             US  2020-04-03 22:46:37   \n2  51001   Accomack        Virginia             US  2020-04-03 22:46:37   \n3  16001        Ada           Idaho             US  2020-04-03 22:46:37   \n4  19001      Adair            Iowa             US  2020-04-03 22:46:37   \n\n         Lat       Long_  Confirmed  Deaths  Recovered  Active  \\\n0  34.223334  -82.461707          6       0          0       0   \n1  30.295065  -92.414197         72       1          0       0   \n2  37.767072  -75.632346          8       0          0       0   \n3  43.452658 -116.241552        307       3          0       0   \n4  41.330756  -94.471059          1       0          0       0   \n\n                    Combined_Key  \n0  Abbeville, South Carolina, US  \n1          Acadia, Louisiana, US  \n2         Accomack, Virginia, US  \n3                 Ada, Idaho, US  \n4                Adair, Iowa, US  ",
      "text/html": "<div>\n<style scoped>\n    .dataframe tbody tr th:only-of-type {\n        vertical-align: middle;\n    }\n\n    .dataframe tbody tr th {\n        vertical-align: top;\n    }\n\n    .dataframe thead th {\n        text-align: right;\n    }\n</style>\n<table border=\"1\" class=\"dataframe\">\n  <thead>\n    <tr style=\"text-align: right;\">\n      <th></th>\n      <th>FIPS</th>\n      <th>Admin2</th>\n      <th>Province_State</th>\n      <th>Country_Region</th>\n      <th>Last_Update</th>\n      <th>Lat</th>\n      <th>Long_</th>\n      <th>Confirmed</th>\n      <th>Deaths</th>\n      <th>Recovered</th>\n      <th>Active</th>\n      <th>Combined_Key</th>\n    </tr>\n  </thead>\n  <tbody>\n    <tr>\n      <th>0</th>\n      <td>45001</td>\n      <td>Abbeville</td>\n      <td>South Carolina</td>\n      <td>US</td>\n      <td>2020-04-03 22:46:37</td>\n      <td>34.223334</td>\n      <td>-82.461707</td>\n      <td>6</td>\n      <td>0</td>\n      <td>0</td>\n      <td>0</td>\n      <td>Abbeville, South Carolina, US</td>\n    </tr>\n    <tr>\n      <th>1</th>\n      <td>22001</td>\n      <td>Acadia</td>\n      <td>Louisiana</td>\n      <td>US</td>\n      <td>2020-04-03 22:46:37</td>\n      <td>30.295065</td>\n      <td>-92.414197</td>\n      <td>72</td>\n      <td>1</td>\n      <td>0</td>\n      <td>0</td>\n      <td>Acadia, Louisiana, US</td>\n    </tr>\n    <tr>\n      <th>2</th>\n      <td>51001</td>\n      <td>Accomack</td>\n      <td>Virginia</td>\n      <td>US</td>\n      <td>2020-04-03 22:46:37</td>\n      <td>37.767072</td>\n      <td>-75.632346</td>\n      <td>8</td>\n      <td>0</td>\n      <td>0</td>\n      <td>0</td>\n      <td>Accomack, Virginia, US</td>\n    </tr>\n    <tr>\n      <th>3</th>\n      <td>16001</td>\n      <td>Ada</td>\n      <td>Idaho</td>\n      <td>US</td>\n      <td>2020-04-03 22:46:37</td>\n      <td>43.452658</td>\n      <td>-116.241552</td>\n      <td>307</td>\n      <td>3</td>\n      <td>0</td>\n      <td>0</td>\n      <td>Ada, Idaho, US</td>\n    </tr>\n    <tr>\n      <th>4</th>\n      <td>19001</td>\n      <td>Adair</td>\n      <td>Iowa</td>\n      <td>US</td>\n      <td>2020-04-03 22:46:37</td>\n      <td>41.330756</td>\n      <td>-94.471059</td>\n      <td>1</td>\n      <td>0</td>\n      <td>0</td>\n      <td>0</td>\n      <td>Adair, Iowa, US</td>\n    </tr>\n  </tbody>\n</table>\n</div>"
     },
     "metadata": {},
     "execution_count": 5
    }
   ],
   "source": [
    "# convert the FIPS County Code column to type of integer\n",
    "\n",
    "covid_daily_df.FIPS = covid_daily_df.FIPS.fillna(-1) # get rid of NA \n",
    "covid_daily_df.FIPS = covid_daily_df.FIPS.astype(int)\n",
    "\n",
    "covid_daily_df.head()"
   ]
  },
  {
   "cell_type": "code",
   "execution_count": 6,
   "metadata": {},
   "outputs": [
    {
     "output_type": "stream",
     "name": "stdout",
     "text": "['US' 'Canada' 'United Kingdom' 'China' 'Netherlands' 'Australia'\n 'Denmark' 'France' 'Afghanistan' 'Albania' 'Algeria' 'Andorra' 'Angola'\n 'Antigua and Barbuda' 'Argentina' 'Armenia' 'Austria' 'Azerbaijan'\n 'Bahamas' 'Bahrain' 'Bangladesh' 'Barbados' 'Belarus' 'Belgium' 'Belize'\n 'Benin' 'Bhutan' 'Bolivia' 'Bosnia and Herzegovina' 'Botswana' 'Brazil'\n 'Brunei' 'Bulgaria' 'Burkina Faso' 'Burma' 'Burundi' 'Cabo Verde'\n 'Cambodia' 'Cameroon' 'Central African Republic' 'Chad' 'Chile'\n 'Colombia' 'Congo (Brazzaville)' 'Congo (Kinshasa)' 'Costa Rica'\n \"Cote d'Ivoire\" 'Croatia' 'Cuba' 'Cyprus' 'Czechia' 'Diamond Princess'\n 'Djibouti' 'Dominica' 'Dominican Republic' 'Ecuador' 'Egypt'\n 'El Salvador' 'Equatorial Guinea' 'Eritrea' 'Estonia' 'Eswatini'\n 'Ethiopia' 'Fiji' 'Finland' 'Gabon' 'Gambia' 'Georgia' 'Germany' 'Ghana'\n 'Greece' 'Grenada' 'Guatemala' 'Guinea' 'Guinea-Bissau' 'Guyana' 'Haiti'\n 'Holy See' 'Honduras' 'Hungary' 'Iceland' 'India' 'Indonesia' 'Iran'\n 'Iraq' 'Ireland' 'Israel' 'Italy' 'Jamaica' 'Japan' 'Jordan' 'Kazakhstan'\n 'Kenya' 'Korea, South' 'Kosovo' 'Kuwait' 'Kyrgyzstan' 'Laos' 'Latvia'\n 'Lebanon' 'Liberia' 'Libya' 'Liechtenstein' 'Lithuania' 'Luxembourg'\n 'MS Zaandam' 'Madagascar' 'Malawi' 'Malaysia' 'Maldives' 'Mali' 'Malta'\n 'Mauritania' 'Mauritius' 'Mexico' 'Moldova' 'Monaco' 'Mongolia'\n 'Montenegro' 'Morocco' 'Mozambique' 'Namibia' 'Nepal' 'New Zealand'\n 'Nicaragua' 'Niger' 'Nigeria' 'North Macedonia' 'Norway' 'Oman'\n 'Pakistan' 'Panama' 'Papua New Guinea' 'Paraguay' 'Peru' 'Philippines'\n 'Poland' 'Portugal' 'Qatar' 'Romania' 'Russia' 'Rwanda'\n 'Saint Kitts and Nevis' 'Saint Lucia' 'Saint Vincent and the Grenadines'\n 'San Marino' 'Saudi Arabia' 'Senegal' 'Serbia' 'Seychelles'\n 'Sierra Leone' 'Singapore' 'Slovakia' 'Slovenia' 'Somalia' 'South Africa'\n 'Spain' 'Sri Lanka' 'Sudan' 'Suriname' 'Sweden' 'Switzerland' 'Syria'\n 'Taiwan*' 'Tanzania' 'Thailand' 'Timor-Leste' 'Togo'\n 'Trinidad and Tobago' 'Tunisia' 'Turkey' 'Uganda' 'Ukraine'\n 'United Arab Emirates' 'Uruguay' 'Uzbekistan' 'Venezuela' 'Vietnam'\n 'West Bank and Gaza' 'Zambia' 'Zimbabwe']\n"
    },
    {
     "output_type": "execute_result",
     "data": {
      "text/plain": "181"
     },
     "metadata": {},
     "execution_count": 6
    }
   ],
   "source": [
    "# show all unique Country_Region codes\n",
    "\n",
    "countries = covid_daily_df.Country_Region.unique()\n",
    "print(countries)\n",
    "len(countries)"
   ]
  },
  {
   "cell_type": "code",
   "execution_count": 7,
   "metadata": {},
   "outputs": [
    {
     "output_type": "execute_result",
     "data": {
      "text/plain": "                    Confirmed\nCountry_Region               \nAfghanistan               281\nAlbania                   304\nAlgeria                  1171\nAndorra                   439\nAngola                      8\n...                       ...\nVenezuela                 153\nVietnam                   237\nWest Bank and Gaza        194\nZambia                     39\nZimbabwe                    9\n\n[181 rows x 1 columns]",
      "text/html": "<div>\n<style scoped>\n    .dataframe tbody tr th:only-of-type {\n        vertical-align: middle;\n    }\n\n    .dataframe tbody tr th {\n        vertical-align: top;\n    }\n\n    .dataframe thead th {\n        text-align: right;\n    }\n</style>\n<table border=\"1\" class=\"dataframe\">\n  <thead>\n    <tr style=\"text-align: right;\">\n      <th></th>\n      <th>Confirmed</th>\n    </tr>\n    <tr>\n      <th>Country_Region</th>\n      <th></th>\n    </tr>\n  </thead>\n  <tbody>\n    <tr>\n      <th>Afghanistan</th>\n      <td>281</td>\n    </tr>\n    <tr>\n      <th>Albania</th>\n      <td>304</td>\n    </tr>\n    <tr>\n      <th>Algeria</th>\n      <td>1171</td>\n    </tr>\n    <tr>\n      <th>Andorra</th>\n      <td>439</td>\n    </tr>\n    <tr>\n      <th>Angola</th>\n      <td>8</td>\n    </tr>\n    <tr>\n      <th>...</th>\n      <td>...</td>\n    </tr>\n    <tr>\n      <th>Venezuela</th>\n      <td>153</td>\n    </tr>\n    <tr>\n      <th>Vietnam</th>\n      <td>237</td>\n    </tr>\n    <tr>\n      <th>West Bank and Gaza</th>\n      <td>194</td>\n    </tr>\n    <tr>\n      <th>Zambia</th>\n      <td>39</td>\n    </tr>\n    <tr>\n      <th>Zimbabwe</th>\n      <td>9</td>\n    </tr>\n  </tbody>\n</table>\n<p>181 rows × 1 columns</p>\n</div>"
     },
     "metadata": {},
     "execution_count": 7
    }
   ],
   "source": [
    "# statistics grouped by countries\n",
    "covid_daily_df.groupby('Country_Region').agg({'Confirmed': np.sum})"
   ]
  },
  {
   "cell_type": "code",
   "execution_count": 8,
   "metadata": {},
   "outputs": [
    {
     "output_type": "execute_result",
     "data": {
      "text/plain": "                    Confirmed  Deaths  Recovered  Active\nCountry_Region                                          \nAfghanistan               281       6         10     265\nAlbania                   304      17         89     198\nAlgeria                  1171     105         62    1004\nAndorra                   439      16         16     407\nAngola                      8       2          1       5\n...                       ...     ...        ...     ...\nVenezuela                 153       7         52      94\nVietnam                   237       0         85     152\nWest Bank and Gaza        194       1         21     172\nZambia                     39       1          2      36\nZimbabwe                    9       1          0       8\n\n[181 rows x 4 columns]",
      "text/html": "<div>\n<style scoped>\n    .dataframe tbody tr th:only-of-type {\n        vertical-align: middle;\n    }\n\n    .dataframe tbody tr th {\n        vertical-align: top;\n    }\n\n    .dataframe thead th {\n        text-align: right;\n    }\n</style>\n<table border=\"1\" class=\"dataframe\">\n  <thead>\n    <tr style=\"text-align: right;\">\n      <th></th>\n      <th>Confirmed</th>\n      <th>Deaths</th>\n      <th>Recovered</th>\n      <th>Active</th>\n    </tr>\n    <tr>\n      <th>Country_Region</th>\n      <th></th>\n      <th></th>\n      <th></th>\n      <th></th>\n    </tr>\n  </thead>\n  <tbody>\n    <tr>\n      <th>Afghanistan</th>\n      <td>281</td>\n      <td>6</td>\n      <td>10</td>\n      <td>265</td>\n    </tr>\n    <tr>\n      <th>Albania</th>\n      <td>304</td>\n      <td>17</td>\n      <td>89</td>\n      <td>198</td>\n    </tr>\n    <tr>\n      <th>Algeria</th>\n      <td>1171</td>\n      <td>105</td>\n      <td>62</td>\n      <td>1004</td>\n    </tr>\n    <tr>\n      <th>Andorra</th>\n      <td>439</td>\n      <td>16</td>\n      <td>16</td>\n      <td>407</td>\n    </tr>\n    <tr>\n      <th>Angola</th>\n      <td>8</td>\n      <td>2</td>\n      <td>1</td>\n      <td>5</td>\n    </tr>\n    <tr>\n      <th>...</th>\n      <td>...</td>\n      <td>...</td>\n      <td>...</td>\n      <td>...</td>\n    </tr>\n    <tr>\n      <th>Venezuela</th>\n      <td>153</td>\n      <td>7</td>\n      <td>52</td>\n      <td>94</td>\n    </tr>\n    <tr>\n      <th>Vietnam</th>\n      <td>237</td>\n      <td>0</td>\n      <td>85</td>\n      <td>152</td>\n    </tr>\n    <tr>\n      <th>West Bank and Gaza</th>\n      <td>194</td>\n      <td>1</td>\n      <td>21</td>\n      <td>172</td>\n    </tr>\n    <tr>\n      <th>Zambia</th>\n      <td>39</td>\n      <td>1</td>\n      <td>2</td>\n      <td>36</td>\n    </tr>\n    <tr>\n      <th>Zimbabwe</th>\n      <td>9</td>\n      <td>1</td>\n      <td>0</td>\n      <td>8</td>\n    </tr>\n  </tbody>\n</table>\n<p>181 rows × 4 columns</p>\n</div>"
     },
     "metadata": {},
     "execution_count": 8
    }
   ],
   "source": [
    "# construct a dataframe with five columns: \n",
    "# Country_Region (index), Confirmed, Deaths, Recovered, Active\n",
    "df_country_cases = covid_daily_df.groupby('Country_Region').agg({'Confirmed': np.sum, 'Deaths': np.sum, 'Recovered': np.sum, 'Active': np.sum})\n",
    "\n",
    "df_country_cases"
   ]
  },
  {
   "cell_type": "code",
   "execution_count": 9,
   "metadata": {},
   "outputs": [
    {
     "output_type": "execute_result",
     "data": {
      "text/plain": "0"
     },
     "metadata": {},
     "execution_count": 9
    }
   ],
   "source": [
    "# show counties that do not have any corona patients yet\n",
    "len(df_country_cases.loc[df_country_cases['Confirmed'] == 0])"
   ]
  },
  {
   "cell_type": "code",
   "execution_count": 10,
   "metadata": {},
   "outputs": [
    {
     "output_type": "execute_result",
     "data": {
      "text/plain": "                     Confirmed  Deaths  Recovered  Active  fatality_rate\nCountry_Region                                                          \nItaly                   119827   14681      19758   85388       0.122518\nSan Marino                 245      30         21     194       0.122449\nFrance                   65202    6520      14135   44547       0.099997\nBangladesh                  61       6         26      29       0.098361\nCongo (Kinshasa)           134      13          3     118       0.097015\nNetherlands              15821    1490        260   14071       0.094179\nSpain                   119199   11198      30513   77488       0.093944\nUnited Kingdom           38689    3611        208   34870       0.093334\nIndonesia                 1986     181        134    1671       0.091138\nAlgeria                   1171     105         62    1004       0.089667\nMali                        39       3          0      36       0.076923\nTogo                        40       3         17      20       0.075000\nBolivia                    132       9          1     122       0.068182\nBelgium                  16770    1143       2872   12755       0.068157\nHonduras                   222      15          3     204       0.067568\nEgypt                      985      66        216     703       0.067005\nIraq                       820      54        226     540       0.065854\nJamaica                     47       3          2      42       0.063830\nIran                     53183    3294      17935   31954       0.061937\nTrinidad and Tobago         98       6          1      91       0.061224\nMorocco                    791      48         57     686       0.060683\nSweden                    6131     358        205    5568       0.058392\nAlbania                    304      17         89     198       0.055921\nBurkina Faso               302      16         50     236       0.052980\nVenezuela                  153       7         52      94       0.045752",
      "text/html": "<div>\n<style scoped>\n    .dataframe tbody tr th:only-of-type {\n        vertical-align: middle;\n    }\n\n    .dataframe tbody tr th {\n        vertical-align: top;\n    }\n\n    .dataframe thead th {\n        text-align: right;\n    }\n</style>\n<table border=\"1\" class=\"dataframe\">\n  <thead>\n    <tr style=\"text-align: right;\">\n      <th></th>\n      <th>Confirmed</th>\n      <th>Deaths</th>\n      <th>Recovered</th>\n      <th>Active</th>\n      <th>fatality_rate</th>\n    </tr>\n    <tr>\n      <th>Country_Region</th>\n      <th></th>\n      <th></th>\n      <th></th>\n      <th></th>\n      <th></th>\n    </tr>\n  </thead>\n  <tbody>\n    <tr>\n      <th>Italy</th>\n      <td>119827</td>\n      <td>14681</td>\n      <td>19758</td>\n      <td>85388</td>\n      <td>0.122518</td>\n    </tr>\n    <tr>\n      <th>San Marino</th>\n      <td>245</td>\n      <td>30</td>\n      <td>21</td>\n      <td>194</td>\n      <td>0.122449</td>\n    </tr>\n    <tr>\n      <th>France</th>\n      <td>65202</td>\n      <td>6520</td>\n      <td>14135</td>\n      <td>44547</td>\n      <td>0.099997</td>\n    </tr>\n    <tr>\n      <th>Bangladesh</th>\n      <td>61</td>\n      <td>6</td>\n      <td>26</td>\n      <td>29</td>\n      <td>0.098361</td>\n    </tr>\n    <tr>\n      <th>Congo (Kinshasa)</th>\n      <td>134</td>\n      <td>13</td>\n      <td>3</td>\n      <td>118</td>\n      <td>0.097015</td>\n    </tr>\n    <tr>\n      <th>Netherlands</th>\n      <td>15821</td>\n      <td>1490</td>\n      <td>260</td>\n      <td>14071</td>\n      <td>0.094179</td>\n    </tr>\n    <tr>\n      <th>Spain</th>\n      <td>119199</td>\n      <td>11198</td>\n      <td>30513</td>\n      <td>77488</td>\n      <td>0.093944</td>\n    </tr>\n    <tr>\n      <th>United Kingdom</th>\n      <td>38689</td>\n      <td>3611</td>\n      <td>208</td>\n      <td>34870</td>\n      <td>0.093334</td>\n    </tr>\n    <tr>\n      <th>Indonesia</th>\n      <td>1986</td>\n      <td>181</td>\n      <td>134</td>\n      <td>1671</td>\n      <td>0.091138</td>\n    </tr>\n    <tr>\n      <th>Algeria</th>\n      <td>1171</td>\n      <td>105</td>\n      <td>62</td>\n      <td>1004</td>\n      <td>0.089667</td>\n    </tr>\n    <tr>\n      <th>Mali</th>\n      <td>39</td>\n      <td>3</td>\n      <td>0</td>\n      <td>36</td>\n      <td>0.076923</td>\n    </tr>\n    <tr>\n      <th>Togo</th>\n      <td>40</td>\n      <td>3</td>\n      <td>17</td>\n      <td>20</td>\n      <td>0.075000</td>\n    </tr>\n    <tr>\n      <th>Bolivia</th>\n      <td>132</td>\n      <td>9</td>\n      <td>1</td>\n      <td>122</td>\n      <td>0.068182</td>\n    </tr>\n    <tr>\n      <th>Belgium</th>\n      <td>16770</td>\n      <td>1143</td>\n      <td>2872</td>\n      <td>12755</td>\n      <td>0.068157</td>\n    </tr>\n    <tr>\n      <th>Honduras</th>\n      <td>222</td>\n      <td>15</td>\n      <td>3</td>\n      <td>204</td>\n      <td>0.067568</td>\n    </tr>\n    <tr>\n      <th>Egypt</th>\n      <td>985</td>\n      <td>66</td>\n      <td>216</td>\n      <td>703</td>\n      <td>0.067005</td>\n    </tr>\n    <tr>\n      <th>Iraq</th>\n      <td>820</td>\n      <td>54</td>\n      <td>226</td>\n      <td>540</td>\n      <td>0.065854</td>\n    </tr>\n    <tr>\n      <th>Jamaica</th>\n      <td>47</td>\n      <td>3</td>\n      <td>2</td>\n      <td>42</td>\n      <td>0.063830</td>\n    </tr>\n    <tr>\n      <th>Iran</th>\n      <td>53183</td>\n      <td>3294</td>\n      <td>17935</td>\n      <td>31954</td>\n      <td>0.061937</td>\n    </tr>\n    <tr>\n      <th>Trinidad and Tobago</th>\n      <td>98</td>\n      <td>6</td>\n      <td>1</td>\n      <td>91</td>\n      <td>0.061224</td>\n    </tr>\n    <tr>\n      <th>Morocco</th>\n      <td>791</td>\n      <td>48</td>\n      <td>57</td>\n      <td>686</td>\n      <td>0.060683</td>\n    </tr>\n    <tr>\n      <th>Sweden</th>\n      <td>6131</td>\n      <td>358</td>\n      <td>205</td>\n      <td>5568</td>\n      <td>0.058392</td>\n    </tr>\n    <tr>\n      <th>Albania</th>\n      <td>304</td>\n      <td>17</td>\n      <td>89</td>\n      <td>198</td>\n      <td>0.055921</td>\n    </tr>\n    <tr>\n      <th>Burkina Faso</th>\n      <td>302</td>\n      <td>16</td>\n      <td>50</td>\n      <td>236</td>\n      <td>0.052980</td>\n    </tr>\n    <tr>\n      <th>Venezuela</th>\n      <td>153</td>\n      <td>7</td>\n      <td>52</td>\n      <td>94</td>\n      <td>0.045752</td>\n    </tr>\n  </tbody>\n</table>\n</div>"
     },
     "metadata": {},
     "execution_count": 10
    }
   ],
   "source": [
    "# last operation tells that all countries in this csv file have confirmed cases. \n",
    "# now we can calculate the fatality rate\n",
    "\n",
    "df_country_cases['fatality_rate'] = df_country_cases.Deaths / df_country_cases.Confirmed\n",
    "\n",
    "fatalities = df_country_cases.query('(Deaths > 0) & (Confirmed > 30)') \\\n",
    "                            .sort_values(by = 'fatality_rate', ascending = False)\n",
    "\n",
    "fatalities[:25]"
   ]
  },
  {
   "cell_type": "code",
   "execution_count": 11,
   "metadata": {},
   "outputs": [
    {
     "output_type": "execute_result",
     "data": {
      "text/plain": "                      Confirmed  Deaths  Recovered  Active  fatality_rate\nCountry_Region                                                           \nNew Zealand                 868       1        103     764       0.001152\nLatvia                      493       1          1     491       0.002028\nSlovakia                    450       1         10     439       0.002222\nQatar                      1075       3         93     979       0.002791\nIceland                    1364       4        309    1051       0.002933\nOman                        252       1         57     194       0.003968\nSingapore                  1114       5        282     827       0.004488\nCote d'Ivoire               218       1         19     198       0.004587\nCosta Rica                  416       2         11     403       0.004808\nSenegal                     207       1         66     140       0.004831\nWest Bank and Gaza          194       1         21     172       0.005155\nAustralia                  5330      28        649    4653       0.005253\nIsrael                     7428      40        403    6985       0.005385\nChile                      3737      22        427    3288       0.005887\nBahrain                     672       4        382     286       0.005952\nSouth Africa               1505       9         95    1401       0.005980\nUnited Arab Emirates       1264       9        108    1147       0.007120\nCroatia                    1079       8         92     979       0.007414\nBrunei                      134       1         65      68       0.007463\nKyrgyzstan                  130       1          6     123       0.007692\nKosovo                      126       1         10     115       0.007937\nRussia                     4149      34        281    3834       0.008195\nUzbekistan                  227       2         25     200       0.008811\nArmenia                     736       7         43     686       0.009511\nThailand                   1978      19        612    1347       0.009606",
      "text/html": "<div>\n<style scoped>\n    .dataframe tbody tr th:only-of-type {\n        vertical-align: middle;\n    }\n\n    .dataframe tbody tr th {\n        vertical-align: top;\n    }\n\n    .dataframe thead th {\n        text-align: right;\n    }\n</style>\n<table border=\"1\" class=\"dataframe\">\n  <thead>\n    <tr style=\"text-align: right;\">\n      <th></th>\n      <th>Confirmed</th>\n      <th>Deaths</th>\n      <th>Recovered</th>\n      <th>Active</th>\n      <th>fatality_rate</th>\n    </tr>\n    <tr>\n      <th>Country_Region</th>\n      <th></th>\n      <th></th>\n      <th></th>\n      <th></th>\n      <th></th>\n    </tr>\n  </thead>\n  <tbody>\n    <tr>\n      <th>New Zealand</th>\n      <td>868</td>\n      <td>1</td>\n      <td>103</td>\n      <td>764</td>\n      <td>0.001152</td>\n    </tr>\n    <tr>\n      <th>Latvia</th>\n      <td>493</td>\n      <td>1</td>\n      <td>1</td>\n      <td>491</td>\n      <td>0.002028</td>\n    </tr>\n    <tr>\n      <th>Slovakia</th>\n      <td>450</td>\n      <td>1</td>\n      <td>10</td>\n      <td>439</td>\n      <td>0.002222</td>\n    </tr>\n    <tr>\n      <th>Qatar</th>\n      <td>1075</td>\n      <td>3</td>\n      <td>93</td>\n      <td>979</td>\n      <td>0.002791</td>\n    </tr>\n    <tr>\n      <th>Iceland</th>\n      <td>1364</td>\n      <td>4</td>\n      <td>309</td>\n      <td>1051</td>\n      <td>0.002933</td>\n    </tr>\n    <tr>\n      <th>Oman</th>\n      <td>252</td>\n      <td>1</td>\n      <td>57</td>\n      <td>194</td>\n      <td>0.003968</td>\n    </tr>\n    <tr>\n      <th>Singapore</th>\n      <td>1114</td>\n      <td>5</td>\n      <td>282</td>\n      <td>827</td>\n      <td>0.004488</td>\n    </tr>\n    <tr>\n      <th>Cote d'Ivoire</th>\n      <td>218</td>\n      <td>1</td>\n      <td>19</td>\n      <td>198</td>\n      <td>0.004587</td>\n    </tr>\n    <tr>\n      <th>Costa Rica</th>\n      <td>416</td>\n      <td>2</td>\n      <td>11</td>\n      <td>403</td>\n      <td>0.004808</td>\n    </tr>\n    <tr>\n      <th>Senegal</th>\n      <td>207</td>\n      <td>1</td>\n      <td>66</td>\n      <td>140</td>\n      <td>0.004831</td>\n    </tr>\n    <tr>\n      <th>West Bank and Gaza</th>\n      <td>194</td>\n      <td>1</td>\n      <td>21</td>\n      <td>172</td>\n      <td>0.005155</td>\n    </tr>\n    <tr>\n      <th>Australia</th>\n      <td>5330</td>\n      <td>28</td>\n      <td>649</td>\n      <td>4653</td>\n      <td>0.005253</td>\n    </tr>\n    <tr>\n      <th>Israel</th>\n      <td>7428</td>\n      <td>40</td>\n      <td>403</td>\n      <td>6985</td>\n      <td>0.005385</td>\n    </tr>\n    <tr>\n      <th>Chile</th>\n      <td>3737</td>\n      <td>22</td>\n      <td>427</td>\n      <td>3288</td>\n      <td>0.005887</td>\n    </tr>\n    <tr>\n      <th>Bahrain</th>\n      <td>672</td>\n      <td>4</td>\n      <td>382</td>\n      <td>286</td>\n      <td>0.005952</td>\n    </tr>\n    <tr>\n      <th>South Africa</th>\n      <td>1505</td>\n      <td>9</td>\n      <td>95</td>\n      <td>1401</td>\n      <td>0.005980</td>\n    </tr>\n    <tr>\n      <th>United Arab Emirates</th>\n      <td>1264</td>\n      <td>9</td>\n      <td>108</td>\n      <td>1147</td>\n      <td>0.007120</td>\n    </tr>\n    <tr>\n      <th>Croatia</th>\n      <td>1079</td>\n      <td>8</td>\n      <td>92</td>\n      <td>979</td>\n      <td>0.007414</td>\n    </tr>\n    <tr>\n      <th>Brunei</th>\n      <td>134</td>\n      <td>1</td>\n      <td>65</td>\n      <td>68</td>\n      <td>0.007463</td>\n    </tr>\n    <tr>\n      <th>Kyrgyzstan</th>\n      <td>130</td>\n      <td>1</td>\n      <td>6</td>\n      <td>123</td>\n      <td>0.007692</td>\n    </tr>\n    <tr>\n      <th>Kosovo</th>\n      <td>126</td>\n      <td>1</td>\n      <td>10</td>\n      <td>115</td>\n      <td>0.007937</td>\n    </tr>\n    <tr>\n      <th>Russia</th>\n      <td>4149</td>\n      <td>34</td>\n      <td>281</td>\n      <td>3834</td>\n      <td>0.008195</td>\n    </tr>\n    <tr>\n      <th>Uzbekistan</th>\n      <td>227</td>\n      <td>2</td>\n      <td>25</td>\n      <td>200</td>\n      <td>0.008811</td>\n    </tr>\n    <tr>\n      <th>Armenia</th>\n      <td>736</td>\n      <td>7</td>\n      <td>43</td>\n      <td>686</td>\n      <td>0.009511</td>\n    </tr>\n    <tr>\n      <th>Thailand</th>\n      <td>1978</td>\n      <td>19</td>\n      <td>612</td>\n      <td>1347</td>\n      <td>0.009606</td>\n    </tr>\n  </tbody>\n</table>\n</div>"
     },
     "metadata": {},
     "execution_count": 11
    }
   ],
   "source": [
    "fatalities_asc = df_country_cases.query('(Deaths > 0) & (Confirmed > 30)').sort_values(by = 'fatality_rate', ascending = True)\n",
    "\n",
    "fatalities_asc[:25]"
   ]
  },
  {
   "cell_type": "code",
   "execution_count": 12,
   "metadata": {},
   "outputs": [
    {
     "output_type": "execute_result",
     "data": {
      "text/plain": "58787"
     },
     "metadata": {},
     "execution_count": 12
    }
   ],
   "source": [
    "df_country_cases.Deaths.sum()"
   ]
  },
  {
   "cell_type": "code",
   "execution_count": 13,
   "metadata": {},
   "outputs": [
    {
     "output_type": "execute_result",
     "data": {
      "text/plain": "0.05372345872250788"
     },
     "metadata": {},
     "execution_count": 13
    }
   ],
   "source": [
    "# fatalitiy over all countries having more than 30 confirmed cases. \n",
    "\n",
    "fatality_partial = fatalities.Deaths.sum() / fatalities.Confirmed.sum()\n",
    "\n",
    "fatality_partial"
   ]
  },
  {
   "cell_type": "code",
   "execution_count": 14,
   "metadata": {},
   "outputs": [
    {
     "output_type": "execute_result",
     "data": {
      "text/plain": "0.05364183601495369"
     },
     "metadata": {},
     "execution_count": 14
    }
   ],
   "source": [
    "# fatalitiy over all countries, regardless of how many confirmed cases and deaths. \n",
    "\n",
    "fatality_overall = df_country_cases.Deaths.sum() / df_country_cases.Confirmed.sum()\n",
    "\n",
    "fatality_overall"
   ]
  },
  {
   "cell_type": "code",
   "execution_count": 15,
   "metadata": {},
   "outputs": [],
   "source": [
    "# define a function which returns the rank of the fatality\n",
    "\n",
    "def fatality_rank( country: str, asc: bool ) -> int:\n",
    "    indices = fatalities.sort_values(by = 'fatality_rate', ascending = asc).index\n",
    "    return indices.get_loc(country)\n",
    ""
   ]
  },
  {
   "cell_type": "code",
   "execution_count": 16,
   "metadata": {},
   "outputs": [],
   "source": [
    "ranks_asc = fatalities.sort_values(by = 'fatality_rate', ascending = True).index\n",
    "\n",
    "def get_fatality_and_rank(country: str) -> pd.Series:\n",
    "    fatality = fatalities.loc[country].fatality_rate\n",
    "\n",
    "    rank_asc = ranks_asc.get_loc(country) + 1\n",
    "    rank_dsc = len(ranks_asc) - rank_asc + 1\n",
    "\n",
    "    return pd.Series({'Country_Region': country, 'fatality_rate': fatality, 'rank_asc': rank_asc, 'rank_dsc': rank_dsc})\n",
    ""
   ]
  },
  {
   "cell_type": "code",
   "execution_count": 17,
   "metadata": {},
   "outputs": [
    {
     "output_type": "execute_result",
     "data": {
      "text/plain": "Country_Region       Italy\nfatality_rate     0.122518\nrank_asc               118\nrank_dsc                 1\ndtype: object"
     },
     "metadata": {},
     "execution_count": 17
    }
   ],
   "source": [
    "# test the function get_fatality_and_rank\n",
    "\n",
    "get_fatality_and_rank('Italy')"
   ]
  },
  {
   "cell_type": "code",
   "execution_count": 18,
   "metadata": {},
   "outputs": [
    {
     "output_type": "execute_result",
     "data": {
      "text/plain": "  Country_Region  fatality_rate rank_asc rank_dsc\n0        Austria       0.014578       42       77\n1          China       0.040310       86       33\n2        Germany       0.013987       39       80\n3          Italy       0.122518      118        1\n4    New Zealand       0.001152        1      118\n5     San Marino       0.122449      117        2\n6      Singapore       0.004488        7      112\n7             US       0.025716       65       54",
      "text/html": "<div>\n<style scoped>\n    .dataframe tbody tr th:only-of-type {\n        vertical-align: middle;\n    }\n\n    .dataframe tbody tr th {\n        vertical-align: top;\n    }\n\n    .dataframe thead th {\n        text-align: right;\n    }\n</style>\n<table border=\"1\" class=\"dataframe\">\n  <thead>\n    <tr style=\"text-align: right;\">\n      <th></th>\n      <th>Country_Region</th>\n      <th>fatality_rate</th>\n      <th>rank_asc</th>\n      <th>rank_dsc</th>\n    </tr>\n  </thead>\n  <tbody>\n    <tr>\n      <th>0</th>\n      <td>Austria</td>\n      <td>0.014578</td>\n      <td>42</td>\n      <td>77</td>\n    </tr>\n    <tr>\n      <th>1</th>\n      <td>China</td>\n      <td>0.040310</td>\n      <td>86</td>\n      <td>33</td>\n    </tr>\n    <tr>\n      <th>2</th>\n      <td>Germany</td>\n      <td>0.013987</td>\n      <td>39</td>\n      <td>80</td>\n    </tr>\n    <tr>\n      <th>3</th>\n      <td>Italy</td>\n      <td>0.122518</td>\n      <td>118</td>\n      <td>1</td>\n    </tr>\n    <tr>\n      <th>4</th>\n      <td>New Zealand</td>\n      <td>0.001152</td>\n      <td>1</td>\n      <td>118</td>\n    </tr>\n    <tr>\n      <th>5</th>\n      <td>San Marino</td>\n      <td>0.122449</td>\n      <td>117</td>\n      <td>2</td>\n    </tr>\n    <tr>\n      <th>6</th>\n      <td>Singapore</td>\n      <td>0.004488</td>\n      <td>7</td>\n      <td>112</td>\n    </tr>\n    <tr>\n      <th>7</th>\n      <td>US</td>\n      <td>0.025716</td>\n      <td>65</td>\n      <td>54</td>\n    </tr>\n  </tbody>\n</table>\n</div>"
     },
     "metadata": {},
     "execution_count": 18
    }
   ],
   "source": [
    "# how do these countries score in the fatality_rate?\n",
    "\n",
    "cols = ['Country_Region', 'fatality_rate', 'rank_asc', 'rank_dsc']\n",
    "countries = ['Austria', 'China', 'Germany', 'Italy', 'New Zealand', 'San Marino', 'Singapore', 'US']\n",
    "\n",
    "df_fatality_scores = pd.DataFrame(columns = cols)\n",
    "\n",
    "for country in countries:\n",
    "    df_fatality_scores = df_fatality_scores.append(get_fatality_and_rank(country), ignore_index=True)\n",
    "\n",
    "df_fatality_scores"
   ]
  },
  {
   "cell_type": "code",
   "execution_count": 19,
   "metadata": {},
   "outputs": [
    {
     "output_type": "execute_result",
     "data": {
      "text/plain": "count    118.000000\nmean       0.032025\nstd        0.028041\nmin        0.001152\n25%        0.011588\n50%        0.024637\n75%        0.041772\nmax        0.122518\nName: fatality_rate, dtype: float64"
     },
     "metadata": {},
     "execution_count": 19
    }
   ],
   "source": [
    "# basic statistics of the fatality\n",
    "fatalities.fatality_rate.describe()"
   ]
  },
  {
   "cell_type": "code",
   "execution_count": 20,
   "metadata": {},
   "outputs": [
    {
     "output_type": "stream",
     "name": "stdout",
     "text": "Fatality median is 0.024636958892348383 and mode is 0    0.012931\ndtype: float64\n"
    }
   ],
   "source": [
    "# median and mode of fatality rate\n",
    "\n",
    "fatality_median = fatalities.fatality_rate.median()\n",
    "fatality_mode = fatalities.fatality_rate.mode()\n",
    "\n",
    "print(\"Fatality median is {} and mode is {}\".format(fatality_median, fatality_mode))\n",
    ""
   ]
  },
  {
   "cell_type": "code",
   "execution_count": 21,
   "metadata": {},
   "outputs": [
    {
     "output_type": "execute_result",
     "data": {
      "text/plain": "Country_Region\nItaly                                 (0.11, 0.123]\nSan Marino                            (0.11, 0.123]\nFrance                               (0.0982, 0.11]\nBangladesh                           (0.0982, 0.11]\nCongo (Kinshasa)                   (0.0861, 0.0982]\n                                 ...               \nIceland             (3.000000000000008e-05, 0.0133]\nQatar               (3.000000000000008e-05, 0.0133]\nSlovakia            (3.000000000000008e-05, 0.0133]\nLatvia              (3.000000000000008e-05, 0.0133]\nNew Zealand         (3.000000000000008e-05, 0.0133]\nName: fatality_rate, Length: 118, dtype: category\nCategories (10, interval[float64]): [(3.000000000000008e-05, 0.0133] < (0.0133, 0.0254] < (0.0254, 0.0376] < (0.0376, 0.0497] ... (0.074, 0.0861] < (0.0861, 0.0982] < (0.0982, 0.11] < (0.11, 0.123]]"
     },
     "metadata": {},
     "execution_count": 21
    }
   ],
   "source": [
    "# the mode above does not make sense, let's fix it.\n",
    "\n",
    "# first, segment and sort fatality values into bins\n",
    "bins = pd.cut(fatalities['fatality_rate'], 10, include_lowest=True)\n",
    "\n",
    "bins\n",
    "\n",
    "# I'd like to see the content of each bin, what to do?"
   ]
  },
  {
   "cell_type": "markdown",
   "metadata": {},
   "source": [
    "## Joined with Population data from United Nations \n",
    "\n",
    "Poplation is in thousand persons.  "
   ]
  },
  {
   "cell_type": "code",
   "execution_count": 22,
   "metadata": {},
   "outputs": [
    {
     "output_type": "execute_result",
     "data": {
      "text/plain": "   LocID     Location  VarID Variant  Time  MidPeriod   PopMale  PopFemale  \\\n0      4  Afghanistan      2  Medium  1950     1950.5  4099.243   3652.874   \n1      4  Afghanistan      2  Medium  1951     1951.5  4134.756   3705.395   \n2      4  Afghanistan      2  Medium  1952     1952.5  4174.450   3761.546   \n3      4  Afghanistan      2  Medium  1953     1953.5  4218.336   3821.348   \n4      4  Afghanistan      2  Medium  1954     1954.5  4266.484   3884.832   \n\n   PopTotal  PopDensity  \n0  7752.117      11.874  \n1  7840.151      12.009  \n2  7935.996      12.156  \n3  8039.684      12.315  \n4  8151.316      12.486  ",
      "text/html": "<div>\n<style scoped>\n    .dataframe tbody tr th:only-of-type {\n        vertical-align: middle;\n    }\n\n    .dataframe tbody tr th {\n        vertical-align: top;\n    }\n\n    .dataframe thead th {\n        text-align: right;\n    }\n</style>\n<table border=\"1\" class=\"dataframe\">\n  <thead>\n    <tr style=\"text-align: right;\">\n      <th></th>\n      <th>LocID</th>\n      <th>Location</th>\n      <th>VarID</th>\n      <th>Variant</th>\n      <th>Time</th>\n      <th>MidPeriod</th>\n      <th>PopMale</th>\n      <th>PopFemale</th>\n      <th>PopTotal</th>\n      <th>PopDensity</th>\n    </tr>\n  </thead>\n  <tbody>\n    <tr>\n      <th>0</th>\n      <td>4</td>\n      <td>Afghanistan</td>\n      <td>2</td>\n      <td>Medium</td>\n      <td>1950</td>\n      <td>1950.5</td>\n      <td>4099.243</td>\n      <td>3652.874</td>\n      <td>7752.117</td>\n      <td>11.874</td>\n    </tr>\n    <tr>\n      <th>1</th>\n      <td>4</td>\n      <td>Afghanistan</td>\n      <td>2</td>\n      <td>Medium</td>\n      <td>1951</td>\n      <td>1951.5</td>\n      <td>4134.756</td>\n      <td>3705.395</td>\n      <td>7840.151</td>\n      <td>12.009</td>\n    </tr>\n    <tr>\n      <th>2</th>\n      <td>4</td>\n      <td>Afghanistan</td>\n      <td>2</td>\n      <td>Medium</td>\n      <td>1952</td>\n      <td>1952.5</td>\n      <td>4174.450</td>\n      <td>3761.546</td>\n      <td>7935.996</td>\n      <td>12.156</td>\n    </tr>\n    <tr>\n      <th>3</th>\n      <td>4</td>\n      <td>Afghanistan</td>\n      <td>2</td>\n      <td>Medium</td>\n      <td>1953</td>\n      <td>1953.5</td>\n      <td>4218.336</td>\n      <td>3821.348</td>\n      <td>8039.684</td>\n      <td>12.315</td>\n    </tr>\n    <tr>\n      <th>4</th>\n      <td>4</td>\n      <td>Afghanistan</td>\n      <td>2</td>\n      <td>Medium</td>\n      <td>1954</td>\n      <td>1954.5</td>\n      <td>4266.484</td>\n      <td>3884.832</td>\n      <td>8151.316</td>\n      <td>12.486</td>\n    </tr>\n  </tbody>\n</table>\n</div>"
     },
     "metadata": {},
     "execution_count": 22
    }
   ],
   "source": [
    "population = pd.read_csv('data/WPP2019_TotalPopulationBySex.csv')\n",
    "population.head()"
   ]
  },
  {
   "cell_type": "code",
   "execution_count": 23,
   "metadata": {},
   "outputs": [
    {
     "output_type": "execute_result",
     "data": {
      "text/plain": "      LocID                       Location  VarID Variant  Time  MidPeriod  \\\n69        4                    Afghanistan      2  Medium  2019     2019.5   \n953     903                         Africa      2  Medium  2019     2019.5   \n1837   1823                  African Group      2  Medium  2019     2019.5   \n1988   1560                  African Union      2  Medium  2019     2019.5   \n2139   2080  African Union: Central Africa      2  Medium  2019     2019.5   \n\n         PopMale   PopFemale     PopTotal  PopDensity  \n69     19529.727   18512.030    38041.757      58.269  \n953   653513.680  654550.496  1308064.176      44.119  \n1837  652644.714  653675.858  1306320.572      44.464  \n1988  652949.469  653953.561  1306903.030      44.085  \n2139   76945.498   77068.207   154013.705      29.192  ",
      "text/html": "<div>\n<style scoped>\n    .dataframe tbody tr th:only-of-type {\n        vertical-align: middle;\n    }\n\n    .dataframe tbody tr th {\n        vertical-align: top;\n    }\n\n    .dataframe thead th {\n        text-align: right;\n    }\n</style>\n<table border=\"1\" class=\"dataframe\">\n  <thead>\n    <tr style=\"text-align: right;\">\n      <th></th>\n      <th>LocID</th>\n      <th>Location</th>\n      <th>VarID</th>\n      <th>Variant</th>\n      <th>Time</th>\n      <th>MidPeriod</th>\n      <th>PopMale</th>\n      <th>PopFemale</th>\n      <th>PopTotal</th>\n      <th>PopDensity</th>\n    </tr>\n  </thead>\n  <tbody>\n    <tr>\n      <th>69</th>\n      <td>4</td>\n      <td>Afghanistan</td>\n      <td>2</td>\n      <td>Medium</td>\n      <td>2019</td>\n      <td>2019.5</td>\n      <td>19529.727</td>\n      <td>18512.030</td>\n      <td>38041.757</td>\n      <td>58.269</td>\n    </tr>\n    <tr>\n      <th>953</th>\n      <td>903</td>\n      <td>Africa</td>\n      <td>2</td>\n      <td>Medium</td>\n      <td>2019</td>\n      <td>2019.5</td>\n      <td>653513.680</td>\n      <td>654550.496</td>\n      <td>1308064.176</td>\n      <td>44.119</td>\n    </tr>\n    <tr>\n      <th>1837</th>\n      <td>1823</td>\n      <td>African Group</td>\n      <td>2</td>\n      <td>Medium</td>\n      <td>2019</td>\n      <td>2019.5</td>\n      <td>652644.714</td>\n      <td>653675.858</td>\n      <td>1306320.572</td>\n      <td>44.464</td>\n    </tr>\n    <tr>\n      <th>1988</th>\n      <td>1560</td>\n      <td>African Union</td>\n      <td>2</td>\n      <td>Medium</td>\n      <td>2019</td>\n      <td>2019.5</td>\n      <td>652949.469</td>\n      <td>653953.561</td>\n      <td>1306903.030</td>\n      <td>44.085</td>\n    </tr>\n    <tr>\n      <th>2139</th>\n      <td>2080</td>\n      <td>African Union: Central Africa</td>\n      <td>2</td>\n      <td>Medium</td>\n      <td>2019</td>\n      <td>2019.5</td>\n      <td>76945.498</td>\n      <td>77068.207</td>\n      <td>154013.705</td>\n      <td>29.192</td>\n    </tr>\n  </tbody>\n</table>\n</div>"
     },
     "metadata": {},
     "execution_count": 23
    }
   ],
   "source": [
    "# we only need the data of year 2020\n",
    "pop2019 = population[population.Time == 2019]\n",
    "pop2019.head()"
   ]
  },
  {
   "cell_type": "code",
   "execution_count": 24,
   "metadata": {},
   "outputs": [
    {
     "output_type": "execute_result",
     "data": {
      "text/plain": "477"
     },
     "metadata": {},
     "execution_count": 24
    }
   ],
   "source": [
    "len(pop2019)"
   ]
  },
  {
   "cell_type": "markdown",
   "metadata": {},
   "source": [
    "### Now we need to unify the lation names of the population data and the corona data "
   ]
  },
  {
   "cell_type": "code",
   "execution_count": 25,
   "metadata": {},
   "outputs": [
    {
     "output_type": "execute_result",
     "data": {
      "text/plain": "Index(['Bolivia', 'Brunei', 'Burma', 'Congo (Brazzaville)', 'Congo (Kinshasa)',\n       'Cote d'Ivoire', 'Diamond Princess', 'Iran', 'Korea, South', 'Kosovo',\n       'Laos', 'MS Zaandam', 'Moldova', 'Russia', 'Syria', 'Taiwan*',\n       'Tanzania', 'US', 'Venezuela', 'Vietnam', 'West Bank and Gaza'],\n      dtype='object', name='Country_Region')"
     },
     "metadata": {},
     "execution_count": 25
    }
   ],
   "source": [
    "# The set of location names of the population data is much bigger than corona's. \n",
    "# So we first find out which country names are not in the population data\n",
    "\n",
    "countryNames_covid19_only = df_country_cases[df_country_cases.index.isin(pop2019.Location) == False]\n",
    "\n",
    "countryNames_covid19_only.index"
   ]
  },
  {
   "cell_type": "code",
   "execution_count": 26,
   "metadata": {},
   "outputs": [
    {
     "output_type": "execute_result",
     "data": {
      "text/plain": "21"
     },
     "metadata": {},
     "execution_count": 26
    }
   ],
   "source": [
    "len(countryNames_covid19_only)"
   ]
  },
  {
   "cell_type": "code",
   "execution_count": 27,
   "metadata": {},
   "outputs": [
    {
     "output_type": "execute_result",
     "data": {
      "text/plain": "        LocID            Location  VarID Variant  Time  MidPeriod  PopMale  \\\n236754    275  State of Palestine      2  Medium  2019     2019.5  2526.35   \n\n        PopFemale  PopTotal  PopDensity  \n236754   2455.072  4981.422     827.479  ",
      "text/html": "<div>\n<style scoped>\n    .dataframe tbody tr th:only-of-type {\n        vertical-align: middle;\n    }\n\n    .dataframe tbody tr th {\n        vertical-align: top;\n    }\n\n    .dataframe thead th {\n        text-align: right;\n    }\n</style>\n<table border=\"1\" class=\"dataframe\">\n  <thead>\n    <tr style=\"text-align: right;\">\n      <th></th>\n      <th>LocID</th>\n      <th>Location</th>\n      <th>VarID</th>\n      <th>Variant</th>\n      <th>Time</th>\n      <th>MidPeriod</th>\n      <th>PopMale</th>\n      <th>PopFemale</th>\n      <th>PopTotal</th>\n      <th>PopDensity</th>\n    </tr>\n  </thead>\n  <tbody>\n    <tr>\n      <th>236754</th>\n      <td>275</td>\n      <td>State of Palestine</td>\n      <td>2</td>\n      <td>Medium</td>\n      <td>2019</td>\n      <td>2019.5</td>\n      <td>2526.35</td>\n      <td>2455.072</td>\n      <td>4981.422</td>\n      <td>827.479</td>\n    </tr>\n  </tbody>\n</table>\n</div>"
     },
     "metadata": {},
     "execution_count": 27
    }
   ],
   "source": [
    "pop2019[pop2019.Location.str.contains('Pales')]"
   ]
  },
  {
   "cell_type": "code",
   "execution_count": 28,
   "metadata": {},
   "outputs": [],
   "source": [
    "pop2019.Location.replace(\n",
    "    {'Bolivia (Plurinational State of)':'Bolivia', \n",
    "    'Brunei Darussalam':'Brunei', \n",
    "    'Myanmar': 'Burma', \n",
    "    'Congo':'Congo (Brazzaville)', \n",
    "    'Democratic Republic of the Congo':'Congo (Kinshasa)', \n",
    "    'Côte d\\'Ivoire':'Cote d\\'Ivoire', \n",
    "    'Iran (Islamic Republic of)':'Iran', \n",
    "    'Republic of Korea':'Korea, South', \n",
    "    'Lao People\\'s Democratic Republic':'Laos', \n",
    "    'Republic of Moldova':'Moldova', \n",
    "    'Russian Federation':'Russia', \n",
    "    'Syrian Arab Republic':'Syria', \n",
    "    'China, Taiwan Province of China':'Taiwan*', \n",
    "    'United Republic of Tanzania':'Tanzania', \n",
    "    'United States of America':'US', \n",
    "    'Venezuela (Bolivarian Republic of)':'Venezuela', \n",
    "    'Viet Nam':'Vietnam', \n",
    "    'State of Palestine':'West Bank and Gaza'}, inplace=True)"
   ]
  },
  {
   "cell_type": "code",
   "execution_count": 29,
   "metadata": {},
   "outputs": [
    {
     "output_type": "execute_result",
     "data": {
      "text/plain": "                           Location     PopMale   PopFemale     PopTotal  \\\n69                      Afghanistan   19529.727   18512.030    38041.757   \n953                          Africa  653513.680  654550.496  1308064.176   \n1837                  African Group  652644.714  653675.858  1306320.572   \n1988                  African Union  652949.469  653953.561  1306903.030   \n2139  African Union: Central Africa   76945.498   77068.207   154013.705   \n\n      PopDensity  \n69        58.269  \n953       44.119  \n1837      44.464  \n1988      44.085  \n2139      29.192  ",
      "text/html": "<div>\n<style scoped>\n    .dataframe tbody tr th:only-of-type {\n        vertical-align: middle;\n    }\n\n    .dataframe tbody tr th {\n        vertical-align: top;\n    }\n\n    .dataframe thead th {\n        text-align: right;\n    }\n</style>\n<table border=\"1\" class=\"dataframe\">\n  <thead>\n    <tr style=\"text-align: right;\">\n      <th></th>\n      <th>Location</th>\n      <th>PopMale</th>\n      <th>PopFemale</th>\n      <th>PopTotal</th>\n      <th>PopDensity</th>\n    </tr>\n  </thead>\n  <tbody>\n    <tr>\n      <th>69</th>\n      <td>Afghanistan</td>\n      <td>19529.727</td>\n      <td>18512.030</td>\n      <td>38041.757</td>\n      <td>58.269</td>\n    </tr>\n    <tr>\n      <th>953</th>\n      <td>Africa</td>\n      <td>653513.680</td>\n      <td>654550.496</td>\n      <td>1308064.176</td>\n      <td>44.119</td>\n    </tr>\n    <tr>\n      <th>1837</th>\n      <td>African Group</td>\n      <td>652644.714</td>\n      <td>653675.858</td>\n      <td>1306320.572</td>\n      <td>44.464</td>\n    </tr>\n    <tr>\n      <th>1988</th>\n      <td>African Union</td>\n      <td>652949.469</td>\n      <td>653953.561</td>\n      <td>1306903.030</td>\n      <td>44.085</td>\n    </tr>\n    <tr>\n      <th>2139</th>\n      <td>African Union: Central Africa</td>\n      <td>76945.498</td>\n      <td>77068.207</td>\n      <td>154013.705</td>\n      <td>29.192</td>\n    </tr>\n  </tbody>\n</table>\n</div>"
     },
     "metadata": {},
     "execution_count": 29
    }
   ],
   "source": [
    "# drop unnecessary columns\n",
    "\n",
    "df_pop2019 = pop2019.drop(columns=['LocID','VarID','Variant','Time','MidPeriod'])\n",
    "df_pop2019.head()"
   ]
  },
  {
   "cell_type": "code",
   "execution_count": 30,
   "metadata": {},
   "outputs": [
    {
     "output_type": "execute_result",
     "data": {
      "text/plain": "   Confirmed  Deaths  Recovered  Active  fatality_rate     Location  \\\n0        281       6         10     265       0.021352  Afghanistan   \n1        304      17         89     198       0.055921      Albania   \n2       1171     105         62    1004       0.089667      Algeria   \n3        439      16         16     407       0.036446      Andorra   \n4          8       2          1       5       0.250000       Angola   \n\n     PopMale  PopFemale   PopTotal  PopDensity  \n0  19529.727  18512.030  38041.757      58.269  \n1   1466.785   1414.128   2880.913     105.143  \n2  21749.666  21303.388  43053.054      18.076  \n3        NaN        NaN     77.146     164.140  \n4  15744.779  16080.520  31825.299      25.528  ",
      "text/html": "<div>\n<style scoped>\n    .dataframe tbody tr th:only-of-type {\n        vertical-align: middle;\n    }\n\n    .dataframe tbody tr th {\n        vertical-align: top;\n    }\n\n    .dataframe thead th {\n        text-align: right;\n    }\n</style>\n<table border=\"1\" class=\"dataframe\">\n  <thead>\n    <tr style=\"text-align: right;\">\n      <th></th>\n      <th>Confirmed</th>\n      <th>Deaths</th>\n      <th>Recovered</th>\n      <th>Active</th>\n      <th>fatality_rate</th>\n      <th>Location</th>\n      <th>PopMale</th>\n      <th>PopFemale</th>\n      <th>PopTotal</th>\n      <th>PopDensity</th>\n    </tr>\n  </thead>\n  <tbody>\n    <tr>\n      <th>0</th>\n      <td>281</td>\n      <td>6</td>\n      <td>10</td>\n      <td>265</td>\n      <td>0.021352</td>\n      <td>Afghanistan</td>\n      <td>19529.727</td>\n      <td>18512.030</td>\n      <td>38041.757</td>\n      <td>58.269</td>\n    </tr>\n    <tr>\n      <th>1</th>\n      <td>304</td>\n      <td>17</td>\n      <td>89</td>\n      <td>198</td>\n      <td>0.055921</td>\n      <td>Albania</td>\n      <td>1466.785</td>\n      <td>1414.128</td>\n      <td>2880.913</td>\n      <td>105.143</td>\n    </tr>\n    <tr>\n      <th>2</th>\n      <td>1171</td>\n      <td>105</td>\n      <td>62</td>\n      <td>1004</td>\n      <td>0.089667</td>\n      <td>Algeria</td>\n      <td>21749.666</td>\n      <td>21303.388</td>\n      <td>43053.054</td>\n      <td>18.076</td>\n    </tr>\n    <tr>\n      <th>3</th>\n      <td>439</td>\n      <td>16</td>\n      <td>16</td>\n      <td>407</td>\n      <td>0.036446</td>\n      <td>Andorra</td>\n      <td>NaN</td>\n      <td>NaN</td>\n      <td>77.146</td>\n      <td>164.140</td>\n    </tr>\n    <tr>\n      <th>4</th>\n      <td>8</td>\n      <td>2</td>\n      <td>1</td>\n      <td>5</td>\n      <td>0.250000</td>\n      <td>Angola</td>\n      <td>15744.779</td>\n      <td>16080.520</td>\n      <td>31825.299</td>\n      <td>25.528</td>\n    </tr>\n  </tbody>\n</table>\n</div>"
     },
     "metadata": {},
     "execution_count": 30
    }
   ],
   "source": [
    "# now join the corona and population data frames\n",
    "\n",
    "df_covid19_pop2019 = pd.merge(df_country_cases, df_pop2019, how='inner', left_on='Country_Region', right_on='Location')\n",
    "df_covid19_pop2019.head()"
   ]
  },
  {
   "cell_type": "code",
   "execution_count": 31,
   "metadata": {},
   "outputs": [
    {
     "output_type": "execute_result",
     "data": {
      "text/plain": "(178, 10)"
     },
     "metadata": {},
     "execution_count": 31
    }
   ],
   "source": [
    "df_covid19_pop2019.shape"
   ]
  },
  {
   "cell_type": "code",
   "execution_count": 32,
   "metadata": {},
   "outputs": [
    {
     "output_type": "execute_result",
     "data": {
      "text/plain": "-0.05427594982763866"
     },
     "metadata": {},
     "execution_count": 32
    }
   ],
   "source": [
    "# correlation between fatality_rate and PopDensity??\n",
    "\n",
    "corr_fatality_popDensity = df_covid19_pop2019.fatality_rate.corr(df_covid19_pop2019.PopDensity)\n",
    "corr_fatality_popDensity"
   ]
  },
  {
   "cell_type": "code",
   "execution_count": 33,
   "metadata": {},
   "outputs": [
    {
     "output_type": "execute_result",
     "data": {
      "text/plain": "0.28965686170935384"
     },
     "metadata": {},
     "execution_count": 33
    }
   ],
   "source": [
    "corr_confirmed_popTotal = df_covid19_pop2019.Confirmed.corr(df_covid19_pop2019.PopTotal)\n",
    "corr_confirmed_popTotal"
   ]
  },
  {
   "cell_type": "code",
   "execution_count": 34,
   "metadata": {},
   "outputs": [
    {
     "output_type": "execute_result",
     "data": {
      "text/plain": "0.17186799844692763"
     },
     "metadata": {},
     "execution_count": 34
    }
   ],
   "source": [
    "corr_deaths_popTotal = df_covid19_pop2019.Deaths.corr(df_covid19_pop2019.PopTotal)\n",
    "corr_deaths_popTotal"
   ]
  },
  {
   "cell_type": "code",
   "execution_count": null,
   "metadata": {},
   "outputs": [],
   "source": []
  }
 ],
 "metadata": {
  "kernelspec": {
   "display_name": "Python 3",
   "language": "python",
   "name": "python3"
  },
  "language_info": {
   "codemirror_mode": {
    "name": "ipython",
    "version": 3
   },
   "file_extension": ".py",
   "mimetype": "text/x-python",
   "name": "python",
   "nbconvert_exporter": "python",
   "pygments_lexer": "ipython3",
   "version": "3.7.7-final"
  }
 },
 "nbformat": 4,
 "nbformat_minor": 4
}