{
 "cells": [
  {
   "cell_type": "markdown",
   "metadata": {},
   "source": [
    "# Covid-19 Data Wrangling in Python"
   ]
  },
  {
   "cell_type": "code",
   "execution_count": 1,
   "metadata": {},
   "outputs": [
    {
     "output_type": "stream",
     "name": "stdout",
     "text": "pandas version:  1.0.1\nnumpy version:  1.18.1\n"
    }
   ],
   "source": [
    "import pandas as pd\n",
    "import numpy as np\n",
    "\n",
    "print('pandas version: ', pd.__version__)\n",
    "print('numpy version: ', np.version.version)"
   ]
  },
  {
   "cell_type": "code",
   "execution_count": 2,
   "metadata": {},
   "outputs": [
    {
     "output_type": "execute_result",
     "data": {
      "text/plain": "      FIPS     Admin2  Province_State Country_Region          Last_Update  \\\n0  45001.0  Abbeville  South Carolina             US  2020-03-28 23:05:37   \n1  22001.0     Acadia       Louisiana             US  2020-03-28 23:05:37   \n2  51001.0   Accomack        Virginia             US  2020-03-28 23:05:37   \n3  16001.0        Ada           Idaho             US  2020-03-28 23:05:37   \n4  19001.0      Adair            Iowa             US  2020-03-28 23:05:37   \n\n         Lat       Long_  Confirmed  Deaths  Recovered  Active  \\\n0  34.223334  -82.461707          3       0          0       0   \n1  30.295065  -92.414197          9       1          0       0   \n2  37.767072  -75.632346          2       0          0       0   \n3  43.452658 -116.241552         76       0          0       0   \n4  41.330756  -94.471059          1       0          0       0   \n\n                    Combined_Key  \n0  Abbeville, South Carolina, US  \n1          Acadia, Louisiana, US  \n2         Accomack, Virginia, US  \n3                 Ada, Idaho, US  \n4                Adair, Iowa, US  ",
      "text/html": "<div>\n<style scoped>\n    .dataframe tbody tr th:only-of-type {\n        vertical-align: middle;\n    }\n\n    .dataframe tbody tr th {\n        vertical-align: top;\n    }\n\n    .dataframe thead th {\n        text-align: right;\n    }\n</style>\n<table border=\"1\" class=\"dataframe\">\n  <thead>\n    <tr style=\"text-align: right;\">\n      <th></th>\n      <th>FIPS</th>\n      <th>Admin2</th>\n      <th>Province_State</th>\n      <th>Country_Region</th>\n      <th>Last_Update</th>\n      <th>Lat</th>\n      <th>Long_</th>\n      <th>Confirmed</th>\n      <th>Deaths</th>\n      <th>Recovered</th>\n      <th>Active</th>\n      <th>Combined_Key</th>\n    </tr>\n  </thead>\n  <tbody>\n    <tr>\n      <th>0</th>\n      <td>45001.0</td>\n      <td>Abbeville</td>\n      <td>South Carolina</td>\n      <td>US</td>\n      <td>2020-03-28 23:05:37</td>\n      <td>34.223334</td>\n      <td>-82.461707</td>\n      <td>3</td>\n      <td>0</td>\n      <td>0</td>\n      <td>0</td>\n      <td>Abbeville, South Carolina, US</td>\n    </tr>\n    <tr>\n      <th>1</th>\n      <td>22001.0</td>\n      <td>Acadia</td>\n      <td>Louisiana</td>\n      <td>US</td>\n      <td>2020-03-28 23:05:37</td>\n      <td>30.295065</td>\n      <td>-92.414197</td>\n      <td>9</td>\n      <td>1</td>\n      <td>0</td>\n      <td>0</td>\n      <td>Acadia, Louisiana, US</td>\n    </tr>\n    <tr>\n      <th>2</th>\n      <td>51001.0</td>\n      <td>Accomack</td>\n      <td>Virginia</td>\n      <td>US</td>\n      <td>2020-03-28 23:05:37</td>\n      <td>37.767072</td>\n      <td>-75.632346</td>\n      <td>2</td>\n      <td>0</td>\n      <td>0</td>\n      <td>0</td>\n      <td>Accomack, Virginia, US</td>\n    </tr>\n    <tr>\n      <th>3</th>\n      <td>16001.0</td>\n      <td>Ada</td>\n      <td>Idaho</td>\n      <td>US</td>\n      <td>2020-03-28 23:05:37</td>\n      <td>43.452658</td>\n      <td>-116.241552</td>\n      <td>76</td>\n      <td>0</td>\n      <td>0</td>\n      <td>0</td>\n      <td>Ada, Idaho, US</td>\n    </tr>\n    <tr>\n      <th>4</th>\n      <td>19001.0</td>\n      <td>Adair</td>\n      <td>Iowa</td>\n      <td>US</td>\n      <td>2020-03-28 23:05:37</td>\n      <td>41.330756</td>\n      <td>-94.471059</td>\n      <td>1</td>\n      <td>0</td>\n      <td>0</td>\n      <td>0</td>\n      <td>Adair, Iowa, US</td>\n    </tr>\n  </tbody>\n</table>\n</div>"
     },
     "metadata": {},
     "execution_count": 2
    }
   ],
   "source": [
    "covid_daily_df = pd.read_csv('data/2020-03-28.csv')\n",
    "\n",
    "covid_daily_df.head()"
   ]
  },
  {
   "cell_type": "code",
   "execution_count": 3,
   "metadata": {},
   "outputs": [
    {
     "output_type": "execute_result",
     "data": {
      "text/plain": "FIPS              float64\nAdmin2             object\nProvince_State     object\nCountry_Region     object\nLast_Update        object\nLat               float64\nLong_             float64\nConfirmed           int64\nDeaths              int64\nRecovered           int64\nActive              int64\nCombined_Key       object\ndtype: object"
     },
     "metadata": {},
     "execution_count": 3
    }
   ],
   "source": [
    "covid_daily_df.dtypes"
   ]
  },
  {
   "cell_type": "code",
   "execution_count": 4,
   "metadata": {},
   "outputs": [
    {
     "output_type": "execute_result",
     "data": {
      "text/plain": "(3430, 12)"
     },
     "metadata": {},
     "execution_count": 4
    }
   ],
   "source": [
    "covid_daily_df.shape"
   ]
  },
  {
   "cell_type": "code",
   "execution_count": 5,
   "metadata": {},
   "outputs": [
    {
     "output_type": "execute_result",
     "data": {
      "text/plain": "    FIPS     Admin2  Province_State Country_Region          Last_Update  \\\n0  45001  Abbeville  South Carolina             US  2020-03-28 23:05:37   \n1  22001     Acadia       Louisiana             US  2020-03-28 23:05:37   \n2  51001   Accomack        Virginia             US  2020-03-28 23:05:37   \n3  16001        Ada           Idaho             US  2020-03-28 23:05:37   \n4  19001      Adair            Iowa             US  2020-03-28 23:05:37   \n\n         Lat       Long_  Confirmed  Deaths  Recovered  Active  \\\n0  34.223334  -82.461707          3       0          0       0   \n1  30.295065  -92.414197          9       1          0       0   \n2  37.767072  -75.632346          2       0          0       0   \n3  43.452658 -116.241552         76       0          0       0   \n4  41.330756  -94.471059          1       0          0       0   \n\n                    Combined_Key  \n0  Abbeville, South Carolina, US  \n1          Acadia, Louisiana, US  \n2         Accomack, Virginia, US  \n3                 Ada, Idaho, US  \n4                Adair, Iowa, US  ",
      "text/html": "<div>\n<style scoped>\n    .dataframe tbody tr th:only-of-type {\n        vertical-align: middle;\n    }\n\n    .dataframe tbody tr th {\n        vertical-align: top;\n    }\n\n    .dataframe thead th {\n        text-align: right;\n    }\n</style>\n<table border=\"1\" class=\"dataframe\">\n  <thead>\n    <tr style=\"text-align: right;\">\n      <th></th>\n      <th>FIPS</th>\n      <th>Admin2</th>\n      <th>Province_State</th>\n      <th>Country_Region</th>\n      <th>Last_Update</th>\n      <th>Lat</th>\n      <th>Long_</th>\n      <th>Confirmed</th>\n      <th>Deaths</th>\n      <th>Recovered</th>\n      <th>Active</th>\n      <th>Combined_Key</th>\n    </tr>\n  </thead>\n  <tbody>\n    <tr>\n      <th>0</th>\n      <td>45001</td>\n      <td>Abbeville</td>\n      <td>South Carolina</td>\n      <td>US</td>\n      <td>2020-03-28 23:05:37</td>\n      <td>34.223334</td>\n      <td>-82.461707</td>\n      <td>3</td>\n      <td>0</td>\n      <td>0</td>\n      <td>0</td>\n      <td>Abbeville, South Carolina, US</td>\n    </tr>\n    <tr>\n      <th>1</th>\n      <td>22001</td>\n      <td>Acadia</td>\n      <td>Louisiana</td>\n      <td>US</td>\n      <td>2020-03-28 23:05:37</td>\n      <td>30.295065</td>\n      <td>-92.414197</td>\n      <td>9</td>\n      <td>1</td>\n      <td>0</td>\n      <td>0</td>\n      <td>Acadia, Louisiana, US</td>\n    </tr>\n    <tr>\n      <th>2</th>\n      <td>51001</td>\n      <td>Accomack</td>\n      <td>Virginia</td>\n      <td>US</td>\n      <td>2020-03-28 23:05:37</td>\n      <td>37.767072</td>\n      <td>-75.632346</td>\n      <td>2</td>\n      <td>0</td>\n      <td>0</td>\n      <td>0</td>\n      <td>Accomack, Virginia, US</td>\n    </tr>\n    <tr>\n      <th>3</th>\n      <td>16001</td>\n      <td>Ada</td>\n      <td>Idaho</td>\n      <td>US</td>\n      <td>2020-03-28 23:05:37</td>\n      <td>43.452658</td>\n      <td>-116.241552</td>\n      <td>76</td>\n      <td>0</td>\n      <td>0</td>\n      <td>0</td>\n      <td>Ada, Idaho, US</td>\n    </tr>\n    <tr>\n      <th>4</th>\n      <td>19001</td>\n      <td>Adair</td>\n      <td>Iowa</td>\n      <td>US</td>\n      <td>2020-03-28 23:05:37</td>\n      <td>41.330756</td>\n      <td>-94.471059</td>\n      <td>1</td>\n      <td>0</td>\n      <td>0</td>\n      <td>0</td>\n      <td>Adair, Iowa, US</td>\n    </tr>\n  </tbody>\n</table>\n</div>"
     },
     "metadata": {},
     "execution_count": 5
    }
   ],
   "source": [
    "# convert the FIPS County Code column to type of integer\n",
    "\n",
    "covid_daily_df.FIPS = covid_daily_df.FIPS.fillna(-1) # get rid of NA \n",
    "covid_daily_df.FIPS = covid_daily_df.FIPS.astype(int)\n",
    "\n",
    "covid_daily_df.head()"
   ]
  },
  {
   "cell_type": "code",
   "execution_count": 6,
   "metadata": {},
   "outputs": [
    {
     "output_type": "stream",
     "name": "stdout",
     "text": "['US' 'Canada' 'United Kingdom' 'China' 'Netherlands' 'Australia'\n 'Denmark' 'France' 'Afghanistan' 'Albania' 'Algeria' 'Andorra' 'Angola'\n 'Antigua and Barbuda' 'Argentina' 'Armenia' 'Austria' 'Azerbaijan'\n 'Bahamas' 'Bahrain' 'Bangladesh' 'Barbados' 'Belarus' 'Belgium' 'Belize'\n 'Benin' 'Bhutan' 'Bolivia' 'Bosnia and Herzegovina' 'Brazil' 'Brunei'\n 'Bulgaria' 'Burkina Faso' 'Burma' 'Cabo Verde' 'Cambodia' 'Cameroon'\n 'Central African Republic' 'Chad' 'Chile' 'Colombia'\n 'Congo (Brazzaville)' 'Congo (Kinshasa)' 'Costa Rica' \"Cote d'Ivoire\"\n 'Croatia' 'Cuba' 'Cyprus' 'Czechia' 'Diamond Princess' 'Djibouti'\n 'Dominica' 'Dominican Republic' 'Ecuador' 'Egypt' 'El Salvador'\n 'Equatorial Guinea' 'Eritrea' 'Estonia' 'Eswatini' 'Ethiopia' 'Fiji'\n 'Finland' 'Gabon' 'Gambia' 'Georgia' 'Germany' 'Ghana' 'Greece' 'Grenada'\n 'Guatemala' 'Guinea' 'Guinea-Bissau' 'Guyana' 'Haiti' 'Holy See'\n 'Honduras' 'Hungary' 'Iceland' 'India' 'Indonesia' 'Iran' 'Iraq'\n 'Ireland' 'Israel' 'Italy' 'Jamaica' 'Japan' 'Jordan' 'Kazakhstan'\n 'Kenya' 'Korea, South' 'Kosovo' 'Kuwait' 'Kyrgyzstan' 'Laos' 'Latvia'\n 'Lebanon' 'Liberia' 'Libya' 'Liechtenstein' 'Lithuania' 'Luxembourg'\n 'MS Zaandam' 'Madagascar' 'Malaysia' 'Maldives' 'Mali' 'Malta'\n 'Mauritania' 'Mauritius' 'Mexico' 'Moldova' 'Monaco' 'Mongolia'\n 'Montenegro' 'Morocco' 'Mozambique' 'Namibia' 'Nepal' 'New Zealand'\n 'Nicaragua' 'Niger' 'Nigeria' 'North Macedonia' 'Norway' 'Oman'\n 'Pakistan' 'Panama' 'Papua New Guinea' 'Paraguay' 'Peru' 'Philippines'\n 'Poland' 'Portugal' 'Qatar' 'Romania' 'Russia' 'Rwanda'\n 'Saint Kitts and Nevis' 'Saint Lucia' 'Saint Vincent and the Grenadines'\n 'San Marino' 'Saudi Arabia' 'Senegal' 'Serbia' 'Seychelles' 'Singapore'\n 'Slovakia' 'Slovenia' 'Somalia' 'South Africa' 'Spain' 'Sri Lanka'\n 'Sudan' 'Suriname' 'Sweden' 'Switzerland' 'Syria' 'Taiwan*' 'Tanzania'\n 'Thailand' 'Timor-Leste' 'Togo' 'Trinidad and Tobago' 'Tunisia' 'Turkey'\n 'Uganda' 'Ukraine' 'United Arab Emirates' 'Uruguay' 'Uzbekistan'\n 'Venezuela' 'Vietnam' 'West Bank and Gaza' 'Zambia' 'Zimbabwe']\n"
    },
    {
     "output_type": "execute_result",
     "data": {
      "text/plain": "177"
     },
     "metadata": {},
     "execution_count": 6
    }
   ],
   "source": [
    "# show all unique Country_Region codes\n",
    "\n",
    "countries = covid_daily_df.Country_Region.unique()\n",
    "print(countries)\n",
    "len(countries)"
   ]
  },
  {
   "cell_type": "code",
   "execution_count": 7,
   "metadata": {},
   "outputs": [
    {
     "output_type": "execute_result",
     "data": {
      "text/plain": "                    Confirmed\nCountry_Region               \nAfghanistan               110\nAlbania                   197\nAlgeria                   454\nAndorra                   308\nAngola                      5\n...                       ...\nVenezuela                 119\nVietnam                   174\nWest Bank and Gaza         98\nZambia                     28\nZimbabwe                    7\n\n[177 rows x 1 columns]",
      "text/html": "<div>\n<style scoped>\n    .dataframe tbody tr th:only-of-type {\n        vertical-align: middle;\n    }\n\n    .dataframe tbody tr th {\n        vertical-align: top;\n    }\n\n    .dataframe thead th {\n        text-align: right;\n    }\n</style>\n<table border=\"1\" class=\"dataframe\">\n  <thead>\n    <tr style=\"text-align: right;\">\n      <th></th>\n      <th>Confirmed</th>\n    </tr>\n    <tr>\n      <th>Country_Region</th>\n      <th></th>\n    </tr>\n  </thead>\n  <tbody>\n    <tr>\n      <th>Afghanistan</th>\n      <td>110</td>\n    </tr>\n    <tr>\n      <th>Albania</th>\n      <td>197</td>\n    </tr>\n    <tr>\n      <th>Algeria</th>\n      <td>454</td>\n    </tr>\n    <tr>\n      <th>Andorra</th>\n      <td>308</td>\n    </tr>\n    <tr>\n      <th>Angola</th>\n      <td>5</td>\n    </tr>\n    <tr>\n      <th>...</th>\n      <td>...</td>\n    </tr>\n    <tr>\n      <th>Venezuela</th>\n      <td>119</td>\n    </tr>\n    <tr>\n      <th>Vietnam</th>\n      <td>174</td>\n    </tr>\n    <tr>\n      <th>West Bank and Gaza</th>\n      <td>98</td>\n    </tr>\n    <tr>\n      <th>Zambia</th>\n      <td>28</td>\n    </tr>\n    <tr>\n      <th>Zimbabwe</th>\n      <td>7</td>\n    </tr>\n  </tbody>\n</table>\n<p>177 rows × 1 columns</p>\n</div>"
     },
     "metadata": {},
     "execution_count": 7
    }
   ],
   "source": [
    "# statistics grouped by countries\n",
    "covid_daily_df.groupby('Country_Region').agg({'Confirmed': np.sum})"
   ]
  },
  {
   "cell_type": "code",
   "execution_count": 8,
   "metadata": {},
   "outputs": [
    {
     "output_type": "execute_result",
     "data": {
      "text/plain": "                    Confirmed  Deaths  Recovered  Active\nCountry_Region                                          \nAfghanistan               110       4          2     104\nAlbania                   197      10         31     156\nAlgeria                   454      29         31     394\nAndorra                   308       3          1     304\nAngola                      5       0          0       5\n...                       ...     ...        ...     ...\nVenezuela                 119       2         39      78\nVietnam                   174       0         21     153\nWest Bank and Gaza         98       1         18      79\nZambia                     28       0          0      28\nZimbabwe                    7       1          0       6\n\n[177 rows x 4 columns]",
      "text/html": "<div>\n<style scoped>\n    .dataframe tbody tr th:only-of-type {\n        vertical-align: middle;\n    }\n\n    .dataframe tbody tr th {\n        vertical-align: top;\n    }\n\n    .dataframe thead th {\n        text-align: right;\n    }\n</style>\n<table border=\"1\" class=\"dataframe\">\n  <thead>\n    <tr style=\"text-align: right;\">\n      <th></th>\n      <th>Confirmed</th>\n      <th>Deaths</th>\n      <th>Recovered</th>\n      <th>Active</th>\n    </tr>\n    <tr>\n      <th>Country_Region</th>\n      <th></th>\n      <th></th>\n      <th></th>\n      <th></th>\n    </tr>\n  </thead>\n  <tbody>\n    <tr>\n      <th>Afghanistan</th>\n      <td>110</td>\n      <td>4</td>\n      <td>2</td>\n      <td>104</td>\n    </tr>\n    <tr>\n      <th>Albania</th>\n      <td>197</td>\n      <td>10</td>\n      <td>31</td>\n      <td>156</td>\n    </tr>\n    <tr>\n      <th>Algeria</th>\n      <td>454</td>\n      <td>29</td>\n      <td>31</td>\n      <td>394</td>\n    </tr>\n    <tr>\n      <th>Andorra</th>\n      <td>308</td>\n      <td>3</td>\n      <td>1</td>\n      <td>304</td>\n    </tr>\n    <tr>\n      <th>Angola</th>\n      <td>5</td>\n      <td>0</td>\n      <td>0</td>\n      <td>5</td>\n    </tr>\n    <tr>\n      <th>...</th>\n      <td>...</td>\n      <td>...</td>\n      <td>...</td>\n      <td>...</td>\n    </tr>\n    <tr>\n      <th>Venezuela</th>\n      <td>119</td>\n      <td>2</td>\n      <td>39</td>\n      <td>78</td>\n    </tr>\n    <tr>\n      <th>Vietnam</th>\n      <td>174</td>\n      <td>0</td>\n      <td>21</td>\n      <td>153</td>\n    </tr>\n    <tr>\n      <th>West Bank and Gaza</th>\n      <td>98</td>\n      <td>1</td>\n      <td>18</td>\n      <td>79</td>\n    </tr>\n    <tr>\n      <th>Zambia</th>\n      <td>28</td>\n      <td>0</td>\n      <td>0</td>\n      <td>28</td>\n    </tr>\n    <tr>\n      <th>Zimbabwe</th>\n      <td>7</td>\n      <td>1</td>\n      <td>0</td>\n      <td>6</td>\n    </tr>\n  </tbody>\n</table>\n<p>177 rows × 4 columns</p>\n</div>"
     },
     "metadata": {},
     "execution_count": 8
    }
   ],
   "source": [
    "# construct a dataframe with five columns: \n",
    "# Country_Region (index), Confirmed, Deaths, Recovered, Active\n",
    "df_country_cases = covid_daily_df.groupby('Country_Region').agg({'Confirmed': np.sum, 'Deaths': np.sum, 'Recovered': np.sum, 'Active': np.sum})\n",
    "\n",
    "df_country_cases"
   ]
  },
  {
   "cell_type": "code",
   "execution_count": 9,
   "metadata": {},
   "outputs": [
    {
     "output_type": "execute_result",
     "data": {
      "text/plain": "Confirmed    int64\nDeaths       int64\nRecovered    int64\nActive       int64\ndtype: object"
     },
     "metadata": {},
     "execution_count": 9
    }
   ],
   "source": [
    "df_country_cases.dtypes"
   ]
  },
  {
   "cell_type": "code",
   "execution_count": 10,
   "metadata": {},
   "outputs": [
    {
     "output_type": "execute_result",
     "data": {
      "text/plain": "0"
     },
     "metadata": {},
     "execution_count": 10
    }
   ],
   "source": [
    "# show counties that do not have any corona patients yet\n",
    "len(df_country_cases.loc[df_country_cases['Confirmed'] == 0])\n",
    ""
   ]
  },
  {
   "cell_type": "code",
   "execution_count": 11,
   "metadata": {},
   "outputs": [
    {
     "output_type": "execute_result",
     "data": {
      "text/plain": "                    Confirmed  Deaths  Recovered  Active  fatality_rate\nCountry_Region                                                         \nItaly                   92472   10023      12384   70065       0.108390\nSan Marino                224      22          6     196       0.098214\nIndonesia                1155     102         59     994       0.088312\nIraq                      506      42        131     333       0.083004\nSpain                   73235    5982      12285   54968       0.081682\nIran                    35408    2517      11679   21212       0.071086\nNetherlands              9819     640          6    9173       0.065180\nAlgeria                   454      29         31     394       0.063877\nPhilippines              1075      68         35     972       0.063256\nEgypt                     576      36        121     419       0.062500\nMorocco                   402      25         11     366       0.062189\nFrance                  38105    2317       5724   30064       0.060806\nUnited Kingdom          17312    1021        151   16140       0.058976\nBurkina Faso              207      11         21     175       0.053140\nAlbania                   197      10         31     156       0.050761\nChina                   81999    3299      75100    3600       0.040232\nDominican Republic        719      28          3     688       0.038943\nBelgium                  9134     353       1063    7718       0.038647\nAfghanistan               110       4          2     104       0.036364\nGhana                     141       5          2     134       0.035461\nHungary                   343      11         34     298       0.032070\nJapan                    1693      52        404    1237       0.030715\nSweden                   3447     105         16    3326       0.030461\nGreece                   1061      32         52     977       0.030160\nTunisia                   278       8          2     268       0.028777",
      "text/html": "<div>\n<style scoped>\n    .dataframe tbody tr th:only-of-type {\n        vertical-align: middle;\n    }\n\n    .dataframe tbody tr th {\n        vertical-align: top;\n    }\n\n    .dataframe thead th {\n        text-align: right;\n    }\n</style>\n<table border=\"1\" class=\"dataframe\">\n  <thead>\n    <tr style=\"text-align: right;\">\n      <th></th>\n      <th>Confirmed</th>\n      <th>Deaths</th>\n      <th>Recovered</th>\n      <th>Active</th>\n      <th>fatality_rate</th>\n    </tr>\n    <tr>\n      <th>Country_Region</th>\n      <th></th>\n      <th></th>\n      <th></th>\n      <th></th>\n      <th></th>\n    </tr>\n  </thead>\n  <tbody>\n    <tr>\n      <th>Italy</th>\n      <td>92472</td>\n      <td>10023</td>\n      <td>12384</td>\n      <td>70065</td>\n      <td>0.108390</td>\n    </tr>\n    <tr>\n      <th>San Marino</th>\n      <td>224</td>\n      <td>22</td>\n      <td>6</td>\n      <td>196</td>\n      <td>0.098214</td>\n    </tr>\n    <tr>\n      <th>Indonesia</th>\n      <td>1155</td>\n      <td>102</td>\n      <td>59</td>\n      <td>994</td>\n      <td>0.088312</td>\n    </tr>\n    <tr>\n      <th>Iraq</th>\n      <td>506</td>\n      <td>42</td>\n      <td>131</td>\n      <td>333</td>\n      <td>0.083004</td>\n    </tr>\n    <tr>\n      <th>Spain</th>\n      <td>73235</td>\n      <td>5982</td>\n      <td>12285</td>\n      <td>54968</td>\n      <td>0.081682</td>\n    </tr>\n    <tr>\n      <th>Iran</th>\n      <td>35408</td>\n      <td>2517</td>\n      <td>11679</td>\n      <td>21212</td>\n      <td>0.071086</td>\n    </tr>\n    <tr>\n      <th>Netherlands</th>\n      <td>9819</td>\n      <td>640</td>\n      <td>6</td>\n      <td>9173</td>\n      <td>0.065180</td>\n    </tr>\n    <tr>\n      <th>Algeria</th>\n      <td>454</td>\n      <td>29</td>\n      <td>31</td>\n      <td>394</td>\n      <td>0.063877</td>\n    </tr>\n    <tr>\n      <th>Philippines</th>\n      <td>1075</td>\n      <td>68</td>\n      <td>35</td>\n      <td>972</td>\n      <td>0.063256</td>\n    </tr>\n    <tr>\n      <th>Egypt</th>\n      <td>576</td>\n      <td>36</td>\n      <td>121</td>\n      <td>419</td>\n      <td>0.062500</td>\n    </tr>\n    <tr>\n      <th>Morocco</th>\n      <td>402</td>\n      <td>25</td>\n      <td>11</td>\n      <td>366</td>\n      <td>0.062189</td>\n    </tr>\n    <tr>\n      <th>France</th>\n      <td>38105</td>\n      <td>2317</td>\n      <td>5724</td>\n      <td>30064</td>\n      <td>0.060806</td>\n    </tr>\n    <tr>\n      <th>United Kingdom</th>\n      <td>17312</td>\n      <td>1021</td>\n      <td>151</td>\n      <td>16140</td>\n      <td>0.058976</td>\n    </tr>\n    <tr>\n      <th>Burkina Faso</th>\n      <td>207</td>\n      <td>11</td>\n      <td>21</td>\n      <td>175</td>\n      <td>0.053140</td>\n    </tr>\n    <tr>\n      <th>Albania</th>\n      <td>197</td>\n      <td>10</td>\n      <td>31</td>\n      <td>156</td>\n      <td>0.050761</td>\n    </tr>\n    <tr>\n      <th>China</th>\n      <td>81999</td>\n      <td>3299</td>\n      <td>75100</td>\n      <td>3600</td>\n      <td>0.040232</td>\n    </tr>\n    <tr>\n      <th>Dominican Republic</th>\n      <td>719</td>\n      <td>28</td>\n      <td>3</td>\n      <td>688</td>\n      <td>0.038943</td>\n    </tr>\n    <tr>\n      <th>Belgium</th>\n      <td>9134</td>\n      <td>353</td>\n      <td>1063</td>\n      <td>7718</td>\n      <td>0.038647</td>\n    </tr>\n    <tr>\n      <th>Afghanistan</th>\n      <td>110</td>\n      <td>4</td>\n      <td>2</td>\n      <td>104</td>\n      <td>0.036364</td>\n    </tr>\n    <tr>\n      <th>Ghana</th>\n      <td>141</td>\n      <td>5</td>\n      <td>2</td>\n      <td>134</td>\n      <td>0.035461</td>\n    </tr>\n    <tr>\n      <th>Hungary</th>\n      <td>343</td>\n      <td>11</td>\n      <td>34</td>\n      <td>298</td>\n      <td>0.032070</td>\n    </tr>\n    <tr>\n      <th>Japan</th>\n      <td>1693</td>\n      <td>52</td>\n      <td>404</td>\n      <td>1237</td>\n      <td>0.030715</td>\n    </tr>\n    <tr>\n      <th>Sweden</th>\n      <td>3447</td>\n      <td>105</td>\n      <td>16</td>\n      <td>3326</td>\n      <td>0.030461</td>\n    </tr>\n    <tr>\n      <th>Greece</th>\n      <td>1061</td>\n      <td>32</td>\n      <td>52</td>\n      <td>977</td>\n      <td>0.030160</td>\n    </tr>\n    <tr>\n      <th>Tunisia</th>\n      <td>278</td>\n      <td>8</td>\n      <td>2</td>\n      <td>268</td>\n      <td>0.028777</td>\n    </tr>\n  </tbody>\n</table>\n</div>"
     },
     "metadata": {},
     "execution_count": 11
    }
   ],
   "source": [
    "# last operation tells that all countries in this csv file have confirmed cases. \n",
    "# now we can calculate the fatality rate\n",
    "\n",
    "df_country_cases['fatality_rate'] = df_country_cases.Deaths / df_country_cases.Confirmed\n",
    "\n",
    "fatalities = df_country_cases.query('(Deaths > 0) & (Confirmed > 100)') \\\n",
    "                            .sort_values(by = 'fatality_rate', ascending = False)\n",
    "\n",
    "fatalities[:25]"
   ]
  },
  {
   "cell_type": "code",
   "execution_count": 12,
   "metadata": {},
   "outputs": [
    {
     "output_type": "execute_result",
     "data": {
      "text/plain": "                      Confirmed  Deaths  Recovered  Active  fatality_rate\nCountry_Region                                                           \nSouth Africa               1187       1         31    1155       0.000842\nEstonia                     645       1         20     624       0.001550\nQatar                       590       1         45     544       0.001695\nIceland                     963       2        114     847       0.002077\nArmenia                     407       1         30     376       0.002457\nSingapore                   802       2        198     602       0.002494\nChile                      1909       6         61    1842       0.003143\nRussia                     1264       4         49    1211       0.003165\nIsrael                     3619      12         89    3518       0.003316\nSaudi Arabia               1203       4         37    1162       0.003325\nAustralia                  3640      14        244    3382       0.003846\nJordan                      246       1         18     227       0.004065\nCzechia                    2631      11         11    2609       0.004181\nUnited Arab Emirates        468       2         52     414       0.004274\nKazakhstan                  228       1         16     211       0.004386\nThailand                   1245       6         97    1142       0.004819\nNorway                     4015      23          7    3985       0.005729\nCosta Rica                  295       2          3     290       0.006780\nTaiwan*                     283       2         30     251       0.007067\nGermany                   57695     433       8481   48781       0.007505\nCroatia                     657       5         45     607       0.007610\nFinland                    1167       9         10    1148       0.007712\nPakistan                   1495      12         29    1454       0.008027\nAustria                    8271      68        225    7978       0.008221\nBrunei                      120       1         25      94       0.008333",
      "text/html": "<div>\n<style scoped>\n    .dataframe tbody tr th:only-of-type {\n        vertical-align: middle;\n    }\n\n    .dataframe tbody tr th {\n        vertical-align: top;\n    }\n\n    .dataframe thead th {\n        text-align: right;\n    }\n</style>\n<table border=\"1\" class=\"dataframe\">\n  <thead>\n    <tr style=\"text-align: right;\">\n      <th></th>\n      <th>Confirmed</th>\n      <th>Deaths</th>\n      <th>Recovered</th>\n      <th>Active</th>\n      <th>fatality_rate</th>\n    </tr>\n    <tr>\n      <th>Country_Region</th>\n      <th></th>\n      <th></th>\n      <th></th>\n      <th></th>\n      <th></th>\n    </tr>\n  </thead>\n  <tbody>\n    <tr>\n      <th>South Africa</th>\n      <td>1187</td>\n      <td>1</td>\n      <td>31</td>\n      <td>1155</td>\n      <td>0.000842</td>\n    </tr>\n    <tr>\n      <th>Estonia</th>\n      <td>645</td>\n      <td>1</td>\n      <td>20</td>\n      <td>624</td>\n      <td>0.001550</td>\n    </tr>\n    <tr>\n      <th>Qatar</th>\n      <td>590</td>\n      <td>1</td>\n      <td>45</td>\n      <td>544</td>\n      <td>0.001695</td>\n    </tr>\n    <tr>\n      <th>Iceland</th>\n      <td>963</td>\n      <td>2</td>\n      <td>114</td>\n      <td>847</td>\n      <td>0.002077</td>\n    </tr>\n    <tr>\n      <th>Armenia</th>\n      <td>407</td>\n      <td>1</td>\n      <td>30</td>\n      <td>376</td>\n      <td>0.002457</td>\n    </tr>\n    <tr>\n      <th>Singapore</th>\n      <td>802</td>\n      <td>2</td>\n      <td>198</td>\n      <td>602</td>\n      <td>0.002494</td>\n    </tr>\n    <tr>\n      <th>Chile</th>\n      <td>1909</td>\n      <td>6</td>\n      <td>61</td>\n      <td>1842</td>\n      <td>0.003143</td>\n    </tr>\n    <tr>\n      <th>Russia</th>\n      <td>1264</td>\n      <td>4</td>\n      <td>49</td>\n      <td>1211</td>\n      <td>0.003165</td>\n    </tr>\n    <tr>\n      <th>Israel</th>\n      <td>3619</td>\n      <td>12</td>\n      <td>89</td>\n      <td>3518</td>\n      <td>0.003316</td>\n    </tr>\n    <tr>\n      <th>Saudi Arabia</th>\n      <td>1203</td>\n      <td>4</td>\n      <td>37</td>\n      <td>1162</td>\n      <td>0.003325</td>\n    </tr>\n    <tr>\n      <th>Australia</th>\n      <td>3640</td>\n      <td>14</td>\n      <td>244</td>\n      <td>3382</td>\n      <td>0.003846</td>\n    </tr>\n    <tr>\n      <th>Jordan</th>\n      <td>246</td>\n      <td>1</td>\n      <td>18</td>\n      <td>227</td>\n      <td>0.004065</td>\n    </tr>\n    <tr>\n      <th>Czechia</th>\n      <td>2631</td>\n      <td>11</td>\n      <td>11</td>\n      <td>2609</td>\n      <td>0.004181</td>\n    </tr>\n    <tr>\n      <th>United Arab Emirates</th>\n      <td>468</td>\n      <td>2</td>\n      <td>52</td>\n      <td>414</td>\n      <td>0.004274</td>\n    </tr>\n    <tr>\n      <th>Kazakhstan</th>\n      <td>228</td>\n      <td>1</td>\n      <td>16</td>\n      <td>211</td>\n      <td>0.004386</td>\n    </tr>\n    <tr>\n      <th>Thailand</th>\n      <td>1245</td>\n      <td>6</td>\n      <td>97</td>\n      <td>1142</td>\n      <td>0.004819</td>\n    </tr>\n    <tr>\n      <th>Norway</th>\n      <td>4015</td>\n      <td>23</td>\n      <td>7</td>\n      <td>3985</td>\n      <td>0.005729</td>\n    </tr>\n    <tr>\n      <th>Costa Rica</th>\n      <td>295</td>\n      <td>2</td>\n      <td>3</td>\n      <td>290</td>\n      <td>0.006780</td>\n    </tr>\n    <tr>\n      <th>Taiwan*</th>\n      <td>283</td>\n      <td>2</td>\n      <td>30</td>\n      <td>251</td>\n      <td>0.007067</td>\n    </tr>\n    <tr>\n      <th>Germany</th>\n      <td>57695</td>\n      <td>433</td>\n      <td>8481</td>\n      <td>48781</td>\n      <td>0.007505</td>\n    </tr>\n    <tr>\n      <th>Croatia</th>\n      <td>657</td>\n      <td>5</td>\n      <td>45</td>\n      <td>607</td>\n      <td>0.007610</td>\n    </tr>\n    <tr>\n      <th>Finland</th>\n      <td>1167</td>\n      <td>9</td>\n      <td>10</td>\n      <td>1148</td>\n      <td>0.007712</td>\n    </tr>\n    <tr>\n      <th>Pakistan</th>\n      <td>1495</td>\n      <td>12</td>\n      <td>29</td>\n      <td>1454</td>\n      <td>0.008027</td>\n    </tr>\n    <tr>\n      <th>Austria</th>\n      <td>8271</td>\n      <td>68</td>\n      <td>225</td>\n      <td>7978</td>\n      <td>0.008221</td>\n    </tr>\n    <tr>\n      <th>Brunei</th>\n      <td>120</td>\n      <td>1</td>\n      <td>25</td>\n      <td>94</td>\n      <td>0.008333</td>\n    </tr>\n  </tbody>\n</table>\n</div>"
     },
     "metadata": {},
     "execution_count": 12
    }
   ],
   "source": [
    "fatalities_asc = df_country_cases.query('(Deaths > 0) & (Confirmed > 100)').sort_values(by = 'fatality_rate', ascending = True)\n",
    "\n",
    "fatalities_asc[:25]"
   ]
  },
  {
   "cell_type": "code",
   "execution_count": 24,
   "metadata": {},
   "outputs": [
    {
     "output_type": "execute_result",
     "data": {
      "text/plain": "30616"
     },
     "metadata": {},
     "execution_count": 24
    }
   ],
   "source": [
    "fatalities.Deaths.sum()"
   ]
  },
  {
   "cell_type": "code",
   "execution_count": 22,
   "metadata": {},
   "outputs": [
    {
     "output_type": "execute_result",
     "data": {
      "text/plain": "0.04663625216113087"
     },
     "metadata": {},
     "execution_count": 22
    }
   ],
   "source": [
    "fatality_overall = fatalities.Deaths.sum() / fatalities.Confirmed.sum()\n",
    "\n",
    "fatality_overall"
   ]
  },
  {
   "cell_type": "code",
   "execution_count": 15,
   "metadata": {},
   "outputs": [],
   "source": [
    "# define a function which returns the rank of the fatality\n",
    "\n",
    "def fatality_rank( country: str, asc: bool ) -> int:\n",
    "    indices = fatalities.sort_values(by = 'fatality_rate', ascending = asc).index\n",
    "    return indices.get_loc(country)\n",
    ""
   ]
  },
  {
   "cell_type": "code",
   "execution_count": 16,
   "metadata": {},
   "outputs": [],
   "source": [
    "def get_fatality_and_rank(country: str):\n",
    "    fatality = fatalities.loc[country].fatality_rate\n",
    "\n",
    "    ranks_asc = fatalities.sort_values(by = 'fatality_rate', ascending = True).index\n",
    "    rank_asc = ranks_asc.get_loc(country) + 1\n",
    "    rank_dsc = len(ranks_asc) - rank_asc + 1\n",
    "\n",
    "    return pd.Series({'Country_Region': country, 'fatality_rate': fatality, 'rank_asc': rank_asc, 'rank_dsc': rank_dsc})\n",
    ""
   ]
  },
  {
   "cell_type": "code",
   "execution_count": 17,
   "metadata": {},
   "outputs": [
    {
     "output_type": "execute_result",
     "data": {
      "text/plain": "Country_Region      Italy\nfatality_rate     0.10839\nrank_asc               89\nrank_dsc                1\ndtype: object"
     },
     "metadata": {},
     "execution_count": 17
    }
   ],
   "source": [
    "# test the function get_fatality_and_rank\n",
    "\n",
    "get_fatality_and_rank('Italy')"
   ]
  },
  {
   "cell_type": "code",
   "execution_count": 18,
   "metadata": {},
   "outputs": [
    {
     "output_type": "execute_result",
     "data": {
      "text/plain": "  Country_Region  fatality_rate rank_asc rank_dsc\n0        Austria       0.008221       24       66\n1          China       0.040232       74       16\n2        Germany       0.007505       20       70\n3          Italy       0.108390       89        1\n4      Singapore       0.002494        6       84\n5   South Africa       0.000842        1       89\n6             US       0.016678       42       48",
      "text/html": "<div>\n<style scoped>\n    .dataframe tbody tr th:only-of-type {\n        vertical-align: middle;\n    }\n\n    .dataframe tbody tr th {\n        vertical-align: top;\n    }\n\n    .dataframe thead th {\n        text-align: right;\n    }\n</style>\n<table border=\"1\" class=\"dataframe\">\n  <thead>\n    <tr style=\"text-align: right;\">\n      <th></th>\n      <th>Country_Region</th>\n      <th>fatality_rate</th>\n      <th>rank_asc</th>\n      <th>rank_dsc</th>\n    </tr>\n  </thead>\n  <tbody>\n    <tr>\n      <th>0</th>\n      <td>Austria</td>\n      <td>0.008221</td>\n      <td>24</td>\n      <td>66</td>\n    </tr>\n    <tr>\n      <th>1</th>\n      <td>China</td>\n      <td>0.040232</td>\n      <td>74</td>\n      <td>16</td>\n    </tr>\n    <tr>\n      <th>2</th>\n      <td>Germany</td>\n      <td>0.007505</td>\n      <td>20</td>\n      <td>70</td>\n    </tr>\n    <tr>\n      <th>3</th>\n      <td>Italy</td>\n      <td>0.108390</td>\n      <td>89</td>\n      <td>1</td>\n    </tr>\n    <tr>\n      <th>4</th>\n      <td>Singapore</td>\n      <td>0.002494</td>\n      <td>6</td>\n      <td>84</td>\n    </tr>\n    <tr>\n      <th>5</th>\n      <td>South Africa</td>\n      <td>0.000842</td>\n      <td>1</td>\n      <td>89</td>\n    </tr>\n    <tr>\n      <th>6</th>\n      <td>US</td>\n      <td>0.016678</td>\n      <td>42</td>\n      <td>48</td>\n    </tr>\n  </tbody>\n</table>\n</div>"
     },
     "metadata": {},
     "execution_count": 18
    }
   ],
   "source": [
    "# how do these countries score in the fatality_rate?\n",
    "\n",
    "cols = ['Country_Region', 'fatality_rate', 'rank_asc', 'rank_dsc']\n",
    "countries = ['Austria', 'China', 'Germany', 'Italy', 'Singapore', 'South Africa', 'US']\n",
    "\n",
    "df_fatality_scores = pd.DataFrame(columns = cols)\n",
    "\n",
    "for country in countries:\n",
    "    df_fatality_scores = df_fatality_scores.append(get_fatality_and_rank(country), ignore_index=True)\n",
    "\n",
    "df_fatality_scores"
   ]
  },
  {
   "cell_type": "code",
   "execution_count": 19,
   "metadata": {},
   "outputs": [
    {
     "output_type": "execute_result",
     "data": {
      "text/plain": "count    89.000000\nmean      0.025028\nstd       0.024105\nmin       0.000842\n25%       0.008027\n50%       0.017766\n75%       0.030461\nmax       0.108390\nName: fatality_rate, dtype: float64"
     },
     "metadata": {},
     "execution_count": 19
    }
   ],
   "source": [
    "# basic statistics of the fatality\n",
    "fatalities.fatality_rate.describe()"
   ]
  },
  {
   "cell_type": "code",
   "execution_count": 20,
   "metadata": {},
   "outputs": [
    {
     "output_type": "stream",
     "name": "stdout",
     "text": "Fatality median is 0.017766497461928935 and mode is 0     0.000842\n1     0.001550\n2     0.001695\n3     0.002077\n4     0.002457\n        ...   \n84    0.081682\n85    0.083004\n86    0.088312\n87    0.098214\n88    0.108390\nLength: 89, dtype: float64\n"
    }
   ],
   "source": [
    "# median and mode of fatality rate\n",
    "\n",
    "fatality_median = fatalities.fatality_rate.median()\n",
    "fatality_mode = fatalities.fatality_rate.mode()\n",
    "\n",
    "print(\"Fatality median is {} and mode is {}\".format(fatality_median, fatality_mode))\n",
    ""
   ]
  },
  {
   "cell_type": "code",
   "execution_count": 21,
   "metadata": {},
   "outputs": [
    {
     "output_type": "execute_result",
     "data": {
      "text/plain": "Country_Region\nItaly                             (0.0976, 0.108]\nSan Marino                        (0.0976, 0.108]\nIndonesia                        (0.0869, 0.0976]\nIraq                             (0.0761, 0.0869]\nSpain                            (0.0761, 0.0869]\n                              ...                \nArmenia         (-0.00026500000000000004, 0.0116]\nIceland         (-0.00026500000000000004, 0.0116]\nQatar           (-0.00026500000000000004, 0.0116]\nEstonia         (-0.00026500000000000004, 0.0116]\nSouth Africa    (-0.00026500000000000004, 0.0116]\nName: fatality_rate, Length: 89, dtype: category\nCategories (10, interval[float64]): [(-0.00026500000000000004, 0.0116] < (0.0116, 0.0224] < (0.0224, 0.0331] < (0.0331, 0.0439] ... (0.0654, 0.0761] < (0.0761, 0.0869] < (0.0869, 0.0976] < (0.0976, 0.108]]"
     },
     "metadata": {},
     "execution_count": 21
    }
   ],
   "source": [
    "# the mode above does not make sense, let's fix it.\n",
    "\n",
    "# first, segment and sort fatality values into bins\n",
    "bins = pd.cut(fatalities['fatality_rate'], 10, include_lowest=True)\n",
    "\n",
    "bins\n",
    "\n",
    "# I'd like to see the content of each bin, what to do?"
   ]
  },
  {
   "cell_type": "code",
   "execution_count": null,
   "metadata": {},
   "outputs": [],
   "source": []
  }
 ],
 "metadata": {
  "kernelspec": {
   "display_name": "Python 3",
   "language": "python",
   "name": "python3"
  },
  "language_info": {
   "codemirror_mode": {
    "name": "ipython",
    "version": 3
   },
   "file_extension": ".py",
   "mimetype": "text/x-python",
   "name": "python",
   "nbconvert_exporter": "python",
   "pygments_lexer": "ipython3",
   "version": "3.7.6-final"
  }
 },
 "nbformat": 4,
 "nbformat_minor": 4
}