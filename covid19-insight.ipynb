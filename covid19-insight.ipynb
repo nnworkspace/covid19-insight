{
 "cells": [
  {
   "cell_type": "markdown",
   "metadata": {},
   "source": [
    "# Covid-19 Data Wrangling in Python"
   ]
  },
  {
   "cell_type": "code",
   "execution_count": 1,
   "metadata": {},
   "outputs": [
    {
     "output_type": "stream",
     "name": "stdout",
     "text": "pandas version:  1.0.1\nnumpy version:  1.18.1\n"
    }
   ],
   "source": [
    "import pandas as pd\n",
    "import numpy as np\n",
    "\n",
    "print('pandas version: ', pd.__version__)\n",
    "print('numpy version: ', np.version.version)"
   ]
  },
  {
   "cell_type": "code",
   "execution_count": 2,
   "metadata": {},
   "outputs": [
    {
     "output_type": "execute_result",
     "data": {
      "text/plain": "      FIPS     Admin2  Province_State Country_Region          Last_Update  \\\n0  45001.0  Abbeville  South Carolina             US  2020-03-30 22:52:45   \n1  22001.0     Acadia       Louisiana             US  2020-03-30 22:52:45   \n2  51001.0   Accomack        Virginia             US  2020-03-30 22:52:45   \n3  16001.0        Ada           Idaho             US  2020-03-30 22:52:45   \n4  19001.0      Adair            Iowa             US  2020-03-30 22:52:45   \n\n         Lat       Long_  Confirmed  Deaths  Recovered  Active  \\\n0  34.223334  -82.461707          3       0          0       0   \n1  30.295065  -92.414197         11       1          0       0   \n2  37.767072  -75.632346          6       0          0       0   \n3  43.452658 -116.241552        113       2          0       0   \n4  41.330756  -94.471059          1       0          0       0   \n\n                    Combined_Key  \n0  Abbeville, South Carolina, US  \n1          Acadia, Louisiana, US  \n2         Accomack, Virginia, US  \n3                 Ada, Idaho, US  \n4                Adair, Iowa, US  ",
      "text/html": "<div>\n<style scoped>\n    .dataframe tbody tr th:only-of-type {\n        vertical-align: middle;\n    }\n\n    .dataframe tbody tr th {\n        vertical-align: top;\n    }\n\n    .dataframe thead th {\n        text-align: right;\n    }\n</style>\n<table border=\"1\" class=\"dataframe\">\n  <thead>\n    <tr style=\"text-align: right;\">\n      <th></th>\n      <th>FIPS</th>\n      <th>Admin2</th>\n      <th>Province_State</th>\n      <th>Country_Region</th>\n      <th>Last_Update</th>\n      <th>Lat</th>\n      <th>Long_</th>\n      <th>Confirmed</th>\n      <th>Deaths</th>\n      <th>Recovered</th>\n      <th>Active</th>\n      <th>Combined_Key</th>\n    </tr>\n  </thead>\n  <tbody>\n    <tr>\n      <th>0</th>\n      <td>45001.0</td>\n      <td>Abbeville</td>\n      <td>South Carolina</td>\n      <td>US</td>\n      <td>2020-03-30 22:52:45</td>\n      <td>34.223334</td>\n      <td>-82.461707</td>\n      <td>3</td>\n      <td>0</td>\n      <td>0</td>\n      <td>0</td>\n      <td>Abbeville, South Carolina, US</td>\n    </tr>\n    <tr>\n      <th>1</th>\n      <td>22001.0</td>\n      <td>Acadia</td>\n      <td>Louisiana</td>\n      <td>US</td>\n      <td>2020-03-30 22:52:45</td>\n      <td>30.295065</td>\n      <td>-92.414197</td>\n      <td>11</td>\n      <td>1</td>\n      <td>0</td>\n      <td>0</td>\n      <td>Acadia, Louisiana, US</td>\n    </tr>\n    <tr>\n      <th>2</th>\n      <td>51001.0</td>\n      <td>Accomack</td>\n      <td>Virginia</td>\n      <td>US</td>\n      <td>2020-03-30 22:52:45</td>\n      <td>37.767072</td>\n      <td>-75.632346</td>\n      <td>6</td>\n      <td>0</td>\n      <td>0</td>\n      <td>0</td>\n      <td>Accomack, Virginia, US</td>\n    </tr>\n    <tr>\n      <th>3</th>\n      <td>16001.0</td>\n      <td>Ada</td>\n      <td>Idaho</td>\n      <td>US</td>\n      <td>2020-03-30 22:52:45</td>\n      <td>43.452658</td>\n      <td>-116.241552</td>\n      <td>113</td>\n      <td>2</td>\n      <td>0</td>\n      <td>0</td>\n      <td>Ada, Idaho, US</td>\n    </tr>\n    <tr>\n      <th>4</th>\n      <td>19001.0</td>\n      <td>Adair</td>\n      <td>Iowa</td>\n      <td>US</td>\n      <td>2020-03-30 22:52:45</td>\n      <td>41.330756</td>\n      <td>-94.471059</td>\n      <td>1</td>\n      <td>0</td>\n      <td>0</td>\n      <td>0</td>\n      <td>Adair, Iowa, US</td>\n    </tr>\n  </tbody>\n</table>\n</div>"
     },
     "metadata": {},
     "execution_count": 2
    }
   ],
   "source": [
    "covid_daily_df = pd.read_csv('data/2020-03-30.csv')\n",
    "\n",
    "covid_daily_df.head()"
   ]
  },
  {
   "cell_type": "code",
   "execution_count": 3,
   "metadata": {},
   "outputs": [
    {
     "output_type": "execute_result",
     "data": {
      "text/plain": "FIPS              float64\nAdmin2             object\nProvince_State     object\nCountry_Region     object\nLast_Update        object\nLat               float64\nLong_             float64\nConfirmed           int64\nDeaths              int64\nRecovered           int64\nActive              int64\nCombined_Key       object\ndtype: object"
     },
     "metadata": {},
     "execution_count": 3
    }
   ],
   "source": [
    "covid_daily_df.dtypes"
   ]
  },
  {
   "cell_type": "code",
   "execution_count": 4,
   "metadata": {},
   "outputs": [
    {
     "output_type": "execute_result",
     "data": {
      "text/plain": "(3439, 12)"
     },
     "metadata": {},
     "execution_count": 4
    }
   ],
   "source": [
    "covid_daily_df.shape"
   ]
  },
  {
   "cell_type": "code",
   "execution_count": 6,
   "metadata": {},
   "outputs": [
    {
     "output_type": "execute_result",
     "data": {
      "text/plain": "    FIPS     Admin2  Province_State Country_Region          Last_Update  \\\n0  45001  Abbeville  South Carolina             US  2020-03-30 22:52:45   \n1  22001     Acadia       Louisiana             US  2020-03-30 22:52:45   \n2  51001   Accomack        Virginia             US  2020-03-30 22:52:45   \n3  16001        Ada           Idaho             US  2020-03-30 22:52:45   \n4  19001      Adair            Iowa             US  2020-03-30 22:52:45   \n\n         Lat       Long_  Confirmed  Deaths  Recovered  Active  \\\n0  34.223334  -82.461707          3       0          0       0   \n1  30.295065  -92.414197         11       1          0       0   \n2  37.767072  -75.632346          6       0          0       0   \n3  43.452658 -116.241552        113       2          0       0   \n4  41.330756  -94.471059          1       0          0       0   \n\n                    Combined_Key  \n0  Abbeville, South Carolina, US  \n1          Acadia, Louisiana, US  \n2         Accomack, Virginia, US  \n3                 Ada, Idaho, US  \n4                Adair, Iowa, US  ",
      "text/html": "<div>\n<style scoped>\n    .dataframe tbody tr th:only-of-type {\n        vertical-align: middle;\n    }\n\n    .dataframe tbody tr th {\n        vertical-align: top;\n    }\n\n    .dataframe thead th {\n        text-align: right;\n    }\n</style>\n<table border=\"1\" class=\"dataframe\">\n  <thead>\n    <tr style=\"text-align: right;\">\n      <th></th>\n      <th>FIPS</th>\n      <th>Admin2</th>\n      <th>Province_State</th>\n      <th>Country_Region</th>\n      <th>Last_Update</th>\n      <th>Lat</th>\n      <th>Long_</th>\n      <th>Confirmed</th>\n      <th>Deaths</th>\n      <th>Recovered</th>\n      <th>Active</th>\n      <th>Combined_Key</th>\n    </tr>\n  </thead>\n  <tbody>\n    <tr>\n      <th>0</th>\n      <td>45001</td>\n      <td>Abbeville</td>\n      <td>South Carolina</td>\n      <td>US</td>\n      <td>2020-03-30 22:52:45</td>\n      <td>34.223334</td>\n      <td>-82.461707</td>\n      <td>3</td>\n      <td>0</td>\n      <td>0</td>\n      <td>0</td>\n      <td>Abbeville, South Carolina, US</td>\n    </tr>\n    <tr>\n      <th>1</th>\n      <td>22001</td>\n      <td>Acadia</td>\n      <td>Louisiana</td>\n      <td>US</td>\n      <td>2020-03-30 22:52:45</td>\n      <td>30.295065</td>\n      <td>-92.414197</td>\n      <td>11</td>\n      <td>1</td>\n      <td>0</td>\n      <td>0</td>\n      <td>Acadia, Louisiana, US</td>\n    </tr>\n    <tr>\n      <th>2</th>\n      <td>51001</td>\n      <td>Accomack</td>\n      <td>Virginia</td>\n      <td>US</td>\n      <td>2020-03-30 22:52:45</td>\n      <td>37.767072</td>\n      <td>-75.632346</td>\n      <td>6</td>\n      <td>0</td>\n      <td>0</td>\n      <td>0</td>\n      <td>Accomack, Virginia, US</td>\n    </tr>\n    <tr>\n      <th>3</th>\n      <td>16001</td>\n      <td>Ada</td>\n      <td>Idaho</td>\n      <td>US</td>\n      <td>2020-03-30 22:52:45</td>\n      <td>43.452658</td>\n      <td>-116.241552</td>\n      <td>113</td>\n      <td>2</td>\n      <td>0</td>\n      <td>0</td>\n      <td>Ada, Idaho, US</td>\n    </tr>\n    <tr>\n      <th>4</th>\n      <td>19001</td>\n      <td>Adair</td>\n      <td>Iowa</td>\n      <td>US</td>\n      <td>2020-03-30 22:52:45</td>\n      <td>41.330756</td>\n      <td>-94.471059</td>\n      <td>1</td>\n      <td>0</td>\n      <td>0</td>\n      <td>0</td>\n      <td>Adair, Iowa, US</td>\n    </tr>\n  </tbody>\n</table>\n</div>"
     },
     "metadata": {},
     "execution_count": 6
    }
   ],
   "source": [
    "# convert the FIPS County Code column to type of integer\n",
    "\n",
    "covid_daily_df.FIPS = covid_daily_df.FIPS.fillna(-1) # get rid of NA \n",
    "covid_daily_df.FIPS = covid_daily_df.FIPS.astype(int)\n",
    "\n",
    "covid_daily_df.head()"
   ]
  },
  {
   "cell_type": "code",
   "execution_count": 9,
   "metadata": {},
   "outputs": [
    {
     "output_type": "stream",
     "name": "stdout",
     "text": "['US' 'Canada' 'United Kingdom' 'China' 'Netherlands' 'Australia'\n 'Denmark' 'France' 'Afghanistan' 'Albania' 'Algeria' 'Andorra' 'Angola'\n 'Antigua and Barbuda' 'Argentina' 'Armenia' 'Austria' 'Azerbaijan'\n 'Bahamas' 'Bahrain' 'Bangladesh' 'Barbados' 'Belarus' 'Belgium' 'Belize'\n 'Benin' 'Bhutan' 'Bolivia' 'Bosnia and Herzegovina' 'Botswana' 'Brazil'\n 'Brunei' 'Bulgaria' 'Burkina Faso' 'Burma' 'Cabo Verde' 'Cambodia'\n 'Cameroon' 'Central African Republic' 'Chad' 'Chile' 'Colombia'\n 'Congo (Brazzaville)' 'Congo (Kinshasa)' 'Costa Rica' \"Cote d'Ivoire\"\n 'Croatia' 'Cuba' 'Cyprus' 'Czechia' 'Diamond Princess' 'Djibouti'\n 'Dominica' 'Dominican Republic' 'Ecuador' 'Egypt' 'El Salvador'\n 'Equatorial Guinea' 'Eritrea' 'Estonia' 'Eswatini' 'Ethiopia' 'Fiji'\n 'Finland' 'Gabon' 'Gambia' 'Georgia' 'Germany' 'Ghana' 'Greece' 'Grenada'\n 'Guatemala' 'Guinea' 'Guinea-Bissau' 'Guyana' 'Haiti' 'Holy See'\n 'Honduras' 'Hungary' 'Iceland' 'India' 'Indonesia' 'Iran' 'Iraq'\n 'Ireland' 'Israel' 'Italy' 'Jamaica' 'Japan' 'Jordan' 'Kazakhstan'\n 'Kenya' 'Korea, South' 'Kosovo' 'Kuwait' 'Kyrgyzstan' 'Laos' 'Latvia'\n 'Lebanon' 'Liberia' 'Libya' 'Liechtenstein' 'Lithuania' 'Luxembourg'\n 'MS Zaandam' 'Madagascar' 'Malaysia' 'Maldives' 'Mali' 'Malta'\n 'Mauritania' 'Mauritius' 'Mexico' 'Moldova' 'Monaco' 'Mongolia'\n 'Montenegro' 'Morocco' 'Mozambique' 'Namibia' 'Nepal' 'New Zealand'\n 'Nicaragua' 'Niger' 'Nigeria' 'North Macedonia' 'Norway' 'Oman'\n 'Pakistan' 'Panama' 'Papua New Guinea' 'Paraguay' 'Peru' 'Philippines'\n 'Poland' 'Portugal' 'Qatar' 'Romania' 'Russia' 'Rwanda'\n 'Saint Kitts and Nevis' 'Saint Lucia' 'Saint Vincent and the Grenadines'\n 'San Marino' 'Saudi Arabia' 'Senegal' 'Serbia' 'Seychelles' 'Singapore'\n 'Slovakia' 'Slovenia' 'Somalia' 'South Africa' 'Spain' 'Sri Lanka'\n 'Sudan' 'Suriname' 'Sweden' 'Switzerland' 'Syria' 'Taiwan*' 'Tanzania'\n 'Thailand' 'Timor-Leste' 'Togo' 'Trinidad and Tobago' 'Tunisia' 'Turkey'\n 'Uganda' 'Ukraine' 'United Arab Emirates' 'Uruguay' 'Uzbekistan'\n 'Venezuela' 'Vietnam' 'West Bank and Gaza' 'Zambia' 'Zimbabwe']\n"
    },
    {
     "output_type": "execute_result",
     "data": {
      "text/plain": "178"
     },
     "metadata": {},
     "execution_count": 9
    }
   ],
   "source": [
    "# show all unique Country_Region codes\n",
    "\n",
    "countries = covid_daily_df.Country_Region.unique()\n",
    "print(countries)\n",
    "len(countries)"
   ]
  },
  {
   "cell_type": "code",
   "execution_count": 7,
   "metadata": {},
   "outputs": [
    {
     "output_type": "execute_result",
     "data": {
      "text/plain": "                    Confirmed\nCountry_Region               \nAfghanistan               170\nAlbania                   223\nAlgeria                   584\nAndorra                   370\nAngola                      7\n...                       ...\nVenezuela                 135\nVietnam                   203\nWest Bank and Gaza        116\nZambia                     35\nZimbabwe                    7\n\n[178 rows x 1 columns]",
      "text/html": "<div>\n<style scoped>\n    .dataframe tbody tr th:only-of-type {\n        vertical-align: middle;\n    }\n\n    .dataframe tbody tr th {\n        vertical-align: top;\n    }\n\n    .dataframe thead th {\n        text-align: right;\n    }\n</style>\n<table border=\"1\" class=\"dataframe\">\n  <thead>\n    <tr style=\"text-align: right;\">\n      <th></th>\n      <th>Confirmed</th>\n    </tr>\n    <tr>\n      <th>Country_Region</th>\n      <th></th>\n    </tr>\n  </thead>\n  <tbody>\n    <tr>\n      <th>Afghanistan</th>\n      <td>170</td>\n    </tr>\n    <tr>\n      <th>Albania</th>\n      <td>223</td>\n    </tr>\n    <tr>\n      <th>Algeria</th>\n      <td>584</td>\n    </tr>\n    <tr>\n      <th>Andorra</th>\n      <td>370</td>\n    </tr>\n    <tr>\n      <th>Angola</th>\n      <td>7</td>\n    </tr>\n    <tr>\n      <th>...</th>\n      <td>...</td>\n    </tr>\n    <tr>\n      <th>Venezuela</th>\n      <td>135</td>\n    </tr>\n    <tr>\n      <th>Vietnam</th>\n      <td>203</td>\n    </tr>\n    <tr>\n      <th>West Bank and Gaza</th>\n      <td>116</td>\n    </tr>\n    <tr>\n      <th>Zambia</th>\n      <td>35</td>\n    </tr>\n    <tr>\n      <th>Zimbabwe</th>\n      <td>7</td>\n    </tr>\n  </tbody>\n</table>\n<p>178 rows × 1 columns</p>\n</div>"
     },
     "metadata": {},
     "execution_count": 7
    }
   ],
   "source": [
    "# statistics grouped by countries\n",
    "covid_daily_df.groupby('Country_Region').agg({'Confirmed': np.sum})"
   ]
  },
  {
   "cell_type": "code",
   "execution_count": 8,
   "metadata": {},
   "outputs": [
    {
     "output_type": "execute_result",
     "data": {
      "text/plain": "                    Confirmed  Deaths  Recovered  Active\nCountry_Region                                          \nAfghanistan               170       4          2     164\nAlbania                   223      11         44     168\nAlgeria                   584      35         37     512\nAndorra                   370       8         10     352\nAngola                      7       2          0       5\n...                       ...     ...        ...     ...\nVenezuela                 135       3         39      93\nVietnam                   203       0         55     148\nWest Bank and Gaza        116       1         18      97\nZambia                     35       0          0      35\nZimbabwe                    7       1          0       6\n\n[178 rows x 4 columns]",
      "text/html": "<div>\n<style scoped>\n    .dataframe tbody tr th:only-of-type {\n        vertical-align: middle;\n    }\n\n    .dataframe tbody tr th {\n        vertical-align: top;\n    }\n\n    .dataframe thead th {\n        text-align: right;\n    }\n</style>\n<table border=\"1\" class=\"dataframe\">\n  <thead>\n    <tr style=\"text-align: right;\">\n      <th></th>\n      <th>Confirmed</th>\n      <th>Deaths</th>\n      <th>Recovered</th>\n      <th>Active</th>\n    </tr>\n    <tr>\n      <th>Country_Region</th>\n      <th></th>\n      <th></th>\n      <th></th>\n      <th></th>\n    </tr>\n  </thead>\n  <tbody>\n    <tr>\n      <th>Afghanistan</th>\n      <td>170</td>\n      <td>4</td>\n      <td>2</td>\n      <td>164</td>\n    </tr>\n    <tr>\n      <th>Albania</th>\n      <td>223</td>\n      <td>11</td>\n      <td>44</td>\n      <td>168</td>\n    </tr>\n    <tr>\n      <th>Algeria</th>\n      <td>584</td>\n      <td>35</td>\n      <td>37</td>\n      <td>512</td>\n    </tr>\n    <tr>\n      <th>Andorra</th>\n      <td>370</td>\n      <td>8</td>\n      <td>10</td>\n      <td>352</td>\n    </tr>\n    <tr>\n      <th>Angola</th>\n      <td>7</td>\n      <td>2</td>\n      <td>0</td>\n      <td>5</td>\n    </tr>\n    <tr>\n      <th>...</th>\n      <td>...</td>\n      <td>...</td>\n      <td>...</td>\n      <td>...</td>\n    </tr>\n    <tr>\n      <th>Venezuela</th>\n      <td>135</td>\n      <td>3</td>\n      <td>39</td>\n      <td>93</td>\n    </tr>\n    <tr>\n      <th>Vietnam</th>\n      <td>203</td>\n      <td>0</td>\n      <td>55</td>\n      <td>148</td>\n    </tr>\n    <tr>\n      <th>West Bank and Gaza</th>\n      <td>116</td>\n      <td>1</td>\n      <td>18</td>\n      <td>97</td>\n    </tr>\n    <tr>\n      <th>Zambia</th>\n      <td>35</td>\n      <td>0</td>\n      <td>0</td>\n      <td>35</td>\n    </tr>\n    <tr>\n      <th>Zimbabwe</th>\n      <td>7</td>\n      <td>1</td>\n      <td>0</td>\n      <td>6</td>\n    </tr>\n  </tbody>\n</table>\n<p>178 rows × 4 columns</p>\n</div>"
     },
     "metadata": {},
     "execution_count": 8
    }
   ],
   "source": [
    "# construct a dataframe with five columns: \n",
    "# Country_Region (index), Confirmed, Deaths, Recovered, Active\n",
    "df_country_cases = covid_daily_df.groupby('Country_Region').agg({'Confirmed': np.sum, 'Deaths': np.sum, 'Recovered': np.sum, 'Active': np.sum})\n",
    "\n",
    "df_country_cases"
   ]
  },
  {
   "cell_type": "code",
   "execution_count": 10,
   "metadata": {},
   "outputs": [
    {
     "output_type": "execute_result",
     "data": {
      "text/plain": "0"
     },
     "metadata": {},
     "execution_count": 10
    }
   ],
   "source": [
    "# show counties that do not have any corona patients yet\n",
    "len(df_country_cases.loc[df_country_cases['Confirmed'] == 0])\n",
    ""
   ]
  },
  {
   "cell_type": "code",
   "execution_count": 11,
   "metadata": {},
   "outputs": [
    {
     "output_type": "execute_result",
     "data": {
      "text/plain": "                    Confirmed  Deaths  Recovered  Active  fatality_rate\nCountry_Region                                                         \nItaly                  101739   11591      14620   75528       0.113929\nSan Marino                230      25         13     192       0.108696\nSpain                   87956    7716      16780   63460       0.087726\nIndonesia                1414     122         75    1217       0.086280\nNetherlands             11817     865        253   10699       0.073200\nIraq                      630      46        152     432       0.073016\nFrance                  45170    3030       7964   34176       0.067080\nIran                    41495    2757      13911   24827       0.066442\nUnited Kingdom          22453    1411        171   20871       0.062842\nEgypt                     656      41        150     465       0.062500\nAlgeria                   584      35         37     512       0.059932\nMorocco                   556      33         15     508       0.059353\nPhilippines              1546      78         42    1426       0.050453\nHonduras                  139       7          3     129       0.050360\nAlbania                   223      11         44     168       0.049327\nBurkina Faso              246      12         31     203       0.048780\nDominican Republic        901      42          4     855       0.046615\nCameroon                  139       6          5     128       0.043165\nBelgium                 11899     513       1527    9859       0.043113\nChina                   82198    3308      75923    2967       0.040244\nSweden                   4028     146         16    3866       0.036246\nGreece                   1212      43         52    1117       0.035479\nBrazil                   4579     159        120    4300       0.034724\nHungary                   447      15         34     398       0.033557\nGhana                     152       5          2     145       0.032895",
      "text/html": "<div>\n<style scoped>\n    .dataframe tbody tr th:only-of-type {\n        vertical-align: middle;\n    }\n\n    .dataframe tbody tr th {\n        vertical-align: top;\n    }\n\n    .dataframe thead th {\n        text-align: right;\n    }\n</style>\n<table border=\"1\" class=\"dataframe\">\n  <thead>\n    <tr style=\"text-align: right;\">\n      <th></th>\n      <th>Confirmed</th>\n      <th>Deaths</th>\n      <th>Recovered</th>\n      <th>Active</th>\n      <th>fatality_rate</th>\n    </tr>\n    <tr>\n      <th>Country_Region</th>\n      <th></th>\n      <th></th>\n      <th></th>\n      <th></th>\n      <th></th>\n    </tr>\n  </thead>\n  <tbody>\n    <tr>\n      <th>Italy</th>\n      <td>101739</td>\n      <td>11591</td>\n      <td>14620</td>\n      <td>75528</td>\n      <td>0.113929</td>\n    </tr>\n    <tr>\n      <th>San Marino</th>\n      <td>230</td>\n      <td>25</td>\n      <td>13</td>\n      <td>192</td>\n      <td>0.108696</td>\n    </tr>\n    <tr>\n      <th>Spain</th>\n      <td>87956</td>\n      <td>7716</td>\n      <td>16780</td>\n      <td>63460</td>\n      <td>0.087726</td>\n    </tr>\n    <tr>\n      <th>Indonesia</th>\n      <td>1414</td>\n      <td>122</td>\n      <td>75</td>\n      <td>1217</td>\n      <td>0.086280</td>\n    </tr>\n    <tr>\n      <th>Netherlands</th>\n      <td>11817</td>\n      <td>865</td>\n      <td>253</td>\n      <td>10699</td>\n      <td>0.073200</td>\n    </tr>\n    <tr>\n      <th>Iraq</th>\n      <td>630</td>\n      <td>46</td>\n      <td>152</td>\n      <td>432</td>\n      <td>0.073016</td>\n    </tr>\n    <tr>\n      <th>France</th>\n      <td>45170</td>\n      <td>3030</td>\n      <td>7964</td>\n      <td>34176</td>\n      <td>0.067080</td>\n    </tr>\n    <tr>\n      <th>Iran</th>\n      <td>41495</td>\n      <td>2757</td>\n      <td>13911</td>\n      <td>24827</td>\n      <td>0.066442</td>\n    </tr>\n    <tr>\n      <th>United Kingdom</th>\n      <td>22453</td>\n      <td>1411</td>\n      <td>171</td>\n      <td>20871</td>\n      <td>0.062842</td>\n    </tr>\n    <tr>\n      <th>Egypt</th>\n      <td>656</td>\n      <td>41</td>\n      <td>150</td>\n      <td>465</td>\n      <td>0.062500</td>\n    </tr>\n    <tr>\n      <th>Algeria</th>\n      <td>584</td>\n      <td>35</td>\n      <td>37</td>\n      <td>512</td>\n      <td>0.059932</td>\n    </tr>\n    <tr>\n      <th>Morocco</th>\n      <td>556</td>\n      <td>33</td>\n      <td>15</td>\n      <td>508</td>\n      <td>0.059353</td>\n    </tr>\n    <tr>\n      <th>Philippines</th>\n      <td>1546</td>\n      <td>78</td>\n      <td>42</td>\n      <td>1426</td>\n      <td>0.050453</td>\n    </tr>\n    <tr>\n      <th>Honduras</th>\n      <td>139</td>\n      <td>7</td>\n      <td>3</td>\n      <td>129</td>\n      <td>0.050360</td>\n    </tr>\n    <tr>\n      <th>Albania</th>\n      <td>223</td>\n      <td>11</td>\n      <td>44</td>\n      <td>168</td>\n      <td>0.049327</td>\n    </tr>\n    <tr>\n      <th>Burkina Faso</th>\n      <td>246</td>\n      <td>12</td>\n      <td>31</td>\n      <td>203</td>\n      <td>0.048780</td>\n    </tr>\n    <tr>\n      <th>Dominican Republic</th>\n      <td>901</td>\n      <td>42</td>\n      <td>4</td>\n      <td>855</td>\n      <td>0.046615</td>\n    </tr>\n    <tr>\n      <th>Cameroon</th>\n      <td>139</td>\n      <td>6</td>\n      <td>5</td>\n      <td>128</td>\n      <td>0.043165</td>\n    </tr>\n    <tr>\n      <th>Belgium</th>\n      <td>11899</td>\n      <td>513</td>\n      <td>1527</td>\n      <td>9859</td>\n      <td>0.043113</td>\n    </tr>\n    <tr>\n      <th>China</th>\n      <td>82198</td>\n      <td>3308</td>\n      <td>75923</td>\n      <td>2967</td>\n      <td>0.040244</td>\n    </tr>\n    <tr>\n      <th>Sweden</th>\n      <td>4028</td>\n      <td>146</td>\n      <td>16</td>\n      <td>3866</td>\n      <td>0.036246</td>\n    </tr>\n    <tr>\n      <th>Greece</th>\n      <td>1212</td>\n      <td>43</td>\n      <td>52</td>\n      <td>1117</td>\n      <td>0.035479</td>\n    </tr>\n    <tr>\n      <th>Brazil</th>\n      <td>4579</td>\n      <td>159</td>\n      <td>120</td>\n      <td>4300</td>\n      <td>0.034724</td>\n    </tr>\n    <tr>\n      <th>Hungary</th>\n      <td>447</td>\n      <td>15</td>\n      <td>34</td>\n      <td>398</td>\n      <td>0.033557</td>\n    </tr>\n    <tr>\n      <th>Ghana</th>\n      <td>152</td>\n      <td>5</td>\n      <td>2</td>\n      <td>145</td>\n      <td>0.032895</td>\n    </tr>\n  </tbody>\n</table>\n</div>"
     },
     "metadata": {},
     "execution_count": 11
    }
   ],
   "source": [
    "# last operation tells that all countries in this csv file have confirmed cases. \n",
    "# now we can calculate the fatality rate\n",
    "\n",
    "df_country_cases['fatality_rate'] = df_country_cases.Deaths / df_country_cases.Confirmed\n",
    "\n",
    "fatalities = df_country_cases.query('(Deaths > 0) & (Confirmed > 100)') \\\n",
    "                            .sort_values(by = 'fatality_rate', ascending = False)\n",
    "\n",
    "fatalities[:25]"
   ]
  },
  {
   "cell_type": "code",
   "execution_count": 23,
   "metadata": {},
   "outputs": [
    {
     "output_type": "execute_result",
     "data": {
      "text/plain": "                      Confirmed  Deaths  Recovered  Active  fatality_rate\nCountry_Region                                                           \nQatar                       693       1         51     641       0.001443\nNew Zealand                 589       1         63     525       0.001698\nIceland                    1086       2        157     927       0.001842\nSouth Africa               1326       3         31    1292       0.002262\nUruguay                     310       1          0     309       0.003226\nChile                      2449       8        156    2285       0.003267\nKazakhstan                  302       1         21     280       0.003311\nIsrael                     4695      16        161    4518       0.003408\nSingapore                   879       3        228     648       0.003413\nAustralia                  4361      17        257    4087       0.003898\nEstonia                     715       3         20     692       0.004196\nRussia                     1836       9         66    1761       0.004902\nSaudi Arabia               1453       8        115    1330       0.005506\nThailand                   1524       9        229    1286       0.005906\nCote d'Ivoire               168       1          6     161       0.005952\nCosta Rica                  330       2          4     324       0.006061\nArmenia                     482       3         30     449       0.006224\nMoldova                     298       2         15     281       0.006711\nNorway                     4445      32         12    4401       0.007199\nCroatia                     790       6         67     717       0.007595\nCzechia                    3001      23         25    2953       0.007664\nBahrain                     515       4        279     232       0.007767\nBrunei                      127       1         38      88       0.007874\nUnited Arab Emirates        611       5         61     545       0.008183\nWest Bank and Gaza          116       1         18      97       0.008621",
      "text/html": "<div>\n<style scoped>\n    .dataframe tbody tr th:only-of-type {\n        vertical-align: middle;\n    }\n\n    .dataframe tbody tr th {\n        vertical-align: top;\n    }\n\n    .dataframe thead th {\n        text-align: right;\n    }\n</style>\n<table border=\"1\" class=\"dataframe\">\n  <thead>\n    <tr style=\"text-align: right;\">\n      <th></th>\n      <th>Confirmed</th>\n      <th>Deaths</th>\n      <th>Recovered</th>\n      <th>Active</th>\n      <th>fatality_rate</th>\n    </tr>\n    <tr>\n      <th>Country_Region</th>\n      <th></th>\n      <th></th>\n      <th></th>\n      <th></th>\n      <th></th>\n    </tr>\n  </thead>\n  <tbody>\n    <tr>\n      <th>Qatar</th>\n      <td>693</td>\n      <td>1</td>\n      <td>51</td>\n      <td>641</td>\n      <td>0.001443</td>\n    </tr>\n    <tr>\n      <th>New Zealand</th>\n      <td>589</td>\n      <td>1</td>\n      <td>63</td>\n      <td>525</td>\n      <td>0.001698</td>\n    </tr>\n    <tr>\n      <th>Iceland</th>\n      <td>1086</td>\n      <td>2</td>\n      <td>157</td>\n      <td>927</td>\n      <td>0.001842</td>\n    </tr>\n    <tr>\n      <th>South Africa</th>\n      <td>1326</td>\n      <td>3</td>\n      <td>31</td>\n      <td>1292</td>\n      <td>0.002262</td>\n    </tr>\n    <tr>\n      <th>Uruguay</th>\n      <td>310</td>\n      <td>1</td>\n      <td>0</td>\n      <td>309</td>\n      <td>0.003226</td>\n    </tr>\n    <tr>\n      <th>Chile</th>\n      <td>2449</td>\n      <td>8</td>\n      <td>156</td>\n      <td>2285</td>\n      <td>0.003267</td>\n    </tr>\n    <tr>\n      <th>Kazakhstan</th>\n      <td>302</td>\n      <td>1</td>\n      <td>21</td>\n      <td>280</td>\n      <td>0.003311</td>\n    </tr>\n    <tr>\n      <th>Israel</th>\n      <td>4695</td>\n      <td>16</td>\n      <td>161</td>\n      <td>4518</td>\n      <td>0.003408</td>\n    </tr>\n    <tr>\n      <th>Singapore</th>\n      <td>879</td>\n      <td>3</td>\n      <td>228</td>\n      <td>648</td>\n      <td>0.003413</td>\n    </tr>\n    <tr>\n      <th>Australia</th>\n      <td>4361</td>\n      <td>17</td>\n      <td>257</td>\n      <td>4087</td>\n      <td>0.003898</td>\n    </tr>\n    <tr>\n      <th>Estonia</th>\n      <td>715</td>\n      <td>3</td>\n      <td>20</td>\n      <td>692</td>\n      <td>0.004196</td>\n    </tr>\n    <tr>\n      <th>Russia</th>\n      <td>1836</td>\n      <td>9</td>\n      <td>66</td>\n      <td>1761</td>\n      <td>0.004902</td>\n    </tr>\n    <tr>\n      <th>Saudi Arabia</th>\n      <td>1453</td>\n      <td>8</td>\n      <td>115</td>\n      <td>1330</td>\n      <td>0.005506</td>\n    </tr>\n    <tr>\n      <th>Thailand</th>\n      <td>1524</td>\n      <td>9</td>\n      <td>229</td>\n      <td>1286</td>\n      <td>0.005906</td>\n    </tr>\n    <tr>\n      <th>Cote d'Ivoire</th>\n      <td>168</td>\n      <td>1</td>\n      <td>6</td>\n      <td>161</td>\n      <td>0.005952</td>\n    </tr>\n    <tr>\n      <th>Costa Rica</th>\n      <td>330</td>\n      <td>2</td>\n      <td>4</td>\n      <td>324</td>\n      <td>0.006061</td>\n    </tr>\n    <tr>\n      <th>Armenia</th>\n      <td>482</td>\n      <td>3</td>\n      <td>30</td>\n      <td>449</td>\n      <td>0.006224</td>\n    </tr>\n    <tr>\n      <th>Moldova</th>\n      <td>298</td>\n      <td>2</td>\n      <td>15</td>\n      <td>281</td>\n      <td>0.006711</td>\n    </tr>\n    <tr>\n      <th>Norway</th>\n      <td>4445</td>\n      <td>32</td>\n      <td>12</td>\n      <td>4401</td>\n      <td>0.007199</td>\n    </tr>\n    <tr>\n      <th>Croatia</th>\n      <td>790</td>\n      <td>6</td>\n      <td>67</td>\n      <td>717</td>\n      <td>0.007595</td>\n    </tr>\n    <tr>\n      <th>Czechia</th>\n      <td>3001</td>\n      <td>23</td>\n      <td>25</td>\n      <td>2953</td>\n      <td>0.007664</td>\n    </tr>\n    <tr>\n      <th>Bahrain</th>\n      <td>515</td>\n      <td>4</td>\n      <td>279</td>\n      <td>232</td>\n      <td>0.007767</td>\n    </tr>\n    <tr>\n      <th>Brunei</th>\n      <td>127</td>\n      <td>1</td>\n      <td>38</td>\n      <td>88</td>\n      <td>0.007874</td>\n    </tr>\n    <tr>\n      <th>United Arab Emirates</th>\n      <td>611</td>\n      <td>5</td>\n      <td>61</td>\n      <td>545</td>\n      <td>0.008183</td>\n    </tr>\n    <tr>\n      <th>West Bank and Gaza</th>\n      <td>116</td>\n      <td>1</td>\n      <td>18</td>\n      <td>97</td>\n      <td>0.008621</td>\n    </tr>\n  </tbody>\n</table>\n</div>"
     },
     "metadata": {},
     "execution_count": 23
    }
   ],
   "source": [
    "fatalities_asc = df_country_cases.query('(Deaths > 0) & (Confirmed > 100)').sort_values(by = 'fatality_rate', ascending = True)\n",
    "\n",
    "fatalities_asc[:25]"
   ]
  },
  {
   "cell_type": "code",
   "execution_count": 14,
   "metadata": {},
   "outputs": [
    {
     "output_type": "execute_result",
     "data": {
      "text/plain": "37534"
     },
     "metadata": {},
     "execution_count": 14
    }
   ],
   "source": [
    "fatalities.Deaths.sum()"
   ]
  },
  {
   "cell_type": "code",
   "execution_count": 26,
   "metadata": {},
   "outputs": [
    {
     "output_type": "execute_result",
     "data": {
      "text/plain": "0.04820140466500833"
     },
     "metadata": {},
     "execution_count": 26
    }
   ],
   "source": [
    "# fatalitiy over all countries having more than 100 confirmed cases. \n",
    "\n",
    "fatality_partial = fatalities.Deaths.sum() / fatalities.Confirmed.sum()\n",
    "\n",
    "fatality_partial"
   ]
  },
  {
   "cell_type": "code",
   "execution_count": 25,
   "metadata": {},
   "outputs": [
    {
     "output_type": "execute_result",
     "data": {
      "text/plain": "0.048036402446428456"
     },
     "metadata": {},
     "execution_count": 25
    }
   ],
   "source": [
    "# fatalitiy over all countries, regardless of how many confirmed cases and deaths. \n",
    "\n",
    "fatality_overall = df_country_cases.Deaths.sum() / df_country_cases.Confirmed.sum()\n",
    "\n",
    "fatality_overall"
   ]
  },
  {
   "cell_type": "code",
   "execution_count": 16,
   "metadata": {},
   "outputs": [],
   "source": [
    "# define a function which returns the rank of the fatality\n",
    "\n",
    "def fatality_rank( country: str, asc: bool ) -> int:\n",
    "    indices = fatalities.sort_values(by = 'fatality_rate', ascending = asc).index\n",
    "    return indices.get_loc(country)\n",
    ""
   ]
  },
  {
   "cell_type": "code",
   "execution_count": 17,
   "metadata": {},
   "outputs": [],
   "source": [
    "ranks_asc = fatalities.sort_values(by = 'fatality_rate', ascending = True).index\n",
    "\n",
    "def get_fatality_and_rank(country: str) -> pd.Series:\n",
    "    fatality = fatalities.loc[country].fatality_rate\n",
    "\n",
    "    rank_asc = ranks_asc.get_loc(country) + 1\n",
    "    rank_dsc = len(ranks_asc) - rank_asc + 1\n",
    "\n",
    "    return pd.Series({'Country_Region': country, 'fatality_rate': fatality, 'rank_asc': rank_asc, 'rank_dsc': rank_dsc})\n",
    ""
   ]
  },
  {
   "cell_type": "code",
   "execution_count": 18,
   "metadata": {},
   "outputs": [
    {
     "output_type": "execute_result",
     "data": {
      "text/plain": "Country_Region       Italy\nfatality_rate     0.113929\nrank_asc                96\nrank_dsc                 1\ndtype: object"
     },
     "metadata": {},
     "execution_count": 18
    }
   ],
   "source": [
    "# test the function get_fatality_and_rank\n",
    "\n",
    "get_fatality_and_rank('Italy')"
   ]
  },
  {
   "cell_type": "code",
   "execution_count": 19,
   "metadata": {},
   "outputs": [
    {
     "output_type": "execute_result",
     "data": {
      "text/plain": "  Country_Region  fatality_rate rank_asc rank_dsc\n0        Austria       0.011229       30       67\n1          China       0.040244       77       20\n2        Germany       0.009643       27       70\n3          Italy       0.113929       96        1\n4          Qatar       0.001443        1       96\n5      Singapore       0.003413        9       88\n6             US       0.018405       45       52",
      "text/html": "<div>\n<style scoped>\n    .dataframe tbody tr th:only-of-type {\n        vertical-align: middle;\n    }\n\n    .dataframe tbody tr th {\n        vertical-align: top;\n    }\n\n    .dataframe thead th {\n        text-align: right;\n    }\n</style>\n<table border=\"1\" class=\"dataframe\">\n  <thead>\n    <tr style=\"text-align: right;\">\n      <th></th>\n      <th>Country_Region</th>\n      <th>fatality_rate</th>\n      <th>rank_asc</th>\n      <th>rank_dsc</th>\n    </tr>\n  </thead>\n  <tbody>\n    <tr>\n      <th>0</th>\n      <td>Austria</td>\n      <td>0.011229</td>\n      <td>30</td>\n      <td>67</td>\n    </tr>\n    <tr>\n      <th>1</th>\n      <td>China</td>\n      <td>0.040244</td>\n      <td>77</td>\n      <td>20</td>\n    </tr>\n    <tr>\n      <th>2</th>\n      <td>Germany</td>\n      <td>0.009643</td>\n      <td>27</td>\n      <td>70</td>\n    </tr>\n    <tr>\n      <th>3</th>\n      <td>Italy</td>\n      <td>0.113929</td>\n      <td>96</td>\n      <td>1</td>\n    </tr>\n    <tr>\n      <th>4</th>\n      <td>Qatar</td>\n      <td>0.001443</td>\n      <td>1</td>\n      <td>96</td>\n    </tr>\n    <tr>\n      <th>5</th>\n      <td>Singapore</td>\n      <td>0.003413</td>\n      <td>9</td>\n      <td>88</td>\n    </tr>\n    <tr>\n      <th>6</th>\n      <td>US</td>\n      <td>0.018405</td>\n      <td>45</td>\n      <td>52</td>\n    </tr>\n  </tbody>\n</table>\n</div>"
     },
     "metadata": {},
     "execution_count": 19
    }
   ],
   "source": [
    "# how do these countries score in the fatality_rate?\n",
    "\n",
    "cols = ['Country_Region', 'fatality_rate', 'rank_asc', 'rank_dsc']\n",
    "countries = ['Austria', 'China', 'Germany', 'Italy', 'Qatar', 'Singapore', 'US']\n",
    "\n",
    "df_fatality_scores = pd.DataFrame(columns = cols)\n",
    "\n",
    "for country in countries:\n",
    "    df_fatality_scores = df_fatality_scores.append(get_fatality_and_rank(country), ignore_index=True)\n",
    "\n",
    "df_fatality_scores"
   ]
  },
  {
   "cell_type": "code",
   "execution_count": 20,
   "metadata": {},
   "outputs": [
    {
     "output_type": "execute_result",
     "data": {
      "text/plain": "count    96.000000\nmean      0.026130\nstd       0.023618\nmin       0.001443\n25%       0.008511\n50%       0.020262\n75%       0.033060\nmax       0.113929\nName: fatality_rate, dtype: float64"
     },
     "metadata": {},
     "execution_count": 20
    }
   ],
   "source": [
    "# basic statistics of the fatality\n",
    "fatalities.fatality_rate.describe()"
   ]
  },
  {
   "cell_type": "code",
   "execution_count": 21,
   "metadata": {},
   "outputs": [
    {
     "output_type": "stream",
     "name": "stdout",
     "text": "Fatality median is 0.020261576256727025 and mode is 0    0.023529\ndtype: float64\n"
    }
   ],
   "source": [
    "# median and mode of fatality rate\n",
    "\n",
    "fatality_median = fatalities.fatality_rate.median()\n",
    "fatality_mode = fatalities.fatality_rate.mode()\n",
    "\n",
    "print(\"Fatality median is {} and mode is {}\".format(fatality_median, fatality_mode))\n",
    ""
   ]
  },
  {
   "cell_type": "code",
   "execution_count": 22,
   "metadata": {},
   "outputs": [
    {
     "output_type": "execute_result",
     "data": {
      "text/plain": "Country_Region\nItaly              (0.103, 0.114]\nSan Marino         (0.103, 0.114]\nSpain            (0.0802, 0.0914]\nIndonesia        (0.0802, 0.0914]\nNetherlands      (0.0689, 0.0802]\n                      ...        \nUruguay         (0.00033, 0.0127]\nSouth Africa    (0.00033, 0.0127]\nIceland         (0.00033, 0.0127]\nNew Zealand     (0.00033, 0.0127]\nQatar           (0.00033, 0.0127]\nName: fatality_rate, Length: 96, dtype: category\nCategories (10, interval[float64]): [(0.00033, 0.0127] < (0.0127, 0.0239] < (0.0239, 0.0352] < (0.0352, 0.0464] ... (0.0689, 0.0802] < (0.0802, 0.0914] < (0.0914, 0.103] < (0.103, 0.114]]"
     },
     "metadata": {},
     "execution_count": 22
    }
   ],
   "source": [
    "# the mode above does not make sense, let's fix it.\n",
    "\n",
    "# first, segment and sort fatality values into bins\n",
    "bins = pd.cut(fatalities['fatality_rate'], 10, include_lowest=True)\n",
    "\n",
    "bins\n",
    "\n",
    "# I'd like to see the content of each bin, what to do?"
   ]
  },
  {
   "cell_type": "code",
   "execution_count": null,
   "metadata": {},
   "outputs": [],
   "source": []
  }
 ],
 "metadata": {
  "kernelspec": {
   "display_name": "Python 3",
   "language": "python",
   "name": "python3"
  },
  "language_info": {
   "codemirror_mode": {
    "name": "ipython",
    "version": 3
   },
   "file_extension": ".py",
   "mimetype": "text/x-python",
   "name": "python",
   "nbconvert_exporter": "python",
   "pygments_lexer": "ipython3",
   "version": "3.7.6-final"
  }
 },
 "nbformat": 4,
 "nbformat_minor": 4
}