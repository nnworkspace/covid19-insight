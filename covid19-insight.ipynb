{
 "cells": [
  {
   "cell_type": "markdown",
   "metadata": {},
   "source": [
    "# Covid-19 Data Wrangling in Python"
   ]
  },
  {
   "cell_type": "markdown",
   "metadata": {},
   "source": [
    "## Fatality statistics and ranks among countries"
   ]
  },
  {
   "cell_type": "code",
   "execution_count": 1,
   "metadata": {},
   "outputs": [
    {
     "output_type": "stream",
     "name": "stdout",
     "text": "pandas version:  1.0.3\nnumpy version:  1.18.1\n"
    }
   ],
   "source": [
    "import pandas as pd\n",
    "import numpy as np\n",
    "\n",
    "print('pandas version: ', pd.__version__)\n",
    "print('numpy version: ', np.version.version)"
   ]
  },
  {
   "cell_type": "code",
   "execution_count": 2,
   "metadata": {},
   "outputs": [
    {
     "output_type": "execute_result",
     "data": {
      "text/plain": "      FIPS     Admin2  Province_State Country_Region          Last_Update  \\\n0  45001.0  Abbeville  South Carolina             US  2020-04-01 21:58:49   \n1  22001.0     Acadia       Louisiana             US  2020-04-01 21:58:49   \n2  51001.0   Accomack        Virginia             US  2020-04-01 21:58:49   \n3  16001.0        Ada           Idaho             US  2020-04-01 21:58:49   \n4  19001.0      Adair            Iowa             US  2020-04-01 21:58:49   \n\n         Lat       Long_  Confirmed  Deaths  Recovered  Active  \\\n0  34.223334  -82.461707          4       0          0       0   \n1  30.295065  -92.414197         47       1          0       0   \n2  37.767072  -75.632346          7       0          0       0   \n3  43.452658 -116.241552        195       3          0       0   \n4  41.330756  -94.471059          1       0          0       0   \n\n                    Combined_Key  \n0  Abbeville, South Carolina, US  \n1          Acadia, Louisiana, US  \n2         Accomack, Virginia, US  \n3                 Ada, Idaho, US  \n4                Adair, Iowa, US  ",
      "text/html": "<div>\n<style scoped>\n    .dataframe tbody tr th:only-of-type {\n        vertical-align: middle;\n    }\n\n    .dataframe tbody tr th {\n        vertical-align: top;\n    }\n\n    .dataframe thead th {\n        text-align: right;\n    }\n</style>\n<table border=\"1\" class=\"dataframe\">\n  <thead>\n    <tr style=\"text-align: right;\">\n      <th></th>\n      <th>FIPS</th>\n      <th>Admin2</th>\n      <th>Province_State</th>\n      <th>Country_Region</th>\n      <th>Last_Update</th>\n      <th>Lat</th>\n      <th>Long_</th>\n      <th>Confirmed</th>\n      <th>Deaths</th>\n      <th>Recovered</th>\n      <th>Active</th>\n      <th>Combined_Key</th>\n    </tr>\n  </thead>\n  <tbody>\n    <tr>\n      <th>0</th>\n      <td>45001.0</td>\n      <td>Abbeville</td>\n      <td>South Carolina</td>\n      <td>US</td>\n      <td>2020-04-01 21:58:49</td>\n      <td>34.223334</td>\n      <td>-82.461707</td>\n      <td>4</td>\n      <td>0</td>\n      <td>0</td>\n      <td>0</td>\n      <td>Abbeville, South Carolina, US</td>\n    </tr>\n    <tr>\n      <th>1</th>\n      <td>22001.0</td>\n      <td>Acadia</td>\n      <td>Louisiana</td>\n      <td>US</td>\n      <td>2020-04-01 21:58:49</td>\n      <td>30.295065</td>\n      <td>-92.414197</td>\n      <td>47</td>\n      <td>1</td>\n      <td>0</td>\n      <td>0</td>\n      <td>Acadia, Louisiana, US</td>\n    </tr>\n    <tr>\n      <th>2</th>\n      <td>51001.0</td>\n      <td>Accomack</td>\n      <td>Virginia</td>\n      <td>US</td>\n      <td>2020-04-01 21:58:49</td>\n      <td>37.767072</td>\n      <td>-75.632346</td>\n      <td>7</td>\n      <td>0</td>\n      <td>0</td>\n      <td>0</td>\n      <td>Accomack, Virginia, US</td>\n    </tr>\n    <tr>\n      <th>3</th>\n      <td>16001.0</td>\n      <td>Ada</td>\n      <td>Idaho</td>\n      <td>US</td>\n      <td>2020-04-01 21:58:49</td>\n      <td>43.452658</td>\n      <td>-116.241552</td>\n      <td>195</td>\n      <td>3</td>\n      <td>0</td>\n      <td>0</td>\n      <td>Ada, Idaho, US</td>\n    </tr>\n    <tr>\n      <th>4</th>\n      <td>19001.0</td>\n      <td>Adair</td>\n      <td>Iowa</td>\n      <td>US</td>\n      <td>2020-04-01 21:58:49</td>\n      <td>41.330756</td>\n      <td>-94.471059</td>\n      <td>1</td>\n      <td>0</td>\n      <td>0</td>\n      <td>0</td>\n      <td>Adair, Iowa, US</td>\n    </tr>\n  </tbody>\n</table>\n</div>"
     },
     "metadata": {},
     "execution_count": 2
    }
   ],
   "source": [
    "covid_daily_df = pd.read_csv('data/2020-04-01.csv')\n",
    "\n",
    "covid_daily_df.head()"
   ]
  },
  {
   "cell_type": "code",
   "execution_count": 3,
   "metadata": {},
   "outputs": [
    {
     "output_type": "execute_result",
     "data": {
      "text/plain": "FIPS              float64\nAdmin2             object\nProvince_State     object\nCountry_Region     object\nLast_Update        object\nLat               float64\nLong_             float64\nConfirmed           int64\nDeaths              int64\nRecovered           int64\nActive              int64\nCombined_Key       object\ndtype: object"
     },
     "metadata": {},
     "execution_count": 3
    }
   ],
   "source": [
    "covid_daily_df.dtypes"
   ]
  },
  {
   "cell_type": "code",
   "execution_count": 4,
   "metadata": {},
   "outputs": [
    {
     "output_type": "execute_result",
     "data": {
      "text/plain": "(2485, 12)"
     },
     "metadata": {},
     "execution_count": 4
    }
   ],
   "source": [
    "covid_daily_df.shape"
   ]
  },
  {
   "cell_type": "code",
   "execution_count": 5,
   "metadata": {},
   "outputs": [
    {
     "output_type": "execute_result",
     "data": {
      "text/plain": "    FIPS     Admin2  Province_State Country_Region          Last_Update  \\\n0  45001  Abbeville  South Carolina             US  2020-04-01 21:58:49   \n1  22001     Acadia       Louisiana             US  2020-04-01 21:58:49   \n2  51001   Accomack        Virginia             US  2020-04-01 21:58:49   \n3  16001        Ada           Idaho             US  2020-04-01 21:58:49   \n4  19001      Adair            Iowa             US  2020-04-01 21:58:49   \n\n         Lat       Long_  Confirmed  Deaths  Recovered  Active  \\\n0  34.223334  -82.461707          4       0          0       0   \n1  30.295065  -92.414197         47       1          0       0   \n2  37.767072  -75.632346          7       0          0       0   \n3  43.452658 -116.241552        195       3          0       0   \n4  41.330756  -94.471059          1       0          0       0   \n\n                    Combined_Key  \n0  Abbeville, South Carolina, US  \n1          Acadia, Louisiana, US  \n2         Accomack, Virginia, US  \n3                 Ada, Idaho, US  \n4                Adair, Iowa, US  ",
      "text/html": "<div>\n<style scoped>\n    .dataframe tbody tr th:only-of-type {\n        vertical-align: middle;\n    }\n\n    .dataframe tbody tr th {\n        vertical-align: top;\n    }\n\n    .dataframe thead th {\n        text-align: right;\n    }\n</style>\n<table border=\"1\" class=\"dataframe\">\n  <thead>\n    <tr style=\"text-align: right;\">\n      <th></th>\n      <th>FIPS</th>\n      <th>Admin2</th>\n      <th>Province_State</th>\n      <th>Country_Region</th>\n      <th>Last_Update</th>\n      <th>Lat</th>\n      <th>Long_</th>\n      <th>Confirmed</th>\n      <th>Deaths</th>\n      <th>Recovered</th>\n      <th>Active</th>\n      <th>Combined_Key</th>\n    </tr>\n  </thead>\n  <tbody>\n    <tr>\n      <th>0</th>\n      <td>45001</td>\n      <td>Abbeville</td>\n      <td>South Carolina</td>\n      <td>US</td>\n      <td>2020-04-01 21:58:49</td>\n      <td>34.223334</td>\n      <td>-82.461707</td>\n      <td>4</td>\n      <td>0</td>\n      <td>0</td>\n      <td>0</td>\n      <td>Abbeville, South Carolina, US</td>\n    </tr>\n    <tr>\n      <th>1</th>\n      <td>22001</td>\n      <td>Acadia</td>\n      <td>Louisiana</td>\n      <td>US</td>\n      <td>2020-04-01 21:58:49</td>\n      <td>30.295065</td>\n      <td>-92.414197</td>\n      <td>47</td>\n      <td>1</td>\n      <td>0</td>\n      <td>0</td>\n      <td>Acadia, Louisiana, US</td>\n    </tr>\n    <tr>\n      <th>2</th>\n      <td>51001</td>\n      <td>Accomack</td>\n      <td>Virginia</td>\n      <td>US</td>\n      <td>2020-04-01 21:58:49</td>\n      <td>37.767072</td>\n      <td>-75.632346</td>\n      <td>7</td>\n      <td>0</td>\n      <td>0</td>\n      <td>0</td>\n      <td>Accomack, Virginia, US</td>\n    </tr>\n    <tr>\n      <th>3</th>\n      <td>16001</td>\n      <td>Ada</td>\n      <td>Idaho</td>\n      <td>US</td>\n      <td>2020-04-01 21:58:49</td>\n      <td>43.452658</td>\n      <td>-116.241552</td>\n      <td>195</td>\n      <td>3</td>\n      <td>0</td>\n      <td>0</td>\n      <td>Ada, Idaho, US</td>\n    </tr>\n    <tr>\n      <th>4</th>\n      <td>19001</td>\n      <td>Adair</td>\n      <td>Iowa</td>\n      <td>US</td>\n      <td>2020-04-01 21:58:49</td>\n      <td>41.330756</td>\n      <td>-94.471059</td>\n      <td>1</td>\n      <td>0</td>\n      <td>0</td>\n      <td>0</td>\n      <td>Adair, Iowa, US</td>\n    </tr>\n  </tbody>\n</table>\n</div>"
     },
     "metadata": {},
     "execution_count": 5
    }
   ],
   "source": [
    "# convert the FIPS County Code column to type of integer\n",
    "\n",
    "covid_daily_df.FIPS = covid_daily_df.FIPS.fillna(-1) # get rid of NA \n",
    "covid_daily_df.FIPS = covid_daily_df.FIPS.astype(int)\n",
    "\n",
    "covid_daily_df.head()"
   ]
  },
  {
   "cell_type": "code",
   "execution_count": 6,
   "metadata": {},
   "outputs": [
    {
     "output_type": "stream",
     "name": "stdout",
     "text": "['US' 'Canada' 'United Kingdom' 'China' 'Netherlands' 'Australia'\n 'Denmark' 'France' 'Afghanistan' 'Albania' 'Algeria' 'Andorra' 'Angola'\n 'Antigua and Barbuda' 'Argentina' 'Armenia' 'Austria' 'Azerbaijan'\n 'Bahamas' 'Bahrain' 'Bangladesh' 'Barbados' 'Belarus' 'Belgium' 'Belize'\n 'Benin' 'Bhutan' 'Bolivia' 'Bosnia and Herzegovina' 'Botswana' 'Brazil'\n 'Brunei' 'Bulgaria' 'Burkina Faso' 'Burma' 'Burundi' 'Cabo Verde'\n 'Cambodia' 'Cameroon' 'Central African Republic' 'Chad' 'Chile'\n 'Colombia' 'Congo (Brazzaville)' 'Congo (Kinshasa)' 'Costa Rica'\n \"Cote d'Ivoire\" 'Croatia' 'Cuba' 'Cyprus' 'Czechia' 'Diamond Princess'\n 'Djibouti' 'Dominica' 'Dominican Republic' 'Ecuador' 'Egypt'\n 'El Salvador' 'Equatorial Guinea' 'Eritrea' 'Estonia' 'Eswatini'\n 'Ethiopia' 'Fiji' 'Finland' 'Gabon' 'Gambia' 'Georgia' 'Germany' 'Ghana'\n 'Greece' 'Grenada' 'Guatemala' 'Guinea' 'Guinea-Bissau' 'Guyana' 'Haiti'\n 'Holy See' 'Honduras' 'Hungary' 'Iceland' 'India' 'Indonesia' 'Iran'\n 'Iraq' 'Ireland' 'Israel' 'Italy' 'Jamaica' 'Japan' 'Jordan' 'Kazakhstan'\n 'Kenya' 'Korea, South' 'Kosovo' 'Kuwait' 'Kyrgyzstan' 'Laos' 'Latvia'\n 'Lebanon' 'Liberia' 'Libya' 'Liechtenstein' 'Lithuania' 'Luxembourg'\n 'MS Zaandam' 'Madagascar' 'Malaysia' 'Maldives' 'Mali' 'Malta'\n 'Mauritania' 'Mauritius' 'Mexico' 'Moldova' 'Monaco' 'Mongolia'\n 'Montenegro' 'Morocco' 'Mozambique' 'Namibia' 'Nepal' 'New Zealand'\n 'Nicaragua' 'Niger' 'Nigeria' 'North Macedonia' 'Norway' 'Oman'\n 'Pakistan' 'Panama' 'Papua New Guinea' 'Paraguay' 'Peru' 'Philippines'\n 'Poland' 'Portugal' 'Qatar' 'Romania' 'Russia' 'Rwanda'\n 'Saint Kitts and Nevis' 'Saint Lucia' 'Saint Vincent and the Grenadines'\n 'San Marino' 'Saudi Arabia' 'Senegal' 'Serbia' 'Seychelles'\n 'Sierra Leone' 'Singapore' 'Slovakia' 'Slovenia' 'Somalia' 'South Africa'\n 'Spain' 'Sri Lanka' 'Sudan' 'Suriname' 'Sweden' 'Switzerland' 'Syria'\n 'Taiwan*' 'Tanzania' 'Thailand' 'Timor-Leste' 'Togo'\n 'Trinidad and Tobago' 'Tunisia' 'Turkey' 'Uganda' 'Ukraine'\n 'United Arab Emirates' 'Uruguay' 'Uzbekistan' 'Venezuela' 'Vietnam'\n 'West Bank and Gaza' 'Zambia' 'Zimbabwe']\n"
    },
    {
     "output_type": "execute_result",
     "data": {
      "text/plain": "180"
     },
     "metadata": {},
     "execution_count": 6
    }
   ],
   "source": [
    "# show all unique Country_Region codes\n",
    "\n",
    "countries = covid_daily_df.Country_Region.unique()\n",
    "print(countries)\n",
    "len(countries)"
   ]
  },
  {
   "cell_type": "code",
   "execution_count": 7,
   "metadata": {},
   "outputs": [
    {
     "output_type": "execute_result",
     "data": {
      "text/plain": "                    Confirmed\nCountry_Region               \nAfghanistan               237\nAlbania                   259\nAlgeria                   847\nAndorra                   390\nAngola                      8\n...                       ...\nVenezuela                 143\nVietnam                   218\nWest Bank and Gaza        134\nZambia                     36\nZimbabwe                    8\n\n[180 rows x 1 columns]",
      "text/html": "<div>\n<style scoped>\n    .dataframe tbody tr th:only-of-type {\n        vertical-align: middle;\n    }\n\n    .dataframe tbody tr th {\n        vertical-align: top;\n    }\n\n    .dataframe thead th {\n        text-align: right;\n    }\n</style>\n<table border=\"1\" class=\"dataframe\">\n  <thead>\n    <tr style=\"text-align: right;\">\n      <th></th>\n      <th>Confirmed</th>\n    </tr>\n    <tr>\n      <th>Country_Region</th>\n      <th></th>\n    </tr>\n  </thead>\n  <tbody>\n    <tr>\n      <th>Afghanistan</th>\n      <td>237</td>\n    </tr>\n    <tr>\n      <th>Albania</th>\n      <td>259</td>\n    </tr>\n    <tr>\n      <th>Algeria</th>\n      <td>847</td>\n    </tr>\n    <tr>\n      <th>Andorra</th>\n      <td>390</td>\n    </tr>\n    <tr>\n      <th>Angola</th>\n      <td>8</td>\n    </tr>\n    <tr>\n      <th>...</th>\n      <td>...</td>\n    </tr>\n    <tr>\n      <th>Venezuela</th>\n      <td>143</td>\n    </tr>\n    <tr>\n      <th>Vietnam</th>\n      <td>218</td>\n    </tr>\n    <tr>\n      <th>West Bank and Gaza</th>\n      <td>134</td>\n    </tr>\n    <tr>\n      <th>Zambia</th>\n      <td>36</td>\n    </tr>\n    <tr>\n      <th>Zimbabwe</th>\n      <td>8</td>\n    </tr>\n  </tbody>\n</table>\n<p>180 rows × 1 columns</p>\n</div>"
     },
     "metadata": {},
     "execution_count": 7
    }
   ],
   "source": [
    "# statistics grouped by countries\n",
    "covid_daily_df.groupby('Country_Region').agg({'Confirmed': np.sum})"
   ]
  },
  {
   "cell_type": "code",
   "execution_count": 8,
   "metadata": {},
   "outputs": [
    {
     "output_type": "execute_result",
     "data": {
      "text/plain": "                    Confirmed  Deaths  Recovered  Active\nCountry_Region                                          \nAfghanistan               237       4          5     228\nAlbania                   259      15         67     177\nAlgeria                   847      58         61     728\nAndorra                   390      14         10     366\nAngola                      8       2          1       5\n...                       ...     ...        ...     ...\nVenezuela                 143       3         41      99\nVietnam                   218       0         63     155\nWest Bank and Gaza        134       1         18     115\nZambia                     36       0          0      36\nZimbabwe                    8       1          0       7\n\n[180 rows x 4 columns]",
      "text/html": "<div>\n<style scoped>\n    .dataframe tbody tr th:only-of-type {\n        vertical-align: middle;\n    }\n\n    .dataframe tbody tr th {\n        vertical-align: top;\n    }\n\n    .dataframe thead th {\n        text-align: right;\n    }\n</style>\n<table border=\"1\" class=\"dataframe\">\n  <thead>\n    <tr style=\"text-align: right;\">\n      <th></th>\n      <th>Confirmed</th>\n      <th>Deaths</th>\n      <th>Recovered</th>\n      <th>Active</th>\n    </tr>\n    <tr>\n      <th>Country_Region</th>\n      <th></th>\n      <th></th>\n      <th></th>\n      <th></th>\n    </tr>\n  </thead>\n  <tbody>\n    <tr>\n      <th>Afghanistan</th>\n      <td>237</td>\n      <td>4</td>\n      <td>5</td>\n      <td>228</td>\n    </tr>\n    <tr>\n      <th>Albania</th>\n      <td>259</td>\n      <td>15</td>\n      <td>67</td>\n      <td>177</td>\n    </tr>\n    <tr>\n      <th>Algeria</th>\n      <td>847</td>\n      <td>58</td>\n      <td>61</td>\n      <td>728</td>\n    </tr>\n    <tr>\n      <th>Andorra</th>\n      <td>390</td>\n      <td>14</td>\n      <td>10</td>\n      <td>366</td>\n    </tr>\n    <tr>\n      <th>Angola</th>\n      <td>8</td>\n      <td>2</td>\n      <td>1</td>\n      <td>5</td>\n    </tr>\n    <tr>\n      <th>...</th>\n      <td>...</td>\n      <td>...</td>\n      <td>...</td>\n      <td>...</td>\n    </tr>\n    <tr>\n      <th>Venezuela</th>\n      <td>143</td>\n      <td>3</td>\n      <td>41</td>\n      <td>99</td>\n    </tr>\n    <tr>\n      <th>Vietnam</th>\n      <td>218</td>\n      <td>0</td>\n      <td>63</td>\n      <td>155</td>\n    </tr>\n    <tr>\n      <th>West Bank and Gaza</th>\n      <td>134</td>\n      <td>1</td>\n      <td>18</td>\n      <td>115</td>\n    </tr>\n    <tr>\n      <th>Zambia</th>\n      <td>36</td>\n      <td>0</td>\n      <td>0</td>\n      <td>36</td>\n    </tr>\n    <tr>\n      <th>Zimbabwe</th>\n      <td>8</td>\n      <td>1</td>\n      <td>0</td>\n      <td>7</td>\n    </tr>\n  </tbody>\n</table>\n<p>180 rows × 4 columns</p>\n</div>"
     },
     "metadata": {},
     "execution_count": 8
    }
   ],
   "source": [
    "# construct a dataframe with five columns: \n",
    "# Country_Region (index), Confirmed, Deaths, Recovered, Active\n",
    "df_country_cases = covid_daily_df.groupby('Country_Region').agg({'Confirmed': np.sum, 'Deaths': np.sum, 'Recovered': np.sum, 'Active': np.sum})\n",
    "\n",
    "df_country_cases"
   ]
  },
  {
   "cell_type": "code",
   "execution_count": 9,
   "metadata": {},
   "outputs": [
    {
     "output_type": "execute_result",
     "data": {
      "text/plain": "0"
     },
     "metadata": {},
     "execution_count": 9
    }
   ],
   "source": [
    "# show counties that do not have any corona patients yet\n",
    "len(df_country_cases.loc[df_country_cases['Confirmed'] == 0])"
   ]
  },
  {
   "cell_type": "code",
   "execution_count": 10,
   "metadata": {},
   "outputs": [
    {
     "output_type": "execute_result",
     "data": {
      "text/plain": "                     Confirmed  Deaths  Recovered  Active  fatality_rate\nCountry_Region                                                          \nItaly                   110574   13155      16847   80572       0.118970\nBangladesh                  54       6         25      23       0.111111\nSan Marino                 236      26         13     197       0.110169\nMali                        31       3          0      28       0.096774\nIndonesia                 1677     157        103    1417       0.093620\nSpain                   104118    9387      22647   72084       0.090157\nNetherlands              13696    1175        260   12261       0.085791\nCongo (Kinshasa)           109       9          3      97       0.082569\nUnited Kingdom           29865    2357        179   27329       0.078922\nIraq                       728      52        182     494       0.071429\nFrance                   57749    4043      11053   42653       0.070010\nAlgeria                    847      58         61     728       0.068477\nJamaica                     44       3          2      39       0.068182\nNiger                       74       5          0      69       0.067568\nEgypt                      779      52        179     548       0.066752\nIran                     47593    3036      15473   29084       0.063791\nBolivia                    115       7          1     107       0.060870\nMorocco                    654      39         29     586       0.059633\nBelgium                  13964     828       2132   11004       0.059295\nHonduras                   172      10          3     159       0.058140\nAlbania                    259      15         67     177       0.057915\nBurkina Faso               282      16         46     220       0.056738\nTrinidad and Tobago         90       5          1      84       0.055556\nTogo                        36       2         10      24       0.055556\nSweden                    4947     239        103    4605       0.048312",
      "text/html": "<div>\n<style scoped>\n    .dataframe tbody tr th:only-of-type {\n        vertical-align: middle;\n    }\n\n    .dataframe tbody tr th {\n        vertical-align: top;\n    }\n\n    .dataframe thead th {\n        text-align: right;\n    }\n</style>\n<table border=\"1\" class=\"dataframe\">\n  <thead>\n    <tr style=\"text-align: right;\">\n      <th></th>\n      <th>Confirmed</th>\n      <th>Deaths</th>\n      <th>Recovered</th>\n      <th>Active</th>\n      <th>fatality_rate</th>\n    </tr>\n    <tr>\n      <th>Country_Region</th>\n      <th></th>\n      <th></th>\n      <th></th>\n      <th></th>\n      <th></th>\n    </tr>\n  </thead>\n  <tbody>\n    <tr>\n      <th>Italy</th>\n      <td>110574</td>\n      <td>13155</td>\n      <td>16847</td>\n      <td>80572</td>\n      <td>0.118970</td>\n    </tr>\n    <tr>\n      <th>Bangladesh</th>\n      <td>54</td>\n      <td>6</td>\n      <td>25</td>\n      <td>23</td>\n      <td>0.111111</td>\n    </tr>\n    <tr>\n      <th>San Marino</th>\n      <td>236</td>\n      <td>26</td>\n      <td>13</td>\n      <td>197</td>\n      <td>0.110169</td>\n    </tr>\n    <tr>\n      <th>Mali</th>\n      <td>31</td>\n      <td>3</td>\n      <td>0</td>\n      <td>28</td>\n      <td>0.096774</td>\n    </tr>\n    <tr>\n      <th>Indonesia</th>\n      <td>1677</td>\n      <td>157</td>\n      <td>103</td>\n      <td>1417</td>\n      <td>0.093620</td>\n    </tr>\n    <tr>\n      <th>Spain</th>\n      <td>104118</td>\n      <td>9387</td>\n      <td>22647</td>\n      <td>72084</td>\n      <td>0.090157</td>\n    </tr>\n    <tr>\n      <th>Netherlands</th>\n      <td>13696</td>\n      <td>1175</td>\n      <td>260</td>\n      <td>12261</td>\n      <td>0.085791</td>\n    </tr>\n    <tr>\n      <th>Congo (Kinshasa)</th>\n      <td>109</td>\n      <td>9</td>\n      <td>3</td>\n      <td>97</td>\n      <td>0.082569</td>\n    </tr>\n    <tr>\n      <th>United Kingdom</th>\n      <td>29865</td>\n      <td>2357</td>\n      <td>179</td>\n      <td>27329</td>\n      <td>0.078922</td>\n    </tr>\n    <tr>\n      <th>Iraq</th>\n      <td>728</td>\n      <td>52</td>\n      <td>182</td>\n      <td>494</td>\n      <td>0.071429</td>\n    </tr>\n    <tr>\n      <th>France</th>\n      <td>57749</td>\n      <td>4043</td>\n      <td>11053</td>\n      <td>42653</td>\n      <td>0.070010</td>\n    </tr>\n    <tr>\n      <th>Algeria</th>\n      <td>847</td>\n      <td>58</td>\n      <td>61</td>\n      <td>728</td>\n      <td>0.068477</td>\n    </tr>\n    <tr>\n      <th>Jamaica</th>\n      <td>44</td>\n      <td>3</td>\n      <td>2</td>\n      <td>39</td>\n      <td>0.068182</td>\n    </tr>\n    <tr>\n      <th>Niger</th>\n      <td>74</td>\n      <td>5</td>\n      <td>0</td>\n      <td>69</td>\n      <td>0.067568</td>\n    </tr>\n    <tr>\n      <th>Egypt</th>\n      <td>779</td>\n      <td>52</td>\n      <td>179</td>\n      <td>548</td>\n      <td>0.066752</td>\n    </tr>\n    <tr>\n      <th>Iran</th>\n      <td>47593</td>\n      <td>3036</td>\n      <td>15473</td>\n      <td>29084</td>\n      <td>0.063791</td>\n    </tr>\n    <tr>\n      <th>Bolivia</th>\n      <td>115</td>\n      <td>7</td>\n      <td>1</td>\n      <td>107</td>\n      <td>0.060870</td>\n    </tr>\n    <tr>\n      <th>Morocco</th>\n      <td>654</td>\n      <td>39</td>\n      <td>29</td>\n      <td>586</td>\n      <td>0.059633</td>\n    </tr>\n    <tr>\n      <th>Belgium</th>\n      <td>13964</td>\n      <td>828</td>\n      <td>2132</td>\n      <td>11004</td>\n      <td>0.059295</td>\n    </tr>\n    <tr>\n      <th>Honduras</th>\n      <td>172</td>\n      <td>10</td>\n      <td>3</td>\n      <td>159</td>\n      <td>0.058140</td>\n    </tr>\n    <tr>\n      <th>Albania</th>\n      <td>259</td>\n      <td>15</td>\n      <td>67</td>\n      <td>177</td>\n      <td>0.057915</td>\n    </tr>\n    <tr>\n      <th>Burkina Faso</th>\n      <td>282</td>\n      <td>16</td>\n      <td>46</td>\n      <td>220</td>\n      <td>0.056738</td>\n    </tr>\n    <tr>\n      <th>Trinidad and Tobago</th>\n      <td>90</td>\n      <td>5</td>\n      <td>1</td>\n      <td>84</td>\n      <td>0.055556</td>\n    </tr>\n    <tr>\n      <th>Togo</th>\n      <td>36</td>\n      <td>2</td>\n      <td>10</td>\n      <td>24</td>\n      <td>0.055556</td>\n    </tr>\n    <tr>\n      <th>Sweden</th>\n      <td>4947</td>\n      <td>239</td>\n      <td>103</td>\n      <td>4605</td>\n      <td>0.048312</td>\n    </tr>\n  </tbody>\n</table>\n</div>"
     },
     "metadata": {},
     "execution_count": 10
    }
   ],
   "source": [
    "# last operation tells that all countries in this csv file have confirmed cases. \n",
    "# now we can calculate the fatality rate\n",
    "\n",
    "df_country_cases['fatality_rate'] = df_country_cases.Deaths / df_country_cases.Confirmed\n",
    "\n",
    "fatalities = df_country_cases.query('(Deaths > 0) & (Confirmed > 30)') \\\n",
    "                            .sort_values(by = 'fatality_rate', ascending = False)\n",
    "\n",
    "fatalities[:25]"
   ]
  },
  {
   "cell_type": "code",
   "execution_count": 11,
   "metadata": {},
   "outputs": [
    {
     "output_type": "execute_result",
     "data": {
      "text/plain": "                    Confirmed  Deaths  Recovered  Active  fatality_rate\nCountry_Region                                                         \nNew Zealand               708       1         83     624       0.001412\nIceland                  1220       2        225     993       0.001639\nQatar                     835       2         71     762       0.002395\nSlovakia                  400       1          3     396       0.002500\nSingapore                1000       3        245     752       0.003000\nSouth Africa             1380       5         50    1325       0.003623\nAustralia                4862      20        422    4420       0.004114\nIsrael                   6092      26        241    5825       0.004268\nOman                      210       1         34     175       0.004762\nCote d'Ivoire             190       1          9     180       0.005263\nSenegal                   190       1         45     144       0.005263\nChile                    3031      16        234    2781       0.005279\nCosta Rica                375       2          4     369       0.005333\nUruguay                   338       2         41     295       0.005917\nCroatia                   963       6         73     884       0.006231\nEstonia                   779       5         33     741       0.006418\nThailand                 1771      12        505    1254       0.006776\nArmenia                   571       4         31     536       0.007005\nBahrain                   569       4        337     228       0.007030\nWest Bank and Gaza        134       1         18     115       0.007463\nBrunei                    131       1         52      78       0.007634\nKazakhstan                380       3         26     351       0.007895\nKosovo                    125       1         10     114       0.008000\nRussia                   2777      24        190    2563       0.008642\nNorway                   4863      44         13    4806       0.009048",
      "text/html": "<div>\n<style scoped>\n    .dataframe tbody tr th:only-of-type {\n        vertical-align: middle;\n    }\n\n    .dataframe tbody tr th {\n        vertical-align: top;\n    }\n\n    .dataframe thead th {\n        text-align: right;\n    }\n</style>\n<table border=\"1\" class=\"dataframe\">\n  <thead>\n    <tr style=\"text-align: right;\">\n      <th></th>\n      <th>Confirmed</th>\n      <th>Deaths</th>\n      <th>Recovered</th>\n      <th>Active</th>\n      <th>fatality_rate</th>\n    </tr>\n    <tr>\n      <th>Country_Region</th>\n      <th></th>\n      <th></th>\n      <th></th>\n      <th></th>\n      <th></th>\n    </tr>\n  </thead>\n  <tbody>\n    <tr>\n      <th>New Zealand</th>\n      <td>708</td>\n      <td>1</td>\n      <td>83</td>\n      <td>624</td>\n      <td>0.001412</td>\n    </tr>\n    <tr>\n      <th>Iceland</th>\n      <td>1220</td>\n      <td>2</td>\n      <td>225</td>\n      <td>993</td>\n      <td>0.001639</td>\n    </tr>\n    <tr>\n      <th>Qatar</th>\n      <td>835</td>\n      <td>2</td>\n      <td>71</td>\n      <td>762</td>\n      <td>0.002395</td>\n    </tr>\n    <tr>\n      <th>Slovakia</th>\n      <td>400</td>\n      <td>1</td>\n      <td>3</td>\n      <td>396</td>\n      <td>0.002500</td>\n    </tr>\n    <tr>\n      <th>Singapore</th>\n      <td>1000</td>\n      <td>3</td>\n      <td>245</td>\n      <td>752</td>\n      <td>0.003000</td>\n    </tr>\n    <tr>\n      <th>South Africa</th>\n      <td>1380</td>\n      <td>5</td>\n      <td>50</td>\n      <td>1325</td>\n      <td>0.003623</td>\n    </tr>\n    <tr>\n      <th>Australia</th>\n      <td>4862</td>\n      <td>20</td>\n      <td>422</td>\n      <td>4420</td>\n      <td>0.004114</td>\n    </tr>\n    <tr>\n      <th>Israel</th>\n      <td>6092</td>\n      <td>26</td>\n      <td>241</td>\n      <td>5825</td>\n      <td>0.004268</td>\n    </tr>\n    <tr>\n      <th>Oman</th>\n      <td>210</td>\n      <td>1</td>\n      <td>34</td>\n      <td>175</td>\n      <td>0.004762</td>\n    </tr>\n    <tr>\n      <th>Cote d'Ivoire</th>\n      <td>190</td>\n      <td>1</td>\n      <td>9</td>\n      <td>180</td>\n      <td>0.005263</td>\n    </tr>\n    <tr>\n      <th>Senegal</th>\n      <td>190</td>\n      <td>1</td>\n      <td>45</td>\n      <td>144</td>\n      <td>0.005263</td>\n    </tr>\n    <tr>\n      <th>Chile</th>\n      <td>3031</td>\n      <td>16</td>\n      <td>234</td>\n      <td>2781</td>\n      <td>0.005279</td>\n    </tr>\n    <tr>\n      <th>Costa Rica</th>\n      <td>375</td>\n      <td>2</td>\n      <td>4</td>\n      <td>369</td>\n      <td>0.005333</td>\n    </tr>\n    <tr>\n      <th>Uruguay</th>\n      <td>338</td>\n      <td>2</td>\n      <td>41</td>\n      <td>295</td>\n      <td>0.005917</td>\n    </tr>\n    <tr>\n      <th>Croatia</th>\n      <td>963</td>\n      <td>6</td>\n      <td>73</td>\n      <td>884</td>\n      <td>0.006231</td>\n    </tr>\n    <tr>\n      <th>Estonia</th>\n      <td>779</td>\n      <td>5</td>\n      <td>33</td>\n      <td>741</td>\n      <td>0.006418</td>\n    </tr>\n    <tr>\n      <th>Thailand</th>\n      <td>1771</td>\n      <td>12</td>\n      <td>505</td>\n      <td>1254</td>\n      <td>0.006776</td>\n    </tr>\n    <tr>\n      <th>Armenia</th>\n      <td>571</td>\n      <td>4</td>\n      <td>31</td>\n      <td>536</td>\n      <td>0.007005</td>\n    </tr>\n    <tr>\n      <th>Bahrain</th>\n      <td>569</td>\n      <td>4</td>\n      <td>337</td>\n      <td>228</td>\n      <td>0.007030</td>\n    </tr>\n    <tr>\n      <th>West Bank and Gaza</th>\n      <td>134</td>\n      <td>1</td>\n      <td>18</td>\n      <td>115</td>\n      <td>0.007463</td>\n    </tr>\n    <tr>\n      <th>Brunei</th>\n      <td>131</td>\n      <td>1</td>\n      <td>52</td>\n      <td>78</td>\n      <td>0.007634</td>\n    </tr>\n    <tr>\n      <th>Kazakhstan</th>\n      <td>380</td>\n      <td>3</td>\n      <td>26</td>\n      <td>351</td>\n      <td>0.007895</td>\n    </tr>\n    <tr>\n      <th>Kosovo</th>\n      <td>125</td>\n      <td>1</td>\n      <td>10</td>\n      <td>114</td>\n      <td>0.008000</td>\n    </tr>\n    <tr>\n      <th>Russia</th>\n      <td>2777</td>\n      <td>24</td>\n      <td>190</td>\n      <td>2563</td>\n      <td>0.008642</td>\n    </tr>\n    <tr>\n      <th>Norway</th>\n      <td>4863</td>\n      <td>44</td>\n      <td>13</td>\n      <td>4806</td>\n      <td>0.009048</td>\n    </tr>\n  </tbody>\n</table>\n</div>"
     },
     "metadata": {},
     "execution_count": 11
    }
   ],
   "source": [
    "fatalities_asc = df_country_cases.query('(Deaths > 0) & (Confirmed > 25)').sort_values(by = 'fatality_rate', ascending = True)\n",
    "\n",
    "fatalities_asc[:25]"
   ]
  },
  {
   "cell_type": "code",
   "execution_count": 12,
   "metadata": {},
   "outputs": [
    {
     "output_type": "execute_result",
     "data": {
      "text/plain": "46809"
     },
     "metadata": {},
     "execution_count": 12
    }
   ],
   "source": [
    "df_country_cases.Deaths.sum()"
   ]
  },
  {
   "cell_type": "code",
   "execution_count": 13,
   "metadata": {},
   "outputs": [
    {
     "output_type": "execute_result",
     "data": {
      "text/plain": "0.05029815110837822"
     },
     "metadata": {},
     "execution_count": 13
    }
   ],
   "source": [
    "# fatalitiy over all countries having more than 30 confirmed cases. \n",
    "\n",
    "fatality_partial = fatalities.Deaths.sum() / fatalities.Confirmed.sum()\n",
    "\n",
    "fatality_partial"
   ]
  },
  {
   "cell_type": "code",
   "execution_count": 14,
   "metadata": {},
   "outputs": [
    {
     "output_type": "execute_result",
     "data": {
      "text/plain": "0.050191667426187934"
     },
     "metadata": {},
     "execution_count": 14
    }
   ],
   "source": [
    "# fatalitiy over all countries, regardless of how many confirmed cases and deaths. \n",
    "\n",
    "fatality_overall = df_country_cases.Deaths.sum() / df_country_cases.Confirmed.sum()\n",
    "\n",
    "fatality_overall"
   ]
  },
  {
   "cell_type": "code",
   "execution_count": 15,
   "metadata": {},
   "outputs": [],
   "source": [
    "# define a function which returns the rank of the fatality\n",
    "\n",
    "def fatality_rank( country: str, asc: bool ) -> int:\n",
    "    indices = fatalities.sort_values(by = 'fatality_rate', ascending = asc).index\n",
    "    return indices.get_loc(country)\n",
    ""
   ]
  },
  {
   "cell_type": "code",
   "execution_count": 16,
   "metadata": {},
   "outputs": [],
   "source": [
    "ranks_asc = fatalities.sort_values(by = 'fatality_rate', ascending = True).index\n",
    "\n",
    "def get_fatality_and_rank(country: str) -> pd.Series:\n",
    "    fatality = fatalities.loc[country].fatality_rate\n",
    "\n",
    "    rank_asc = ranks_asc.get_loc(country) + 1\n",
    "    rank_dsc = len(ranks_asc) - rank_asc + 1\n",
    "\n",
    "    return pd.Series({'Country_Region': country, 'fatality_rate': fatality, 'rank_asc': rank_asc, 'rank_dsc': rank_dsc})\n",
    ""
   ]
  },
  {
   "cell_type": "code",
   "execution_count": 17,
   "metadata": {},
   "outputs": [
    {
     "output_type": "execute_result",
     "data": {
      "text/plain": "Country_Region      Italy\nfatality_rate     0.11897\nrank_asc              115\nrank_dsc                1\ndtype: object"
     },
     "metadata": {},
     "execution_count": 17
    }
   ],
   "source": [
    "# test the function get_fatality_and_rank\n",
    "\n",
    "get_fatality_and_rank('Italy')"
   ]
  },
  {
   "cell_type": "code",
   "execution_count": 18,
   "metadata": {},
   "outputs": [
    {
     "output_type": "execute_result",
     "data": {
      "text/plain": "  Country_Region  fatality_rate rank_asc rank_dsc\n0        Austria       0.013631       39       77\n1          China       0.040262       87       29\n2        Germany       0.011814       33       83\n3          Italy       0.118970      115        1\n4    New Zealand       0.001412        1      115\n5      Singapore       0.003000        5      111\n6             US       0.022294       56       60",
      "text/html": "<div>\n<style scoped>\n    .dataframe tbody tr th:only-of-type {\n        vertical-align: middle;\n    }\n\n    .dataframe tbody tr th {\n        vertical-align: top;\n    }\n\n    .dataframe thead th {\n        text-align: right;\n    }\n</style>\n<table border=\"1\" class=\"dataframe\">\n  <thead>\n    <tr style=\"text-align: right;\">\n      <th></th>\n      <th>Country_Region</th>\n      <th>fatality_rate</th>\n      <th>rank_asc</th>\n      <th>rank_dsc</th>\n    </tr>\n  </thead>\n  <tbody>\n    <tr>\n      <th>0</th>\n      <td>Austria</td>\n      <td>0.013631</td>\n      <td>39</td>\n      <td>77</td>\n    </tr>\n    <tr>\n      <th>1</th>\n      <td>China</td>\n      <td>0.040262</td>\n      <td>87</td>\n      <td>29</td>\n    </tr>\n    <tr>\n      <th>2</th>\n      <td>Germany</td>\n      <td>0.011814</td>\n      <td>33</td>\n      <td>83</td>\n    </tr>\n    <tr>\n      <th>3</th>\n      <td>Italy</td>\n      <td>0.118970</td>\n      <td>115</td>\n      <td>1</td>\n    </tr>\n    <tr>\n      <th>4</th>\n      <td>New Zealand</td>\n      <td>0.001412</td>\n      <td>1</td>\n      <td>115</td>\n    </tr>\n    <tr>\n      <th>5</th>\n      <td>Singapore</td>\n      <td>0.003000</td>\n      <td>5</td>\n      <td>111</td>\n    </tr>\n    <tr>\n      <th>6</th>\n      <td>US</td>\n      <td>0.022294</td>\n      <td>56</td>\n      <td>60</td>\n    </tr>\n  </tbody>\n</table>\n</div>"
     },
     "metadata": {},
     "execution_count": 18
    }
   ],
   "source": [
    "# how do these countries score in the fatality_rate?\n",
    "\n",
    "cols = ['Country_Region', 'fatality_rate', 'rank_asc', 'rank_dsc']\n",
    "countries = ['Austria', 'China', 'Germany', 'Italy', 'New Zealand', 'Singapore', 'US']\n",
    "\n",
    "df_fatality_scores = pd.DataFrame(columns = cols)\n",
    "\n",
    "for country in countries:\n",
    "    df_fatality_scores = df_fatality_scores.append(get_fatality_and_rank(country), ignore_index=True)\n",
    "\n",
    "df_fatality_scores"
   ]
  },
  {
   "cell_type": "code",
   "execution_count": 19,
   "metadata": {},
   "outputs": [
    {
     "output_type": "execute_result",
     "data": {
      "text/plain": "count    115.000000\nmean       0.030383\nstd        0.026832\nmin        0.001412\n25%        0.011260\n50%        0.023697\n75%        0.039179\nmax        0.118970\nName: fatality_rate, dtype: float64"
     },
     "metadata": {},
     "execution_count": 19
    }
   ],
   "source": [
    "# basic statistics of the fatality\n",
    "fatalities.fatality_rate.describe()"
   ]
  },
  {
   "cell_type": "code",
   "execution_count": 20,
   "metadata": {},
   "outputs": [
    {
     "output_type": "stream",
     "name": "stdout",
     "text": "Fatality median is 0.023696682464454975 and mode is 0    0.005263\n1    0.025641\n2    0.055556\ndtype: float64\n"
    }
   ],
   "source": [
    "# median and mode of fatality rate\n",
    "\n",
    "fatality_median = fatalities.fatality_rate.median()\n",
    "fatality_mode = fatalities.fatality_rate.mode()\n",
    "\n",
    "print(\"Fatality median is {} and mode is {}\".format(fatality_median, fatality_mode))\n",
    ""
   ]
  },
  {
   "cell_type": "code",
   "execution_count": 21,
   "metadata": {},
   "outputs": [
    {
     "output_type": "execute_result",
     "data": {
      "text/plain": "Country_Region\nItaly                           (0.107, 0.119]\nBangladesh                      (0.107, 0.119]\nSan Marino                      (0.107, 0.119]\nMali                           (0.0955, 0.107]\nIndonesia                     (0.0837, 0.0955]\n                            ...               \nSingapore      (0.0002899999999999999, 0.0132]\nSlovakia       (0.0002899999999999999, 0.0132]\nQatar          (0.0002899999999999999, 0.0132]\nIceland        (0.0002899999999999999, 0.0132]\nNew Zealand    (0.0002899999999999999, 0.0132]\nName: fatality_rate, Length: 115, dtype: category\nCategories (10, interval[float64]): [(0.0002899999999999999, 0.0132] < (0.0132, 0.0249] < (0.0249, 0.0367] < (0.0367, 0.0484] ... (0.0719, 0.0837] < (0.0837, 0.0955] < (0.0955, 0.107] < (0.107, 0.119]]"
     },
     "metadata": {},
     "execution_count": 21
    }
   ],
   "source": [
    "# the mode above does not make sense, let's fix it.\n",
    "\n",
    "# first, segment and sort fatality values into bins\n",
    "bins = pd.cut(fatalities['fatality_rate'], 10, include_lowest=True)\n",
    "\n",
    "bins\n",
    "\n",
    "# I'd like to see the content of each bin, what to do?"
   ]
  },
  {
   "cell_type": "markdown",
   "metadata": {},
   "source": [
    "## Joined with Population data from United Nations \n",
    "\n",
    "Poplation is in thousand persons.  "
   ]
  },
  {
   "cell_type": "code",
   "execution_count": 22,
   "metadata": {},
   "outputs": [
    {
     "output_type": "execute_result",
     "data": {
      "text/plain": "   LocID     Location  VarID Variant  Time  MidPeriod   PopMale  PopFemale  \\\n0      4  Afghanistan      2  Medium  1950     1950.5  4099.243   3652.874   \n1      4  Afghanistan      2  Medium  1951     1951.5  4134.756   3705.395   \n2      4  Afghanistan      2  Medium  1952     1952.5  4174.450   3761.546   \n3      4  Afghanistan      2  Medium  1953     1953.5  4218.336   3821.348   \n4      4  Afghanistan      2  Medium  1954     1954.5  4266.484   3884.832   \n\n   PopTotal  PopDensity  \n0  7752.117      11.874  \n1  7840.151      12.009  \n2  7935.996      12.156  \n3  8039.684      12.315  \n4  8151.316      12.486  ",
      "text/html": "<div>\n<style scoped>\n    .dataframe tbody tr th:only-of-type {\n        vertical-align: middle;\n    }\n\n    .dataframe tbody tr th {\n        vertical-align: top;\n    }\n\n    .dataframe thead th {\n        text-align: right;\n    }\n</style>\n<table border=\"1\" class=\"dataframe\">\n  <thead>\n    <tr style=\"text-align: right;\">\n      <th></th>\n      <th>LocID</th>\n      <th>Location</th>\n      <th>VarID</th>\n      <th>Variant</th>\n      <th>Time</th>\n      <th>MidPeriod</th>\n      <th>PopMale</th>\n      <th>PopFemale</th>\n      <th>PopTotal</th>\n      <th>PopDensity</th>\n    </tr>\n  </thead>\n  <tbody>\n    <tr>\n      <th>0</th>\n      <td>4</td>\n      <td>Afghanistan</td>\n      <td>2</td>\n      <td>Medium</td>\n      <td>1950</td>\n      <td>1950.5</td>\n      <td>4099.243</td>\n      <td>3652.874</td>\n      <td>7752.117</td>\n      <td>11.874</td>\n    </tr>\n    <tr>\n      <th>1</th>\n      <td>4</td>\n      <td>Afghanistan</td>\n      <td>2</td>\n      <td>Medium</td>\n      <td>1951</td>\n      <td>1951.5</td>\n      <td>4134.756</td>\n      <td>3705.395</td>\n      <td>7840.151</td>\n      <td>12.009</td>\n    </tr>\n    <tr>\n      <th>2</th>\n      <td>4</td>\n      <td>Afghanistan</td>\n      <td>2</td>\n      <td>Medium</td>\n      <td>1952</td>\n      <td>1952.5</td>\n      <td>4174.450</td>\n      <td>3761.546</td>\n      <td>7935.996</td>\n      <td>12.156</td>\n    </tr>\n    <tr>\n      <th>3</th>\n      <td>4</td>\n      <td>Afghanistan</td>\n      <td>2</td>\n      <td>Medium</td>\n      <td>1953</td>\n      <td>1953.5</td>\n      <td>4218.336</td>\n      <td>3821.348</td>\n      <td>8039.684</td>\n      <td>12.315</td>\n    </tr>\n    <tr>\n      <th>4</th>\n      <td>4</td>\n      <td>Afghanistan</td>\n      <td>2</td>\n      <td>Medium</td>\n      <td>1954</td>\n      <td>1954.5</td>\n      <td>4266.484</td>\n      <td>3884.832</td>\n      <td>8151.316</td>\n      <td>12.486</td>\n    </tr>\n  </tbody>\n</table>\n</div>"
     },
     "metadata": {},
     "execution_count": 22
    }
   ],
   "source": [
    "population = pd.read_csv('data/WPP2019_TotalPopulationBySex.csv')\n",
    "population.head()"
   ]
  },
  {
   "cell_type": "code",
   "execution_count": 23,
   "metadata": {},
   "outputs": [
    {
     "output_type": "execute_result",
     "data": {
      "text/plain": "      LocID                       Location  VarID Variant  Time  MidPeriod  \\\n69        4                    Afghanistan      2  Medium  2019     2019.5   \n953     903                         Africa      2  Medium  2019     2019.5   \n1837   1823                  African Group      2  Medium  2019     2019.5   \n1988   1560                  African Union      2  Medium  2019     2019.5   \n2139   2080  African Union: Central Africa      2  Medium  2019     2019.5   \n\n         PopMale   PopFemale     PopTotal  PopDensity  \n69     19529.727   18512.030    38041.757      58.269  \n953   653513.680  654550.496  1308064.176      44.119  \n1837  652644.714  653675.858  1306320.572      44.464  \n1988  652949.469  653953.561  1306903.030      44.085  \n2139   76945.498   77068.207   154013.705      29.192  ",
      "text/html": "<div>\n<style scoped>\n    .dataframe tbody tr th:only-of-type {\n        vertical-align: middle;\n    }\n\n    .dataframe tbody tr th {\n        vertical-align: top;\n    }\n\n    .dataframe thead th {\n        text-align: right;\n    }\n</style>\n<table border=\"1\" class=\"dataframe\">\n  <thead>\n    <tr style=\"text-align: right;\">\n      <th></th>\n      <th>LocID</th>\n      <th>Location</th>\n      <th>VarID</th>\n      <th>Variant</th>\n      <th>Time</th>\n      <th>MidPeriod</th>\n      <th>PopMale</th>\n      <th>PopFemale</th>\n      <th>PopTotal</th>\n      <th>PopDensity</th>\n    </tr>\n  </thead>\n  <tbody>\n    <tr>\n      <th>69</th>\n      <td>4</td>\n      <td>Afghanistan</td>\n      <td>2</td>\n      <td>Medium</td>\n      <td>2019</td>\n      <td>2019.5</td>\n      <td>19529.727</td>\n      <td>18512.030</td>\n      <td>38041.757</td>\n      <td>58.269</td>\n    </tr>\n    <tr>\n      <th>953</th>\n      <td>903</td>\n      <td>Africa</td>\n      <td>2</td>\n      <td>Medium</td>\n      <td>2019</td>\n      <td>2019.5</td>\n      <td>653513.680</td>\n      <td>654550.496</td>\n      <td>1308064.176</td>\n      <td>44.119</td>\n    </tr>\n    <tr>\n      <th>1837</th>\n      <td>1823</td>\n      <td>African Group</td>\n      <td>2</td>\n      <td>Medium</td>\n      <td>2019</td>\n      <td>2019.5</td>\n      <td>652644.714</td>\n      <td>653675.858</td>\n      <td>1306320.572</td>\n      <td>44.464</td>\n    </tr>\n    <tr>\n      <th>1988</th>\n      <td>1560</td>\n      <td>African Union</td>\n      <td>2</td>\n      <td>Medium</td>\n      <td>2019</td>\n      <td>2019.5</td>\n      <td>652949.469</td>\n      <td>653953.561</td>\n      <td>1306903.030</td>\n      <td>44.085</td>\n    </tr>\n    <tr>\n      <th>2139</th>\n      <td>2080</td>\n      <td>African Union: Central Africa</td>\n      <td>2</td>\n      <td>Medium</td>\n      <td>2019</td>\n      <td>2019.5</td>\n      <td>76945.498</td>\n      <td>77068.207</td>\n      <td>154013.705</td>\n      <td>29.192</td>\n    </tr>\n  </tbody>\n</table>\n</div>"
     },
     "metadata": {},
     "execution_count": 23
    }
   ],
   "source": [
    "# we only need the data of year 2020\n",
    "pop2019 = population[population.Time == 2019]\n",
    "pop2019.head()"
   ]
  },
  {
   "cell_type": "code",
   "execution_count": 24,
   "metadata": {},
   "outputs": [
    {
     "output_type": "execute_result",
     "data": {
      "text/plain": "477"
     },
     "metadata": {},
     "execution_count": 24
    }
   ],
   "source": [
    "len(pop2019)"
   ]
  },
  {
   "cell_type": "markdown",
   "metadata": {},
   "source": [
    "### Now we need to unify the lation names of the population data and the corona data "
   ]
  },
  {
   "cell_type": "code",
   "execution_count": 25,
   "metadata": {},
   "outputs": [
    {
     "output_type": "execute_result",
     "data": {
      "text/plain": "Index(['Bolivia', 'Brunei', 'Burma', 'Congo (Brazzaville)', 'Congo (Kinshasa)',\n       'Cote d'Ivoire', 'Diamond Princess', 'Iran', 'Korea, South', 'Kosovo',\n       'Laos', 'MS Zaandam', 'Moldova', 'Russia', 'Syria', 'Taiwan*',\n       'Tanzania', 'US', 'Venezuela', 'Vietnam', 'West Bank and Gaza'],\n      dtype='object', name='Country_Region')"
     },
     "metadata": {},
     "execution_count": 25
    }
   ],
   "source": [
    "# The set of location names of the population data is much bigger than corona's. \n",
    "# So we first find out which country names are not in the population data\n",
    "\n",
    "countryNames_covid19_only = df_country_cases[df_country_cases.index.isin(pop2019.Location) == False]\n",
    "\n",
    "countryNames_covid19_only.index"
   ]
  },
  {
   "cell_type": "code",
   "execution_count": 26,
   "metadata": {},
   "outputs": [
    {
     "output_type": "execute_result",
     "data": {
      "text/plain": "21"
     },
     "metadata": {},
     "execution_count": 26
    }
   ],
   "source": [
    "len(countryNames_covid19_only)"
   ]
  },
  {
   "cell_type": "code",
   "execution_count": 27,
   "metadata": {},
   "outputs": [
    {
     "output_type": "execute_result",
     "data": {
      "text/plain": "        LocID            Location  VarID Variant  Time  MidPeriod  PopMale  \\\n236754    275  State of Palestine      2  Medium  2019     2019.5  2526.35   \n\n        PopFemale  PopTotal  PopDensity  \n236754   2455.072  4981.422     827.479  ",
      "text/html": "<div>\n<style scoped>\n    .dataframe tbody tr th:only-of-type {\n        vertical-align: middle;\n    }\n\n    .dataframe tbody tr th {\n        vertical-align: top;\n    }\n\n    .dataframe thead th {\n        text-align: right;\n    }\n</style>\n<table border=\"1\" class=\"dataframe\">\n  <thead>\n    <tr style=\"text-align: right;\">\n      <th></th>\n      <th>LocID</th>\n      <th>Location</th>\n      <th>VarID</th>\n      <th>Variant</th>\n      <th>Time</th>\n      <th>MidPeriod</th>\n      <th>PopMale</th>\n      <th>PopFemale</th>\n      <th>PopTotal</th>\n      <th>PopDensity</th>\n    </tr>\n  </thead>\n  <tbody>\n    <tr>\n      <th>236754</th>\n      <td>275</td>\n      <td>State of Palestine</td>\n      <td>2</td>\n      <td>Medium</td>\n      <td>2019</td>\n      <td>2019.5</td>\n      <td>2526.35</td>\n      <td>2455.072</td>\n      <td>4981.422</td>\n      <td>827.479</td>\n    </tr>\n  </tbody>\n</table>\n</div>"
     },
     "metadata": {},
     "execution_count": 27
    }
   ],
   "source": [
    "pop2019[pop2019.Location.str.contains('Pales')]"
   ]
  },
  {
   "cell_type": "code",
   "execution_count": 28,
   "metadata": {},
   "outputs": [],
   "source": [
    "pop2019.Location.replace({'Bolivia (Plurinational State of)':'Bolivia', 'Brunei Darussalam':'Brunei', 'Myanmar': 'Burma', 'Congo':'Congo (Brazzaville)', 'Democratic Republic of the Congo':'Congo (Kinshasa)', 'Côte d\\'Ivoire':'Cote d\\'Ivoire', 'Iran (Islamic Republic of)':'Iran', 'Republic of Korea':'Korea, South', 'Lao People\\'s Democratic Republic':'Laos', 'Republic of Moldova':'Moldova', 'Russian Federation':'Russia', 'Syrian Arab Republic':'Syria', 'China, Taiwan Province of China':'Taiwan*', 'United Republic of Tanzania':'Tanzania', 'United States of America':'US', 'Venezuela (Bolivarian Republic of)':'Venezuela', 'Viet Nam':'Vietnam', 'State of Palestine':'West Bank and Gaza'}, inplace=True)"
   ]
  },
  {
   "cell_type": "code",
   "execution_count": 29,
   "metadata": {},
   "outputs": [
    {
     "output_type": "execute_result",
     "data": {
      "text/plain": "                           Location     PopMale   PopFemale     PopTotal  \\\n69                      Afghanistan   19529.727   18512.030    38041.757   \n953                          Africa  653513.680  654550.496  1308064.176   \n1837                  African Group  652644.714  653675.858  1306320.572   \n1988                  African Union  652949.469  653953.561  1306903.030   \n2139  African Union: Central Africa   76945.498   77068.207   154013.705   \n\n      PopDensity  \n69        58.269  \n953       44.119  \n1837      44.464  \n1988      44.085  \n2139      29.192  ",
      "text/html": "<div>\n<style scoped>\n    .dataframe tbody tr th:only-of-type {\n        vertical-align: middle;\n    }\n\n    .dataframe tbody tr th {\n        vertical-align: top;\n    }\n\n    .dataframe thead th {\n        text-align: right;\n    }\n</style>\n<table border=\"1\" class=\"dataframe\">\n  <thead>\n    <tr style=\"text-align: right;\">\n      <th></th>\n      <th>Location</th>\n      <th>PopMale</th>\n      <th>PopFemale</th>\n      <th>PopTotal</th>\n      <th>PopDensity</th>\n    </tr>\n  </thead>\n  <tbody>\n    <tr>\n      <th>69</th>\n      <td>Afghanistan</td>\n      <td>19529.727</td>\n      <td>18512.030</td>\n      <td>38041.757</td>\n      <td>58.269</td>\n    </tr>\n    <tr>\n      <th>953</th>\n      <td>Africa</td>\n      <td>653513.680</td>\n      <td>654550.496</td>\n      <td>1308064.176</td>\n      <td>44.119</td>\n    </tr>\n    <tr>\n      <th>1837</th>\n      <td>African Group</td>\n      <td>652644.714</td>\n      <td>653675.858</td>\n      <td>1306320.572</td>\n      <td>44.464</td>\n    </tr>\n    <tr>\n      <th>1988</th>\n      <td>African Union</td>\n      <td>652949.469</td>\n      <td>653953.561</td>\n      <td>1306903.030</td>\n      <td>44.085</td>\n    </tr>\n    <tr>\n      <th>2139</th>\n      <td>African Union: Central Africa</td>\n      <td>76945.498</td>\n      <td>77068.207</td>\n      <td>154013.705</td>\n      <td>29.192</td>\n    </tr>\n  </tbody>\n</table>\n</div>"
     },
     "metadata": {},
     "execution_count": 29
    }
   ],
   "source": [
    "# drop unnecessary columns\n",
    "\n",
    "df_pop2019 = pop2019.drop(columns=['LocID','VarID','Variant','Time','MidPeriod'])\n",
    "df_pop2019.head()"
   ]
  },
  {
   "cell_type": "code",
   "execution_count": 30,
   "metadata": {},
   "outputs": [
    {
     "output_type": "execute_result",
     "data": {
      "text/plain": "   Confirmed  Deaths  Recovered  Active  fatality_rate     Location  \\\n0        237       4          5     228       0.016878  Afghanistan   \n1        259      15         67     177       0.057915      Albania   \n2        847      58         61     728       0.068477      Algeria   \n3        390      14         10     366       0.035897      Andorra   \n4          8       2          1       5       0.250000       Angola   \n\n     PopMale  PopFemale   PopTotal  PopDensity  \n0  19529.727  18512.030  38041.757      58.269  \n1   1466.785   1414.128   2880.913     105.143  \n2  21749.666  21303.388  43053.054      18.076  \n3        NaN        NaN     77.146     164.140  \n4  15744.779  16080.520  31825.299      25.528  ",
      "text/html": "<div>\n<style scoped>\n    .dataframe tbody tr th:only-of-type {\n        vertical-align: middle;\n    }\n\n    .dataframe tbody tr th {\n        vertical-align: top;\n    }\n\n    .dataframe thead th {\n        text-align: right;\n    }\n</style>\n<table border=\"1\" class=\"dataframe\">\n  <thead>\n    <tr style=\"text-align: right;\">\n      <th></th>\n      <th>Confirmed</th>\n      <th>Deaths</th>\n      <th>Recovered</th>\n      <th>Active</th>\n      <th>fatality_rate</th>\n      <th>Location</th>\n      <th>PopMale</th>\n      <th>PopFemale</th>\n      <th>PopTotal</th>\n      <th>PopDensity</th>\n    </tr>\n  </thead>\n  <tbody>\n    <tr>\n      <th>0</th>\n      <td>237</td>\n      <td>4</td>\n      <td>5</td>\n      <td>228</td>\n      <td>0.016878</td>\n      <td>Afghanistan</td>\n      <td>19529.727</td>\n      <td>18512.030</td>\n      <td>38041.757</td>\n      <td>58.269</td>\n    </tr>\n    <tr>\n      <th>1</th>\n      <td>259</td>\n      <td>15</td>\n      <td>67</td>\n      <td>177</td>\n      <td>0.057915</td>\n      <td>Albania</td>\n      <td>1466.785</td>\n      <td>1414.128</td>\n      <td>2880.913</td>\n      <td>105.143</td>\n    </tr>\n    <tr>\n      <th>2</th>\n      <td>847</td>\n      <td>58</td>\n      <td>61</td>\n      <td>728</td>\n      <td>0.068477</td>\n      <td>Algeria</td>\n      <td>21749.666</td>\n      <td>21303.388</td>\n      <td>43053.054</td>\n      <td>18.076</td>\n    </tr>\n    <tr>\n      <th>3</th>\n      <td>390</td>\n      <td>14</td>\n      <td>10</td>\n      <td>366</td>\n      <td>0.035897</td>\n      <td>Andorra</td>\n      <td>NaN</td>\n      <td>NaN</td>\n      <td>77.146</td>\n      <td>164.140</td>\n    </tr>\n    <tr>\n      <th>4</th>\n      <td>8</td>\n      <td>2</td>\n      <td>1</td>\n      <td>5</td>\n      <td>0.250000</td>\n      <td>Angola</td>\n      <td>15744.779</td>\n      <td>16080.520</td>\n      <td>31825.299</td>\n      <td>25.528</td>\n    </tr>\n  </tbody>\n</table>\n</div>"
     },
     "metadata": {},
     "execution_count": 30
    }
   ],
   "source": [
    "# now join the corona and population data frames\n",
    "\n",
    "df_covid19_pop2019 = pd.merge(df_country_cases, df_pop2019, how='inner', left_on='Country_Region', right_on='Location')\n",
    "df_covid19_pop2019.head()"
   ]
  },
  {
   "cell_type": "code",
   "execution_count": 31,
   "metadata": {},
   "outputs": [
    {
     "output_type": "execute_result",
     "data": {
      "text/plain": "(177, 10)"
     },
     "metadata": {},
     "execution_count": 31
    }
   ],
   "source": [
    "df_covid19_pop2019.shape"
   ]
  },
  {
   "cell_type": "code",
   "execution_count": 32,
   "metadata": {},
   "outputs": [
    {
     "output_type": "execute_result",
     "data": {
      "text/plain": "-0.04206036336111661"
     },
     "metadata": {},
     "execution_count": 32
    }
   ],
   "source": [
    "# correlation between fatality_rate and PopDensity??\n",
    "\n",
    "corr_fatality_popDensity = df_covid19_pop2019.fatality_rate.corr(df_covid19_pop2019.PopDensity)\n",
    "corr_fatality_popDensity"
   ]
  },
  {
   "cell_type": "code",
   "execution_count": 33,
   "metadata": {},
   "outputs": [
    {
     "output_type": "execute_result",
     "data": {
      "text/plain": "0.31555373129302416"
     },
     "metadata": {},
     "execution_count": 33
    }
   ],
   "source": [
    "corr_confirmed_popTotal = df_covid19_pop2019.Confirmed.corr(df_covid19_pop2019.PopTotal)\n",
    "corr_confirmed_popTotal"
   ]
  },
  {
   "cell_type": "code",
   "execution_count": 35,
   "metadata": {},
   "outputs": [
    {
     "output_type": "execute_result",
     "data": {
      "text/plain": "0.18247486444018643"
     },
     "metadata": {},
     "execution_count": 35
    }
   ],
   "source": [
    "corr_deaths_popTotal = df_covid19_pop2019.Deaths.corr(df_covid19_pop2019.PopTotal)\n",
    "corr_deaths_popTotal"
   ]
  },
  {
   "cell_type": "code",
   "execution_count": null,
   "metadata": {},
   "outputs": [],
   "source": []
  }
 ],
 "metadata": {
  "kernelspec": {
   "display_name": "Python 3",
   "language": "python",
   "name": "python3"
  },
  "language_info": {
   "codemirror_mode": {
    "name": "ipython",
    "version": 3
   },
   "file_extension": ".py",
   "mimetype": "text/x-python",
   "name": "python",
   "nbconvert_exporter": "python",
   "pygments_lexer": "ipython3",
   "version": "3.7.7-final"
  }
 },
 "nbformat": 4,
 "nbformat_minor": 4
}