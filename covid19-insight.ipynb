{
 "cells": [
  {
   "cell_type": "markdown",
   "metadata": {},
   "source": [
    "# Covid-19 Data Wrangling in Python"
   ]
  },
  {
   "cell_type": "code",
   "execution_count": 1,
   "metadata": {},
   "outputs": [
    {
     "output_type": "stream",
     "name": "stdout",
     "text": "pandas version:  1.0.1\nnumpy version:  1.18.1\n"
    }
   ],
   "source": [
    "import pandas as pd\n",
    "import numpy as np\n",
    "\n",
    "print('pandas version: ', pd.__version__)\n",
    "print('numpy version: ', np.version.version)"
   ]
  },
  {
   "cell_type": "code",
   "execution_count": 2,
   "metadata": {},
   "outputs": [
    {
     "output_type": "execute_result",
     "data": {
      "text/plain": "      FIPS     Admin2  Province_State Country_Region          Last_Update  \\\n0  45001.0  Abbeville  South Carolina             US  2020-03-27 22:14:55   \n1  22001.0     Acadia       Louisiana             US  2020-03-27 22:14:55   \n2  51001.0   Accomack        Virginia             US  2020-03-27 22:14:55   \n3  16001.0        Ada           Idaho             US  2020-03-27 22:14:55   \n4  19001.0      Adair            Iowa             US  2020-03-27 22:14:55   \n\n         Lat       Long_  Confirmed  Deaths  Recovered  Active  \\\n0  34.223334  -82.461707          4       0          0       0   \n1  30.295065  -92.414197          8       1          0       0   \n2  37.767072  -75.632346          2       0          0       0   \n3  43.452658 -116.241552         54       0          0       0   \n4  41.330756  -94.471059          1       0          0       0   \n\n                    Combined_Key  \n0  Abbeville, South Carolina, US  \n1          Acadia, Louisiana, US  \n2         Accomack, Virginia, US  \n3                 Ada, Idaho, US  \n4                Adair, Iowa, US  ",
      "text/html": "<div>\n<style scoped>\n    .dataframe tbody tr th:only-of-type {\n        vertical-align: middle;\n    }\n\n    .dataframe tbody tr th {\n        vertical-align: top;\n    }\n\n    .dataframe thead th {\n        text-align: right;\n    }\n</style>\n<table border=\"1\" class=\"dataframe\">\n  <thead>\n    <tr style=\"text-align: right;\">\n      <th></th>\n      <th>FIPS</th>\n      <th>Admin2</th>\n      <th>Province_State</th>\n      <th>Country_Region</th>\n      <th>Last_Update</th>\n      <th>Lat</th>\n      <th>Long_</th>\n      <th>Confirmed</th>\n      <th>Deaths</th>\n      <th>Recovered</th>\n      <th>Active</th>\n      <th>Combined_Key</th>\n    </tr>\n  </thead>\n  <tbody>\n    <tr>\n      <th>0</th>\n      <td>45001.0</td>\n      <td>Abbeville</td>\n      <td>South Carolina</td>\n      <td>US</td>\n      <td>2020-03-27 22:14:55</td>\n      <td>34.223334</td>\n      <td>-82.461707</td>\n      <td>4</td>\n      <td>0</td>\n      <td>0</td>\n      <td>0</td>\n      <td>Abbeville, South Carolina, US</td>\n    </tr>\n    <tr>\n      <th>1</th>\n      <td>22001.0</td>\n      <td>Acadia</td>\n      <td>Louisiana</td>\n      <td>US</td>\n      <td>2020-03-27 22:14:55</td>\n      <td>30.295065</td>\n      <td>-92.414197</td>\n      <td>8</td>\n      <td>1</td>\n      <td>0</td>\n      <td>0</td>\n      <td>Acadia, Louisiana, US</td>\n    </tr>\n    <tr>\n      <th>2</th>\n      <td>51001.0</td>\n      <td>Accomack</td>\n      <td>Virginia</td>\n      <td>US</td>\n      <td>2020-03-27 22:14:55</td>\n      <td>37.767072</td>\n      <td>-75.632346</td>\n      <td>2</td>\n      <td>0</td>\n      <td>0</td>\n      <td>0</td>\n      <td>Accomack, Virginia, US</td>\n    </tr>\n    <tr>\n      <th>3</th>\n      <td>16001.0</td>\n      <td>Ada</td>\n      <td>Idaho</td>\n      <td>US</td>\n      <td>2020-03-27 22:14:55</td>\n      <td>43.452658</td>\n      <td>-116.241552</td>\n      <td>54</td>\n      <td>0</td>\n      <td>0</td>\n      <td>0</td>\n      <td>Ada, Idaho, US</td>\n    </tr>\n    <tr>\n      <th>4</th>\n      <td>19001.0</td>\n      <td>Adair</td>\n      <td>Iowa</td>\n      <td>US</td>\n      <td>2020-03-27 22:14:55</td>\n      <td>41.330756</td>\n      <td>-94.471059</td>\n      <td>1</td>\n      <td>0</td>\n      <td>0</td>\n      <td>0</td>\n      <td>Adair, Iowa, US</td>\n    </tr>\n  </tbody>\n</table>\n</div>"
     },
     "metadata": {},
     "execution_count": 2
    }
   ],
   "source": [
    "covid_daily_df = pd.read_csv('data/2020-03-27.csv')\n",
    "\n",
    "covid_daily_df.head()"
   ]
  },
  {
   "cell_type": "code",
   "execution_count": 3,
   "metadata": {},
   "outputs": [
    {
     "output_type": "execute_result",
     "data": {
      "text/plain": "FIPS              float64\nAdmin2             object\nProvince_State     object\nCountry_Region     object\nLast_Update        object\nLat               float64\nLong_             float64\nConfirmed           int64\nDeaths              int64\nRecovered           int64\nActive              int64\nCombined_Key       object\ndtype: object"
     },
     "metadata": {},
     "execution_count": 3
    }
   ],
   "source": [
    "covid_daily_df.dtypes"
   ]
  },
  {
   "cell_type": "code",
   "execution_count": 4,
   "metadata": {},
   "outputs": [
    {
     "output_type": "execute_result",
     "data": {
      "text/plain": "(3429, 12)"
     },
     "metadata": {},
     "execution_count": 4
    }
   ],
   "source": [
    "covid_daily_df.shape"
   ]
  },
  {
   "cell_type": "code",
   "execution_count": 5,
   "metadata": {},
   "outputs": [
    {
     "output_type": "execute_result",
     "data": {
      "text/plain": "    FIPS     Admin2  Province_State Country_Region          Last_Update  \\\n0  45001  Abbeville  South Carolina             US  2020-03-27 22:14:55   \n1  22001     Acadia       Louisiana             US  2020-03-27 22:14:55   \n2  51001   Accomack        Virginia             US  2020-03-27 22:14:55   \n3  16001        Ada           Idaho             US  2020-03-27 22:14:55   \n4  19001      Adair            Iowa             US  2020-03-27 22:14:55   \n\n         Lat       Long_  Confirmed  Deaths  Recovered  Active  \\\n0  34.223334  -82.461707          4       0          0       0   \n1  30.295065  -92.414197          8       1          0       0   \n2  37.767072  -75.632346          2       0          0       0   \n3  43.452658 -116.241552         54       0          0       0   \n4  41.330756  -94.471059          1       0          0       0   \n\n                    Combined_Key  \n0  Abbeville, South Carolina, US  \n1          Acadia, Louisiana, US  \n2         Accomack, Virginia, US  \n3                 Ada, Idaho, US  \n4                Adair, Iowa, US  ",
      "text/html": "<div>\n<style scoped>\n    .dataframe tbody tr th:only-of-type {\n        vertical-align: middle;\n    }\n\n    .dataframe tbody tr th {\n        vertical-align: top;\n    }\n\n    .dataframe thead th {\n        text-align: right;\n    }\n</style>\n<table border=\"1\" class=\"dataframe\">\n  <thead>\n    <tr style=\"text-align: right;\">\n      <th></th>\n      <th>FIPS</th>\n      <th>Admin2</th>\n      <th>Province_State</th>\n      <th>Country_Region</th>\n      <th>Last_Update</th>\n      <th>Lat</th>\n      <th>Long_</th>\n      <th>Confirmed</th>\n      <th>Deaths</th>\n      <th>Recovered</th>\n      <th>Active</th>\n      <th>Combined_Key</th>\n    </tr>\n  </thead>\n  <tbody>\n    <tr>\n      <th>0</th>\n      <td>45001</td>\n      <td>Abbeville</td>\n      <td>South Carolina</td>\n      <td>US</td>\n      <td>2020-03-27 22:14:55</td>\n      <td>34.223334</td>\n      <td>-82.461707</td>\n      <td>4</td>\n      <td>0</td>\n      <td>0</td>\n      <td>0</td>\n      <td>Abbeville, South Carolina, US</td>\n    </tr>\n    <tr>\n      <th>1</th>\n      <td>22001</td>\n      <td>Acadia</td>\n      <td>Louisiana</td>\n      <td>US</td>\n      <td>2020-03-27 22:14:55</td>\n      <td>30.295065</td>\n      <td>-92.414197</td>\n      <td>8</td>\n      <td>1</td>\n      <td>0</td>\n      <td>0</td>\n      <td>Acadia, Louisiana, US</td>\n    </tr>\n    <tr>\n      <th>2</th>\n      <td>51001</td>\n      <td>Accomack</td>\n      <td>Virginia</td>\n      <td>US</td>\n      <td>2020-03-27 22:14:55</td>\n      <td>37.767072</td>\n      <td>-75.632346</td>\n      <td>2</td>\n      <td>0</td>\n      <td>0</td>\n      <td>0</td>\n      <td>Accomack, Virginia, US</td>\n    </tr>\n    <tr>\n      <th>3</th>\n      <td>16001</td>\n      <td>Ada</td>\n      <td>Idaho</td>\n      <td>US</td>\n      <td>2020-03-27 22:14:55</td>\n      <td>43.452658</td>\n      <td>-116.241552</td>\n      <td>54</td>\n      <td>0</td>\n      <td>0</td>\n      <td>0</td>\n      <td>Ada, Idaho, US</td>\n    </tr>\n    <tr>\n      <th>4</th>\n      <td>19001</td>\n      <td>Adair</td>\n      <td>Iowa</td>\n      <td>US</td>\n      <td>2020-03-27 22:14:55</td>\n      <td>41.330756</td>\n      <td>-94.471059</td>\n      <td>1</td>\n      <td>0</td>\n      <td>0</td>\n      <td>0</td>\n      <td>Adair, Iowa, US</td>\n    </tr>\n  </tbody>\n</table>\n</div>"
     },
     "metadata": {},
     "execution_count": 5
    }
   ],
   "source": [
    "# convert the FIPS County Code column to type of integer\n",
    "\n",
    "covid_daily_df.FIPS = covid_daily_df.FIPS.fillna(-1) # get rid of NA \n",
    "covid_daily_df.FIPS = covid_daily_df.FIPS.astype(int)\n",
    "\n",
    "covid_daily_df.head()"
   ]
  },
  {
   "cell_type": "code",
   "execution_count": 6,
   "metadata": {},
   "outputs": [
    {
     "output_type": "stream",
     "name": "stdout",
     "text": "['US' 'Canada' 'China' 'Netherlands' 'Australia' 'United Kingdom'\n 'Denmark' 'France' 'Afghanistan' 'Albania' 'Algeria' 'Andorra' 'Angola'\n 'Antigua and Barbuda' 'Argentina' 'Armenia' 'Austria' 'Azerbaijan'\n 'Bahamas' 'Bahrain' 'Bangladesh' 'Barbados' 'Belarus' 'Belgium' 'Belize'\n 'Benin' 'Bhutan' 'Bolivia' 'Bosnia and Herzegovina' 'Brazil' 'Brunei'\n 'Bulgaria' 'Burkina Faso' 'Burma' 'Cabo Verde' 'Cambodia' 'Cameroon'\n 'Central African Republic' 'Chad' 'Chile' 'Colombia'\n 'Congo (Brazzaville)' 'Congo (Kinshasa)' 'Costa Rica' \"Cote d'Ivoire\"\n 'Croatia' 'Cuba' 'Cyprus' 'Czechia' 'Diamond Princess' 'Djibouti'\n 'Dominica' 'Dominican Republic' 'Ecuador' 'Egypt' 'El Salvador'\n 'Equatorial Guinea' 'Eritrea' 'Estonia' 'Eswatini' 'Ethiopia' 'Fiji'\n 'Finland' 'Gabon' 'Gambia' 'Georgia' 'Germany' 'Ghana' 'Greece' 'Grenada'\n 'Guatemala' 'Guinea' 'Guinea-Bissau' 'Guyana' 'Haiti' 'Holy See'\n 'Honduras' 'Hungary' 'Iceland' 'India' 'Indonesia' 'Iran' 'Iraq'\n 'Ireland' 'Israel' 'Italy' 'Jamaica' 'Japan' 'Jordan' 'Kazakhstan'\n 'Kenya' 'Korea, South' 'Kosovo' 'Kuwait' 'Kyrgyzstan' 'Laos' 'Latvia'\n 'Lebanon' 'Liberia' 'Libya' 'Liechtenstein' 'Lithuania' 'Luxembourg'\n 'Madagascar' 'Malaysia' 'Maldives' 'Mali' 'Malta' 'Mauritania'\n 'Mauritius' 'Mexico' 'Moldova' 'Monaco' 'Mongolia' 'Montenegro' 'Morocco'\n 'Mozambique' 'Namibia' 'Nepal' 'New Zealand' 'Nicaragua' 'Niger'\n 'Nigeria' 'North Macedonia' 'Norway' 'Oman' 'Pakistan' 'Panama'\n 'Papua New Guinea' 'Paraguay' 'Peru' 'Philippines' 'Poland' 'Portugal'\n 'Qatar' 'Romania' 'Russia' 'Rwanda' 'Saint Kitts and Nevis' 'Saint Lucia'\n 'Saint Vincent and the Grenadines' 'San Marino' 'Saudi Arabia' 'Senegal'\n 'Serbia' 'Seychelles' 'Singapore' 'Slovakia' 'Slovenia' 'Somalia'\n 'South Africa' 'Spain' 'Sri Lanka' 'Sudan' 'Suriname' 'Sweden'\n 'Switzerland' 'Syria' 'Taiwan*' 'Tanzania' 'Thailand' 'Timor-Leste'\n 'Togo' 'Trinidad and Tobago' 'Tunisia' 'Turkey' 'Uganda' 'Ukraine'\n 'United Arab Emirates' 'Uruguay' 'Uzbekistan' 'Venezuela' 'Vietnam'\n 'West Bank and Gaza' 'Zambia' 'Zimbabwe']\n"
    },
    {
     "output_type": "execute_result",
     "data": {
      "text/plain": "176"
     },
     "metadata": {},
     "execution_count": 6
    }
   ],
   "source": [
    "# show all unique Country_Region codes\n",
    "\n",
    "countries = covid_daily_df.Country_Region.unique()\n",
    "print(countries)\n",
    "len(countries)"
   ]
  },
  {
   "cell_type": "code",
   "execution_count": 7,
   "metadata": {},
   "outputs": [
    {
     "output_type": "execute_result",
     "data": {
      "text/plain": "                    Confirmed\nCountry_Region               \nAfghanistan               110\nAlbania                   186\nAlgeria                   409\nAndorra                   267\nAngola                      4\n...                       ...\nVenezuela                 107\nVietnam                   163\nWest Bank and Gaza         91\nZambia                     22\nZimbabwe                    5\n\n[176 rows x 1 columns]",
      "text/html": "<div>\n<style scoped>\n    .dataframe tbody tr th:only-of-type {\n        vertical-align: middle;\n    }\n\n    .dataframe tbody tr th {\n        vertical-align: top;\n    }\n\n    .dataframe thead th {\n        text-align: right;\n    }\n</style>\n<table border=\"1\" class=\"dataframe\">\n  <thead>\n    <tr style=\"text-align: right;\">\n      <th></th>\n      <th>Confirmed</th>\n    </tr>\n    <tr>\n      <th>Country_Region</th>\n      <th></th>\n    </tr>\n  </thead>\n  <tbody>\n    <tr>\n      <th>Afghanistan</th>\n      <td>110</td>\n    </tr>\n    <tr>\n      <th>Albania</th>\n      <td>186</td>\n    </tr>\n    <tr>\n      <th>Algeria</th>\n      <td>409</td>\n    </tr>\n    <tr>\n      <th>Andorra</th>\n      <td>267</td>\n    </tr>\n    <tr>\n      <th>Angola</th>\n      <td>4</td>\n    </tr>\n    <tr>\n      <th>...</th>\n      <td>...</td>\n    </tr>\n    <tr>\n      <th>Venezuela</th>\n      <td>107</td>\n    </tr>\n    <tr>\n      <th>Vietnam</th>\n      <td>163</td>\n    </tr>\n    <tr>\n      <th>West Bank and Gaza</th>\n      <td>91</td>\n    </tr>\n    <tr>\n      <th>Zambia</th>\n      <td>22</td>\n    </tr>\n    <tr>\n      <th>Zimbabwe</th>\n      <td>5</td>\n    </tr>\n  </tbody>\n</table>\n<p>176 rows × 1 columns</p>\n</div>"
     },
     "metadata": {},
     "execution_count": 7
    }
   ],
   "source": [
    "# statistics grouped by countries\n",
    "covid_daily_df.groupby('Country_Region').agg({'Confirmed': np.sum})"
   ]
  },
  {
   "cell_type": "code",
   "execution_count": 8,
   "metadata": {},
   "outputs": [
    {
     "output_type": "execute_result",
     "data": {
      "text/plain": "                    Confirmed  Deaths  Recovered  Active\nCountry_Region                                          \nAfghanistan               110       4          2     104\nAlbania                   186       8         31     147\nAlgeria                   409      26         29     354\nAndorra                   267       3          1     263\nAngola                      4       0          0       4\n...                       ...     ...        ...     ...\nVenezuela                 107       1         31      75\nVietnam                   163       0         20     143\nWest Bank and Gaza         91       1         17      73\nZambia                     22       0          0      22\nZimbabwe                    5       1          0       4\n\n[176 rows x 4 columns]",
      "text/html": "<div>\n<style scoped>\n    .dataframe tbody tr th:only-of-type {\n        vertical-align: middle;\n    }\n\n    .dataframe tbody tr th {\n        vertical-align: top;\n    }\n\n    .dataframe thead th {\n        text-align: right;\n    }\n</style>\n<table border=\"1\" class=\"dataframe\">\n  <thead>\n    <tr style=\"text-align: right;\">\n      <th></th>\n      <th>Confirmed</th>\n      <th>Deaths</th>\n      <th>Recovered</th>\n      <th>Active</th>\n    </tr>\n    <tr>\n      <th>Country_Region</th>\n      <th></th>\n      <th></th>\n      <th></th>\n      <th></th>\n    </tr>\n  </thead>\n  <tbody>\n    <tr>\n      <th>Afghanistan</th>\n      <td>110</td>\n      <td>4</td>\n      <td>2</td>\n      <td>104</td>\n    </tr>\n    <tr>\n      <th>Albania</th>\n      <td>186</td>\n      <td>8</td>\n      <td>31</td>\n      <td>147</td>\n    </tr>\n    <tr>\n      <th>Algeria</th>\n      <td>409</td>\n      <td>26</td>\n      <td>29</td>\n      <td>354</td>\n    </tr>\n    <tr>\n      <th>Andorra</th>\n      <td>267</td>\n      <td>3</td>\n      <td>1</td>\n      <td>263</td>\n    </tr>\n    <tr>\n      <th>Angola</th>\n      <td>4</td>\n      <td>0</td>\n      <td>0</td>\n      <td>4</td>\n    </tr>\n    <tr>\n      <th>...</th>\n      <td>...</td>\n      <td>...</td>\n      <td>...</td>\n      <td>...</td>\n    </tr>\n    <tr>\n      <th>Venezuela</th>\n      <td>107</td>\n      <td>1</td>\n      <td>31</td>\n      <td>75</td>\n    </tr>\n    <tr>\n      <th>Vietnam</th>\n      <td>163</td>\n      <td>0</td>\n      <td>20</td>\n      <td>143</td>\n    </tr>\n    <tr>\n      <th>West Bank and Gaza</th>\n      <td>91</td>\n      <td>1</td>\n      <td>17</td>\n      <td>73</td>\n    </tr>\n    <tr>\n      <th>Zambia</th>\n      <td>22</td>\n      <td>0</td>\n      <td>0</td>\n      <td>22</td>\n    </tr>\n    <tr>\n      <th>Zimbabwe</th>\n      <td>5</td>\n      <td>1</td>\n      <td>0</td>\n      <td>4</td>\n    </tr>\n  </tbody>\n</table>\n<p>176 rows × 4 columns</p>\n</div>"
     },
     "metadata": {},
     "execution_count": 8
    }
   ],
   "source": [
    "# construct a dataframe with five columns: \n",
    "# Country_Region (index), Confirmed, Deaths, Recovered, Active\n",
    "df_country_cases = covid_daily_df.groupby('Country_Region').agg({'Confirmed': np.sum, 'Deaths': np.sum, 'Recovered': np.sum, 'Active': np.sum})\n",
    "\n",
    "df_country_cases"
   ]
  },
  {
   "cell_type": "code",
   "execution_count": 9,
   "metadata": {},
   "outputs": [
    {
     "output_type": "execute_result",
     "data": {
      "text/plain": "Confirmed    int64\nDeaths       int64\nRecovered    int64\nActive       int64\ndtype: object"
     },
     "metadata": {},
     "execution_count": 9
    }
   ],
   "source": [
    "df_country_cases.dtypes"
   ]
  },
  {
   "cell_type": "code",
   "execution_count": 10,
   "metadata": {},
   "outputs": [
    {
     "output_type": "execute_result",
     "data": {
      "text/plain": "0"
     },
     "metadata": {},
     "execution_count": 10
    }
   ],
   "source": [
    "# show counties that do not have any corona patients yet\n",
    "len(df_country_cases.loc[df_country_cases['Confirmed'] == 0])\n",
    ""
   ]
  },
  {
   "cell_type": "code",
   "execution_count": 50,
   "metadata": {},
   "outputs": [
    {
     "output_type": "execute_result",
     "data": {
      "text/plain": "                      Confirmed  Deaths  Recovered  Active  fatality_rate\nCountry_Region                                                           \nSouth Africa               1170       1         31    1138       0.000855\nEstonia                     575       1         11     563       0.001739\nSerbia                      457       1          0     456       0.002188\nIceland                     890       2         97     791       0.002247\nSaudi Arabia               1104       3         35    1066       0.002717\nSingapore                   732       2        183     547       0.002732\nArmenia                     329       1         28     300       0.003040\nChile                      1610       5         43    1562       0.003106\nRussia                     1036       4         45     987       0.003861\nCzechia                    2279       9         11    2259       0.003949\nIsrael                     3035      12         79    2944       0.003954\nAustralia                  3143      13        194    2936       0.004136\nJordan                      235       1         18     216       0.004255\nThailand                   1136       5         97    1034       0.004401\nUnited Arab Emirates        405       2         52     351       0.004938\nNorway                     3755      19          6    3730       0.005060\nCroatia                     586       3         37     546       0.005119\nKazakhstan                  150       1          3     146       0.006667\nGermany                   50871     342       6658   43871       0.006723\nFinland                    1041       7         10    1024       0.006724\nTaiwan*                     267       2         29     236       0.007491\nAustria                    7657      58        225    7374       0.007575\nCosta Rica                  263       2          3     258       0.007605\nPakistan                   1373      11         23    1339       0.008012\nBahrain                     466       4        227     235       0.008584",
      "text/html": "<div>\n<style scoped>\n    .dataframe tbody tr th:only-of-type {\n        vertical-align: middle;\n    }\n\n    .dataframe tbody tr th {\n        vertical-align: top;\n    }\n\n    .dataframe thead th {\n        text-align: right;\n    }\n</style>\n<table border=\"1\" class=\"dataframe\">\n  <thead>\n    <tr style=\"text-align: right;\">\n      <th></th>\n      <th>Confirmed</th>\n      <th>Deaths</th>\n      <th>Recovered</th>\n      <th>Active</th>\n      <th>fatality_rate</th>\n    </tr>\n    <tr>\n      <th>Country_Region</th>\n      <th></th>\n      <th></th>\n      <th></th>\n      <th></th>\n      <th></th>\n    </tr>\n  </thead>\n  <tbody>\n    <tr>\n      <th>South Africa</th>\n      <td>1170</td>\n      <td>1</td>\n      <td>31</td>\n      <td>1138</td>\n      <td>0.000855</td>\n    </tr>\n    <tr>\n      <th>Estonia</th>\n      <td>575</td>\n      <td>1</td>\n      <td>11</td>\n      <td>563</td>\n      <td>0.001739</td>\n    </tr>\n    <tr>\n      <th>Serbia</th>\n      <td>457</td>\n      <td>1</td>\n      <td>0</td>\n      <td>456</td>\n      <td>0.002188</td>\n    </tr>\n    <tr>\n      <th>Iceland</th>\n      <td>890</td>\n      <td>2</td>\n      <td>97</td>\n      <td>791</td>\n      <td>0.002247</td>\n    </tr>\n    <tr>\n      <th>Saudi Arabia</th>\n      <td>1104</td>\n      <td>3</td>\n      <td>35</td>\n      <td>1066</td>\n      <td>0.002717</td>\n    </tr>\n    <tr>\n      <th>Singapore</th>\n      <td>732</td>\n      <td>2</td>\n      <td>183</td>\n      <td>547</td>\n      <td>0.002732</td>\n    </tr>\n    <tr>\n      <th>Armenia</th>\n      <td>329</td>\n      <td>1</td>\n      <td>28</td>\n      <td>300</td>\n      <td>0.003040</td>\n    </tr>\n    <tr>\n      <th>Chile</th>\n      <td>1610</td>\n      <td>5</td>\n      <td>43</td>\n      <td>1562</td>\n      <td>0.003106</td>\n    </tr>\n    <tr>\n      <th>Russia</th>\n      <td>1036</td>\n      <td>4</td>\n      <td>45</td>\n      <td>987</td>\n      <td>0.003861</td>\n    </tr>\n    <tr>\n      <th>Czechia</th>\n      <td>2279</td>\n      <td>9</td>\n      <td>11</td>\n      <td>2259</td>\n      <td>0.003949</td>\n    </tr>\n    <tr>\n      <th>Israel</th>\n      <td>3035</td>\n      <td>12</td>\n      <td>79</td>\n      <td>2944</td>\n      <td>0.003954</td>\n    </tr>\n    <tr>\n      <th>Australia</th>\n      <td>3143</td>\n      <td>13</td>\n      <td>194</td>\n      <td>2936</td>\n      <td>0.004136</td>\n    </tr>\n    <tr>\n      <th>Jordan</th>\n      <td>235</td>\n      <td>1</td>\n      <td>18</td>\n      <td>216</td>\n      <td>0.004255</td>\n    </tr>\n    <tr>\n      <th>Thailand</th>\n      <td>1136</td>\n      <td>5</td>\n      <td>97</td>\n      <td>1034</td>\n      <td>0.004401</td>\n    </tr>\n    <tr>\n      <th>United Arab Emirates</th>\n      <td>405</td>\n      <td>2</td>\n      <td>52</td>\n      <td>351</td>\n      <td>0.004938</td>\n    </tr>\n    <tr>\n      <th>Norway</th>\n      <td>3755</td>\n      <td>19</td>\n      <td>6</td>\n      <td>3730</td>\n      <td>0.005060</td>\n    </tr>\n    <tr>\n      <th>Croatia</th>\n      <td>586</td>\n      <td>3</td>\n      <td>37</td>\n      <td>546</td>\n      <td>0.005119</td>\n    </tr>\n    <tr>\n      <th>Kazakhstan</th>\n      <td>150</td>\n      <td>1</td>\n      <td>3</td>\n      <td>146</td>\n      <td>0.006667</td>\n    </tr>\n    <tr>\n      <th>Germany</th>\n      <td>50871</td>\n      <td>342</td>\n      <td>6658</td>\n      <td>43871</td>\n      <td>0.006723</td>\n    </tr>\n    <tr>\n      <th>Finland</th>\n      <td>1041</td>\n      <td>7</td>\n      <td>10</td>\n      <td>1024</td>\n      <td>0.006724</td>\n    </tr>\n    <tr>\n      <th>Taiwan*</th>\n      <td>267</td>\n      <td>2</td>\n      <td>29</td>\n      <td>236</td>\n      <td>0.007491</td>\n    </tr>\n    <tr>\n      <th>Austria</th>\n      <td>7657</td>\n      <td>58</td>\n      <td>225</td>\n      <td>7374</td>\n      <td>0.007575</td>\n    </tr>\n    <tr>\n      <th>Costa Rica</th>\n      <td>263</td>\n      <td>2</td>\n      <td>3</td>\n      <td>258</td>\n      <td>0.007605</td>\n    </tr>\n    <tr>\n      <th>Pakistan</th>\n      <td>1373</td>\n      <td>11</td>\n      <td>23</td>\n      <td>1339</td>\n      <td>0.008012</td>\n    </tr>\n    <tr>\n      <th>Bahrain</th>\n      <td>466</td>\n      <td>4</td>\n      <td>227</td>\n      <td>235</td>\n      <td>0.008584</td>\n    </tr>\n  </tbody>\n</table>\n</div>"
     },
     "metadata": {},
     "execution_count": 50
    }
   ],
   "source": [
    "fatalities_asc = df_country_cases.query('(Deaths > 0) & (Confirmed > 100)').sort_values(by = 'fatality_rate', ascending = True)\n",
    "\n",
    "fatalities_asc[:25]"
   ]
  },
  {
   "cell_type": "code",
   "execution_count": 23,
   "metadata": {},
   "outputs": [
    {
     "output_type": "execute_result",
     "data": {
      "text/plain": "                    Confirmed  Deaths  Recovered  Active  fatality_rate\nCountry_Region                                                         \nItaly                   86498    9134      10950   66414       0.105598\nSan Marino                223      21          4     198       0.094170\nIraq                      458      40        122     296       0.087336\nIndonesia                1046      87         46     913       0.083174\nSpain                   65719    5138       9357   51224       0.078181\nIran                    32332    2378      11133   18821       0.073549\nPhilippines               803      54         31     718       0.067248\nMorocco                   345      23         11     311       0.066667\nAlgeria                   409      26         29     354       0.063570\nNetherlands              8647     547          6    8094       0.063259\nFrance                  33402    1997       5707   25698       0.059787\nEgypt                     536      30        116     390       0.055970\nUnited Kingdom          14745     761        151   13833       0.051611\nBurkina Faso              180       9         12     159       0.050000\nAlbania                   186       8         31     147       0.043011\nChina                   81897    3296      74720    3881       0.040246\nBelgium                  7284     289        858    6137       0.039676\nAfghanistan               110       4          2     104       0.036364\nDominican Republic        581      20          3     558       0.034423\nSweden                   3069     105         16    2948       0.034213\nJapan                    1468      49        372    1047       0.033379\nHungary                   300      10         34     256       0.033333\nCyprus                    162       5         15     142       0.030864\nGhana                     137       4          2     131       0.029197\nGreece                    966      28         52     886       0.028986",
      "text/html": "<div>\n<style scoped>\n    .dataframe tbody tr th:only-of-type {\n        vertical-align: middle;\n    }\n\n    .dataframe tbody tr th {\n        vertical-align: top;\n    }\n\n    .dataframe thead th {\n        text-align: right;\n    }\n</style>\n<table border=\"1\" class=\"dataframe\">\n  <thead>\n    <tr style=\"text-align: right;\">\n      <th></th>\n      <th>Confirmed</th>\n      <th>Deaths</th>\n      <th>Recovered</th>\n      <th>Active</th>\n      <th>fatality_rate</th>\n    </tr>\n    <tr>\n      <th>Country_Region</th>\n      <th></th>\n      <th></th>\n      <th></th>\n      <th></th>\n      <th></th>\n    </tr>\n  </thead>\n  <tbody>\n    <tr>\n      <th>Italy</th>\n      <td>86498</td>\n      <td>9134</td>\n      <td>10950</td>\n      <td>66414</td>\n      <td>0.105598</td>\n    </tr>\n    <tr>\n      <th>San Marino</th>\n      <td>223</td>\n      <td>21</td>\n      <td>4</td>\n      <td>198</td>\n      <td>0.094170</td>\n    </tr>\n    <tr>\n      <th>Iraq</th>\n      <td>458</td>\n      <td>40</td>\n      <td>122</td>\n      <td>296</td>\n      <td>0.087336</td>\n    </tr>\n    <tr>\n      <th>Indonesia</th>\n      <td>1046</td>\n      <td>87</td>\n      <td>46</td>\n      <td>913</td>\n      <td>0.083174</td>\n    </tr>\n    <tr>\n      <th>Spain</th>\n      <td>65719</td>\n      <td>5138</td>\n      <td>9357</td>\n      <td>51224</td>\n      <td>0.078181</td>\n    </tr>\n    <tr>\n      <th>Iran</th>\n      <td>32332</td>\n      <td>2378</td>\n      <td>11133</td>\n      <td>18821</td>\n      <td>0.073549</td>\n    </tr>\n    <tr>\n      <th>Philippines</th>\n      <td>803</td>\n      <td>54</td>\n      <td>31</td>\n      <td>718</td>\n      <td>0.067248</td>\n    </tr>\n    <tr>\n      <th>Morocco</th>\n      <td>345</td>\n      <td>23</td>\n      <td>11</td>\n      <td>311</td>\n      <td>0.066667</td>\n    </tr>\n    <tr>\n      <th>Algeria</th>\n      <td>409</td>\n      <td>26</td>\n      <td>29</td>\n      <td>354</td>\n      <td>0.063570</td>\n    </tr>\n    <tr>\n      <th>Netherlands</th>\n      <td>8647</td>\n      <td>547</td>\n      <td>6</td>\n      <td>8094</td>\n      <td>0.063259</td>\n    </tr>\n    <tr>\n      <th>France</th>\n      <td>33402</td>\n      <td>1997</td>\n      <td>5707</td>\n      <td>25698</td>\n      <td>0.059787</td>\n    </tr>\n    <tr>\n      <th>Egypt</th>\n      <td>536</td>\n      <td>30</td>\n      <td>116</td>\n      <td>390</td>\n      <td>0.055970</td>\n    </tr>\n    <tr>\n      <th>United Kingdom</th>\n      <td>14745</td>\n      <td>761</td>\n      <td>151</td>\n      <td>13833</td>\n      <td>0.051611</td>\n    </tr>\n    <tr>\n      <th>Burkina Faso</th>\n      <td>180</td>\n      <td>9</td>\n      <td>12</td>\n      <td>159</td>\n      <td>0.050000</td>\n    </tr>\n    <tr>\n      <th>Albania</th>\n      <td>186</td>\n      <td>8</td>\n      <td>31</td>\n      <td>147</td>\n      <td>0.043011</td>\n    </tr>\n    <tr>\n      <th>China</th>\n      <td>81897</td>\n      <td>3296</td>\n      <td>74720</td>\n      <td>3881</td>\n      <td>0.040246</td>\n    </tr>\n    <tr>\n      <th>Belgium</th>\n      <td>7284</td>\n      <td>289</td>\n      <td>858</td>\n      <td>6137</td>\n      <td>0.039676</td>\n    </tr>\n    <tr>\n      <th>Afghanistan</th>\n      <td>110</td>\n      <td>4</td>\n      <td>2</td>\n      <td>104</td>\n      <td>0.036364</td>\n    </tr>\n    <tr>\n      <th>Dominican Republic</th>\n      <td>581</td>\n      <td>20</td>\n      <td>3</td>\n      <td>558</td>\n      <td>0.034423</td>\n    </tr>\n    <tr>\n      <th>Sweden</th>\n      <td>3069</td>\n      <td>105</td>\n      <td>16</td>\n      <td>2948</td>\n      <td>0.034213</td>\n    </tr>\n    <tr>\n      <th>Japan</th>\n      <td>1468</td>\n      <td>49</td>\n      <td>372</td>\n      <td>1047</td>\n      <td>0.033379</td>\n    </tr>\n    <tr>\n      <th>Hungary</th>\n      <td>300</td>\n      <td>10</td>\n      <td>34</td>\n      <td>256</td>\n      <td>0.033333</td>\n    </tr>\n    <tr>\n      <th>Cyprus</th>\n      <td>162</td>\n      <td>5</td>\n      <td>15</td>\n      <td>142</td>\n      <td>0.030864</td>\n    </tr>\n    <tr>\n      <th>Ghana</th>\n      <td>137</td>\n      <td>4</td>\n      <td>2</td>\n      <td>131</td>\n      <td>0.029197</td>\n    </tr>\n    <tr>\n      <th>Greece</th>\n      <td>966</td>\n      <td>28</td>\n      <td>52</td>\n      <td>886</td>\n      <td>0.028986</td>\n    </tr>\n  </tbody>\n</table>\n</div>"
     },
     "metadata": {},
     "execution_count": 23
    }
   ],
   "source": [
    "# last operation tells that all countries in this csv file have confirmed cases. \n",
    "# now we can calculate the fatality rate\n",
    "\n",
    "df_country_cases['fatality_rate'] = df_country_cases.Deaths / df_country_cases.Confirmed\n",
    "\n",
    "fatalities = df_country_cases.query('(Deaths > 0) & (Confirmed > 100)') \\\n",
    "                            .sort_values(by = 'fatality_rate', ascending = False)\n",
    "\n",
    "fatalities[:25]"
   ]
  },
  {
   "cell_type": "code",
   "execution_count": 36,
   "metadata": {},
   "outputs": [
    {
     "output_type": "execute_result",
     "data": {
      "text/plain": "18"
     },
     "metadata": {},
     "execution_count": 36
    }
   ],
   "source": [
    "indices = fatalities.sort_values(by = 'fatality_rate', ascending = True).index\n",
    "\n",
    "indices.get_loc('Germany')"
   ]
  },
  {
   "cell_type": "code",
   "execution_count": 37,
   "metadata": {},
   "outputs": [],
   "source": [
    "# define a function which returns the rank of the fatality\n",
    "\n",
    "def fatality_rank( countryName: str, asc: bool ) -> int:\n",
    "    indices = fatalities.sort_values(by = 'fatality_rate', ascending = asc).index\n",
    "    return indices.get_loc(countryName)\n",
    ""
   ]
  },
  {
   "cell_type": "code",
   "execution_count": 48,
   "metadata": {},
   "outputs": [
    {
     "output_type": "stream",
     "name": "stdout",
     "text": "Fatality of Germany is 0.006722887303178628, it ranks 18 among the countries which have more than 100 confirmed cases.\n"
    }
   ],
   "source": [
    "# How does Germany score in the fatality?\n",
    "\n",
    "fatality_de = fatalities.loc['Germany'].fatality_rate\n",
    "rank = fatality_rank('Germany', True)\n",
    "\n",
    "print(\"Fatality of Germany is {}, it ranks {} among the countries which have more than 100 confirmed cases.\".format(fatality_de, rank) )\n",
    ""
   ]
  },
  {
   "cell_type": "code",
   "execution_count": 42,
   "metadata": {},
   "outputs": [
    {
     "output_type": "execute_result",
     "data": {
      "text/plain": "count    83.000000\nmean      0.024420\nstd       0.024414\nmin       0.000855\n25%       0.007533\n50%       0.014895\n75%       0.033356\nmax       0.105598\nName: fatality_rate, dtype: float64"
     },
     "metadata": {},
     "execution_count": 42
    }
   ],
   "source": [
    "# basic statistics of the fatality\n",
    "fatalities.fatality_rate.describe()"
   ]
  },
  {
   "cell_type": "code",
   "execution_count": 43,
   "metadata": {},
   "outputs": [
    {
     "output_type": "stream",
     "name": "stdout",
     "text": "Fatality median is 0.014894984997856837 and mode is 0    0.009346\ndtype: float64\n"
    }
   ],
   "source": [
    "# median and mode of fatality rate\n",
    "\n",
    "fatality_median = fatalities.fatality_rate.median()\n",
    "fatality_mode = fatalities.fatality_rate.mode()\n",
    "\n",
    "print(\"Fatality median is {} and mode is {}\".format(fatality_median, fatality_mode))\n",
    ""
   ]
  },
  {
   "cell_type": "code",
   "execution_count": 39,
   "metadata": {},
   "outputs": [
    {
     "output_type": "execute_result",
     "data": {
      "text/plain": "Country_Region\nItaly              (0.0951, 0.106]\nSan Marino        (0.0846, 0.0951]\nIraq              (0.0846, 0.0951]\nIndonesia         (0.0742, 0.0846]\nSpain             (0.0742, 0.0846]\n                       ...        \nSaudi Arabia    (-0.00025, 0.0113]\nIceland         (-0.00025, 0.0113]\nSerbia          (-0.00025, 0.0113]\nEstonia         (-0.00025, 0.0113]\nSouth Africa    (-0.00025, 0.0113]\nName: fatality_rate, Length: 83, dtype: category\nCategories (10, interval[float64]): [(-0.00025, 0.0113] < (0.0113, 0.0218] < (0.0218, 0.0323] < (0.0323, 0.0428] ... (0.0637, 0.0742] < (0.0742, 0.0846] < (0.0846, 0.0951] < (0.0951, 0.106]]"
     },
     "metadata": {},
     "execution_count": 39
    }
   ],
   "source": [
    "# the mode above does not make sense, let's fix it.\n",
    "\n",
    "# first, segment and sort fatality values into bins\n",
    "bins = pd.cut(fatalities['fatality_rate'], 10, include_lowest=True)\n",
    "\n",
    "# I'd like to see the content of each bin, what to do?"
   ]
  },
  {
   "cell_type": "code",
   "execution_count": null,
   "metadata": {},
   "outputs": [],
   "source": []
  }
 ],
 "metadata": {
  "kernelspec": {
   "display_name": "Python 3",
   "language": "python",
   "name": "python3"
  },
  "language_info": {
   "codemirror_mode": {
    "name": "ipython",
    "version": 3
   },
   "file_extension": ".py",
   "mimetype": "text/x-python",
   "name": "python",
   "nbconvert_exporter": "python",
   "pygments_lexer": "ipython3",
   "version": "3.7.6-final"
  }
 },
 "nbformat": 4,
 "nbformat_minor": 4
}