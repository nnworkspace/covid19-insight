{
 "cells": [
  {
   "cell_type": "markdown",
   "metadata": {},
   "source": [
    "# Covid-19 Data Wrangling in Python"
   ]
  },
  {
   "cell_type": "code",
   "execution_count": 2,
   "metadata": {},
   "outputs": [
    {
     "output_type": "stream",
     "name": "stdout",
     "text": "pandas version:  1.0.1\nnumpy version:  1.18.1\n"
    }
   ],
   "source": [
    "import pandas as pd\n",
    "import numpy as np\n",
    "\n",
    "print('pandas version: ', pd.__version__)\n",
    "print('numpy version: ', np.version.version)"
   ]
  },
  {
   "cell_type": "code",
   "execution_count": 3,
   "metadata": {},
   "outputs": [
    {
     "output_type": "execute_result",
     "data": {
      "text/plain": "      FIPS     Admin2  Province_State Country_Region          Last_Update  \\\n0  45001.0  Abbeville  South Carolina             US  2020-03-29 23:08:25   \n1  22001.0     Acadia       Louisiana             US  2020-03-29 23:08:25   \n2  51001.0   Accomack        Virginia             US  2020-03-29 23:08:25   \n3  16001.0        Ada           Idaho             US  2020-03-29 23:08:25   \n4  19001.0      Adair            Iowa             US  2020-03-29 23:08:25   \n\n         Lat       Long_  Confirmed  Deaths  Recovered  Active  \\\n0  34.223334  -82.461707          3       0          0       0   \n1  30.295065  -92.414197          9       1          0       0   \n2  37.767072  -75.632346          3       0          0       0   \n3  43.452658 -116.241552         92       1          0       0   \n4  41.330756  -94.471059          1       0          0       0   \n\n                    Combined_Key  \n0  Abbeville, South Carolina, US  \n1          Acadia, Louisiana, US  \n2         Accomack, Virginia, US  \n3                 Ada, Idaho, US  \n4                Adair, Iowa, US  ",
      "text/html": "<div>\n<style scoped>\n    .dataframe tbody tr th:only-of-type {\n        vertical-align: middle;\n    }\n\n    .dataframe tbody tr th {\n        vertical-align: top;\n    }\n\n    .dataframe thead th {\n        text-align: right;\n    }\n</style>\n<table border=\"1\" class=\"dataframe\">\n  <thead>\n    <tr style=\"text-align: right;\">\n      <th></th>\n      <th>FIPS</th>\n      <th>Admin2</th>\n      <th>Province_State</th>\n      <th>Country_Region</th>\n      <th>Last_Update</th>\n      <th>Lat</th>\n      <th>Long_</th>\n      <th>Confirmed</th>\n      <th>Deaths</th>\n      <th>Recovered</th>\n      <th>Active</th>\n      <th>Combined_Key</th>\n    </tr>\n  </thead>\n  <tbody>\n    <tr>\n      <th>0</th>\n      <td>45001.0</td>\n      <td>Abbeville</td>\n      <td>South Carolina</td>\n      <td>US</td>\n      <td>2020-03-29 23:08:25</td>\n      <td>34.223334</td>\n      <td>-82.461707</td>\n      <td>3</td>\n      <td>0</td>\n      <td>0</td>\n      <td>0</td>\n      <td>Abbeville, South Carolina, US</td>\n    </tr>\n    <tr>\n      <th>1</th>\n      <td>22001.0</td>\n      <td>Acadia</td>\n      <td>Louisiana</td>\n      <td>US</td>\n      <td>2020-03-29 23:08:25</td>\n      <td>30.295065</td>\n      <td>-92.414197</td>\n      <td>9</td>\n      <td>1</td>\n      <td>0</td>\n      <td>0</td>\n      <td>Acadia, Louisiana, US</td>\n    </tr>\n    <tr>\n      <th>2</th>\n      <td>51001.0</td>\n      <td>Accomack</td>\n      <td>Virginia</td>\n      <td>US</td>\n      <td>2020-03-29 23:08:25</td>\n      <td>37.767072</td>\n      <td>-75.632346</td>\n      <td>3</td>\n      <td>0</td>\n      <td>0</td>\n      <td>0</td>\n      <td>Accomack, Virginia, US</td>\n    </tr>\n    <tr>\n      <th>3</th>\n      <td>16001.0</td>\n      <td>Ada</td>\n      <td>Idaho</td>\n      <td>US</td>\n      <td>2020-03-29 23:08:25</td>\n      <td>43.452658</td>\n      <td>-116.241552</td>\n      <td>92</td>\n      <td>1</td>\n      <td>0</td>\n      <td>0</td>\n      <td>Ada, Idaho, US</td>\n    </tr>\n    <tr>\n      <th>4</th>\n      <td>19001.0</td>\n      <td>Adair</td>\n      <td>Iowa</td>\n      <td>US</td>\n      <td>2020-03-29 23:08:25</td>\n      <td>41.330756</td>\n      <td>-94.471059</td>\n      <td>1</td>\n      <td>0</td>\n      <td>0</td>\n      <td>0</td>\n      <td>Adair, Iowa, US</td>\n    </tr>\n  </tbody>\n</table>\n</div>"
     },
     "metadata": {},
     "execution_count": 3
    }
   ],
   "source": [
    "covid_daily_df = pd.read_csv('data/2020-03-29.csv')\n",
    "\n",
    "covid_daily_df.head()"
   ]
  },
  {
   "cell_type": "code",
   "execution_count": 3,
   "metadata": {},
   "outputs": [
    {
     "output_type": "execute_result",
     "data": {
      "text/plain": "FIPS              float64\nAdmin2             object\nProvince_State     object\nCountry_Region     object\nLast_Update        object\nLat               float64\nLong_             float64\nConfirmed           int64\nDeaths              int64\nRecovered           int64\nActive              int64\nCombined_Key       object\ndtype: object"
     },
     "metadata": {},
     "execution_count": 3
    }
   ],
   "source": [
    "covid_daily_df.dtypes"
   ]
  },
  {
   "cell_type": "code",
   "execution_count": 4,
   "metadata": {},
   "outputs": [
    {
     "output_type": "execute_result",
     "data": {
      "text/plain": "(3434, 12)"
     },
     "metadata": {},
     "execution_count": 4
    }
   ],
   "source": [
    "covid_daily_df.shape"
   ]
  },
  {
   "cell_type": "code",
   "execution_count": 5,
   "metadata": {},
   "outputs": [
    {
     "output_type": "execute_result",
     "data": {
      "text/plain": "    FIPS     Admin2  Province_State Country_Region          Last_Update  \\\n0  45001  Abbeville  South Carolina             US  2020-03-29 23:08:25   \n1  22001     Acadia       Louisiana             US  2020-03-29 23:08:25   \n2  51001   Accomack        Virginia             US  2020-03-29 23:08:25   \n3  16001        Ada           Idaho             US  2020-03-29 23:08:25   \n4  19001      Adair            Iowa             US  2020-03-29 23:08:25   \n\n         Lat       Long_  Confirmed  Deaths  Recovered  Active  \\\n0  34.223334  -82.461707          3       0          0       0   \n1  30.295065  -92.414197          9       1          0       0   \n2  37.767072  -75.632346          3       0          0       0   \n3  43.452658 -116.241552         92       1          0       0   \n4  41.330756  -94.471059          1       0          0       0   \n\n                    Combined_Key  \n0  Abbeville, South Carolina, US  \n1          Acadia, Louisiana, US  \n2         Accomack, Virginia, US  \n3                 Ada, Idaho, US  \n4                Adair, Iowa, US  ",
      "text/html": "<div>\n<style scoped>\n    .dataframe tbody tr th:only-of-type {\n        vertical-align: middle;\n    }\n\n    .dataframe tbody tr th {\n        vertical-align: top;\n    }\n\n    .dataframe thead th {\n        text-align: right;\n    }\n</style>\n<table border=\"1\" class=\"dataframe\">\n  <thead>\n    <tr style=\"text-align: right;\">\n      <th></th>\n      <th>FIPS</th>\n      <th>Admin2</th>\n      <th>Province_State</th>\n      <th>Country_Region</th>\n      <th>Last_Update</th>\n      <th>Lat</th>\n      <th>Long_</th>\n      <th>Confirmed</th>\n      <th>Deaths</th>\n      <th>Recovered</th>\n      <th>Active</th>\n      <th>Combined_Key</th>\n    </tr>\n  </thead>\n  <tbody>\n    <tr>\n      <th>0</th>\n      <td>45001</td>\n      <td>Abbeville</td>\n      <td>South Carolina</td>\n      <td>US</td>\n      <td>2020-03-29 23:08:25</td>\n      <td>34.223334</td>\n      <td>-82.461707</td>\n      <td>3</td>\n      <td>0</td>\n      <td>0</td>\n      <td>0</td>\n      <td>Abbeville, South Carolina, US</td>\n    </tr>\n    <tr>\n      <th>1</th>\n      <td>22001</td>\n      <td>Acadia</td>\n      <td>Louisiana</td>\n      <td>US</td>\n      <td>2020-03-29 23:08:25</td>\n      <td>30.295065</td>\n      <td>-92.414197</td>\n      <td>9</td>\n      <td>1</td>\n      <td>0</td>\n      <td>0</td>\n      <td>Acadia, Louisiana, US</td>\n    </tr>\n    <tr>\n      <th>2</th>\n      <td>51001</td>\n      <td>Accomack</td>\n      <td>Virginia</td>\n      <td>US</td>\n      <td>2020-03-29 23:08:25</td>\n      <td>37.767072</td>\n      <td>-75.632346</td>\n      <td>3</td>\n      <td>0</td>\n      <td>0</td>\n      <td>0</td>\n      <td>Accomack, Virginia, US</td>\n    </tr>\n    <tr>\n      <th>3</th>\n      <td>16001</td>\n      <td>Ada</td>\n      <td>Idaho</td>\n      <td>US</td>\n      <td>2020-03-29 23:08:25</td>\n      <td>43.452658</td>\n      <td>-116.241552</td>\n      <td>92</td>\n      <td>1</td>\n      <td>0</td>\n      <td>0</td>\n      <td>Ada, Idaho, US</td>\n    </tr>\n    <tr>\n      <th>4</th>\n      <td>19001</td>\n      <td>Adair</td>\n      <td>Iowa</td>\n      <td>US</td>\n      <td>2020-03-29 23:08:25</td>\n      <td>41.330756</td>\n      <td>-94.471059</td>\n      <td>1</td>\n      <td>0</td>\n      <td>0</td>\n      <td>0</td>\n      <td>Adair, Iowa, US</td>\n    </tr>\n  </tbody>\n</table>\n</div>"
     },
     "metadata": {},
     "execution_count": 5
    }
   ],
   "source": [
    "# convert the FIPS County Code column to type of integer\n",
    "\n",
    "covid_daily_df.FIPS = covid_daily_df.FIPS.fillna(-1) # get rid of NA \n",
    "covid_daily_df.FIPS = covid_daily_df.FIPS.astype(int)\n",
    "\n",
    "covid_daily_df.head()"
   ]
  },
  {
   "cell_type": "code",
   "execution_count": 6,
   "metadata": {},
   "outputs": [
    {
     "output_type": "stream",
     "name": "stdout",
     "text": "['US' 'Canada' 'United Kingdom' 'China' 'Netherlands' 'Australia'\n 'Denmark' 'France' 'Afghanistan' 'Albania' 'Algeria' 'Andorra' 'Angola'\n 'Antigua and Barbuda' 'Argentina' 'Armenia' 'Austria' 'Azerbaijan'\n 'Bahamas' 'Bahrain' 'Bangladesh' 'Barbados' 'Belarus' 'Belgium' 'Belize'\n 'Benin' 'Bhutan' 'Bolivia' 'Bosnia and Herzegovina' 'Brazil' 'Brunei'\n 'Bulgaria' 'Burkina Faso' 'Burma' 'Cabo Verde' 'Cambodia' 'Cameroon'\n 'Central African Republic' 'Chad' 'Chile' 'Colombia'\n 'Congo (Brazzaville)' 'Congo (Kinshasa)' 'Costa Rica' \"Cote d'Ivoire\"\n 'Croatia' 'Cuba' 'Cyprus' 'Czechia' 'Diamond Princess' 'Djibouti'\n 'Dominica' 'Dominican Republic' 'Ecuador' 'Egypt' 'El Salvador'\n 'Equatorial Guinea' 'Eritrea' 'Estonia' 'Eswatini' 'Ethiopia' 'Fiji'\n 'Finland' 'Gabon' 'Gambia' 'Georgia' 'Germany' 'Ghana' 'Greece' 'Grenada'\n 'Guatemala' 'Guinea' 'Guinea-Bissau' 'Guyana' 'Haiti' 'Holy See'\n 'Honduras' 'Hungary' 'Iceland' 'India' 'Indonesia' 'Iran' 'Iraq'\n 'Ireland' 'Israel' 'Italy' 'Jamaica' 'Japan' 'Jordan' 'Kazakhstan'\n 'Kenya' 'Korea, South' 'Kosovo' 'Kuwait' 'Kyrgyzstan' 'Laos' 'Latvia'\n 'Lebanon' 'Liberia' 'Libya' 'Liechtenstein' 'Lithuania' 'Luxembourg'\n 'MS Zaandam' 'Madagascar' 'Malaysia' 'Maldives' 'Mali' 'Malta'\n 'Mauritania' 'Mauritius' 'Mexico' 'Moldova' 'Monaco' 'Mongolia'\n 'Montenegro' 'Morocco' 'Mozambique' 'Namibia' 'Nepal' 'New Zealand'\n 'Nicaragua' 'Niger' 'Nigeria' 'North Macedonia' 'Norway' 'Oman'\n 'Pakistan' 'Panama' 'Papua New Guinea' 'Paraguay' 'Peru' 'Philippines'\n 'Poland' 'Portugal' 'Qatar' 'Romania' 'Russia' 'Rwanda'\n 'Saint Kitts and Nevis' 'Saint Lucia' 'Saint Vincent and the Grenadines'\n 'San Marino' 'Saudi Arabia' 'Senegal' 'Serbia' 'Seychelles' 'Singapore'\n 'Slovakia' 'Slovenia' 'Somalia' 'South Africa' 'Spain' 'Sri Lanka'\n 'Sudan' 'Suriname' 'Sweden' 'Switzerland' 'Syria' 'Taiwan*' 'Tanzania'\n 'Thailand' 'Timor-Leste' 'Togo' 'Trinidad and Tobago' 'Tunisia' 'Turkey'\n 'Uganda' 'Ukraine' 'United Arab Emirates' 'Uruguay' 'Uzbekistan'\n 'Venezuela' 'Vietnam' 'West Bank and Gaza' 'Zambia' 'Zimbabwe']\n"
    },
    {
     "output_type": "execute_result",
     "data": {
      "text/plain": "177"
     },
     "metadata": {},
     "execution_count": 6
    }
   ],
   "source": [
    "# show all unique Country_Region codes\n",
    "\n",
    "countries = covid_daily_df.Country_Region.unique()\n",
    "print(countries)\n",
    "len(countries)"
   ]
  },
  {
   "cell_type": "code",
   "execution_count": 7,
   "metadata": {},
   "outputs": [
    {
     "output_type": "execute_result",
     "data": {
      "text/plain": "                    Confirmed\nCountry_Region               \nAfghanistan               120\nAlbania                   212\nAlgeria                   511\nAndorra                   334\nAngola                      7\n...                       ...\nVenezuela                 119\nVietnam                   188\nWest Bank and Gaza        109\nZambia                     29\nZimbabwe                    7\n\n[177 rows x 1 columns]",
      "text/html": "<div>\n<style scoped>\n    .dataframe tbody tr th:only-of-type {\n        vertical-align: middle;\n    }\n\n    .dataframe tbody tr th {\n        vertical-align: top;\n    }\n\n    .dataframe thead th {\n        text-align: right;\n    }\n</style>\n<table border=\"1\" class=\"dataframe\">\n  <thead>\n    <tr style=\"text-align: right;\">\n      <th></th>\n      <th>Confirmed</th>\n    </tr>\n    <tr>\n      <th>Country_Region</th>\n      <th></th>\n    </tr>\n  </thead>\n  <tbody>\n    <tr>\n      <th>Afghanistan</th>\n      <td>120</td>\n    </tr>\n    <tr>\n      <th>Albania</th>\n      <td>212</td>\n    </tr>\n    <tr>\n      <th>Algeria</th>\n      <td>511</td>\n    </tr>\n    <tr>\n      <th>Andorra</th>\n      <td>334</td>\n    </tr>\n    <tr>\n      <th>Angola</th>\n      <td>7</td>\n    </tr>\n    <tr>\n      <th>...</th>\n      <td>...</td>\n    </tr>\n    <tr>\n      <th>Venezuela</th>\n      <td>119</td>\n    </tr>\n    <tr>\n      <th>Vietnam</th>\n      <td>188</td>\n    </tr>\n    <tr>\n      <th>West Bank and Gaza</th>\n      <td>109</td>\n    </tr>\n    <tr>\n      <th>Zambia</th>\n      <td>29</td>\n    </tr>\n    <tr>\n      <th>Zimbabwe</th>\n      <td>7</td>\n    </tr>\n  </tbody>\n</table>\n<p>177 rows × 1 columns</p>\n</div>"
     },
     "metadata": {},
     "execution_count": 7
    }
   ],
   "source": [
    "# statistics grouped by countries\n",
    "covid_daily_df.groupby('Country_Region').agg({'Confirmed': np.sum})"
   ]
  },
  {
   "cell_type": "code",
   "execution_count": 8,
   "metadata": {},
   "outputs": [
    {
     "output_type": "execute_result",
     "data": {
      "text/plain": "                    Confirmed  Deaths  Recovered  Active\nCountry_Region                                          \nAfghanistan               120       4          2     114\nAlbania                   212      10         33     169\nAlgeria                   511      31         31     449\nAndorra                   334       6          1     327\nAngola                      7       2          0       5\n...                       ...     ...        ...     ...\nVenezuela                 119       2         39      78\nVietnam                   188       0         25     163\nWest Bank and Gaza        109       1         18      90\nZambia                     29       0          0      29\nZimbabwe                    7       1          0       6\n\n[177 rows x 4 columns]",
      "text/html": "<div>\n<style scoped>\n    .dataframe tbody tr th:only-of-type {\n        vertical-align: middle;\n    }\n\n    .dataframe tbody tr th {\n        vertical-align: top;\n    }\n\n    .dataframe thead th {\n        text-align: right;\n    }\n</style>\n<table border=\"1\" class=\"dataframe\">\n  <thead>\n    <tr style=\"text-align: right;\">\n      <th></th>\n      <th>Confirmed</th>\n      <th>Deaths</th>\n      <th>Recovered</th>\n      <th>Active</th>\n    </tr>\n    <tr>\n      <th>Country_Region</th>\n      <th></th>\n      <th></th>\n      <th></th>\n      <th></th>\n    </tr>\n  </thead>\n  <tbody>\n    <tr>\n      <th>Afghanistan</th>\n      <td>120</td>\n      <td>4</td>\n      <td>2</td>\n      <td>114</td>\n    </tr>\n    <tr>\n      <th>Albania</th>\n      <td>212</td>\n      <td>10</td>\n      <td>33</td>\n      <td>169</td>\n    </tr>\n    <tr>\n      <th>Algeria</th>\n      <td>511</td>\n      <td>31</td>\n      <td>31</td>\n      <td>449</td>\n    </tr>\n    <tr>\n      <th>Andorra</th>\n      <td>334</td>\n      <td>6</td>\n      <td>1</td>\n      <td>327</td>\n    </tr>\n    <tr>\n      <th>Angola</th>\n      <td>7</td>\n      <td>2</td>\n      <td>0</td>\n      <td>5</td>\n    </tr>\n    <tr>\n      <th>...</th>\n      <td>...</td>\n      <td>...</td>\n      <td>...</td>\n      <td>...</td>\n    </tr>\n    <tr>\n      <th>Venezuela</th>\n      <td>119</td>\n      <td>2</td>\n      <td>39</td>\n      <td>78</td>\n    </tr>\n    <tr>\n      <th>Vietnam</th>\n      <td>188</td>\n      <td>0</td>\n      <td>25</td>\n      <td>163</td>\n    </tr>\n    <tr>\n      <th>West Bank and Gaza</th>\n      <td>109</td>\n      <td>1</td>\n      <td>18</td>\n      <td>90</td>\n    </tr>\n    <tr>\n      <th>Zambia</th>\n      <td>29</td>\n      <td>0</td>\n      <td>0</td>\n      <td>29</td>\n    </tr>\n    <tr>\n      <th>Zimbabwe</th>\n      <td>7</td>\n      <td>1</td>\n      <td>0</td>\n      <td>6</td>\n    </tr>\n  </tbody>\n</table>\n<p>177 rows × 4 columns</p>\n</div>"
     },
     "metadata": {},
     "execution_count": 8
    }
   ],
   "source": [
    "# construct a dataframe with five columns: \n",
    "# Country_Region (index), Confirmed, Deaths, Recovered, Active\n",
    "df_country_cases = covid_daily_df.groupby('Country_Region').agg({'Confirmed': np.sum, 'Deaths': np.sum, 'Recovered': np.sum, 'Active': np.sum})\n",
    "\n",
    "df_country_cases"
   ]
  },
  {
   "cell_type": "code",
   "execution_count": 9,
   "metadata": {},
   "outputs": [
    {
     "output_type": "execute_result",
     "data": {
      "text/plain": "0"
     },
     "metadata": {},
     "execution_count": 9
    }
   ],
   "source": [
    "# show counties that do not have any corona patients yet\n",
    "len(df_country_cases.loc[df_country_cases['Confirmed'] == 0])\n",
    ""
   ]
  },
  {
   "cell_type": "code",
   "execution_count": 10,
   "metadata": {},
   "outputs": [
    {
     "output_type": "execute_result",
     "data": {
      "text/plain": "                    Confirmed  Deaths  Recovered  Active  fatality_rate\nCountry_Region                                                         \nItaly                   97689   10779      13030   73880       0.110340\nSan Marino                224      22          6     196       0.098214\nIndonesia                1285     114         64    1107       0.088716\nSpain                   80110    6803      14709   58598       0.084921\nIraq                      547      42        143     362       0.076782\nNetherlands             10930     772        253    9905       0.070631\nIran                    38309    2640      12391   23278       0.068913\nEgypt                     609      40        132     437       0.065681\nFrance                  40708    2611       7226   30871       0.064140\nUnited Kingdom          19780    1231        151   18398       0.062235\nAlgeria                   511      31         31     449       0.060665\nMorocco                   479      26         13     440       0.054280\nBurkina Faso              222      12         23     187       0.054054\nPhilippines              1418      71         42    1305       0.050071\nAlbania                   212      10         33     169       0.047170\nDominican Republic        859      39          3     817       0.045402\nCameroon                  139       6          5     128       0.043165\nChina                   82122    3304      75582    3236       0.040233\nBelgium                 10836     431       1359    9046       0.039775\nAfghanistan               120       4          2     114       0.033333\nGhana                     152       5          2     145       0.032895\nGreece                   1156      38         52    1066       0.032872\nBrazil                   4256     136          6    4114       0.031955\nHungary                   408      13         34     361       0.031863\nEcuador                  1924      58          3    1863       0.030146",
      "text/html": "<div>\n<style scoped>\n    .dataframe tbody tr th:only-of-type {\n        vertical-align: middle;\n    }\n\n    .dataframe tbody tr th {\n        vertical-align: top;\n    }\n\n    .dataframe thead th {\n        text-align: right;\n    }\n</style>\n<table border=\"1\" class=\"dataframe\">\n  <thead>\n    <tr style=\"text-align: right;\">\n      <th></th>\n      <th>Confirmed</th>\n      <th>Deaths</th>\n      <th>Recovered</th>\n      <th>Active</th>\n      <th>fatality_rate</th>\n    </tr>\n    <tr>\n      <th>Country_Region</th>\n      <th></th>\n      <th></th>\n      <th></th>\n      <th></th>\n      <th></th>\n    </tr>\n  </thead>\n  <tbody>\n    <tr>\n      <th>Italy</th>\n      <td>97689</td>\n      <td>10779</td>\n      <td>13030</td>\n      <td>73880</td>\n      <td>0.110340</td>\n    </tr>\n    <tr>\n      <th>San Marino</th>\n      <td>224</td>\n      <td>22</td>\n      <td>6</td>\n      <td>196</td>\n      <td>0.098214</td>\n    </tr>\n    <tr>\n      <th>Indonesia</th>\n      <td>1285</td>\n      <td>114</td>\n      <td>64</td>\n      <td>1107</td>\n      <td>0.088716</td>\n    </tr>\n    <tr>\n      <th>Spain</th>\n      <td>80110</td>\n      <td>6803</td>\n      <td>14709</td>\n      <td>58598</td>\n      <td>0.084921</td>\n    </tr>\n    <tr>\n      <th>Iraq</th>\n      <td>547</td>\n      <td>42</td>\n      <td>143</td>\n      <td>362</td>\n      <td>0.076782</td>\n    </tr>\n    <tr>\n      <th>Netherlands</th>\n      <td>10930</td>\n      <td>772</td>\n      <td>253</td>\n      <td>9905</td>\n      <td>0.070631</td>\n    </tr>\n    <tr>\n      <th>Iran</th>\n      <td>38309</td>\n      <td>2640</td>\n      <td>12391</td>\n      <td>23278</td>\n      <td>0.068913</td>\n    </tr>\n    <tr>\n      <th>Egypt</th>\n      <td>609</td>\n      <td>40</td>\n      <td>132</td>\n      <td>437</td>\n      <td>0.065681</td>\n    </tr>\n    <tr>\n      <th>France</th>\n      <td>40708</td>\n      <td>2611</td>\n      <td>7226</td>\n      <td>30871</td>\n      <td>0.064140</td>\n    </tr>\n    <tr>\n      <th>United Kingdom</th>\n      <td>19780</td>\n      <td>1231</td>\n      <td>151</td>\n      <td>18398</td>\n      <td>0.062235</td>\n    </tr>\n    <tr>\n      <th>Algeria</th>\n      <td>511</td>\n      <td>31</td>\n      <td>31</td>\n      <td>449</td>\n      <td>0.060665</td>\n    </tr>\n    <tr>\n      <th>Morocco</th>\n      <td>479</td>\n      <td>26</td>\n      <td>13</td>\n      <td>440</td>\n      <td>0.054280</td>\n    </tr>\n    <tr>\n      <th>Burkina Faso</th>\n      <td>222</td>\n      <td>12</td>\n      <td>23</td>\n      <td>187</td>\n      <td>0.054054</td>\n    </tr>\n    <tr>\n      <th>Philippines</th>\n      <td>1418</td>\n      <td>71</td>\n      <td>42</td>\n      <td>1305</td>\n      <td>0.050071</td>\n    </tr>\n    <tr>\n      <th>Albania</th>\n      <td>212</td>\n      <td>10</td>\n      <td>33</td>\n      <td>169</td>\n      <td>0.047170</td>\n    </tr>\n    <tr>\n      <th>Dominican Republic</th>\n      <td>859</td>\n      <td>39</td>\n      <td>3</td>\n      <td>817</td>\n      <td>0.045402</td>\n    </tr>\n    <tr>\n      <th>Cameroon</th>\n      <td>139</td>\n      <td>6</td>\n      <td>5</td>\n      <td>128</td>\n      <td>0.043165</td>\n    </tr>\n    <tr>\n      <th>China</th>\n      <td>82122</td>\n      <td>3304</td>\n      <td>75582</td>\n      <td>3236</td>\n      <td>0.040233</td>\n    </tr>\n    <tr>\n      <th>Belgium</th>\n      <td>10836</td>\n      <td>431</td>\n      <td>1359</td>\n      <td>9046</td>\n      <td>0.039775</td>\n    </tr>\n    <tr>\n      <th>Afghanistan</th>\n      <td>120</td>\n      <td>4</td>\n      <td>2</td>\n      <td>114</td>\n      <td>0.033333</td>\n    </tr>\n    <tr>\n      <th>Ghana</th>\n      <td>152</td>\n      <td>5</td>\n      <td>2</td>\n      <td>145</td>\n      <td>0.032895</td>\n    </tr>\n    <tr>\n      <th>Greece</th>\n      <td>1156</td>\n      <td>38</td>\n      <td>52</td>\n      <td>1066</td>\n      <td>0.032872</td>\n    </tr>\n    <tr>\n      <th>Brazil</th>\n      <td>4256</td>\n      <td>136</td>\n      <td>6</td>\n      <td>4114</td>\n      <td>0.031955</td>\n    </tr>\n    <tr>\n      <th>Hungary</th>\n      <td>408</td>\n      <td>13</td>\n      <td>34</td>\n      <td>361</td>\n      <td>0.031863</td>\n    </tr>\n    <tr>\n      <th>Ecuador</th>\n      <td>1924</td>\n      <td>58</td>\n      <td>3</td>\n      <td>1863</td>\n      <td>0.030146</td>\n    </tr>\n  </tbody>\n</table>\n</div>"
     },
     "metadata": {},
     "execution_count": 10
    }
   ],
   "source": [
    "# last operation tells that all countries in this csv file have confirmed cases. \n",
    "# now we can calculate the fatality rate\n",
    "\n",
    "df_country_cases['fatality_rate'] = df_country_cases.Deaths / df_country_cases.Confirmed\n",
    "\n",
    "fatalities = df_country_cases.query('(Deaths > 0) & (Confirmed > 100)') \\\n",
    "                            .sort_values(by = 'fatality_rate', ascending = False)\n",
    "\n",
    "fatalities[:25]"
   ]
  },
  {
   "cell_type": "code",
   "execution_count": 11,
   "metadata": {},
   "outputs": [
    {
     "output_type": "execute_result",
     "data": {
      "text/plain": "                      Confirmed  Deaths  Recovered  Active  fatality_rate\nCountry_Region                                                           \nSouth Africa               1280       2         31    1247       0.001563\nQatar                       634       1         48     585       0.001577\nNew Zealand                 514       1         56     457       0.001946\nIceland                    1020       2        135     883       0.001961\nChile                      2139       7         75    2057       0.003273\nUruguay                     304       1          0     303       0.003289\nKazakhstan                  284       1         20     263       0.003521\nIsrael                     4247      15        132    4100       0.003532\nSingapore                   844       3        212     629       0.003555\nAustralia                  3984      16        244    3724       0.004016\nEstonia                     679       3         20     656       0.004418\nThailand                   1388       7         97    1284       0.005043\nRussia                     1534       8         64    1462       0.005215\nUnited Arab Emirates        570       3         58     509       0.005263\nCzechia                    2817      16         11    2790       0.005680\nNorway                     4284      25          7    4252       0.005836\nCote d'Ivoire               165       1          4     160       0.006061\nSaudi Arabia               1299       8         66    1225       0.006159\nCosta Rica                  314       2          3     309       0.006369\nTaiwan*                     298       2         30     266       0.006711\nArmenia                     424       3         30     391       0.007075\nMoldova                     263       2          2     259       0.007605\nBrunei                      126       1         34      91       0.007937\nBahrain                     499       4        272     223       0.008016\nCroatia                     713       6         52     655       0.008415",
      "text/html": "<div>\n<style scoped>\n    .dataframe tbody tr th:only-of-type {\n        vertical-align: middle;\n    }\n\n    .dataframe tbody tr th {\n        vertical-align: top;\n    }\n\n    .dataframe thead th {\n        text-align: right;\n    }\n</style>\n<table border=\"1\" class=\"dataframe\">\n  <thead>\n    <tr style=\"text-align: right;\">\n      <th></th>\n      <th>Confirmed</th>\n      <th>Deaths</th>\n      <th>Recovered</th>\n      <th>Active</th>\n      <th>fatality_rate</th>\n    </tr>\n    <tr>\n      <th>Country_Region</th>\n      <th></th>\n      <th></th>\n      <th></th>\n      <th></th>\n      <th></th>\n    </tr>\n  </thead>\n  <tbody>\n    <tr>\n      <th>South Africa</th>\n      <td>1280</td>\n      <td>2</td>\n      <td>31</td>\n      <td>1247</td>\n      <td>0.001563</td>\n    </tr>\n    <tr>\n      <th>Qatar</th>\n      <td>634</td>\n      <td>1</td>\n      <td>48</td>\n      <td>585</td>\n      <td>0.001577</td>\n    </tr>\n    <tr>\n      <th>New Zealand</th>\n      <td>514</td>\n      <td>1</td>\n      <td>56</td>\n      <td>457</td>\n      <td>0.001946</td>\n    </tr>\n    <tr>\n      <th>Iceland</th>\n      <td>1020</td>\n      <td>2</td>\n      <td>135</td>\n      <td>883</td>\n      <td>0.001961</td>\n    </tr>\n    <tr>\n      <th>Chile</th>\n      <td>2139</td>\n      <td>7</td>\n      <td>75</td>\n      <td>2057</td>\n      <td>0.003273</td>\n    </tr>\n    <tr>\n      <th>Uruguay</th>\n      <td>304</td>\n      <td>1</td>\n      <td>0</td>\n      <td>303</td>\n      <td>0.003289</td>\n    </tr>\n    <tr>\n      <th>Kazakhstan</th>\n      <td>284</td>\n      <td>1</td>\n      <td>20</td>\n      <td>263</td>\n      <td>0.003521</td>\n    </tr>\n    <tr>\n      <th>Israel</th>\n      <td>4247</td>\n      <td>15</td>\n      <td>132</td>\n      <td>4100</td>\n      <td>0.003532</td>\n    </tr>\n    <tr>\n      <th>Singapore</th>\n      <td>844</td>\n      <td>3</td>\n      <td>212</td>\n      <td>629</td>\n      <td>0.003555</td>\n    </tr>\n    <tr>\n      <th>Australia</th>\n      <td>3984</td>\n      <td>16</td>\n      <td>244</td>\n      <td>3724</td>\n      <td>0.004016</td>\n    </tr>\n    <tr>\n      <th>Estonia</th>\n      <td>679</td>\n      <td>3</td>\n      <td>20</td>\n      <td>656</td>\n      <td>0.004418</td>\n    </tr>\n    <tr>\n      <th>Thailand</th>\n      <td>1388</td>\n      <td>7</td>\n      <td>97</td>\n      <td>1284</td>\n      <td>0.005043</td>\n    </tr>\n    <tr>\n      <th>Russia</th>\n      <td>1534</td>\n      <td>8</td>\n      <td>64</td>\n      <td>1462</td>\n      <td>0.005215</td>\n    </tr>\n    <tr>\n      <th>United Arab Emirates</th>\n      <td>570</td>\n      <td>3</td>\n      <td>58</td>\n      <td>509</td>\n      <td>0.005263</td>\n    </tr>\n    <tr>\n      <th>Czechia</th>\n      <td>2817</td>\n      <td>16</td>\n      <td>11</td>\n      <td>2790</td>\n      <td>0.005680</td>\n    </tr>\n    <tr>\n      <th>Norway</th>\n      <td>4284</td>\n      <td>25</td>\n      <td>7</td>\n      <td>4252</td>\n      <td>0.005836</td>\n    </tr>\n    <tr>\n      <th>Cote d'Ivoire</th>\n      <td>165</td>\n      <td>1</td>\n      <td>4</td>\n      <td>160</td>\n      <td>0.006061</td>\n    </tr>\n    <tr>\n      <th>Saudi Arabia</th>\n      <td>1299</td>\n      <td>8</td>\n      <td>66</td>\n      <td>1225</td>\n      <td>0.006159</td>\n    </tr>\n    <tr>\n      <th>Costa Rica</th>\n      <td>314</td>\n      <td>2</td>\n      <td>3</td>\n      <td>309</td>\n      <td>0.006369</td>\n    </tr>\n    <tr>\n      <th>Taiwan*</th>\n      <td>298</td>\n      <td>2</td>\n      <td>30</td>\n      <td>266</td>\n      <td>0.006711</td>\n    </tr>\n    <tr>\n      <th>Armenia</th>\n      <td>424</td>\n      <td>3</td>\n      <td>30</td>\n      <td>391</td>\n      <td>0.007075</td>\n    </tr>\n    <tr>\n      <th>Moldova</th>\n      <td>263</td>\n      <td>2</td>\n      <td>2</td>\n      <td>259</td>\n      <td>0.007605</td>\n    </tr>\n    <tr>\n      <th>Brunei</th>\n      <td>126</td>\n      <td>1</td>\n      <td>34</td>\n      <td>91</td>\n      <td>0.007937</td>\n    </tr>\n    <tr>\n      <th>Bahrain</th>\n      <td>499</td>\n      <td>4</td>\n      <td>272</td>\n      <td>223</td>\n      <td>0.008016</td>\n    </tr>\n    <tr>\n      <th>Croatia</th>\n      <td>713</td>\n      <td>6</td>\n      <td>52</td>\n      <td>655</td>\n      <td>0.008415</td>\n    </tr>\n  </tbody>\n</table>\n</div>"
     },
     "metadata": {},
     "execution_count": 11
    }
   ],
   "source": [
    "fatalities_asc = df_country_cases.query('(Deaths > 0) & (Confirmed > 100)').sort_values(by = 'fatality_rate', ascending = True)\n",
    "\n",
    "fatalities_asc[:25]"
   ]
  },
  {
   "cell_type": "code",
   "execution_count": 12,
   "metadata": {},
   "outputs": [
    {
     "output_type": "execute_result",
     "data": {
      "text/plain": "33888"
     },
     "metadata": {},
     "execution_count": 12
    }
   ],
   "source": [
    "fatalities.Deaths.sum()"
   ]
  },
  {
   "cell_type": "code",
   "execution_count": 13,
   "metadata": {},
   "outputs": [
    {
     "output_type": "execute_result",
     "data": {
      "text/plain": "0.04727764314922006"
     },
     "metadata": {},
     "execution_count": 13
    }
   ],
   "source": [
    "fatality_overall = fatalities.Deaths.sum() / fatalities.Confirmed.sum()\n",
    "\n",
    "fatality_overall"
   ]
  },
  {
   "cell_type": "code",
   "execution_count": 14,
   "metadata": {},
   "outputs": [],
   "source": [
    "# define a function which returns the rank of the fatality\n",
    "\n",
    "def fatality_rank( country: str, asc: bool ) -> int:\n",
    "    indices = fatalities.sort_values(by = 'fatality_rate', ascending = asc).index\n",
    "    return indices.get_loc(country)\n",
    ""
   ]
  },
  {
   "cell_type": "code",
   "execution_count": 16,
   "metadata": {},
   "outputs": [],
   "source": [
    "ranks_asc = fatalities.sort_values(by = 'fatality_rate', ascending = True).index\n",
    "\n",
    "def get_fatality_and_rank(country: str) -> pd.Series:\n",
    "    fatality = fatalities.loc[country].fatality_rate\n",
    "\n",
    "    rank_asc = ranks_asc.get_loc(country) + 1\n",
    "    rank_dsc = len(ranks_asc) - rank_asc + 1\n",
    "\n",
    "    return pd.Series({'Country_Region': country, 'fatality_rate': fatality, 'rank_asc': rank_asc, 'rank_dsc': rank_dsc})\n",
    ""
   ]
  },
  {
   "cell_type": "code",
   "execution_count": 17,
   "metadata": {},
   "outputs": [
    {
     "output_type": "execute_result",
     "data": {
      "text/plain": "Country_Region      Italy\nfatality_rate     0.11034\nrank_asc               96\nrank_dsc                1\ndtype: object"
     },
     "metadata": {},
     "execution_count": 17
    }
   ],
   "source": [
    "# test the function get_fatality_and_rank\n",
    "\n",
    "get_fatality_and_rank('Italy')"
   ]
  },
  {
   "cell_type": "code",
   "execution_count": 18,
   "metadata": {},
   "outputs": [
    {
     "output_type": "execute_result",
     "data": {
      "text/plain": "  Country_Region  fatality_rate rank_asc rank_dsc\n0        Austria       0.009786       32       65\n1          China       0.040233       79       18\n2        Germany       0.008584       27       70\n3          Italy       0.110340       96        1\n4      Singapore       0.003555        9       88\n5   South Africa       0.001563        1       96\n6             US       0.017511       46       51",
      "text/html": "<div>\n<style scoped>\n    .dataframe tbody tr th:only-of-type {\n        vertical-align: middle;\n    }\n\n    .dataframe tbody tr th {\n        vertical-align: top;\n    }\n\n    .dataframe thead th {\n        text-align: right;\n    }\n</style>\n<table border=\"1\" class=\"dataframe\">\n  <thead>\n    <tr style=\"text-align: right;\">\n      <th></th>\n      <th>Country_Region</th>\n      <th>fatality_rate</th>\n      <th>rank_asc</th>\n      <th>rank_dsc</th>\n    </tr>\n  </thead>\n  <tbody>\n    <tr>\n      <th>0</th>\n      <td>Austria</td>\n      <td>0.009786</td>\n      <td>32</td>\n      <td>65</td>\n    </tr>\n    <tr>\n      <th>1</th>\n      <td>China</td>\n      <td>0.040233</td>\n      <td>79</td>\n      <td>18</td>\n    </tr>\n    <tr>\n      <th>2</th>\n      <td>Germany</td>\n      <td>0.008584</td>\n      <td>27</td>\n      <td>70</td>\n    </tr>\n    <tr>\n      <th>3</th>\n      <td>Italy</td>\n      <td>0.110340</td>\n      <td>96</td>\n      <td>1</td>\n    </tr>\n    <tr>\n      <th>4</th>\n      <td>Singapore</td>\n      <td>0.003555</td>\n      <td>9</td>\n      <td>88</td>\n    </tr>\n    <tr>\n      <th>5</th>\n      <td>South Africa</td>\n      <td>0.001563</td>\n      <td>1</td>\n      <td>96</td>\n    </tr>\n    <tr>\n      <th>6</th>\n      <td>US</td>\n      <td>0.017511</td>\n      <td>46</td>\n      <td>51</td>\n    </tr>\n  </tbody>\n</table>\n</div>"
     },
     "metadata": {},
     "execution_count": 18
    }
   ],
   "source": [
    "# how do these countries score in the fatality_rate?\n",
    "\n",
    "cols = ['Country_Region', 'fatality_rate', 'rank_asc', 'rank_dsc']\n",
    "countries = ['Austria', 'China', 'Germany', 'Italy', 'Singapore', 'South Africa', 'US']\n",
    "\n",
    "df_fatality_scores = pd.DataFrame(columns = cols)\n",
    "\n",
    "for country in countries:\n",
    "    df_fatality_scores = df_fatality_scores.append(get_fatality_and_rank(country), ignore_index=True)\n",
    "\n",
    "df_fatality_scores"
   ]
  },
  {
   "cell_type": "code",
   "execution_count": 19,
   "metadata": {},
   "outputs": [
    {
     "output_type": "execute_result",
     "data": {
      "text/plain": "count    96.000000\nmean      0.024676\nstd       0.023249\nmin       0.001563\n25%       0.008315\n50%       0.017777\n75%       0.030575\nmax       0.110340\nName: fatality_rate, dtype: float64"
     },
     "metadata": {},
     "execution_count": 19
    }
   ],
   "source": [
    "# basic statistics of the fatality\n",
    "fatalities.fatality_rate.describe()"
   ]
  },
  {
   "cell_type": "code",
   "execution_count": 20,
   "metadata": {},
   "outputs": [
    {
     "output_type": "stream",
     "name": "stdout",
     "text": "Fatality median is 0.01777744701800987 and mode is 0    0.018868\ndtype: float64\n"
    }
   ],
   "source": [
    "# median and mode of fatality rate\n",
    "\n",
    "fatality_median = fatalities.fatality_rate.median()\n",
    "fatality_mode = fatalities.fatality_rate.mode()\n",
    "\n",
    "print(\"Fatality median is {} and mode is {}\".format(fatality_median, fatality_mode))\n",
    ""
   ]
  },
  {
   "cell_type": "code",
   "execution_count": 21,
   "metadata": {},
   "outputs": [
    {
     "output_type": "execute_result",
     "data": {
      "text/plain": "Country_Region\nItaly                            (0.0995, 0.11]\nSan Marino                     (0.0886, 0.0995]\nIndonesia                      (0.0886, 0.0995]\nSpain                          (0.0777, 0.0886]\nIraq                           (0.0668, 0.0777]\n                             ...               \nChile           (0.0004499999999999999, 0.0124]\nIceland         (0.0004499999999999999, 0.0124]\nNew Zealand     (0.0004499999999999999, 0.0124]\nQatar           (0.0004499999999999999, 0.0124]\nSouth Africa    (0.0004499999999999999, 0.0124]\nName: fatality_rate, Length: 96, dtype: category\nCategories (10, interval[float64]): [(0.0004499999999999999, 0.0124] < (0.0124, 0.0233] < (0.0233, 0.0342] < (0.0342, 0.0451] ... (0.0668, 0.0777] < (0.0777, 0.0886] < (0.0886, 0.0995] < (0.0995, 0.11]]"
     },
     "metadata": {},
     "execution_count": 21
    }
   ],
   "source": [
    "# the mode above does not make sense, let's fix it.\n",
    "\n",
    "# first, segment and sort fatality values into bins\n",
    "bins = pd.cut(fatalities['fatality_rate'], 10, include_lowest=True)\n",
    "\n",
    "bins\n",
    "\n",
    "# I'd like to see the content of each bin, what to do?"
   ]
  },
  {
   "cell_type": "code",
   "execution_count": null,
   "metadata": {},
   "outputs": [],
   "source": []
  }
 ],
 "metadata": {
  "kernelspec": {
   "display_name": "Python 3",
   "language": "python",
   "name": "python3"
  },
  "language_info": {
   "codemirror_mode": {
    "name": "ipython",
    "version": 3
   },
   "file_extension": ".py",
   "mimetype": "text/x-python",
   "name": "python",
   "nbconvert_exporter": "python",
   "pygments_lexer": "ipython3",
   "version": "3.7.6-final"
  }
 },
 "nbformat": 4,
 "nbformat_minor": 4
}