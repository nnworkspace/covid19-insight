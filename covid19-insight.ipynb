{
 "cells": [
  {
   "cell_type": "markdown",
   "metadata": {},
   "source": [
    "# Covid-19 Data Wrangling in Python"
   ]
  },
  {
   "cell_type": "code",
   "execution_count": 5,
   "metadata": {},
   "outputs": [
    {
     "output_type": "stream",
     "name": "stdout",
     "text": "pandas version:  1.0.1\nnumpy version:  1.18.1\n"
    }
   ],
   "source": [
    "import pandas as pd\n",
    "import numpy as np\n",
    "\n",
    "print('pandas version: ', pd.__version__)\n",
    "print('numpy version: ', np.version.version)"
   ]
  },
  {
   "cell_type": "code",
   "execution_count": 19,
   "metadata": {},
   "outputs": [
    {
     "output_type": "execute_result",
     "data": {
      "text/plain": "      FIPS     Admin2  Province_State Country_Region          Last_Update  \\\n0  45001.0  Abbeville  South Carolina             US  2020-03-26 23:48:35   \n1  22001.0     Acadia       Louisiana             US  2020-03-26 23:48:35   \n2  51001.0   Accomack        Virginia             US  2020-03-26 23:48:35   \n3  16001.0        Ada           Idaho             US  2020-03-26 23:48:35   \n4  19001.0      Adair            Iowa             US  2020-03-26 23:48:35   \n\n         Lat       Long_  Confirmed  Deaths  Recovered  Active  \\\n0  34.223334  -82.461707          3       0          0       0   \n1  30.295065  -92.414197          3       0          0       0   \n2  37.767072  -75.632346          2       0          0       0   \n3  43.452658 -116.241552         39       0          0       0   \n4  41.330756  -94.471059          1       0          0       0   \n\n                    Combined_Key  \n0  Abbeville, South Carolina, US  \n1          Acadia, Louisiana, US  \n2         Accomack, Virginia, US  \n3                 Ada, Idaho, US  \n4                Adair, Iowa, US  ",
      "text/html": "<div>\n<style scoped>\n    .dataframe tbody tr th:only-of-type {\n        vertical-align: middle;\n    }\n\n    .dataframe tbody tr th {\n        vertical-align: top;\n    }\n\n    .dataframe thead th {\n        text-align: right;\n    }\n</style>\n<table border=\"1\" class=\"dataframe\">\n  <thead>\n    <tr style=\"text-align: right;\">\n      <th></th>\n      <th>FIPS</th>\n      <th>Admin2</th>\n      <th>Province_State</th>\n      <th>Country_Region</th>\n      <th>Last_Update</th>\n      <th>Lat</th>\n      <th>Long_</th>\n      <th>Confirmed</th>\n      <th>Deaths</th>\n      <th>Recovered</th>\n      <th>Active</th>\n      <th>Combined_Key</th>\n    </tr>\n  </thead>\n  <tbody>\n    <tr>\n      <th>0</th>\n      <td>45001.0</td>\n      <td>Abbeville</td>\n      <td>South Carolina</td>\n      <td>US</td>\n      <td>2020-03-26 23:48:35</td>\n      <td>34.223334</td>\n      <td>-82.461707</td>\n      <td>3</td>\n      <td>0</td>\n      <td>0</td>\n      <td>0</td>\n      <td>Abbeville, South Carolina, US</td>\n    </tr>\n    <tr>\n      <th>1</th>\n      <td>22001.0</td>\n      <td>Acadia</td>\n      <td>Louisiana</td>\n      <td>US</td>\n      <td>2020-03-26 23:48:35</td>\n      <td>30.295065</td>\n      <td>-92.414197</td>\n      <td>3</td>\n      <td>0</td>\n      <td>0</td>\n      <td>0</td>\n      <td>Acadia, Louisiana, US</td>\n    </tr>\n    <tr>\n      <th>2</th>\n      <td>51001.0</td>\n      <td>Accomack</td>\n      <td>Virginia</td>\n      <td>US</td>\n      <td>2020-03-26 23:48:35</td>\n      <td>37.767072</td>\n      <td>-75.632346</td>\n      <td>2</td>\n      <td>0</td>\n      <td>0</td>\n      <td>0</td>\n      <td>Accomack, Virginia, US</td>\n    </tr>\n    <tr>\n      <th>3</th>\n      <td>16001.0</td>\n      <td>Ada</td>\n      <td>Idaho</td>\n      <td>US</td>\n      <td>2020-03-26 23:48:35</td>\n      <td>43.452658</td>\n      <td>-116.241552</td>\n      <td>39</td>\n      <td>0</td>\n      <td>0</td>\n      <td>0</td>\n      <td>Ada, Idaho, US</td>\n    </tr>\n    <tr>\n      <th>4</th>\n      <td>19001.0</td>\n      <td>Adair</td>\n      <td>Iowa</td>\n      <td>US</td>\n      <td>2020-03-26 23:48:35</td>\n      <td>41.330756</td>\n      <td>-94.471059</td>\n      <td>1</td>\n      <td>0</td>\n      <td>0</td>\n      <td>0</td>\n      <td>Adair, Iowa, US</td>\n    </tr>\n  </tbody>\n</table>\n</div>"
     },
     "metadata": {},
     "execution_count": 19
    }
   ],
   "source": [
    "covid_daily_df = pd.read_csv('data/2020-03-26.csv')\n",
    "\n",
    "covid_daily_df.head()"
   ]
  },
  {
   "cell_type": "code",
   "execution_count": 20,
   "metadata": {},
   "outputs": [
    {
     "output_type": "execute_result",
     "data": {
      "text/plain": "FIPS              float64\nAdmin2             object\nProvince_State     object\nCountry_Region     object\nLast_Update        object\nLat               float64\nLong_             float64\nConfirmed           int64\nDeaths              int64\nRecovered           int64\nActive              int64\nCombined_Key       object\ndtype: object"
     },
     "metadata": {},
     "execution_count": 20
    }
   ],
   "source": [
    "covid_daily_df.dtypes"
   ]
  },
  {
   "cell_type": "code",
   "execution_count": 21,
   "metadata": {},
   "outputs": [
    {
     "output_type": "execute_result",
     "data": {
      "text/plain": "(3421, 12)"
     },
     "metadata": {},
     "execution_count": 21
    }
   ],
   "source": [
    "covid_daily_df.shape"
   ]
  },
  {
   "cell_type": "code",
   "execution_count": 23,
   "metadata": {},
   "outputs": [
    {
     "output_type": "execute_result",
     "data": {
      "text/plain": "    FIPS     Admin2  Province_State Country_Region          Last_Update  \\\n0  45001  Abbeville  South Carolina             US  2020-03-26 23:48:35   \n1  22001     Acadia       Louisiana             US  2020-03-26 23:48:35   \n2  51001   Accomack        Virginia             US  2020-03-26 23:48:35   \n3  16001        Ada           Idaho             US  2020-03-26 23:48:35   \n4  19001      Adair            Iowa             US  2020-03-26 23:48:35   \n\n         Lat       Long_  Confirmed  Deaths  Recovered  Active  \\\n0  34.223334  -82.461707          3       0          0       0   \n1  30.295065  -92.414197          3       0          0       0   \n2  37.767072  -75.632346          2       0          0       0   \n3  43.452658 -116.241552         39       0          0       0   \n4  41.330756  -94.471059          1       0          0       0   \n\n                    Combined_Key  \n0  Abbeville, South Carolina, US  \n1          Acadia, Louisiana, US  \n2         Accomack, Virginia, US  \n3                 Ada, Idaho, US  \n4                Adair, Iowa, US  ",
      "text/html": "<div>\n<style scoped>\n    .dataframe tbody tr th:only-of-type {\n        vertical-align: middle;\n    }\n\n    .dataframe tbody tr th {\n        vertical-align: top;\n    }\n\n    .dataframe thead th {\n        text-align: right;\n    }\n</style>\n<table border=\"1\" class=\"dataframe\">\n  <thead>\n    <tr style=\"text-align: right;\">\n      <th></th>\n      <th>FIPS</th>\n      <th>Admin2</th>\n      <th>Province_State</th>\n      <th>Country_Region</th>\n      <th>Last_Update</th>\n      <th>Lat</th>\n      <th>Long_</th>\n      <th>Confirmed</th>\n      <th>Deaths</th>\n      <th>Recovered</th>\n      <th>Active</th>\n      <th>Combined_Key</th>\n    </tr>\n  </thead>\n  <tbody>\n    <tr>\n      <th>0</th>\n      <td>45001</td>\n      <td>Abbeville</td>\n      <td>South Carolina</td>\n      <td>US</td>\n      <td>2020-03-26 23:48:35</td>\n      <td>34.223334</td>\n      <td>-82.461707</td>\n      <td>3</td>\n      <td>0</td>\n      <td>0</td>\n      <td>0</td>\n      <td>Abbeville, South Carolina, US</td>\n    </tr>\n    <tr>\n      <th>1</th>\n      <td>22001</td>\n      <td>Acadia</td>\n      <td>Louisiana</td>\n      <td>US</td>\n      <td>2020-03-26 23:48:35</td>\n      <td>30.295065</td>\n      <td>-92.414197</td>\n      <td>3</td>\n      <td>0</td>\n      <td>0</td>\n      <td>0</td>\n      <td>Acadia, Louisiana, US</td>\n    </tr>\n    <tr>\n      <th>2</th>\n      <td>51001</td>\n      <td>Accomack</td>\n      <td>Virginia</td>\n      <td>US</td>\n      <td>2020-03-26 23:48:35</td>\n      <td>37.767072</td>\n      <td>-75.632346</td>\n      <td>2</td>\n      <td>0</td>\n      <td>0</td>\n      <td>0</td>\n      <td>Accomack, Virginia, US</td>\n    </tr>\n    <tr>\n      <th>3</th>\n      <td>16001</td>\n      <td>Ada</td>\n      <td>Idaho</td>\n      <td>US</td>\n      <td>2020-03-26 23:48:35</td>\n      <td>43.452658</td>\n      <td>-116.241552</td>\n      <td>39</td>\n      <td>0</td>\n      <td>0</td>\n      <td>0</td>\n      <td>Ada, Idaho, US</td>\n    </tr>\n    <tr>\n      <th>4</th>\n      <td>19001</td>\n      <td>Adair</td>\n      <td>Iowa</td>\n      <td>US</td>\n      <td>2020-03-26 23:48:35</td>\n      <td>41.330756</td>\n      <td>-94.471059</td>\n      <td>1</td>\n      <td>0</td>\n      <td>0</td>\n      <td>0</td>\n      <td>Adair, Iowa, US</td>\n    </tr>\n  </tbody>\n</table>\n</div>"
     },
     "metadata": {},
     "execution_count": 23
    }
   ],
   "source": [
    "# convert the FIPS County Code column to type of integer\n",
    "\n",
    "covid_daily_df.FIPS = covid_daily_df.FIPS.fillna(-1) # get rid of NA \n",
    "covid_daily_df.FIPS = covid_daily_df.FIPS.astype(int)\n",
    "\n",
    "covid_daily_df.head()"
   ]
  },
  {
   "cell_type": "code",
   "execution_count": 25,
   "metadata": {},
   "outputs": [
    {
     "output_type": "stream",
     "name": "stdout",
     "text": "['US' 'Canada' 'China' 'Netherlands' 'Australia' 'United Kingdom'\n 'Denmark' 'France' 'Afghanistan' 'Albania' 'Algeria' 'Andorra' 'Angola'\n 'Antigua and Barbuda' 'Argentina' 'Armenia' 'Austria' 'Azerbaijan'\n 'Bahamas' 'Bahrain' 'Bangladesh' 'Barbados' 'Belarus' 'Belgium' 'Belize'\n 'Benin' 'Bhutan' 'Bolivia' 'Bosnia and Herzegovina' 'Brazil' 'Brunei'\n 'Bulgaria' 'Burkina Faso' 'Cabo Verde' 'Cambodia' 'Cameroon'\n 'Central African Republic' 'Chad' 'Chile' 'Colombia'\n 'Congo (Brazzaville)' 'Congo (Kinshasa)' 'Costa Rica' \"Cote d'Ivoire\"\n 'Croatia' 'Cuba' 'Cyprus' 'Czechia' 'Diamond Princess' 'Djibouti'\n 'Dominica' 'Dominican Republic' 'Ecuador' 'Egypt' 'El Salvador'\n 'Equatorial Guinea' 'Eritrea' 'Estonia' 'Eswatini' 'Ethiopia' 'Fiji'\n 'Finland' 'Gabon' 'Gambia' 'Georgia' 'Germany' 'Ghana' 'Greece' 'Grenada'\n 'Guatemala' 'Guinea' 'Guinea-Bissau' 'Guyana' 'Haiti' 'Holy See'\n 'Honduras' 'Hungary' 'Iceland' 'India' 'Indonesia' 'Iran' 'Iraq'\n 'Ireland' 'Israel' 'Italy' 'Jamaica' 'Japan' 'Jordan' 'Kazakhstan'\n 'Kenya' 'Korea, South' 'Kosovo' 'Kuwait' 'Kyrgyzstan' 'Laos' 'Latvia'\n 'Lebanon' 'Liberia' 'Libya' 'Liechtenstein' 'Lithuania' 'Luxembourg'\n 'Madagascar' 'Malaysia' 'Maldives' 'Mali' 'Malta' 'Mauritania'\n 'Mauritius' 'Mexico' 'Moldova' 'Monaco' 'Mongolia' 'Montenegro' 'Morocco'\n 'Mozambique' 'Namibia' 'Nepal' 'New Zealand' 'Nicaragua' 'Niger'\n 'Nigeria' 'North Macedonia' 'Norway' 'Oman' 'Pakistan' 'Panama'\n 'Papua New Guinea' 'Paraguay' 'Peru' 'Philippines' 'Poland' 'Portugal'\n 'Qatar' 'Romania' 'Russia' 'Rwanda' 'Saint Kitts and Nevis' 'Saint Lucia'\n 'Saint Vincent and the Grenadines' 'San Marino' 'Saudi Arabia' 'Senegal'\n 'Serbia' 'Seychelles' 'Singapore' 'Slovakia' 'Slovenia' 'Somalia'\n 'South Africa' 'Spain' 'Sri Lanka' 'Sudan' 'Suriname' 'Sweden'\n 'Switzerland' 'Syria' 'Taiwan*' 'Tanzania' 'Thailand' 'Timor-Leste'\n 'Togo' 'Trinidad and Tobago' 'Tunisia' 'Turkey' 'Uganda' 'Ukraine'\n 'United Arab Emirates' 'Uruguay' 'Uzbekistan' 'Venezuela' 'Vietnam'\n 'West Bank and Gaza' 'Zambia' 'Zimbabwe']\n"
    },
    {
     "output_type": "execute_result",
     "data": {
      "text/plain": "175"
     },
     "metadata": {},
     "execution_count": 25
    }
   ],
   "source": [
    "# show all unique Country_Region codes\n",
    "\n",
    "countries = covid_daily_df.Country_Region.unique()\n",
    "print(countries)\n",
    "len(countries)"
   ]
  },
  {
   "cell_type": "code",
   "execution_count": 30,
   "metadata": {},
   "outputs": [
    {
     "output_type": "execute_result",
     "data": {
      "text/plain": "                    Confirmed  Deaths\nCountry_Region                       \nAfghanistan                94       4\nAlbania                   174       6\nAlgeria                   367      25\nAndorra                   224       3\nAngola                      4       0\n...                       ...     ...\nVenezuela                 107       0\nVietnam                   153       0\nWest Bank and Gaza         84       1\nZambia                     16       0\nZimbabwe                    3       1\n\n[175 rows x 2 columns]",
      "text/html": "<div>\n<style scoped>\n    .dataframe tbody tr th:only-of-type {\n        vertical-align: middle;\n    }\n\n    .dataframe tbody tr th {\n        vertical-align: top;\n    }\n\n    .dataframe thead th {\n        text-align: right;\n    }\n</style>\n<table border=\"1\" class=\"dataframe\">\n  <thead>\n    <tr style=\"text-align: right;\">\n      <th></th>\n      <th>Confirmed</th>\n      <th>Deaths</th>\n    </tr>\n    <tr>\n      <th>Country_Region</th>\n      <th></th>\n      <th></th>\n    </tr>\n  </thead>\n  <tbody>\n    <tr>\n      <th>Afghanistan</th>\n      <td>94</td>\n      <td>4</td>\n    </tr>\n    <tr>\n      <th>Albania</th>\n      <td>174</td>\n      <td>6</td>\n    </tr>\n    <tr>\n      <th>Algeria</th>\n      <td>367</td>\n      <td>25</td>\n    </tr>\n    <tr>\n      <th>Andorra</th>\n      <td>224</td>\n      <td>3</td>\n    </tr>\n    <tr>\n      <th>Angola</th>\n      <td>4</td>\n      <td>0</td>\n    </tr>\n    <tr>\n      <th>...</th>\n      <td>...</td>\n      <td>...</td>\n    </tr>\n    <tr>\n      <th>Venezuela</th>\n      <td>107</td>\n      <td>0</td>\n    </tr>\n    <tr>\n      <th>Vietnam</th>\n      <td>153</td>\n      <td>0</td>\n    </tr>\n    <tr>\n      <th>West Bank and Gaza</th>\n      <td>84</td>\n      <td>1</td>\n    </tr>\n    <tr>\n      <th>Zambia</th>\n      <td>16</td>\n      <td>0</td>\n    </tr>\n    <tr>\n      <th>Zimbabwe</th>\n      <td>3</td>\n      <td>1</td>\n    </tr>\n  </tbody>\n</table>\n<p>175 rows × 2 columns</p>\n</div>"
     },
     "metadata": {},
     "execution_count": 30
    }
   ],
   "source": [
    "# statistics grouped by countries\n",
    "covid_daily_df.groupby('Country_Region').agg({'Confirmed': np.sum})"
   ]
  },
  {
   "cell_type": "code",
   "execution_count": 31,
   "metadata": {},
   "outputs": [
    {
     "output_type": "execute_result",
     "data": {
      "text/plain": "                    Confirmed  Deaths  Recovered  Active\nCountry_Region                                          \nAfghanistan                94       4          2      88\nAlbania                   174       6         17     151\nAlgeria                   367      25         29     313\nAndorra                   224       3          1     220\nAngola                      4       0          0       4\n...                       ...     ...        ...     ...\nVenezuela                 107       0         15      92\nVietnam                   153       0         20     133\nWest Bank and Gaza         84       1         17      66\nZambia                     16       0          0      16\nZimbabwe                    3       1          0       2\n\n[175 rows x 4 columns]",
      "text/html": "<div>\n<style scoped>\n    .dataframe tbody tr th:only-of-type {\n        vertical-align: middle;\n    }\n\n    .dataframe tbody tr th {\n        vertical-align: top;\n    }\n\n    .dataframe thead th {\n        text-align: right;\n    }\n</style>\n<table border=\"1\" class=\"dataframe\">\n  <thead>\n    <tr style=\"text-align: right;\">\n      <th></th>\n      <th>Confirmed</th>\n      <th>Deaths</th>\n      <th>Recovered</th>\n      <th>Active</th>\n    </tr>\n    <tr>\n      <th>Country_Region</th>\n      <th></th>\n      <th></th>\n      <th></th>\n      <th></th>\n    </tr>\n  </thead>\n  <tbody>\n    <tr>\n      <th>Afghanistan</th>\n      <td>94</td>\n      <td>4</td>\n      <td>2</td>\n      <td>88</td>\n    </tr>\n    <tr>\n      <th>Albania</th>\n      <td>174</td>\n      <td>6</td>\n      <td>17</td>\n      <td>151</td>\n    </tr>\n    <tr>\n      <th>Algeria</th>\n      <td>367</td>\n      <td>25</td>\n      <td>29</td>\n      <td>313</td>\n    </tr>\n    <tr>\n      <th>Andorra</th>\n      <td>224</td>\n      <td>3</td>\n      <td>1</td>\n      <td>220</td>\n    </tr>\n    <tr>\n      <th>Angola</th>\n      <td>4</td>\n      <td>0</td>\n      <td>0</td>\n      <td>4</td>\n    </tr>\n    <tr>\n      <th>...</th>\n      <td>...</td>\n      <td>...</td>\n      <td>...</td>\n      <td>...</td>\n    </tr>\n    <tr>\n      <th>Venezuela</th>\n      <td>107</td>\n      <td>0</td>\n      <td>15</td>\n      <td>92</td>\n    </tr>\n    <tr>\n      <th>Vietnam</th>\n      <td>153</td>\n      <td>0</td>\n      <td>20</td>\n      <td>133</td>\n    </tr>\n    <tr>\n      <th>West Bank and Gaza</th>\n      <td>84</td>\n      <td>1</td>\n      <td>17</td>\n      <td>66</td>\n    </tr>\n    <tr>\n      <th>Zambia</th>\n      <td>16</td>\n      <td>0</td>\n      <td>0</td>\n      <td>16</td>\n    </tr>\n    <tr>\n      <th>Zimbabwe</th>\n      <td>3</td>\n      <td>1</td>\n      <td>0</td>\n      <td>2</td>\n    </tr>\n  </tbody>\n</table>\n<p>175 rows × 4 columns</p>\n</div>"
     },
     "metadata": {},
     "execution_count": 31
    }
   ],
   "source": [
    "# construct a dataframe with five columns: \n",
    "# Country_Region (index), Confirmed, Deaths, Recovered, Active\n",
    "df_country_cases = covid_daily_df.groupby('Country_Region').agg({'Confirmed': np.sum, 'Deaths': np.sum, 'Recovered': np.sum, 'Active': np.sum})\n",
    "\n",
    "df_country_cases"
   ]
  },
  {
   "cell_type": "code",
   "execution_count": 39,
   "metadata": {},
   "outputs": [
    {
     "output_type": "execute_result",
     "data": {
      "text/plain": "Confirmed    int64\nDeaths       int64\nRecovered    int64\nActive       int64\ndtype: object"
     },
     "metadata": {},
     "execution_count": 39
    }
   ],
   "source": [
    "df_country_cases.dtypes"
   ]
  },
  {
   "cell_type": "code",
   "execution_count": 41,
   "metadata": {},
   "outputs": [
    {
     "output_type": "execute_result",
     "data": {
      "text/plain": "Empty DataFrame\nColumns: [Confirmed, Deaths, Recovered, Active]\nIndex: []",
      "text/html": "<div>\n<style scoped>\n    .dataframe tbody tr th:only-of-type {\n        vertical-align: middle;\n    }\n\n    .dataframe tbody tr th {\n        vertical-align: top;\n    }\n\n    .dataframe thead th {\n        text-align: right;\n    }\n</style>\n<table border=\"1\" class=\"dataframe\">\n  <thead>\n    <tr style=\"text-align: right;\">\n      <th></th>\n      <th>Confirmed</th>\n      <th>Deaths</th>\n      <th>Recovered</th>\n      <th>Active</th>\n    </tr>\n    <tr>\n      <th>Country_Region</th>\n      <th></th>\n      <th></th>\n      <th></th>\n      <th></th>\n    </tr>\n  </thead>\n  <tbody>\n  </tbody>\n</table>\n</div>"
     },
     "metadata": {},
     "execution_count": 41
    }
   ],
   "source": [
    "# show counties that do not have any corona patients yet\n",
    "df_country_cases.loc[df_country_cases['Confirmed'] == 0]\n"
   ]
  },
  {
   "cell_type": "code",
   "execution_count": 52,
   "metadata": {},
   "outputs": [
    {
     "output_type": "execute_result",
     "data": {
      "text/plain": "                Confirmed  Deaths  Recovered   Active  fatality_rate\nCountry_Region                                                      \nItaly             80589.0  8215.0    10361.0  62013.0       0.101937\nIran              29406.0  2234.0    10457.0  16715.0       0.075971\nSpain             57786.0  4365.0     7015.0  46406.0       0.075537\nNetherlands        7468.0   435.0        6.0   7027.0       0.058249\nFrance            29551.0  1698.0     4955.0  22898.0       0.057460\nUnited Kingdom    11812.0   580.0      150.0  11082.0       0.049103\nChina             81782.0  3291.0    74181.0   4310.0       0.040241\nBelgium            6235.0   220.0      675.0   5340.0       0.035285\nJapan              1387.0    47.0      359.0    981.0       0.033886\nSweden             2840.0    77.0       16.0   2747.0       0.027113\nBrazil             2985.0    77.0        6.0   2902.0       0.025796\nEcuador            1403.0    34.0        3.0   1366.0       0.024234\nRomania            1029.0    23.0       94.0    912.0       0.022352\nTurkey             3629.0    75.0       26.0   3528.0       0.020667\nDenmark            2023.0    41.0       50.0   1932.0       0.020267\nPortugal           3544.0    60.0       43.0   3441.0       0.016930\nSwitzerland       11811.0   191.0      131.0  11489.0       0.016171\nUS                83836.0  1209.0      681.0      0.0       0.014421\nKorea, South       9241.0   131.0     4144.0   4966.0       0.014176\nPoland             1221.0    16.0        7.0   1198.0       0.013104\nMalaysia           2031.0    23.0      215.0   1793.0       0.011324\nIreland            1819.0    19.0        5.0   1795.0       0.010445\nCanada             4042.0    38.0      184.0      0.0       0.009401\nPakistan           1201.0     9.0       21.0   1171.0       0.007494\nAustria            6909.0    49.0      112.0   6748.0       0.007092",
      "text/html": "<div>\n<style scoped>\n    .dataframe tbody tr th:only-of-type {\n        vertical-align: middle;\n    }\n\n    .dataframe tbody tr th {\n        vertical-align: top;\n    }\n\n    .dataframe thead th {\n        text-align: right;\n    }\n</style>\n<table border=\"1\" class=\"dataframe\">\n  <thead>\n    <tr style=\"text-align: right;\">\n      <th></th>\n      <th>Confirmed</th>\n      <th>Deaths</th>\n      <th>Recovered</th>\n      <th>Active</th>\n      <th>fatality_rate</th>\n    </tr>\n    <tr>\n      <th>Country_Region</th>\n      <th></th>\n      <th></th>\n      <th></th>\n      <th></th>\n      <th></th>\n    </tr>\n  </thead>\n  <tbody>\n    <tr>\n      <th>Italy</th>\n      <td>80589.0</td>\n      <td>8215.0</td>\n      <td>10361.0</td>\n      <td>62013.0</td>\n      <td>0.101937</td>\n    </tr>\n    <tr>\n      <th>Iran</th>\n      <td>29406.0</td>\n      <td>2234.0</td>\n      <td>10457.0</td>\n      <td>16715.0</td>\n      <td>0.075971</td>\n    </tr>\n    <tr>\n      <th>Spain</th>\n      <td>57786.0</td>\n      <td>4365.0</td>\n      <td>7015.0</td>\n      <td>46406.0</td>\n      <td>0.075537</td>\n    </tr>\n    <tr>\n      <th>Netherlands</th>\n      <td>7468.0</td>\n      <td>435.0</td>\n      <td>6.0</td>\n      <td>7027.0</td>\n      <td>0.058249</td>\n    </tr>\n    <tr>\n      <th>France</th>\n      <td>29551.0</td>\n      <td>1698.0</td>\n      <td>4955.0</td>\n      <td>22898.0</td>\n      <td>0.057460</td>\n    </tr>\n    <tr>\n      <th>United Kingdom</th>\n      <td>11812.0</td>\n      <td>580.0</td>\n      <td>150.0</td>\n      <td>11082.0</td>\n      <td>0.049103</td>\n    </tr>\n    <tr>\n      <th>China</th>\n      <td>81782.0</td>\n      <td>3291.0</td>\n      <td>74181.0</td>\n      <td>4310.0</td>\n      <td>0.040241</td>\n    </tr>\n    <tr>\n      <th>Belgium</th>\n      <td>6235.0</td>\n      <td>220.0</td>\n      <td>675.0</td>\n      <td>5340.0</td>\n      <td>0.035285</td>\n    </tr>\n    <tr>\n      <th>Japan</th>\n      <td>1387.0</td>\n      <td>47.0</td>\n      <td>359.0</td>\n      <td>981.0</td>\n      <td>0.033886</td>\n    </tr>\n    <tr>\n      <th>Sweden</th>\n      <td>2840.0</td>\n      <td>77.0</td>\n      <td>16.0</td>\n      <td>2747.0</td>\n      <td>0.027113</td>\n    </tr>\n    <tr>\n      <th>Brazil</th>\n      <td>2985.0</td>\n      <td>77.0</td>\n      <td>6.0</td>\n      <td>2902.0</td>\n      <td>0.025796</td>\n    </tr>\n    <tr>\n      <th>Ecuador</th>\n      <td>1403.0</td>\n      <td>34.0</td>\n      <td>3.0</td>\n      <td>1366.0</td>\n      <td>0.024234</td>\n    </tr>\n    <tr>\n      <th>Romania</th>\n      <td>1029.0</td>\n      <td>23.0</td>\n      <td>94.0</td>\n      <td>912.0</td>\n      <td>0.022352</td>\n    </tr>\n    <tr>\n      <th>Turkey</th>\n      <td>3629.0</td>\n      <td>75.0</td>\n      <td>26.0</td>\n      <td>3528.0</td>\n      <td>0.020667</td>\n    </tr>\n    <tr>\n      <th>Denmark</th>\n      <td>2023.0</td>\n      <td>41.0</td>\n      <td>50.0</td>\n      <td>1932.0</td>\n      <td>0.020267</td>\n    </tr>\n    <tr>\n      <th>Portugal</th>\n      <td>3544.0</td>\n      <td>60.0</td>\n      <td>43.0</td>\n      <td>3441.0</td>\n      <td>0.016930</td>\n    </tr>\n    <tr>\n      <th>Switzerland</th>\n      <td>11811.0</td>\n      <td>191.0</td>\n      <td>131.0</td>\n      <td>11489.0</td>\n      <td>0.016171</td>\n    </tr>\n    <tr>\n      <th>US</th>\n      <td>83836.0</td>\n      <td>1209.0</td>\n      <td>681.0</td>\n      <td>0.0</td>\n      <td>0.014421</td>\n    </tr>\n    <tr>\n      <th>Korea, South</th>\n      <td>9241.0</td>\n      <td>131.0</td>\n      <td>4144.0</td>\n      <td>4966.0</td>\n      <td>0.014176</td>\n    </tr>\n    <tr>\n      <th>Poland</th>\n      <td>1221.0</td>\n      <td>16.0</td>\n      <td>7.0</td>\n      <td>1198.0</td>\n      <td>0.013104</td>\n    </tr>\n    <tr>\n      <th>Malaysia</th>\n      <td>2031.0</td>\n      <td>23.0</td>\n      <td>215.0</td>\n      <td>1793.0</td>\n      <td>0.011324</td>\n    </tr>\n    <tr>\n      <th>Ireland</th>\n      <td>1819.0</td>\n      <td>19.0</td>\n      <td>5.0</td>\n      <td>1795.0</td>\n      <td>0.010445</td>\n    </tr>\n    <tr>\n      <th>Canada</th>\n      <td>4042.0</td>\n      <td>38.0</td>\n      <td>184.0</td>\n      <td>0.0</td>\n      <td>0.009401</td>\n    </tr>\n    <tr>\n      <th>Pakistan</th>\n      <td>1201.0</td>\n      <td>9.0</td>\n      <td>21.0</td>\n      <td>1171.0</td>\n      <td>0.007494</td>\n    </tr>\n    <tr>\n      <th>Austria</th>\n      <td>6909.0</td>\n      <td>49.0</td>\n      <td>112.0</td>\n      <td>6748.0</td>\n      <td>0.007092</td>\n    </tr>\n  </tbody>\n</table>\n</div>"
     },
     "metadata": {},
     "execution_count": 52
    }
   ],
   "source": [
    "# confirmed that all countries in this csv file have confirmed cases. \n",
    "# now we can calculate the fatality rate\n",
    "\n",
    "df_country_cases['fatality_rate'] = df_country_cases.Deaths / df_country_cases.Confirmed\n",
    "\n",
    "fatalities = df_country_cases.where((df_country_cases.Deaths > 0) & (df_country_cases.Confirmed > 1000)) \\\n",
    "                                .sort_values(by = 'fatality_rate', ascending = False)\n",
    "\n",
    "fatalities[:25]"
   ]
  },
  {
   "cell_type": "code",
   "execution_count": null,
   "metadata": {},
   "outputs": [],
   "source": []
  }
 ],
 "metadata": {
  "kernelspec": {
   "display_name": "Python 3",
   "language": "python",
   "name": "python3"
  },
  "language_info": {
   "codemirror_mode": {
    "name": "ipython",
    "version": 3
   },
   "file_extension": ".py",
   "mimetype": "text/x-python",
   "name": "python",
   "nbconvert_exporter": "python",
   "pygments_lexer": "ipython3",
   "version": "3.7.6-final"
  }
 },
 "nbformat": 4,
 "nbformat_minor": 4
}