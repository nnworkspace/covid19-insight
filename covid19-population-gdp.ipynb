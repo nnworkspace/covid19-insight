{
 "cells": [
  {
   "cell_type": "markdown",
   "metadata": {},
   "source": [
    "# Covid19 and Population Data and GDP Data Joined"
   ]
  },
  {
   "cell_type": "code",
   "execution_count": 2,
   "metadata": {},
   "outputs": [
    {
     "output_type": "stream",
     "name": "stdout",
     "text": "pandas version:  1.0.3\nnumpy version:  1.18.1\n"
    }
   ],
   "source": [
    "import pandas as pd\n",
    "import numpy as np\n",
    "\n",
    "print('pandas version: ', pd.__version__)\n",
    "print('numpy version: ', np.version.version)"
   ]
  },
  {
   "cell_type": "code",
   "execution_count": 4,
   "metadata": {},
   "outputs": [
    {
     "output_type": "execute_result",
     "data": {
      "text/plain": "                    Confirmed  Deaths  Recovered  Active  fatality_rate\nCountry_Region                                                         \nAfghanistan               273       6         10     257       0.021978\nAlbania                   277      16         76     185       0.057762\nAlgeria                   986      86         61     839       0.087221\nAndorra                   428      15         10     403       0.035047\nAngola                      8       2          1       5       0.250000\n...                       ...     ...        ...     ...            ...\nVenezuela                 146       5         43      98       0.034247\nVietnam                   233       0         75     158       0.000000\nWest Bank and Gaza        161       1         18     142       0.006211\nZambia                     39       1          0      38       0.025641\nZimbabwe                    9       1          0       8       0.111111\n\n[181 rows x 5 columns]",
      "text/html": "<div>\n<style scoped>\n    .dataframe tbody tr th:only-of-type {\n        vertical-align: middle;\n    }\n\n    .dataframe tbody tr th {\n        vertical-align: top;\n    }\n\n    .dataframe thead th {\n        text-align: right;\n    }\n</style>\n<table border=\"1\" class=\"dataframe\">\n  <thead>\n    <tr style=\"text-align: right;\">\n      <th></th>\n      <th>Confirmed</th>\n      <th>Deaths</th>\n      <th>Recovered</th>\n      <th>Active</th>\n      <th>fatality_rate</th>\n    </tr>\n    <tr>\n      <th>Country_Region</th>\n      <th></th>\n      <th></th>\n      <th></th>\n      <th></th>\n      <th></th>\n    </tr>\n  </thead>\n  <tbody>\n    <tr>\n      <th>Afghanistan</th>\n      <td>273</td>\n      <td>6</td>\n      <td>10</td>\n      <td>257</td>\n      <td>0.021978</td>\n    </tr>\n    <tr>\n      <th>Albania</th>\n      <td>277</td>\n      <td>16</td>\n      <td>76</td>\n      <td>185</td>\n      <td>0.057762</td>\n    </tr>\n    <tr>\n      <th>Algeria</th>\n      <td>986</td>\n      <td>86</td>\n      <td>61</td>\n      <td>839</td>\n      <td>0.087221</td>\n    </tr>\n    <tr>\n      <th>Andorra</th>\n      <td>428</td>\n      <td>15</td>\n      <td>10</td>\n      <td>403</td>\n      <td>0.035047</td>\n    </tr>\n    <tr>\n      <th>Angola</th>\n      <td>8</td>\n      <td>2</td>\n      <td>1</td>\n      <td>5</td>\n      <td>0.250000</td>\n    </tr>\n    <tr>\n      <th>...</th>\n      <td>...</td>\n      <td>...</td>\n      <td>...</td>\n      <td>...</td>\n      <td>...</td>\n    </tr>\n    <tr>\n      <th>Venezuela</th>\n      <td>146</td>\n      <td>5</td>\n      <td>43</td>\n      <td>98</td>\n      <td>0.034247</td>\n    </tr>\n    <tr>\n      <th>Vietnam</th>\n      <td>233</td>\n      <td>0</td>\n      <td>75</td>\n      <td>158</td>\n      <td>0.000000</td>\n    </tr>\n    <tr>\n      <th>West Bank and Gaza</th>\n      <td>161</td>\n      <td>1</td>\n      <td>18</td>\n      <td>142</td>\n      <td>0.006211</td>\n    </tr>\n    <tr>\n      <th>Zambia</th>\n      <td>39</td>\n      <td>1</td>\n      <td>0</td>\n      <td>38</td>\n      <td>0.025641</td>\n    </tr>\n    <tr>\n      <th>Zimbabwe</th>\n      <td>9</td>\n      <td>1</td>\n      <td>0</td>\n      <td>8</td>\n      <td>0.111111</td>\n    </tr>\n  </tbody>\n</table>\n<p>181 rows × 5 columns</p>\n</div>"
     },
     "metadata": {},
     "execution_count": 4
    }
   ],
   "source": [
    "# prepare the covid dataframe from covid data of Johns Hopkins University\n",
    "\n",
    "df_covid = pd.read_csv('data/2020-04-02.csv')\n",
    "\n",
    "# construct a dataframe with six columns: \n",
    "# Country_Region (index), Confirmed, Deaths, Recovered, Active\n",
    "df_covid = df_covid.groupby('Country_Region').agg({'Confirmed': np.sum, 'Deaths': np.sum, 'Recovered': np.sum, 'Active': np.sum})\n",
    "\n",
    "df_covid['fatality_rate'] = df_covid.Deaths / df_covid.Confirmed\n",
    "\n",
    "df_covid"
   ]
  },
  {
   "cell_type": "code",
   "execution_count": 5,
   "metadata": {},
   "outputs": [
    {
     "output_type": "execute_result",
     "data": {
      "text/plain": "                                            Location      PopMale  \\\n69                                       Afghanistan    19529.727   \n953                                           Africa   653513.680   \n1837                                   African Group   652644.714   \n1988                                   African Union   652949.469   \n2139                   African Union: Central Africa    76945.498   \n...                                              ...          ...   \n277314                                         World  3889034.611   \n278198  World Bank Regional Groups (developing only)  3261387.881   \n278349                                         Yemen    14692.284   \n279233                                        Zambia     8843.214   \n280117                                      Zimbabwe     6983.353   \n\n          PopFemale     PopTotal  PopDensity  \n69        18512.030    38041.757      58.269  \n953      654550.496  1308064.176      44.119  \n1837     653675.858  1306320.572      44.464  \n1988     653953.561  1306903.030      44.085  \n2139      77068.207   154013.705      29.192  \n...             ...          ...         ...  \n277314  3824433.594  7713468.205      59.291  \n278198  3191129.174  6452517.055      70.258  \n278349    14469.638    29161.922      55.234  \n279233     9017.820    17861.034      24.026  \n280117     7662.120    14645.473      37.858  \n\n[477 rows x 5 columns]",
      "text/html": "<div>\n<style scoped>\n    .dataframe tbody tr th:only-of-type {\n        vertical-align: middle;\n    }\n\n    .dataframe tbody tr th {\n        vertical-align: top;\n    }\n\n    .dataframe thead th {\n        text-align: right;\n    }\n</style>\n<table border=\"1\" class=\"dataframe\">\n  <thead>\n    <tr style=\"text-align: right;\">\n      <th></th>\n      <th>Location</th>\n      <th>PopMale</th>\n      <th>PopFemale</th>\n      <th>PopTotal</th>\n      <th>PopDensity</th>\n    </tr>\n  </thead>\n  <tbody>\n    <tr>\n      <th>69</th>\n      <td>Afghanistan</td>\n      <td>19529.727</td>\n      <td>18512.030</td>\n      <td>38041.757</td>\n      <td>58.269</td>\n    </tr>\n    <tr>\n      <th>953</th>\n      <td>Africa</td>\n      <td>653513.680</td>\n      <td>654550.496</td>\n      <td>1308064.176</td>\n      <td>44.119</td>\n    </tr>\n    <tr>\n      <th>1837</th>\n      <td>African Group</td>\n      <td>652644.714</td>\n      <td>653675.858</td>\n      <td>1306320.572</td>\n      <td>44.464</td>\n    </tr>\n    <tr>\n      <th>1988</th>\n      <td>African Union</td>\n      <td>652949.469</td>\n      <td>653953.561</td>\n      <td>1306903.030</td>\n      <td>44.085</td>\n    </tr>\n    <tr>\n      <th>2139</th>\n      <td>African Union: Central Africa</td>\n      <td>76945.498</td>\n      <td>77068.207</td>\n      <td>154013.705</td>\n      <td>29.192</td>\n    </tr>\n    <tr>\n      <th>...</th>\n      <td>...</td>\n      <td>...</td>\n      <td>...</td>\n      <td>...</td>\n      <td>...</td>\n    </tr>\n    <tr>\n      <th>277314</th>\n      <td>World</td>\n      <td>3889034.611</td>\n      <td>3824433.594</td>\n      <td>7713468.205</td>\n      <td>59.291</td>\n    </tr>\n    <tr>\n      <th>278198</th>\n      <td>World Bank Regional Groups (developing only)</td>\n      <td>3261387.881</td>\n      <td>3191129.174</td>\n      <td>6452517.055</td>\n      <td>70.258</td>\n    </tr>\n    <tr>\n      <th>278349</th>\n      <td>Yemen</td>\n      <td>14692.284</td>\n      <td>14469.638</td>\n      <td>29161.922</td>\n      <td>55.234</td>\n    </tr>\n    <tr>\n      <th>279233</th>\n      <td>Zambia</td>\n      <td>8843.214</td>\n      <td>9017.820</td>\n      <td>17861.034</td>\n      <td>24.026</td>\n    </tr>\n    <tr>\n      <th>280117</th>\n      <td>Zimbabwe</td>\n      <td>6983.353</td>\n      <td>7662.120</td>\n      <td>14645.473</td>\n      <td>37.858</td>\n    </tr>\n  </tbody>\n</table>\n<p>477 rows × 5 columns</p>\n</div>"
     },
     "metadata": {},
     "execution_count": 5
    }
   ],
   "source": [
    "# prepare the population dataframe from population data of united nations.\n",
    "population = pd.read_csv('data/WPP2019_TotalPopulationBySex.csv')\n",
    "pop2019 = population[population.Time == 2019]\n",
    "\n",
    "pop2019.Location.replace({'Bolivia (Plurinational State of)':'Bolivia','Brunei Darussalam':'Brunei', 'Myanmar': 'Burma', 'Congo':'Congo (Brazzaville)', 'Democratic Republic of the Congo':'Congo (Kinshasa)', 'Côte d\\'Ivoire':'Cote d\\'Ivoire', 'Iran (Islamic Republic of)':'Iran', 'Republic of Korea':'Korea, South', 'Lao People\\'s Democratic Republic':'Laos', 'Republic of Moldova':'Moldova', 'Russian Federation':'Russia', 'Syrian Arab Republic':'Syria', 'China, Taiwan Province of China':'Taiwan*', 'United Republic of Tanzania':'Tanzania', 'United States of America':'US', 'Venezuela (Bolivarian Republic of)':'Venezuela', 'Viet Nam':'Vietnam', 'State of Palestine':'West Bank and Gaza'}, inplace=True)\n",
    "\n",
    "df_pop2019 = pop2019.drop(columns=['LocID','VarID','Variant','Time','MidPeriod'])\n",
    "df_pop2019"
   ]
  },
  {
   "cell_type": "code",
   "execution_count": 9,
   "metadata": {},
   "outputs": [
    {
     "output_type": "execute_result",
     "data": {
      "text/plain": "  Country Name Country Code     Indicator Name  Indicator Code          1960  \\\n0        Aruba          ABW  GDP (current US$)  NY.GDP.MKTP.CD           NaN   \n1  Afghanistan          AFG  GDP (current US$)  NY.GDP.MKTP.CD  5.377778e+08   \n2       Angola          AGO  GDP (current US$)  NY.GDP.MKTP.CD           NaN   \n3      Albania          ALB  GDP (current US$)  NY.GDP.MKTP.CD           NaN   \n4      Andorra          AND  GDP (current US$)  NY.GDP.MKTP.CD           NaN   \n\n           1961          1962          1963          1964          1965  ...  \\\n0           NaN           NaN           NaN           NaN           NaN  ...   \n1  5.488889e+08  5.466667e+08  7.511112e+08  8.000000e+08  1.006667e+09  ...   \n2           NaN           NaN           NaN           NaN           NaN  ...   \n3           NaN           NaN           NaN           NaN           NaN  ...   \n4           NaN           NaN           NaN           NaN           NaN  ...   \n\n           2011          2012          2013          2014          2015  \\\n0  2.549721e+09  2.534637e+09  2.581564e+09  2.649721e+09  2.691620e+09   \n1  1.780428e+10  2.000162e+10  2.056105e+10  2.048487e+10  1.990711e+10   \n2  1.117897e+11  1.280529e+11  1.367099e+11  1.457122e+11  1.161936e+11   \n3  1.289087e+10  1.231978e+10  1.277628e+10  1.322824e+10  1.138693e+10   \n4  3.442063e+09  3.164615e+09  3.281585e+09  3.350736e+09  2.811489e+09   \n\n           2016          2017          2018  2019  Unnamed: 64  \n0  2.646927e+09  2.700559e+09           NaN   NaN          NaN  \n1  1.936264e+10  2.019176e+10  1.936297e+10   NaN          NaN  \n2  1.011239e+11  1.221238e+11  1.057510e+11   NaN          NaN  \n3  1.186135e+10  1.302506e+10  1.510250e+10   NaN          NaN  \n4  2.877312e+09  3.013387e+09  3.236544e+09   NaN          NaN  \n\n[5 rows x 65 columns]",
      "text/html": "<div>\n<style scoped>\n    .dataframe tbody tr th:only-of-type {\n        vertical-align: middle;\n    }\n\n    .dataframe tbody tr th {\n        vertical-align: top;\n    }\n\n    .dataframe thead th {\n        text-align: right;\n    }\n</style>\n<table border=\"1\" class=\"dataframe\">\n  <thead>\n    <tr style=\"text-align: right;\">\n      <th></th>\n      <th>Country Name</th>\n      <th>Country Code</th>\n      <th>Indicator Name</th>\n      <th>Indicator Code</th>\n      <th>1960</th>\n      <th>1961</th>\n      <th>1962</th>\n      <th>1963</th>\n      <th>1964</th>\n      <th>1965</th>\n      <th>...</th>\n      <th>2011</th>\n      <th>2012</th>\n      <th>2013</th>\n      <th>2014</th>\n      <th>2015</th>\n      <th>2016</th>\n      <th>2017</th>\n      <th>2018</th>\n      <th>2019</th>\n      <th>Unnamed: 64</th>\n    </tr>\n  </thead>\n  <tbody>\n    <tr>\n      <th>0</th>\n      <td>Aruba</td>\n      <td>ABW</td>\n      <td>GDP (current US$)</td>\n      <td>NY.GDP.MKTP.CD</td>\n      <td>NaN</td>\n      <td>NaN</td>\n      <td>NaN</td>\n      <td>NaN</td>\n      <td>NaN</td>\n      <td>NaN</td>\n      <td>...</td>\n      <td>2.549721e+09</td>\n      <td>2.534637e+09</td>\n      <td>2.581564e+09</td>\n      <td>2.649721e+09</td>\n      <td>2.691620e+09</td>\n      <td>2.646927e+09</td>\n      <td>2.700559e+09</td>\n      <td>NaN</td>\n      <td>NaN</td>\n      <td>NaN</td>\n    </tr>\n    <tr>\n      <th>1</th>\n      <td>Afghanistan</td>\n      <td>AFG</td>\n      <td>GDP (current US$)</td>\n      <td>NY.GDP.MKTP.CD</td>\n      <td>5.377778e+08</td>\n      <td>5.488889e+08</td>\n      <td>5.466667e+08</td>\n      <td>7.511112e+08</td>\n      <td>8.000000e+08</td>\n      <td>1.006667e+09</td>\n      <td>...</td>\n      <td>1.780428e+10</td>\n      <td>2.000162e+10</td>\n      <td>2.056105e+10</td>\n      <td>2.048487e+10</td>\n      <td>1.990711e+10</td>\n      <td>1.936264e+10</td>\n      <td>2.019176e+10</td>\n      <td>1.936297e+10</td>\n      <td>NaN</td>\n      <td>NaN</td>\n    </tr>\n    <tr>\n      <th>2</th>\n      <td>Angola</td>\n      <td>AGO</td>\n      <td>GDP (current US$)</td>\n      <td>NY.GDP.MKTP.CD</td>\n      <td>NaN</td>\n      <td>NaN</td>\n      <td>NaN</td>\n      <td>NaN</td>\n      <td>NaN</td>\n      <td>NaN</td>\n      <td>...</td>\n      <td>1.117897e+11</td>\n      <td>1.280529e+11</td>\n      <td>1.367099e+11</td>\n      <td>1.457122e+11</td>\n      <td>1.161936e+11</td>\n      <td>1.011239e+11</td>\n      <td>1.221238e+11</td>\n      <td>1.057510e+11</td>\n      <td>NaN</td>\n      <td>NaN</td>\n    </tr>\n    <tr>\n      <th>3</th>\n      <td>Albania</td>\n      <td>ALB</td>\n      <td>GDP (current US$)</td>\n      <td>NY.GDP.MKTP.CD</td>\n      <td>NaN</td>\n      <td>NaN</td>\n      <td>NaN</td>\n      <td>NaN</td>\n      <td>NaN</td>\n      <td>NaN</td>\n      <td>...</td>\n      <td>1.289087e+10</td>\n      <td>1.231978e+10</td>\n      <td>1.277628e+10</td>\n      <td>1.322824e+10</td>\n      <td>1.138693e+10</td>\n      <td>1.186135e+10</td>\n      <td>1.302506e+10</td>\n      <td>1.510250e+10</td>\n      <td>NaN</td>\n      <td>NaN</td>\n    </tr>\n    <tr>\n      <th>4</th>\n      <td>Andorra</td>\n      <td>AND</td>\n      <td>GDP (current US$)</td>\n      <td>NY.GDP.MKTP.CD</td>\n      <td>NaN</td>\n      <td>NaN</td>\n      <td>NaN</td>\n      <td>NaN</td>\n      <td>NaN</td>\n      <td>NaN</td>\n      <td>...</td>\n      <td>3.442063e+09</td>\n      <td>3.164615e+09</td>\n      <td>3.281585e+09</td>\n      <td>3.350736e+09</td>\n      <td>2.811489e+09</td>\n      <td>2.877312e+09</td>\n      <td>3.013387e+09</td>\n      <td>3.236544e+09</td>\n      <td>NaN</td>\n      <td>NaN</td>\n    </tr>\n  </tbody>\n</table>\n<p>5 rows × 65 columns</p>\n</div>"
     },
     "metadata": {},
     "execution_count": 9
    }
   ],
   "source": [
    "# prepare the gdp dataframe from gdp data of world bank.\n",
    "gdp = pd.read_csv('data/gdp_world_bank/gdp_world_bank.csv', skiprows=4)\n",
    "gdp.head()"
   ]
  },
  {
   "cell_type": "code",
   "execution_count": 10,
   "metadata": {},
   "outputs": [
    {
     "output_type": "execute_result",
     "data": {
      "text/plain": "     Country Name          2018\n0           Aruba           NaN\n1     Afghanistan  1.936297e+10\n2          Angola  1.057510e+11\n3         Albania  1.510250e+10\n4         Andorra  3.236544e+09\n..            ...           ...\n259        Kosovo  7.938991e+09\n260   Yemen, Rep.  2.691440e+10\n261  South Africa  3.682889e+11\n262        Zambia  2.672007e+10\n263      Zimbabwe  3.100052e+10\n\n[264 rows x 2 columns]",
      "text/html": "<div>\n<style scoped>\n    .dataframe tbody tr th:only-of-type {\n        vertical-align: middle;\n    }\n\n    .dataframe tbody tr th {\n        vertical-align: top;\n    }\n\n    .dataframe thead th {\n        text-align: right;\n    }\n</style>\n<table border=\"1\" class=\"dataframe\">\n  <thead>\n    <tr style=\"text-align: right;\">\n      <th></th>\n      <th>Country Name</th>\n      <th>2018</th>\n    </tr>\n  </thead>\n  <tbody>\n    <tr>\n      <th>0</th>\n      <td>Aruba</td>\n      <td>NaN</td>\n    </tr>\n    <tr>\n      <th>1</th>\n      <td>Afghanistan</td>\n      <td>1.936297e+10</td>\n    </tr>\n    <tr>\n      <th>2</th>\n      <td>Angola</td>\n      <td>1.057510e+11</td>\n    </tr>\n    <tr>\n      <th>3</th>\n      <td>Albania</td>\n      <td>1.510250e+10</td>\n    </tr>\n    <tr>\n      <th>4</th>\n      <td>Andorra</td>\n      <td>3.236544e+09</td>\n    </tr>\n    <tr>\n      <th>...</th>\n      <td>...</td>\n      <td>...</td>\n    </tr>\n    <tr>\n      <th>259</th>\n      <td>Kosovo</td>\n      <td>7.938991e+09</td>\n    </tr>\n    <tr>\n      <th>260</th>\n      <td>Yemen, Rep.</td>\n      <td>2.691440e+10</td>\n    </tr>\n    <tr>\n      <th>261</th>\n      <td>South Africa</td>\n      <td>3.682889e+11</td>\n    </tr>\n    <tr>\n      <th>262</th>\n      <td>Zambia</td>\n      <td>2.672007e+10</td>\n    </tr>\n    <tr>\n      <th>263</th>\n      <td>Zimbabwe</td>\n      <td>3.100052e+10</td>\n    </tr>\n  </tbody>\n</table>\n<p>264 rows × 2 columns</p>\n</div>"
     },
     "metadata": {},
     "execution_count": 10
    }
   ],
   "source": [
    "df_gdp = gdp[['Country Name', '2018']]\n",
    "df_gdp"
   ]
  },
  {
   "cell_type": "code",
   "execution_count": 24,
   "metadata": {},
   "outputs": [],
   "source": [
    "df_gdp.rename(columns={\"Country Name\": \"Location\"}, errors=\"raise\", inplace=True)"
   ]
  },
  {
   "cell_type": "code",
   "execution_count": 25,
   "metadata": {},
   "outputs": [
    {
     "output_type": "execute_result",
     "data": {
      "text/plain": "Index(['Bahamas', 'Brunei', 'Burma', 'Congo (Brazzaville)', 'Congo (Kinshasa)',\n       'Czechia', 'Diamond Princess', 'Egypt', 'Gambia', 'Holy See', 'Iran',\n       'Korea, South', 'Kyrgyzstan', 'Laos', 'MS Zaandam', 'Russia',\n       'Saint Kitts and Nevis', 'Saint Lucia',\n       'Saint Vincent and the Grenadines', 'Slovakia', 'Syria', 'Taiwan*',\n       'US', 'Venezuela'],\n      dtype='object', name='Country_Region')"
     },
     "metadata": {},
     "execution_count": 25
    }
   ],
   "source": [
    "countries_covid19_only = df_covid[~df_covid.index.isin(df_gdp.Location)]\n",
    "countries_covid19_only.index"
   ]
  },
  {
   "cell_type": "code",
   "execution_count": 26,
   "metadata": {},
   "outputs": [
    {
     "output_type": "execute_result",
     "data": {
      "text/plain": "24"
     },
     "metadata": {},
     "execution_count": 26
    }
   ],
   "source": [
    "len(countries_covid19_only)"
   ]
  },
  {
   "cell_type": "code",
   "execution_count": 36,
   "metadata": {},
   "outputs": [
    {
     "output_type": "execute_result",
     "data": {
      "text/plain": "Empty DataFrame\nColumns: [Location, 2018]\nIndex: []",
      "text/html": "<div>\n<style scoped>\n    .dataframe tbody tr th:only-of-type {\n        vertical-align: middle;\n    }\n\n    .dataframe tbody tr th {\n        vertical-align: top;\n    }\n\n    .dataframe thead th {\n        text-align: right;\n    }\n</style>\n<table border=\"1\" class=\"dataframe\">\n  <thead>\n    <tr style=\"text-align: right;\">\n      <th></th>\n      <th>Location</th>\n      <th>2018</th>\n    </tr>\n  </thead>\n  <tbody>\n  </tbody>\n</table>\n</div>"
     },
     "metadata": {},
     "execution_count": 36
    }
   ],
   "source": [
    "df_gdp[df_gdp.Location.str.contains('Tai')]"
   ]
  },
  {
   "cell_type": "code",
   "execution_count": null,
   "metadata": {},
   "outputs": [],
   "source": [
    "df_gdp.Location.replace({'Bahamas, The':'Bahamas', 'Brunei Darussalam':'Brunei', 'Myanmar': 'Burma', 'Congo, Rep.':'Congo (Brazzaville)', 'Congo, Dem. Rep.':'Congo (Kinshasa)'}, inplace=True)"
   ]
  },
  {
   "cell_type": "code",
   "execution_count": 6,
   "metadata": {},
   "outputs": [
    {
     "output_type": "execute_result",
     "data": {
      "text/plain": "   Confirmed  Deaths  Recovered  Active  fatality_rate     Location  \\\n0        273       6         10     257       0.021978  Afghanistan   \n1        277      16         76     185       0.057762      Albania   \n2        986      86         61     839       0.087221      Algeria   \n3        428      15         10     403       0.035047      Andorra   \n4          8       2          1       5       0.250000       Angola   \n\n     PopMale  PopFemale   PopTotal  PopDensity  \n0  19529.727  18512.030  38041.757      58.269  \n1   1466.785   1414.128   2880.913     105.143  \n2  21749.666  21303.388  43053.054      18.076  \n3        NaN        NaN     77.146     164.140  \n4  15744.779  16080.520  31825.299      25.528  ",
      "text/html": "<div>\n<style scoped>\n    .dataframe tbody tr th:only-of-type {\n        vertical-align: middle;\n    }\n\n    .dataframe tbody tr th {\n        vertical-align: top;\n    }\n\n    .dataframe thead th {\n        text-align: right;\n    }\n</style>\n<table border=\"1\" class=\"dataframe\">\n  <thead>\n    <tr style=\"text-align: right;\">\n      <th></th>\n      <th>Confirmed</th>\n      <th>Deaths</th>\n      <th>Recovered</th>\n      <th>Active</th>\n      <th>fatality_rate</th>\n      <th>Location</th>\n      <th>PopMale</th>\n      <th>PopFemale</th>\n      <th>PopTotal</th>\n      <th>PopDensity</th>\n    </tr>\n  </thead>\n  <tbody>\n    <tr>\n      <th>0</th>\n      <td>273</td>\n      <td>6</td>\n      <td>10</td>\n      <td>257</td>\n      <td>0.021978</td>\n      <td>Afghanistan</td>\n      <td>19529.727</td>\n      <td>18512.030</td>\n      <td>38041.757</td>\n      <td>58.269</td>\n    </tr>\n    <tr>\n      <th>1</th>\n      <td>277</td>\n      <td>16</td>\n      <td>76</td>\n      <td>185</td>\n      <td>0.057762</td>\n      <td>Albania</td>\n      <td>1466.785</td>\n      <td>1414.128</td>\n      <td>2880.913</td>\n      <td>105.143</td>\n    </tr>\n    <tr>\n      <th>2</th>\n      <td>986</td>\n      <td>86</td>\n      <td>61</td>\n      <td>839</td>\n      <td>0.087221</td>\n      <td>Algeria</td>\n      <td>21749.666</td>\n      <td>21303.388</td>\n      <td>43053.054</td>\n      <td>18.076</td>\n    </tr>\n    <tr>\n      <th>3</th>\n      <td>428</td>\n      <td>15</td>\n      <td>10</td>\n      <td>403</td>\n      <td>0.035047</td>\n      <td>Andorra</td>\n      <td>NaN</td>\n      <td>NaN</td>\n      <td>77.146</td>\n      <td>164.140</td>\n    </tr>\n    <tr>\n      <th>4</th>\n      <td>8</td>\n      <td>2</td>\n      <td>1</td>\n      <td>5</td>\n      <td>0.250000</td>\n      <td>Angola</td>\n      <td>15744.779</td>\n      <td>16080.520</td>\n      <td>31825.299</td>\n      <td>25.528</td>\n    </tr>\n  </tbody>\n</table>\n</div>"
     },
     "metadata": {},
     "execution_count": 6
    }
   ],
   "source": [
    "# now join the covid and population data frames\n",
    "\n",
    "df_covid19_pop2019 = pd.merge(df_covid, df_pop2019, how='inner', left_on='Country_Region', right_on='Location')\n",
    "df_covid19_pop2019.head()"
   ]
  },
  {
   "cell_type": "code",
   "execution_count": null,
   "metadata": {},
   "outputs": [],
   "source": []
  }
 ],
 "metadata": {
  "kernelspec": {
   "display_name": "Python 3",
   "language": "python",
   "name": "python3"
  },
  "language_info": {
   "codemirror_mode": {
    "name": "ipython",
    "version": 3
   },
   "file_extension": ".py",
   "mimetype": "text/x-python",
   "name": "python",
   "nbconvert_exporter": "python",
   "pygments_lexer": "ipython3",
   "version": "3.7.7-final"
  }
 },
 "nbformat": 4,
 "nbformat_minor": 4
}