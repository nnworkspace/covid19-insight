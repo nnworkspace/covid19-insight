{
 "cells": [
  {
   "cell_type": "markdown",
   "metadata": {},
   "source": [
    "# Covid19 and Population Data and GDP Data Joined"
   ]
  },
  {
   "cell_type": "code",
   "execution_count": 1,
   "metadata": {},
   "outputs": [
    {
     "output_type": "stream",
     "name": "stdout",
     "text": "pandas version:  1.0.3\nnumpy version:  1.18.1\n"
    }
   ],
   "source": [
    "import pandas as pd\n",
    "import numpy as np\n",
    "\n",
    "print('pandas version: ', pd.__version__)\n",
    "print('numpy version: ', np.version.version)"
   ]
  },
  {
   "cell_type": "code",
   "execution_count": 2,
   "metadata": {},
   "outputs": [
    {
     "output_type": "execute_result",
     "data": {
      "text/plain": "                    Confirmed  Deaths  Recovered  Active  fatality_rate\nCountry_Region                                                         \nAfghanistan               281       6         10     265       0.021352\nAlbania                   304      17         89     198       0.055921\nAlgeria                  1171     105         62    1004       0.089667\nAndorra                   439      16         16     407       0.036446\nAngola                      8       2          1       5       0.250000\n...                       ...     ...        ...     ...            ...\nVenezuela                 153       7         52      94       0.045752\nVietnam                   237       0         85     152       0.000000\nWest Bank and Gaza        194       1         21     172       0.005155\nZambia                     39       1          2      36       0.025641\nZimbabwe                    9       1          0       8       0.111111\n\n[181 rows x 5 columns]",
      "text/html": "<div>\n<style scoped>\n    .dataframe tbody tr th:only-of-type {\n        vertical-align: middle;\n    }\n\n    .dataframe tbody tr th {\n        vertical-align: top;\n    }\n\n    .dataframe thead th {\n        text-align: right;\n    }\n</style>\n<table border=\"1\" class=\"dataframe\">\n  <thead>\n    <tr style=\"text-align: right;\">\n      <th></th>\n      <th>Confirmed</th>\n      <th>Deaths</th>\n      <th>Recovered</th>\n      <th>Active</th>\n      <th>fatality_rate</th>\n    </tr>\n    <tr>\n      <th>Country_Region</th>\n      <th></th>\n      <th></th>\n      <th></th>\n      <th></th>\n      <th></th>\n    </tr>\n  </thead>\n  <tbody>\n    <tr>\n      <th>Afghanistan</th>\n      <td>281</td>\n      <td>6</td>\n      <td>10</td>\n      <td>265</td>\n      <td>0.021352</td>\n    </tr>\n    <tr>\n      <th>Albania</th>\n      <td>304</td>\n      <td>17</td>\n      <td>89</td>\n      <td>198</td>\n      <td>0.055921</td>\n    </tr>\n    <tr>\n      <th>Algeria</th>\n      <td>1171</td>\n      <td>105</td>\n      <td>62</td>\n      <td>1004</td>\n      <td>0.089667</td>\n    </tr>\n    <tr>\n      <th>Andorra</th>\n      <td>439</td>\n      <td>16</td>\n      <td>16</td>\n      <td>407</td>\n      <td>0.036446</td>\n    </tr>\n    <tr>\n      <th>Angola</th>\n      <td>8</td>\n      <td>2</td>\n      <td>1</td>\n      <td>5</td>\n      <td>0.250000</td>\n    </tr>\n    <tr>\n      <th>...</th>\n      <td>...</td>\n      <td>...</td>\n      <td>...</td>\n      <td>...</td>\n      <td>...</td>\n    </tr>\n    <tr>\n      <th>Venezuela</th>\n      <td>153</td>\n      <td>7</td>\n      <td>52</td>\n      <td>94</td>\n      <td>0.045752</td>\n    </tr>\n    <tr>\n      <th>Vietnam</th>\n      <td>237</td>\n      <td>0</td>\n      <td>85</td>\n      <td>152</td>\n      <td>0.000000</td>\n    </tr>\n    <tr>\n      <th>West Bank and Gaza</th>\n      <td>194</td>\n      <td>1</td>\n      <td>21</td>\n      <td>172</td>\n      <td>0.005155</td>\n    </tr>\n    <tr>\n      <th>Zambia</th>\n      <td>39</td>\n      <td>1</td>\n      <td>2</td>\n      <td>36</td>\n      <td>0.025641</td>\n    </tr>\n    <tr>\n      <th>Zimbabwe</th>\n      <td>9</td>\n      <td>1</td>\n      <td>0</td>\n      <td>8</td>\n      <td>0.111111</td>\n    </tr>\n  </tbody>\n</table>\n<p>181 rows × 5 columns</p>\n</div>"
     },
     "metadata": {},
     "execution_count": 2
    }
   ],
   "source": [
    "# prepare the covid dataframe from covid data of Johns Hopkins University\n",
    "\n",
    "df_covid = pd.read_csv('data/2020-04-03.csv')\n",
    "\n",
    "# construct a dataframe with six columns: \n",
    "# Country_Region (index), Confirmed, Deaths, Recovered, Active\n",
    "df_covid = df_covid.groupby('Country_Region').agg({'Confirmed': np.sum, 'Deaths': np.sum, 'Recovered': np.sum, 'Active': np.sum})\n",
    "\n",
    "df_covid['fatality_rate'] = df_covid.Deaths / df_covid.Confirmed\n",
    "\n",
    "df_covid"
   ]
  },
  {
   "cell_type": "code",
   "execution_count": 3,
   "metadata": {},
   "outputs": [
    {
     "output_type": "execute_result",
     "data": {
      "text/plain": "                                            Location      PopMale  \\\n69                                       Afghanistan    19529.727   \n953                                           Africa   653513.680   \n1837                                   African Group   652644.714   \n1988                                   African Union   652949.469   \n2139                   African Union: Central Africa    76945.498   \n...                                              ...          ...   \n277314                                         World  3889034.611   \n278198  World Bank Regional Groups (developing only)  3261387.881   \n278349                                         Yemen    14692.284   \n279233                                        Zambia     8843.214   \n280117                                      Zimbabwe     6983.353   \n\n          PopFemale     PopTotal  PopDensity  \n69        18512.030    38041.757      58.269  \n953      654550.496  1308064.176      44.119  \n1837     653675.858  1306320.572      44.464  \n1988     653953.561  1306903.030      44.085  \n2139      77068.207   154013.705      29.192  \n...             ...          ...         ...  \n277314  3824433.594  7713468.205      59.291  \n278198  3191129.174  6452517.055      70.258  \n278349    14469.638    29161.922      55.234  \n279233     9017.820    17861.034      24.026  \n280117     7662.120    14645.473      37.858  \n\n[477 rows x 5 columns]",
      "text/html": "<div>\n<style scoped>\n    .dataframe tbody tr th:only-of-type {\n        vertical-align: middle;\n    }\n\n    .dataframe tbody tr th {\n        vertical-align: top;\n    }\n\n    .dataframe thead th {\n        text-align: right;\n    }\n</style>\n<table border=\"1\" class=\"dataframe\">\n  <thead>\n    <tr style=\"text-align: right;\">\n      <th></th>\n      <th>Location</th>\n      <th>PopMale</th>\n      <th>PopFemale</th>\n      <th>PopTotal</th>\n      <th>PopDensity</th>\n    </tr>\n  </thead>\n  <tbody>\n    <tr>\n      <th>69</th>\n      <td>Afghanistan</td>\n      <td>19529.727</td>\n      <td>18512.030</td>\n      <td>38041.757</td>\n      <td>58.269</td>\n    </tr>\n    <tr>\n      <th>953</th>\n      <td>Africa</td>\n      <td>653513.680</td>\n      <td>654550.496</td>\n      <td>1308064.176</td>\n      <td>44.119</td>\n    </tr>\n    <tr>\n      <th>1837</th>\n      <td>African Group</td>\n      <td>652644.714</td>\n      <td>653675.858</td>\n      <td>1306320.572</td>\n      <td>44.464</td>\n    </tr>\n    <tr>\n      <th>1988</th>\n      <td>African Union</td>\n      <td>652949.469</td>\n      <td>653953.561</td>\n      <td>1306903.030</td>\n      <td>44.085</td>\n    </tr>\n    <tr>\n      <th>2139</th>\n      <td>African Union: Central Africa</td>\n      <td>76945.498</td>\n      <td>77068.207</td>\n      <td>154013.705</td>\n      <td>29.192</td>\n    </tr>\n    <tr>\n      <th>...</th>\n      <td>...</td>\n      <td>...</td>\n      <td>...</td>\n      <td>...</td>\n      <td>...</td>\n    </tr>\n    <tr>\n      <th>277314</th>\n      <td>World</td>\n      <td>3889034.611</td>\n      <td>3824433.594</td>\n      <td>7713468.205</td>\n      <td>59.291</td>\n    </tr>\n    <tr>\n      <th>278198</th>\n      <td>World Bank Regional Groups (developing only)</td>\n      <td>3261387.881</td>\n      <td>3191129.174</td>\n      <td>6452517.055</td>\n      <td>70.258</td>\n    </tr>\n    <tr>\n      <th>278349</th>\n      <td>Yemen</td>\n      <td>14692.284</td>\n      <td>14469.638</td>\n      <td>29161.922</td>\n      <td>55.234</td>\n    </tr>\n    <tr>\n      <th>279233</th>\n      <td>Zambia</td>\n      <td>8843.214</td>\n      <td>9017.820</td>\n      <td>17861.034</td>\n      <td>24.026</td>\n    </tr>\n    <tr>\n      <th>280117</th>\n      <td>Zimbabwe</td>\n      <td>6983.353</td>\n      <td>7662.120</td>\n      <td>14645.473</td>\n      <td>37.858</td>\n    </tr>\n  </tbody>\n</table>\n<p>477 rows × 5 columns</p>\n</div>"
     },
     "metadata": {},
     "execution_count": 3
    }
   ],
   "source": [
    "# prepare the population dataframe from population data of united nations.\n",
    "# The population columns are all in thousand persons. \n",
    "population = pd.read_csv('data/WPP2019_TotalPopulationBySex.csv')\n",
    "pop2019 = population[population.Time == 2019]\n",
    "\n",
    "pop2019.Location.replace(\n",
    "    {'Bolivia (Plurinational State of)':'Bolivia',\n",
    "    'Brunei Darussalam':'Brunei', \n",
    "    'Myanmar': 'Burma', \n",
    "    'Congo':'Congo (Brazzaville)', \n",
    "    'Democratic Republic of the Congo':'Congo (Kinshasa)', \n",
    "    'Côte d\\'Ivoire':'Cote d\\'Ivoire', \n",
    "    'Iran (Islamic Republic of)':'Iran', \n",
    "    'Republic of Korea':'Korea, South', \n",
    "    'Lao People\\'s Democratic Republic':'Laos', \n",
    "    'Republic of Moldova':'Moldova', \n",
    "    'Russian Federation':'Russia', \n",
    "    'Syrian Arab Republic':'Syria', \n",
    "    'China, Taiwan Province of China':'Taiwan*', \n",
    "    'United Republic of Tanzania':'Tanzania', \n",
    "    'United States of America':'US', \n",
    "    'Venezuela (Bolivarian Republic of)':'Venezuela', \n",
    "    'Viet Nam':'Vietnam', \n",
    "    'State of Palestine':'West Bank and Gaza'}, inplace=True)\n",
    "\n",
    "df_pop2019 = pop2019.drop(columns=['LocID','VarID','Variant','Time','MidPeriod'])\n",
    "df_pop2019"
   ]
  },
  {
   "cell_type": "code",
   "execution_count": 4,
   "metadata": {},
   "outputs": [
    {
     "output_type": "execute_result",
     "data": {
      "text/plain": "  Country Name Country Code     Indicator Name  Indicator Code          1960  \\\n0        Aruba          ABW  GDP (current US$)  NY.GDP.MKTP.CD           NaN   \n1  Afghanistan          AFG  GDP (current US$)  NY.GDP.MKTP.CD  5.377778e+08   \n2       Angola          AGO  GDP (current US$)  NY.GDP.MKTP.CD           NaN   \n3      Albania          ALB  GDP (current US$)  NY.GDP.MKTP.CD           NaN   \n4      Andorra          AND  GDP (current US$)  NY.GDP.MKTP.CD           NaN   \n\n           1961          1962          1963          1964          1965  ...  \\\n0           NaN           NaN           NaN           NaN           NaN  ...   \n1  5.488889e+08  5.466667e+08  7.511112e+08  8.000000e+08  1.006667e+09  ...   \n2           NaN           NaN           NaN           NaN           NaN  ...   \n3           NaN           NaN           NaN           NaN           NaN  ...   \n4           NaN           NaN           NaN           NaN           NaN  ...   \n\n           2011          2012          2013          2014          2015  \\\n0  2.549721e+09  2.534637e+09  2.581564e+09  2.649721e+09  2.691620e+09   \n1  1.780428e+10  2.000162e+10  2.056105e+10  2.048487e+10  1.990711e+10   \n2  1.117897e+11  1.280529e+11  1.367099e+11  1.457122e+11  1.161936e+11   \n3  1.289087e+10  1.231978e+10  1.277628e+10  1.322824e+10  1.138693e+10   \n4  3.442063e+09  3.164615e+09  3.281585e+09  3.350736e+09  2.811489e+09   \n\n           2016          2017          2018  2019  Unnamed: 64  \n0  2.646927e+09  2.700559e+09           NaN   NaN          NaN  \n1  1.936264e+10  2.019176e+10  1.936297e+10   NaN          NaN  \n2  1.011239e+11  1.221238e+11  1.057510e+11   NaN          NaN  \n3  1.186135e+10  1.302506e+10  1.510250e+10   NaN          NaN  \n4  2.877312e+09  3.013387e+09  3.236544e+09   NaN          NaN  \n\n[5 rows x 65 columns]",
      "text/html": "<div>\n<style scoped>\n    .dataframe tbody tr th:only-of-type {\n        vertical-align: middle;\n    }\n\n    .dataframe tbody tr th {\n        vertical-align: top;\n    }\n\n    .dataframe thead th {\n        text-align: right;\n    }\n</style>\n<table border=\"1\" class=\"dataframe\">\n  <thead>\n    <tr style=\"text-align: right;\">\n      <th></th>\n      <th>Country Name</th>\n      <th>Country Code</th>\n      <th>Indicator Name</th>\n      <th>Indicator Code</th>\n      <th>1960</th>\n      <th>1961</th>\n      <th>1962</th>\n      <th>1963</th>\n      <th>1964</th>\n      <th>1965</th>\n      <th>...</th>\n      <th>2011</th>\n      <th>2012</th>\n      <th>2013</th>\n      <th>2014</th>\n      <th>2015</th>\n      <th>2016</th>\n      <th>2017</th>\n      <th>2018</th>\n      <th>2019</th>\n      <th>Unnamed: 64</th>\n    </tr>\n  </thead>\n  <tbody>\n    <tr>\n      <th>0</th>\n      <td>Aruba</td>\n      <td>ABW</td>\n      <td>GDP (current US$)</td>\n      <td>NY.GDP.MKTP.CD</td>\n      <td>NaN</td>\n      <td>NaN</td>\n      <td>NaN</td>\n      <td>NaN</td>\n      <td>NaN</td>\n      <td>NaN</td>\n      <td>...</td>\n      <td>2.549721e+09</td>\n      <td>2.534637e+09</td>\n      <td>2.581564e+09</td>\n      <td>2.649721e+09</td>\n      <td>2.691620e+09</td>\n      <td>2.646927e+09</td>\n      <td>2.700559e+09</td>\n      <td>NaN</td>\n      <td>NaN</td>\n      <td>NaN</td>\n    </tr>\n    <tr>\n      <th>1</th>\n      <td>Afghanistan</td>\n      <td>AFG</td>\n      <td>GDP (current US$)</td>\n      <td>NY.GDP.MKTP.CD</td>\n      <td>5.377778e+08</td>\n      <td>5.488889e+08</td>\n      <td>5.466667e+08</td>\n      <td>7.511112e+08</td>\n      <td>8.000000e+08</td>\n      <td>1.006667e+09</td>\n      <td>...</td>\n      <td>1.780428e+10</td>\n      <td>2.000162e+10</td>\n      <td>2.056105e+10</td>\n      <td>2.048487e+10</td>\n      <td>1.990711e+10</td>\n      <td>1.936264e+10</td>\n      <td>2.019176e+10</td>\n      <td>1.936297e+10</td>\n      <td>NaN</td>\n      <td>NaN</td>\n    </tr>\n    <tr>\n      <th>2</th>\n      <td>Angola</td>\n      <td>AGO</td>\n      <td>GDP (current US$)</td>\n      <td>NY.GDP.MKTP.CD</td>\n      <td>NaN</td>\n      <td>NaN</td>\n      <td>NaN</td>\n      <td>NaN</td>\n      <td>NaN</td>\n      <td>NaN</td>\n      <td>...</td>\n      <td>1.117897e+11</td>\n      <td>1.280529e+11</td>\n      <td>1.367099e+11</td>\n      <td>1.457122e+11</td>\n      <td>1.161936e+11</td>\n      <td>1.011239e+11</td>\n      <td>1.221238e+11</td>\n      <td>1.057510e+11</td>\n      <td>NaN</td>\n      <td>NaN</td>\n    </tr>\n    <tr>\n      <th>3</th>\n      <td>Albania</td>\n      <td>ALB</td>\n      <td>GDP (current US$)</td>\n      <td>NY.GDP.MKTP.CD</td>\n      <td>NaN</td>\n      <td>NaN</td>\n      <td>NaN</td>\n      <td>NaN</td>\n      <td>NaN</td>\n      <td>NaN</td>\n      <td>...</td>\n      <td>1.289087e+10</td>\n      <td>1.231978e+10</td>\n      <td>1.277628e+10</td>\n      <td>1.322824e+10</td>\n      <td>1.138693e+10</td>\n      <td>1.186135e+10</td>\n      <td>1.302506e+10</td>\n      <td>1.510250e+10</td>\n      <td>NaN</td>\n      <td>NaN</td>\n    </tr>\n    <tr>\n      <th>4</th>\n      <td>Andorra</td>\n      <td>AND</td>\n      <td>GDP (current US$)</td>\n      <td>NY.GDP.MKTP.CD</td>\n      <td>NaN</td>\n      <td>NaN</td>\n      <td>NaN</td>\n      <td>NaN</td>\n      <td>NaN</td>\n      <td>NaN</td>\n      <td>...</td>\n      <td>3.442063e+09</td>\n      <td>3.164615e+09</td>\n      <td>3.281585e+09</td>\n      <td>3.350736e+09</td>\n      <td>2.811489e+09</td>\n      <td>2.877312e+09</td>\n      <td>3.013387e+09</td>\n      <td>3.236544e+09</td>\n      <td>NaN</td>\n      <td>NaN</td>\n    </tr>\n  </tbody>\n</table>\n<p>5 rows × 65 columns</p>\n</div>"
     },
     "metadata": {},
     "execution_count": 4
    }
   ],
   "source": [
    "# prepare the gdp dataframe from gdp data of world bank.\n",
    "gdp = pd.read_csv('data/gdp_world_bank/gdp_world_bank.csv', skiprows=4)\n",
    "gdp.head()"
   ]
  },
  {
   "cell_type": "code",
   "execution_count": 5,
   "metadata": {},
   "outputs": [
    {
     "output_type": "execute_result",
     "data": {
      "text/plain": "     Country Name          2018\n0           Aruba           NaN\n1     Afghanistan  1.936297e+10\n2          Angola  1.057510e+11\n3         Albania  1.510250e+10\n4         Andorra  3.236544e+09\n..            ...           ...\n259        Kosovo  7.938991e+09\n260   Yemen, Rep.  2.691440e+10\n261  South Africa  3.682889e+11\n262        Zambia  2.672007e+10\n263      Zimbabwe  3.100052e+10\n\n[264 rows x 2 columns]",
      "text/html": "<div>\n<style scoped>\n    .dataframe tbody tr th:only-of-type {\n        vertical-align: middle;\n    }\n\n    .dataframe tbody tr th {\n        vertical-align: top;\n    }\n\n    .dataframe thead th {\n        text-align: right;\n    }\n</style>\n<table border=\"1\" class=\"dataframe\">\n  <thead>\n    <tr style=\"text-align: right;\">\n      <th></th>\n      <th>Country Name</th>\n      <th>2018</th>\n    </tr>\n  </thead>\n  <tbody>\n    <tr>\n      <th>0</th>\n      <td>Aruba</td>\n      <td>NaN</td>\n    </tr>\n    <tr>\n      <th>1</th>\n      <td>Afghanistan</td>\n      <td>1.936297e+10</td>\n    </tr>\n    <tr>\n      <th>2</th>\n      <td>Angola</td>\n      <td>1.057510e+11</td>\n    </tr>\n    <tr>\n      <th>3</th>\n      <td>Albania</td>\n      <td>1.510250e+10</td>\n    </tr>\n    <tr>\n      <th>4</th>\n      <td>Andorra</td>\n      <td>3.236544e+09</td>\n    </tr>\n    <tr>\n      <th>...</th>\n      <td>...</td>\n      <td>...</td>\n    </tr>\n    <tr>\n      <th>259</th>\n      <td>Kosovo</td>\n      <td>7.938991e+09</td>\n    </tr>\n    <tr>\n      <th>260</th>\n      <td>Yemen, Rep.</td>\n      <td>2.691440e+10</td>\n    </tr>\n    <tr>\n      <th>261</th>\n      <td>South Africa</td>\n      <td>3.682889e+11</td>\n    </tr>\n    <tr>\n      <th>262</th>\n      <td>Zambia</td>\n      <td>2.672007e+10</td>\n    </tr>\n    <tr>\n      <th>263</th>\n      <td>Zimbabwe</td>\n      <td>3.100052e+10</td>\n    </tr>\n  </tbody>\n</table>\n<p>264 rows × 2 columns</p>\n</div>"
     },
     "metadata": {},
     "execution_count": 5
    }
   ],
   "source": [
    "df_gdp = gdp[['Country Name', '2018']]\n",
    "df_gdp"
   ]
  },
  {
   "cell_type": "code",
   "execution_count": 6,
   "metadata": {},
   "outputs": [],
   "source": [
    "df_gdp.rename(columns={\"Country Name\": \"Location\"}, errors=\"raise\", inplace=True)"
   ]
  },
  {
   "cell_type": "code",
   "execution_count": 7,
   "metadata": {},
   "outputs": [
    {
     "output_type": "execute_result",
     "data": {
      "text/plain": "Index(['Bahamas', 'Brunei', 'Burma', 'Congo (Brazzaville)', 'Congo (Kinshasa)',\n       'Czechia', 'Diamond Princess', 'Egypt', 'Gambia', 'Holy See', 'Iran',\n       'Korea, South', 'Kyrgyzstan', 'Laos', 'MS Zaandam', 'Russia',\n       'Saint Kitts and Nevis', 'Saint Lucia',\n       'Saint Vincent and the Grenadines', 'Slovakia', 'Syria', 'Taiwan*',\n       'US', 'Venezuela'],\n      dtype='object', name='Country_Region')"
     },
     "metadata": {},
     "execution_count": 7
    }
   ],
   "source": [
    "countries_covid19_only = df_covid[~df_covid.index.isin(df_gdp.Location)]\n",
    "countries_covid19_only.index"
   ]
  },
  {
   "cell_type": "code",
   "execution_count": 8,
   "metadata": {},
   "outputs": [
    {
     "output_type": "execute_result",
     "data": {
      "text/plain": "24"
     },
     "metadata": {},
     "execution_count": 8
    }
   ],
   "source": [
    "len(countries_covid19_only)"
   ]
  },
  {
   "cell_type": "code",
   "execution_count": 18,
   "metadata": {},
   "outputs": [
    {
     "output_type": "execute_result",
     "data": {
      "text/plain": "                Location          2018\n94  Hong Kong SAR, China  3.626820e+11",
      "text/html": "<div>\n<style scoped>\n    .dataframe tbody tr th:only-of-type {\n        vertical-align: middle;\n    }\n\n    .dataframe tbody tr th {\n        vertical-align: top;\n    }\n\n    .dataframe thead th {\n        text-align: right;\n    }\n</style>\n<table border=\"1\" class=\"dataframe\">\n  <thead>\n    <tr style=\"text-align: right;\">\n      <th></th>\n      <th>Location</th>\n      <th>2018</th>\n    </tr>\n  </thead>\n  <tbody>\n    <tr>\n      <th>94</th>\n      <td>Hong Kong SAR, China</td>\n      <td>3.626820e+11</td>\n    </tr>\n  </tbody>\n</table>\n</div>"
     },
     "metadata": {},
     "execution_count": 18
    }
   ],
   "source": [
    "df_gdp[df_gdp.Location.str.contains('Hong Kong')]"
   ]
  },
  {
   "cell_type": "code",
   "execution_count": 25,
   "metadata": {},
   "outputs": [
    {
     "output_type": "execute_result",
     "data": {
      "text/plain": "Empty DataFrame\nColumns: [Confirmed, Deaths, Recovered, Active, fatality_rate]\nIndex: []",
      "text/html": "<div>\n<style scoped>\n    .dataframe tbody tr th:only-of-type {\n        vertical-align: middle;\n    }\n\n    .dataframe tbody tr th {\n        vertical-align: top;\n    }\n\n    .dataframe thead th {\n        text-align: right;\n    }\n</style>\n<table border=\"1\" class=\"dataframe\">\n  <thead>\n    <tr style=\"text-align: right;\">\n      <th></th>\n      <th>Confirmed</th>\n      <th>Deaths</th>\n      <th>Recovered</th>\n      <th>Active</th>\n      <th>fatality_rate</th>\n    </tr>\n    <tr>\n      <th>Country_Region</th>\n      <th></th>\n      <th></th>\n      <th></th>\n      <th></th>\n      <th></th>\n    </tr>\n  </thead>\n  <tbody>\n  </tbody>\n</table>\n</div>"
     },
     "metadata": {},
     "execution_count": 25
    }
   ],
   "source": [
    "df_covid[df_covid.index.str.contains('Macao')]"
   ]
  },
  {
   "cell_type": "code",
   "execution_count": 10,
   "metadata": {},
   "outputs": [],
   "source": [
    "df_gdp.Location.replace(\n",
    "    {'Bahamas, The':'Bahamas', \n",
    "    'Brunei Darussalam':'Brunei', \n",
    "    'Myanmar': 'Burma', \n",
    "    'Congo, Rep.':'Congo (Brazzaville)', \n",
    "    'Congo, Dem. Rep.':'Congo (Kinshasa)', \n",
    "    'Czech Republic':'Czechia', \n",
    "    'Egypt, Arab Rep.':'Egypt',\n",
    "    'Gambia, The':'Gambia',\n",
    "    'Iran, Islamic Rep.':'Iran',\n",
    "    'Korea, Rep.':'Korea, Rep.',\n",
    "    'Kyrgyz Republic':'Kyrgyzstan',\n",
    "    'Lao PDR':'Laos',\n",
    "    'Russian Federation\t':'Russia',\n",
    "    'St. Kitts and Nevis':'Saint Kitts and Nevis',\n",
    "    'St. Lucia':'Saint Lucia',\n",
    "    'St. Vincent and the Grenadines':'Saint Vincent and the Grenadines',\n",
    "    'Slovak Republic':'Slovakia',\n",
    "    'Syrian Arab Republic':'Syria',\n",
    "    'United States':'US',\n",
    "    'Venezuela, RB':'Venezuela'}, inplace=True)"
   ]
  },
  {
   "cell_type": "code",
   "execution_count": 11,
   "metadata": {},
   "outputs": [
    {
     "output_type": "execute_result",
     "data": {
      "text/plain": "   Confirmed  Deaths  Recovered  Active  fatality_rate     Location  \\\n0        281       6         10     265       0.021352  Afghanistan   \n1        304      17         89     198       0.055921      Albania   \n2       1171     105         62    1004       0.089667      Algeria   \n3        439      16         16     407       0.036446      Andorra   \n4          8       2          1       5       0.250000       Angola   \n\n     PopMale  PopFemale   PopTotal  PopDensity  \n0  19529.727  18512.030  38041.757      58.269  \n1   1466.785   1414.128   2880.913     105.143  \n2  21749.666  21303.388  43053.054      18.076  \n3        NaN        NaN     77.146     164.140  \n4  15744.779  16080.520  31825.299      25.528  ",
      "text/html": "<div>\n<style scoped>\n    .dataframe tbody tr th:only-of-type {\n        vertical-align: middle;\n    }\n\n    .dataframe tbody tr th {\n        vertical-align: top;\n    }\n\n    .dataframe thead th {\n        text-align: right;\n    }\n</style>\n<table border=\"1\" class=\"dataframe\">\n  <thead>\n    <tr style=\"text-align: right;\">\n      <th></th>\n      <th>Confirmed</th>\n      <th>Deaths</th>\n      <th>Recovered</th>\n      <th>Active</th>\n      <th>fatality_rate</th>\n      <th>Location</th>\n      <th>PopMale</th>\n      <th>PopFemale</th>\n      <th>PopTotal</th>\n      <th>PopDensity</th>\n    </tr>\n  </thead>\n  <tbody>\n    <tr>\n      <th>0</th>\n      <td>281</td>\n      <td>6</td>\n      <td>10</td>\n      <td>265</td>\n      <td>0.021352</td>\n      <td>Afghanistan</td>\n      <td>19529.727</td>\n      <td>18512.030</td>\n      <td>38041.757</td>\n      <td>58.269</td>\n    </tr>\n    <tr>\n      <th>1</th>\n      <td>304</td>\n      <td>17</td>\n      <td>89</td>\n      <td>198</td>\n      <td>0.055921</td>\n      <td>Albania</td>\n      <td>1466.785</td>\n      <td>1414.128</td>\n      <td>2880.913</td>\n      <td>105.143</td>\n    </tr>\n    <tr>\n      <th>2</th>\n      <td>1171</td>\n      <td>105</td>\n      <td>62</td>\n      <td>1004</td>\n      <td>0.089667</td>\n      <td>Algeria</td>\n      <td>21749.666</td>\n      <td>21303.388</td>\n      <td>43053.054</td>\n      <td>18.076</td>\n    </tr>\n    <tr>\n      <th>3</th>\n      <td>439</td>\n      <td>16</td>\n      <td>16</td>\n      <td>407</td>\n      <td>0.036446</td>\n      <td>Andorra</td>\n      <td>NaN</td>\n      <td>NaN</td>\n      <td>77.146</td>\n      <td>164.140</td>\n    </tr>\n    <tr>\n      <th>4</th>\n      <td>8</td>\n      <td>2</td>\n      <td>1</td>\n      <td>5</td>\n      <td>0.250000</td>\n      <td>Angola</td>\n      <td>15744.779</td>\n      <td>16080.520</td>\n      <td>31825.299</td>\n      <td>25.528</td>\n    </tr>\n  </tbody>\n</table>\n</div>"
     },
     "metadata": {},
     "execution_count": 11
    }
   ],
   "source": [
    "# now join the covid and population data frames\n",
    "\n",
    "df_covid19_pop2019 = pd.merge(df_covid, df_pop2019, how='inner', left_on='Country_Region', right_on='Location')\n",
    "df_covid19_pop2019.head()"
   ]
  },
  {
   "cell_type": "code",
   "execution_count": 15,
   "metadata": {},
   "outputs": [
    {
     "output_type": "execute_result",
     "data": {
      "text/plain": "(178, 10)"
     },
     "metadata": {},
     "execution_count": 15
    }
   ],
   "source": [
    "df_covid19_pop2019.shape"
   ]
  },
  {
   "cell_type": "code",
   "execution_count": 12,
   "metadata": {},
   "outputs": [
    {
     "output_type": "execute_result",
     "data": {
      "text/plain": "   Confirmed  Deaths  Recovered  Active  fatality_rate     Location  \\\n0        281       6         10     265       0.021352  Afghanistan   \n1        304      17         89     198       0.055921      Albania   \n2       1171     105         62    1004       0.089667      Algeria   \n3        439      16         16     407       0.036446      Andorra   \n4          8       2          1       5       0.250000       Angola   \n\n     PopMale  PopFemale   PopTotal  PopDensity          2018  \n0  19529.727  18512.030  38041.757      58.269  1.936297e+10  \n1   1466.785   1414.128   2880.913     105.143  1.510250e+10  \n2  21749.666  21303.388  43053.054      18.076  1.737580e+11  \n3        NaN        NaN     77.146     164.140  3.236544e+09  \n4  15744.779  16080.520  31825.299      25.528  1.057510e+11  ",
      "text/html": "<div>\n<style scoped>\n    .dataframe tbody tr th:only-of-type {\n        vertical-align: middle;\n    }\n\n    .dataframe tbody tr th {\n        vertical-align: top;\n    }\n\n    .dataframe thead th {\n        text-align: right;\n    }\n</style>\n<table border=\"1\" class=\"dataframe\">\n  <thead>\n    <tr style=\"text-align: right;\">\n      <th></th>\n      <th>Confirmed</th>\n      <th>Deaths</th>\n      <th>Recovered</th>\n      <th>Active</th>\n      <th>fatality_rate</th>\n      <th>Location</th>\n      <th>PopMale</th>\n      <th>PopFemale</th>\n      <th>PopTotal</th>\n      <th>PopDensity</th>\n      <th>2018</th>\n    </tr>\n  </thead>\n  <tbody>\n    <tr>\n      <th>0</th>\n      <td>281</td>\n      <td>6</td>\n      <td>10</td>\n      <td>265</td>\n      <td>0.021352</td>\n      <td>Afghanistan</td>\n      <td>19529.727</td>\n      <td>18512.030</td>\n      <td>38041.757</td>\n      <td>58.269</td>\n      <td>1.936297e+10</td>\n    </tr>\n    <tr>\n      <th>1</th>\n      <td>304</td>\n      <td>17</td>\n      <td>89</td>\n      <td>198</td>\n      <td>0.055921</td>\n      <td>Albania</td>\n      <td>1466.785</td>\n      <td>1414.128</td>\n      <td>2880.913</td>\n      <td>105.143</td>\n      <td>1.510250e+10</td>\n    </tr>\n    <tr>\n      <th>2</th>\n      <td>1171</td>\n      <td>105</td>\n      <td>62</td>\n      <td>1004</td>\n      <td>0.089667</td>\n      <td>Algeria</td>\n      <td>21749.666</td>\n      <td>21303.388</td>\n      <td>43053.054</td>\n      <td>18.076</td>\n      <td>1.737580e+11</td>\n    </tr>\n    <tr>\n      <th>3</th>\n      <td>439</td>\n      <td>16</td>\n      <td>16</td>\n      <td>407</td>\n      <td>0.036446</td>\n      <td>Andorra</td>\n      <td>NaN</td>\n      <td>NaN</td>\n      <td>77.146</td>\n      <td>164.140</td>\n      <td>3.236544e+09</td>\n    </tr>\n    <tr>\n      <th>4</th>\n      <td>8</td>\n      <td>2</td>\n      <td>1</td>\n      <td>5</td>\n      <td>0.250000</td>\n      <td>Angola</td>\n      <td>15744.779</td>\n      <td>16080.520</td>\n      <td>31825.299</td>\n      <td>25.528</td>\n      <td>1.057510e+11</td>\n    </tr>\n  </tbody>\n</table>\n</div>"
     },
     "metadata": {},
     "execution_count": 12
    }
   ],
   "source": [
    "# locations that are in the covid19 dataset but not in population or gdp datasets:\n",
    "# Diamond Princess, Ms Zaandam, Kosovo, Taiwan, Holy See.\n",
    "\n",
    "df_overview = pd.merge(df_covid19_pop2019, df_gdp, how='inner', left_on='Location', right_on='Location')\n",
    "df_overview.head()"
   ]
  },
  {
   "cell_type": "code",
   "execution_count": 14,
   "metadata": {},
   "outputs": [
    {
     "output_type": "execute_result",
     "data": {
      "text/plain": "(174, 11)"
     },
     "metadata": {},
     "execution_count": 14
    }
   ],
   "source": [
    "df_overview.shape"
   ]
  },
  {
   "cell_type": "code",
   "execution_count": 26,
   "metadata": {},
   "outputs": [
    {
     "output_type": "execute_result",
     "data": {
      "text/plain": "     Confirmed  Deaths  Recovered  Active  fatality_rate            Location  \\\n0          281       6         10     265       0.021352         Afghanistan   \n1          304      17         89     198       0.055921             Albania   \n2         1171     105         62    1004       0.089667             Algeria   \n3          439      16         16     407       0.036446             Andorra   \n4            8       2          1       5       0.250000              Angola   \n..         ...     ...        ...     ...            ...                 ...   \n169        153       7         52      94       0.045752           Venezuela   \n170        237       0         85     152       0.000000             Vietnam   \n171        194       1         21     172       0.005155  West Bank and Gaza   \n172         39       1          2      36       0.025641              Zambia   \n173          9       1          0       8       0.111111            Zimbabwe   \n\n       PopMale  PopFemale   PopTotal  PopDensity      gdp_2018  \n0    19529.727  18512.030  38041.757      58.269  1.936297e+10  \n1     1466.785   1414.128   2880.913     105.143  1.510250e+10  \n2    21749.666  21303.388  43053.054      18.076  1.737580e+11  \n3          NaN        NaN     77.146     164.140  3.236544e+09  \n4    15744.779  16080.520  31825.299      25.528  1.057510e+11  \n..         ...        ...        ...         ...           ...  \n169  14045.228  14470.601  28515.829      32.329           NaN  \n170  48151.352  48310.756  96462.108     311.098  2.452137e+11  \n171   2526.350   2455.072   4981.422     827.479  1.461590e+10  \n172   8843.214   9017.820  17861.034      24.026  2.672007e+10  \n173   6983.353   7662.120  14645.473      37.858  3.100052e+10  \n\n[174 rows x 11 columns]",
      "text/html": "<div>\n<style scoped>\n    .dataframe tbody tr th:only-of-type {\n        vertical-align: middle;\n    }\n\n    .dataframe tbody tr th {\n        vertical-align: top;\n    }\n\n    .dataframe thead th {\n        text-align: right;\n    }\n</style>\n<table border=\"1\" class=\"dataframe\">\n  <thead>\n    <tr style=\"text-align: right;\">\n      <th></th>\n      <th>Confirmed</th>\n      <th>Deaths</th>\n      <th>Recovered</th>\n      <th>Active</th>\n      <th>fatality_rate</th>\n      <th>Location</th>\n      <th>PopMale</th>\n      <th>PopFemale</th>\n      <th>PopTotal</th>\n      <th>PopDensity</th>\n      <th>gdp_2018</th>\n    </tr>\n  </thead>\n  <tbody>\n    <tr>\n      <th>0</th>\n      <td>281</td>\n      <td>6</td>\n      <td>10</td>\n      <td>265</td>\n      <td>0.021352</td>\n      <td>Afghanistan</td>\n      <td>19529.727</td>\n      <td>18512.030</td>\n      <td>38041.757</td>\n      <td>58.269</td>\n      <td>1.936297e+10</td>\n    </tr>\n    <tr>\n      <th>1</th>\n      <td>304</td>\n      <td>17</td>\n      <td>89</td>\n      <td>198</td>\n      <td>0.055921</td>\n      <td>Albania</td>\n      <td>1466.785</td>\n      <td>1414.128</td>\n      <td>2880.913</td>\n      <td>105.143</td>\n      <td>1.510250e+10</td>\n    </tr>\n    <tr>\n      <th>2</th>\n      <td>1171</td>\n      <td>105</td>\n      <td>62</td>\n      <td>1004</td>\n      <td>0.089667</td>\n      <td>Algeria</td>\n      <td>21749.666</td>\n      <td>21303.388</td>\n      <td>43053.054</td>\n      <td>18.076</td>\n      <td>1.737580e+11</td>\n    </tr>\n    <tr>\n      <th>3</th>\n      <td>439</td>\n      <td>16</td>\n      <td>16</td>\n      <td>407</td>\n      <td>0.036446</td>\n      <td>Andorra</td>\n      <td>NaN</td>\n      <td>NaN</td>\n      <td>77.146</td>\n      <td>164.140</td>\n      <td>3.236544e+09</td>\n    </tr>\n    <tr>\n      <th>4</th>\n      <td>8</td>\n      <td>2</td>\n      <td>1</td>\n      <td>5</td>\n      <td>0.250000</td>\n      <td>Angola</td>\n      <td>15744.779</td>\n      <td>16080.520</td>\n      <td>31825.299</td>\n      <td>25.528</td>\n      <td>1.057510e+11</td>\n    </tr>\n    <tr>\n      <th>...</th>\n      <td>...</td>\n      <td>...</td>\n      <td>...</td>\n      <td>...</td>\n      <td>...</td>\n      <td>...</td>\n      <td>...</td>\n      <td>...</td>\n      <td>...</td>\n      <td>...</td>\n      <td>...</td>\n    </tr>\n    <tr>\n      <th>169</th>\n      <td>153</td>\n      <td>7</td>\n      <td>52</td>\n      <td>94</td>\n      <td>0.045752</td>\n      <td>Venezuela</td>\n      <td>14045.228</td>\n      <td>14470.601</td>\n      <td>28515.829</td>\n      <td>32.329</td>\n      <td>NaN</td>\n    </tr>\n    <tr>\n      <th>170</th>\n      <td>237</td>\n      <td>0</td>\n      <td>85</td>\n      <td>152</td>\n      <td>0.000000</td>\n      <td>Vietnam</td>\n      <td>48151.352</td>\n      <td>48310.756</td>\n      <td>96462.108</td>\n      <td>311.098</td>\n      <td>2.452137e+11</td>\n    </tr>\n    <tr>\n      <th>171</th>\n      <td>194</td>\n      <td>1</td>\n      <td>21</td>\n      <td>172</td>\n      <td>0.005155</td>\n      <td>West Bank and Gaza</td>\n      <td>2526.350</td>\n      <td>2455.072</td>\n      <td>4981.422</td>\n      <td>827.479</td>\n      <td>1.461590e+10</td>\n    </tr>\n    <tr>\n      <th>172</th>\n      <td>39</td>\n      <td>1</td>\n      <td>2</td>\n      <td>36</td>\n      <td>0.025641</td>\n      <td>Zambia</td>\n      <td>8843.214</td>\n      <td>9017.820</td>\n      <td>17861.034</td>\n      <td>24.026</td>\n      <td>2.672007e+10</td>\n    </tr>\n    <tr>\n      <th>173</th>\n      <td>9</td>\n      <td>1</td>\n      <td>0</td>\n      <td>8</td>\n      <td>0.111111</td>\n      <td>Zimbabwe</td>\n      <td>6983.353</td>\n      <td>7662.120</td>\n      <td>14645.473</td>\n      <td>37.858</td>\n      <td>3.100052e+10</td>\n    </tr>\n  </tbody>\n</table>\n<p>174 rows × 11 columns</p>\n</div>"
     },
     "metadata": {},
     "execution_count": 26
    }
   ],
   "source": [
    "df_overview.rename(columns={\"2018\": \"gdp_2018\"}, errors=\"raise\", inplace=True)\n",
    "df_overview"
   ]
  },
  {
   "cell_type": "code",
   "execution_count": 33,
   "metadata": {},
   "outputs": [],
   "source": [
    "df_overview['gdp_per_capita'] = df_overview.gdp_2018 / (df_overview.PopTotal * 1000)\n",
    "df_overview.set_index('Location', inplace=True)"
   ]
  },
  {
   "cell_type": "code",
   "execution_count": 34,
   "metadata": {},
   "outputs": [
    {
     "output_type": "execute_result",
     "data": {
      "text/plain": "                      Confirmed  Deaths  Recovered  Active  fatality_rate  \\\nLocation                                                                    \nMonaco                       64       1          3      60       0.015625   \nLuxembourg                 2612      31        500    2081       0.011868   \nSwitzerland               19606     591       4846   14169       0.030144   \nNorway                     5370      59         32    5279       0.010987   \nIreland                    4273     120          5    4148       0.028083   \nIceland                    1364       4        309    1051       0.002933   \nQatar                      1075       3         93     979       0.002791   \nSingapore                  1114       5        282     827       0.004488   \nUS                       275586    7087       9707       0       0.025716   \nDenmark                    3946     139       1287    2520       0.035226   \nAustralia                  5330      28        649    4653       0.005253   \nSweden                     6131     358        205    5568       0.058392   \nNetherlands               15821    1490        260   14071       0.094179   \nAustria                   11524     168       2022    9334       0.014578   \nFinland                    1615      20        300    1295       0.012384   \nGermany                   91159    1275      24575   65309       0.013987   \nBelgium                   16770    1143       2872   12755       0.068157   \nCanada                    12437     179       2175       0       0.014393   \nIsrael                     7428      40        403    6985       0.005385   \nNew Zealand                 868       1        103     764       0.001152   \nFrance                    65202    6520      14135   44547       0.099997   \nUnited Arab Emirates       1264       9        108    1147       0.007120   \nUnited Kingdom            38689    3611        208   34870       0.093334   \nAndorra                     439      16         16     407       0.036446   \nJapan                      2617      63        514    2040       0.024073   \n\n                         PopMale   PopFemale    PopTotal  PopDensity  \\\nLocation                                                               \nMonaco                       NaN         NaN      38.967   26152.349   \nLuxembourg               311.110     304.620     615.730     237.734   \nSwitzerland             4260.661    4330.700    8591.361     217.415   \nNorway                  2716.812    2662.047    5378.859      14.726   \nIreland                 2422.418    2460.080    4882.498      70.874   \nIceland                  170.230     168.807     339.037       3.382   \nQatar                   2133.521     698.550    2832.071     243.934   \nSingapore               3038.226    2766.117    5804.343    8291.919   \nUS                    162826.299  166238.618  329064.917      35.974   \nDenmark                 2869.672    2902.205    5771.877     136.033   \nAustralia              12551.311   12651.889   25203.200       3.281   \nSweden                  5025.597    5010.794   10036.391      24.459   \nNetherlands             8514.835    8582.288   17097.123     507.032   \nAustria                 4409.380    4545.728    8955.108     108.667   \nFinland                 2727.210    2804.949    5532.159      18.204   \nGermany                41249.115   42267.931   83517.046     239.606   \nBelgium                 5711.479    5827.847   11539.326     381.087   \nCanada                 18563.538   18847.500   37411.038       4.114   \nIsrael                  4237.327    4282.046    8519.373     393.686   \nNew Zealand             2351.162    2431.900    4783.062      18.165   \nFrance                 31524.494   33605.237   65129.731     118.946   \nUnited Arab Emirates    6766.806    3003.720    9770.526     116.872   \nUnited Kingdom         33351.435   34178.726   67530.161     279.131   \nAndorra                      NaN         NaN      77.146     164.140   \nJapan                  61950.310   64909.989  126860.299     347.987   \n\n                          gdp_2018  gdp_per_capita  \nLocation                                            \nMonaco                7.184844e+09   184382.790377  \nLuxembourg            7.088533e+10   115124.041192  \nSwitzerland           7.051404e+11    82075.512153  \nNorway                4.341666e+11    80717.233047  \nIreland               3.824875e+11    78338.483811  \nIceland               2.587848e+10    76329.355675  \nQatar                 1.913621e+11    67569.664713  \nSingapore             3.641567e+11    62738.652380  \nUS                    2.054434e+13    62432.494002  \nDenmark               3.556753e+11    61622.125538  \nAustralia             1.433904e+12    56893.741608  \nSweden                5.560865e+11    55407.017217  \nNetherlands           9.136585e+11    53439.310562  \nAustria               4.552858e+11    50840.907562  \nFinland               2.767431e+11    50024.433592  \nGermany               3.947620e+12    47267.238864  \nBelgium               5.427611e+11    47035.770729  \nCanada                1.713342e+12    45797.759070  \nIsrael                3.705880e+11    43499.442641  \nNew Zealand           2.049239e+11    42843.667481  \nFrance                2.777535e+12    42646.195472  \nUnited Arab Emirates  4.141789e+11    42390.649448  \nUnited Kingdom        2.855297e+12    42281.799558  \nAndorra               3.236544e+09    41953.489609  \nJapan                 4.971323e+12    39187.382648  ",
      "text/html": "<div>\n<style scoped>\n    .dataframe tbody tr th:only-of-type {\n        vertical-align: middle;\n    }\n\n    .dataframe tbody tr th {\n        vertical-align: top;\n    }\n\n    .dataframe thead th {\n        text-align: right;\n    }\n</style>\n<table border=\"1\" class=\"dataframe\">\n  <thead>\n    <tr style=\"text-align: right;\">\n      <th></th>\n      <th>Confirmed</th>\n      <th>Deaths</th>\n      <th>Recovered</th>\n      <th>Active</th>\n      <th>fatality_rate</th>\n      <th>PopMale</th>\n      <th>PopFemale</th>\n      <th>PopTotal</th>\n      <th>PopDensity</th>\n      <th>gdp_2018</th>\n      <th>gdp_per_capita</th>\n    </tr>\n    <tr>\n      <th>Location</th>\n      <th></th>\n      <th></th>\n      <th></th>\n      <th></th>\n      <th></th>\n      <th></th>\n      <th></th>\n      <th></th>\n      <th></th>\n      <th></th>\n      <th></th>\n    </tr>\n  </thead>\n  <tbody>\n    <tr>\n      <th>Monaco</th>\n      <td>64</td>\n      <td>1</td>\n      <td>3</td>\n      <td>60</td>\n      <td>0.015625</td>\n      <td>NaN</td>\n      <td>NaN</td>\n      <td>38.967</td>\n      <td>26152.349</td>\n      <td>7.184844e+09</td>\n      <td>184382.790377</td>\n    </tr>\n    <tr>\n      <th>Luxembourg</th>\n      <td>2612</td>\n      <td>31</td>\n      <td>500</td>\n      <td>2081</td>\n      <td>0.011868</td>\n      <td>311.110</td>\n      <td>304.620</td>\n      <td>615.730</td>\n      <td>237.734</td>\n      <td>7.088533e+10</td>\n      <td>115124.041192</td>\n    </tr>\n    <tr>\n      <th>Switzerland</th>\n      <td>19606</td>\n      <td>591</td>\n      <td>4846</td>\n      <td>14169</td>\n      <td>0.030144</td>\n      <td>4260.661</td>\n      <td>4330.700</td>\n      <td>8591.361</td>\n      <td>217.415</td>\n      <td>7.051404e+11</td>\n      <td>82075.512153</td>\n    </tr>\n    <tr>\n      <th>Norway</th>\n      <td>5370</td>\n      <td>59</td>\n      <td>32</td>\n      <td>5279</td>\n      <td>0.010987</td>\n      <td>2716.812</td>\n      <td>2662.047</td>\n      <td>5378.859</td>\n      <td>14.726</td>\n      <td>4.341666e+11</td>\n      <td>80717.233047</td>\n    </tr>\n    <tr>\n      <th>Ireland</th>\n      <td>4273</td>\n      <td>120</td>\n      <td>5</td>\n      <td>4148</td>\n      <td>0.028083</td>\n      <td>2422.418</td>\n      <td>2460.080</td>\n      <td>4882.498</td>\n      <td>70.874</td>\n      <td>3.824875e+11</td>\n      <td>78338.483811</td>\n    </tr>\n    <tr>\n      <th>Iceland</th>\n      <td>1364</td>\n      <td>4</td>\n      <td>309</td>\n      <td>1051</td>\n      <td>0.002933</td>\n      <td>170.230</td>\n      <td>168.807</td>\n      <td>339.037</td>\n      <td>3.382</td>\n      <td>2.587848e+10</td>\n      <td>76329.355675</td>\n    </tr>\n    <tr>\n      <th>Qatar</th>\n      <td>1075</td>\n      <td>3</td>\n      <td>93</td>\n      <td>979</td>\n      <td>0.002791</td>\n      <td>2133.521</td>\n      <td>698.550</td>\n      <td>2832.071</td>\n      <td>243.934</td>\n      <td>1.913621e+11</td>\n      <td>67569.664713</td>\n    </tr>\n    <tr>\n      <th>Singapore</th>\n      <td>1114</td>\n      <td>5</td>\n      <td>282</td>\n      <td>827</td>\n      <td>0.004488</td>\n      <td>3038.226</td>\n      <td>2766.117</td>\n      <td>5804.343</td>\n      <td>8291.919</td>\n      <td>3.641567e+11</td>\n      <td>62738.652380</td>\n    </tr>\n    <tr>\n      <th>US</th>\n      <td>275586</td>\n      <td>7087</td>\n      <td>9707</td>\n      <td>0</td>\n      <td>0.025716</td>\n      <td>162826.299</td>\n      <td>166238.618</td>\n      <td>329064.917</td>\n      <td>35.974</td>\n      <td>2.054434e+13</td>\n      <td>62432.494002</td>\n    </tr>\n    <tr>\n      <th>Denmark</th>\n      <td>3946</td>\n      <td>139</td>\n      <td>1287</td>\n      <td>2520</td>\n      <td>0.035226</td>\n      <td>2869.672</td>\n      <td>2902.205</td>\n      <td>5771.877</td>\n      <td>136.033</td>\n      <td>3.556753e+11</td>\n      <td>61622.125538</td>\n    </tr>\n    <tr>\n      <th>Australia</th>\n      <td>5330</td>\n      <td>28</td>\n      <td>649</td>\n      <td>4653</td>\n      <td>0.005253</td>\n      <td>12551.311</td>\n      <td>12651.889</td>\n      <td>25203.200</td>\n      <td>3.281</td>\n      <td>1.433904e+12</td>\n      <td>56893.741608</td>\n    </tr>\n    <tr>\n      <th>Sweden</th>\n      <td>6131</td>\n      <td>358</td>\n      <td>205</td>\n      <td>5568</td>\n      <td>0.058392</td>\n      <td>5025.597</td>\n      <td>5010.794</td>\n      <td>10036.391</td>\n      <td>24.459</td>\n      <td>5.560865e+11</td>\n      <td>55407.017217</td>\n    </tr>\n    <tr>\n      <th>Netherlands</th>\n      <td>15821</td>\n      <td>1490</td>\n      <td>260</td>\n      <td>14071</td>\n      <td>0.094179</td>\n      <td>8514.835</td>\n      <td>8582.288</td>\n      <td>17097.123</td>\n      <td>507.032</td>\n      <td>9.136585e+11</td>\n      <td>53439.310562</td>\n    </tr>\n    <tr>\n      <th>Austria</th>\n      <td>11524</td>\n      <td>168</td>\n      <td>2022</td>\n      <td>9334</td>\n      <td>0.014578</td>\n      <td>4409.380</td>\n      <td>4545.728</td>\n      <td>8955.108</td>\n      <td>108.667</td>\n      <td>4.552858e+11</td>\n      <td>50840.907562</td>\n    </tr>\n    <tr>\n      <th>Finland</th>\n      <td>1615</td>\n      <td>20</td>\n      <td>300</td>\n      <td>1295</td>\n      <td>0.012384</td>\n      <td>2727.210</td>\n      <td>2804.949</td>\n      <td>5532.159</td>\n      <td>18.204</td>\n      <td>2.767431e+11</td>\n      <td>50024.433592</td>\n    </tr>\n    <tr>\n      <th>Germany</th>\n      <td>91159</td>\n      <td>1275</td>\n      <td>24575</td>\n      <td>65309</td>\n      <td>0.013987</td>\n      <td>41249.115</td>\n      <td>42267.931</td>\n      <td>83517.046</td>\n      <td>239.606</td>\n      <td>3.947620e+12</td>\n      <td>47267.238864</td>\n    </tr>\n    <tr>\n      <th>Belgium</th>\n      <td>16770</td>\n      <td>1143</td>\n      <td>2872</td>\n      <td>12755</td>\n      <td>0.068157</td>\n      <td>5711.479</td>\n      <td>5827.847</td>\n      <td>11539.326</td>\n      <td>381.087</td>\n      <td>5.427611e+11</td>\n      <td>47035.770729</td>\n    </tr>\n    <tr>\n      <th>Canada</th>\n      <td>12437</td>\n      <td>179</td>\n      <td>2175</td>\n      <td>0</td>\n      <td>0.014393</td>\n      <td>18563.538</td>\n      <td>18847.500</td>\n      <td>37411.038</td>\n      <td>4.114</td>\n      <td>1.713342e+12</td>\n      <td>45797.759070</td>\n    </tr>\n    <tr>\n      <th>Israel</th>\n      <td>7428</td>\n      <td>40</td>\n      <td>403</td>\n      <td>6985</td>\n      <td>0.005385</td>\n      <td>4237.327</td>\n      <td>4282.046</td>\n      <td>8519.373</td>\n      <td>393.686</td>\n      <td>3.705880e+11</td>\n      <td>43499.442641</td>\n    </tr>\n    <tr>\n      <th>New Zealand</th>\n      <td>868</td>\n      <td>1</td>\n      <td>103</td>\n      <td>764</td>\n      <td>0.001152</td>\n      <td>2351.162</td>\n      <td>2431.900</td>\n      <td>4783.062</td>\n      <td>18.165</td>\n      <td>2.049239e+11</td>\n      <td>42843.667481</td>\n    </tr>\n    <tr>\n      <th>France</th>\n      <td>65202</td>\n      <td>6520</td>\n      <td>14135</td>\n      <td>44547</td>\n      <td>0.099997</td>\n      <td>31524.494</td>\n      <td>33605.237</td>\n      <td>65129.731</td>\n      <td>118.946</td>\n      <td>2.777535e+12</td>\n      <td>42646.195472</td>\n    </tr>\n    <tr>\n      <th>United Arab Emirates</th>\n      <td>1264</td>\n      <td>9</td>\n      <td>108</td>\n      <td>1147</td>\n      <td>0.007120</td>\n      <td>6766.806</td>\n      <td>3003.720</td>\n      <td>9770.526</td>\n      <td>116.872</td>\n      <td>4.141789e+11</td>\n      <td>42390.649448</td>\n    </tr>\n    <tr>\n      <th>United Kingdom</th>\n      <td>38689</td>\n      <td>3611</td>\n      <td>208</td>\n      <td>34870</td>\n      <td>0.093334</td>\n      <td>33351.435</td>\n      <td>34178.726</td>\n      <td>67530.161</td>\n      <td>279.131</td>\n      <td>2.855297e+12</td>\n      <td>42281.799558</td>\n    </tr>\n    <tr>\n      <th>Andorra</th>\n      <td>439</td>\n      <td>16</td>\n      <td>16</td>\n      <td>407</td>\n      <td>0.036446</td>\n      <td>NaN</td>\n      <td>NaN</td>\n      <td>77.146</td>\n      <td>164.140</td>\n      <td>3.236544e+09</td>\n      <td>41953.489609</td>\n    </tr>\n    <tr>\n      <th>Japan</th>\n      <td>2617</td>\n      <td>63</td>\n      <td>514</td>\n      <td>2040</td>\n      <td>0.024073</td>\n      <td>61950.310</td>\n      <td>64909.989</td>\n      <td>126860.299</td>\n      <td>347.987</td>\n      <td>4.971323e+12</td>\n      <td>39187.382648</td>\n    </tr>\n  </tbody>\n</table>\n</div>"
     },
     "metadata": {},
     "execution_count": 34
    }
   ],
   "source": [
    "df_overview.sort_values(by = 'gdp_per_capita', ascending=False).head(25)"
   ]
  },
  {
   "cell_type": "code",
   "execution_count": 36,
   "metadata": {},
   "outputs": [
    {
     "output_type": "execute_result",
     "data": {
      "text/plain": "-0.09583896959040691"
     },
     "metadata": {},
     "execution_count": 36
    }
   ],
   "source": [
    "corr1 = df_overview.fatality_rate.corr(df_overview.gdp_per_capita)\n",
    "corr1"
   ]
  },
  {
   "cell_type": "code",
   "execution_count": null,
   "metadata": {},
   "outputs": [],
   "source": []
  }
 ],
 "metadata": {
  "kernelspec": {
   "display_name": "Python 3",
   "language": "python",
   "name": "python3"
  },
  "language_info": {
   "codemirror_mode": {
    "name": "ipython",
    "version": 3
   },
   "file_extension": ".py",
   "mimetype": "text/x-python",
   "name": "python",
   "nbconvert_exporter": "python",
   "pygments_lexer": "ipython3",
   "version": "3.7.7-final"
  }
 },
 "nbformat": 4,
 "nbformat_minor": 4
}