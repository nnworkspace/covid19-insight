{
 "cells": [
  {
   "cell_type": "markdown",
   "metadata": {},
   "source": [
    "# Covid19 and Population Data and GDP Data Joined"
   ]
  },
  {
   "cell_type": "code",
   "execution_count": 2,
   "metadata": {},
   "outputs": [
    {
     "output_type": "stream",
     "name": "stdout",
     "text": "pandas version:  1.0.3\nnumpy version:  1.18.1\n"
    }
   ],
   "source": [
    "import pandas as pd\n",
    "import numpy as np\n",
    "\n",
    "print('pandas version: ', pd.__version__)\n",
    "print('numpy version: ', np.version.version)"
   ]
  },
  {
   "cell_type": "code",
   "execution_count": 3,
   "metadata": {},
   "outputs": [
    {
     "output_type": "execute_result",
     "data": {
      "text/plain": "                    Confirmed  Deaths  Recovered  Active  fatality_rate\nCountry_Region                                                         \nAfghanistan              2171      64        260    1847       0.029480\nAlbania                   773      31        470     272       0.040103\nAlgeria                  4006     450       1779    1777       0.112332\nAndorra                   745      42        468     235       0.056376\nAngola                     27       2          7      18       0.074074\n...                       ...     ...        ...     ...            ...\nWest Bank and Gaza        344       2         76     266       0.005814\nWestern Sahara              6       0          5       1       0.000000\nYemen                       6       2          1       3       0.333333\nZambia                    106       3         55      48       0.028302\nZimbabwe                   40       4          5      31       0.100000\n\n[187 rows x 5 columns]",
      "text/html": "<div>\n<style scoped>\n    .dataframe tbody tr th:only-of-type {\n        vertical-align: middle;\n    }\n\n    .dataframe tbody tr th {\n        vertical-align: top;\n    }\n\n    .dataframe thead th {\n        text-align: right;\n    }\n</style>\n<table border=\"1\" class=\"dataframe\">\n  <thead>\n    <tr style=\"text-align: right;\">\n      <th></th>\n      <th>Confirmed</th>\n      <th>Deaths</th>\n      <th>Recovered</th>\n      <th>Active</th>\n      <th>fatality_rate</th>\n    </tr>\n    <tr>\n      <th>Country_Region</th>\n      <th></th>\n      <th></th>\n      <th></th>\n      <th></th>\n      <th></th>\n    </tr>\n  </thead>\n  <tbody>\n    <tr>\n      <th>Afghanistan</th>\n      <td>2171</td>\n      <td>64</td>\n      <td>260</td>\n      <td>1847</td>\n      <td>0.029480</td>\n    </tr>\n    <tr>\n      <th>Albania</th>\n      <td>773</td>\n      <td>31</td>\n      <td>470</td>\n      <td>272</td>\n      <td>0.040103</td>\n    </tr>\n    <tr>\n      <th>Algeria</th>\n      <td>4006</td>\n      <td>450</td>\n      <td>1779</td>\n      <td>1777</td>\n      <td>0.112332</td>\n    </tr>\n    <tr>\n      <th>Andorra</th>\n      <td>745</td>\n      <td>42</td>\n      <td>468</td>\n      <td>235</td>\n      <td>0.056376</td>\n    </tr>\n    <tr>\n      <th>Angola</th>\n      <td>27</td>\n      <td>2</td>\n      <td>7</td>\n      <td>18</td>\n      <td>0.074074</td>\n    </tr>\n    <tr>\n      <th>...</th>\n      <td>...</td>\n      <td>...</td>\n      <td>...</td>\n      <td>...</td>\n      <td>...</td>\n    </tr>\n    <tr>\n      <th>West Bank and Gaza</th>\n      <td>344</td>\n      <td>2</td>\n      <td>76</td>\n      <td>266</td>\n      <td>0.005814</td>\n    </tr>\n    <tr>\n      <th>Western Sahara</th>\n      <td>6</td>\n      <td>0</td>\n      <td>5</td>\n      <td>1</td>\n      <td>0.000000</td>\n    </tr>\n    <tr>\n      <th>Yemen</th>\n      <td>6</td>\n      <td>2</td>\n      <td>1</td>\n      <td>3</td>\n      <td>0.333333</td>\n    </tr>\n    <tr>\n      <th>Zambia</th>\n      <td>106</td>\n      <td>3</td>\n      <td>55</td>\n      <td>48</td>\n      <td>0.028302</td>\n    </tr>\n    <tr>\n      <th>Zimbabwe</th>\n      <td>40</td>\n      <td>4</td>\n      <td>5</td>\n      <td>31</td>\n      <td>0.100000</td>\n    </tr>\n  </tbody>\n</table>\n<p>187 rows × 5 columns</p>\n</div>"
     },
     "metadata": {},
     "execution_count": 3
    }
   ],
   "source": [
    "# prepare the covid dataframe from covid data of Johns Hopkins University\n",
    "\n",
    "df_covid = pd.read_csv('data/2020-04-30.csv')\n",
    "\n",
    "# construct a dataframe with six columns: \n",
    "# Country_Region (index), Confirmed, Deaths, Recovered, Active\n",
    "df_covid = df_covid.groupby('Country_Region').agg({'Confirmed': np.sum, 'Deaths': np.sum, 'Recovered': np.sum, 'Active': np.sum})\n",
    "\n",
    "df_covid['fatality_rate'] = df_covid.Deaths / df_covid.Confirmed\n",
    "\n",
    "df_covid"
   ]
  },
  {
   "cell_type": "code",
   "execution_count": 4,
   "metadata": {},
   "outputs": [
    {
     "output_type": "execute_result",
     "data": {
      "text/plain": "                                            Location      PopMale  \\\n69                                       Afghanistan    19529.727   \n953                                           Africa   653513.680   \n1837                                   African Group   652644.714   \n1988                                   African Union   652949.469   \n2139                   African Union: Central Africa    76945.498   \n...                                              ...          ...   \n277314                                         World  3889034.611   \n278198  World Bank Regional Groups (developing only)  3261387.881   \n278349                                         Yemen    14692.284   \n279233                                        Zambia     8843.214   \n280117                                      Zimbabwe     6983.353   \n\n          PopFemale     PopTotal  PopDensity  \n69        18512.030    38041.757      58.269  \n953      654550.496  1308064.176      44.119  \n1837     653675.858  1306320.572      44.464  \n1988     653953.561  1306903.030      44.085  \n2139      77068.207   154013.705      29.192  \n...             ...          ...         ...  \n277314  3824433.594  7713468.205      59.291  \n278198  3191129.174  6452517.055      70.258  \n278349    14469.638    29161.922      55.234  \n279233     9017.820    17861.034      24.026  \n280117     7662.120    14645.473      37.858  \n\n[477 rows x 5 columns]",
      "text/html": "<div>\n<style scoped>\n    .dataframe tbody tr th:only-of-type {\n        vertical-align: middle;\n    }\n\n    .dataframe tbody tr th {\n        vertical-align: top;\n    }\n\n    .dataframe thead th {\n        text-align: right;\n    }\n</style>\n<table border=\"1\" class=\"dataframe\">\n  <thead>\n    <tr style=\"text-align: right;\">\n      <th></th>\n      <th>Location</th>\n      <th>PopMale</th>\n      <th>PopFemale</th>\n      <th>PopTotal</th>\n      <th>PopDensity</th>\n    </tr>\n  </thead>\n  <tbody>\n    <tr>\n      <th>69</th>\n      <td>Afghanistan</td>\n      <td>19529.727</td>\n      <td>18512.030</td>\n      <td>38041.757</td>\n      <td>58.269</td>\n    </tr>\n    <tr>\n      <th>953</th>\n      <td>Africa</td>\n      <td>653513.680</td>\n      <td>654550.496</td>\n      <td>1308064.176</td>\n      <td>44.119</td>\n    </tr>\n    <tr>\n      <th>1837</th>\n      <td>African Group</td>\n      <td>652644.714</td>\n      <td>653675.858</td>\n      <td>1306320.572</td>\n      <td>44.464</td>\n    </tr>\n    <tr>\n      <th>1988</th>\n      <td>African Union</td>\n      <td>652949.469</td>\n      <td>653953.561</td>\n      <td>1306903.030</td>\n      <td>44.085</td>\n    </tr>\n    <tr>\n      <th>2139</th>\n      <td>African Union: Central Africa</td>\n      <td>76945.498</td>\n      <td>77068.207</td>\n      <td>154013.705</td>\n      <td>29.192</td>\n    </tr>\n    <tr>\n      <th>...</th>\n      <td>...</td>\n      <td>...</td>\n      <td>...</td>\n      <td>...</td>\n      <td>...</td>\n    </tr>\n    <tr>\n      <th>277314</th>\n      <td>World</td>\n      <td>3889034.611</td>\n      <td>3824433.594</td>\n      <td>7713468.205</td>\n      <td>59.291</td>\n    </tr>\n    <tr>\n      <th>278198</th>\n      <td>World Bank Regional Groups (developing only)</td>\n      <td>3261387.881</td>\n      <td>3191129.174</td>\n      <td>6452517.055</td>\n      <td>70.258</td>\n    </tr>\n    <tr>\n      <th>278349</th>\n      <td>Yemen</td>\n      <td>14692.284</td>\n      <td>14469.638</td>\n      <td>29161.922</td>\n      <td>55.234</td>\n    </tr>\n    <tr>\n      <th>279233</th>\n      <td>Zambia</td>\n      <td>8843.214</td>\n      <td>9017.820</td>\n      <td>17861.034</td>\n      <td>24.026</td>\n    </tr>\n    <tr>\n      <th>280117</th>\n      <td>Zimbabwe</td>\n      <td>6983.353</td>\n      <td>7662.120</td>\n      <td>14645.473</td>\n      <td>37.858</td>\n    </tr>\n  </tbody>\n</table>\n<p>477 rows × 5 columns</p>\n</div>"
     },
     "metadata": {},
     "execution_count": 4
    }
   ],
   "source": [
    "# prepare the population dataframe from population data of united nations.\n",
    "# The population columns are all in thousand persons. \n",
    "population = pd.read_csv('data/WPP2019_TotalPopulationBySex.csv')\n",
    "pop2019 = population[population.Time == 2019]\n",
    "\n",
    "pop2019.Location.replace(\n",
    "    {'Bolivia (Plurinational State of)':'Bolivia',\n",
    "    'Brunei Darussalam':'Brunei', \n",
    "    'Myanmar': 'Burma', \n",
    "    'Congo':'Congo (Brazzaville)', \n",
    "    'Democratic Republic of the Congo':'Congo (Kinshasa)', \n",
    "    'Côte d\\'Ivoire':'Cote d\\'Ivoire', \n",
    "    'Iran (Islamic Republic of)':'Iran', \n",
    "    'Republic of Korea':'Korea, South', \n",
    "    'Lao People\\'s Democratic Republic':'Laos', \n",
    "    'Republic of Moldova':'Moldova', \n",
    "    'Russian Federation':'Russia', \n",
    "    'Syrian Arab Republic':'Syria', \n",
    "    'China, Taiwan Province of China':'Taiwan*', \n",
    "    'United Republic of Tanzania':'Tanzania', \n",
    "    'United States of America':'US', \n",
    "    'Venezuela (Bolivarian Republic of)':'Venezuela', \n",
    "    'Viet Nam':'Vietnam', \n",
    "    'State of Palestine':'West Bank and Gaza'}, inplace=True)\n",
    "\n",
    "df_pop2019 = pop2019.drop(columns=['LocID','VarID','Variant','Time','MidPeriod'])\n",
    "df_pop2019"
   ]
  },
  {
   "cell_type": "code",
   "execution_count": 5,
   "metadata": {},
   "outputs": [
    {
     "output_type": "execute_result",
     "data": {
      "text/plain": "  Country Name Country Code     Indicator Name  Indicator Code          1960  \\\n0        Aruba          ABW  GDP (current US$)  NY.GDP.MKTP.CD           NaN   \n1  Afghanistan          AFG  GDP (current US$)  NY.GDP.MKTP.CD  5.377778e+08   \n2       Angola          AGO  GDP (current US$)  NY.GDP.MKTP.CD           NaN   \n3      Albania          ALB  GDP (current US$)  NY.GDP.MKTP.CD           NaN   \n4      Andorra          AND  GDP (current US$)  NY.GDP.MKTP.CD           NaN   \n\n           1961          1962          1963          1964          1965  ...  \\\n0           NaN           NaN           NaN           NaN           NaN  ...   \n1  5.488889e+08  5.466667e+08  7.511112e+08  8.000000e+08  1.006667e+09  ...   \n2           NaN           NaN           NaN           NaN           NaN  ...   \n3           NaN           NaN           NaN           NaN           NaN  ...   \n4           NaN           NaN           NaN           NaN           NaN  ...   \n\n           2011          2012          2013          2014          2015  \\\n0  2.549721e+09  2.534637e+09  2.581564e+09  2.649721e+09  2.691620e+09   \n1  1.780428e+10  2.000162e+10  2.056105e+10  2.048487e+10  1.990711e+10   \n2  1.117897e+11  1.280529e+11  1.367099e+11  1.457122e+11  1.161936e+11   \n3  1.289087e+10  1.231978e+10  1.277628e+10  1.322824e+10  1.138693e+10   \n4  3.442063e+09  3.164615e+09  3.281585e+09  3.350736e+09  2.811489e+09   \n\n           2016          2017          2018  2019  Unnamed: 64  \n0  2.646927e+09  2.700559e+09           NaN   NaN          NaN  \n1  1.936264e+10  2.019176e+10  1.936297e+10   NaN          NaN  \n2  1.011239e+11  1.221238e+11  1.057510e+11   NaN          NaN  \n3  1.186135e+10  1.302506e+10  1.510250e+10   NaN          NaN  \n4  2.877312e+09  3.013387e+09  3.236544e+09   NaN          NaN  \n\n[5 rows x 65 columns]",
      "text/html": "<div>\n<style scoped>\n    .dataframe tbody tr th:only-of-type {\n        vertical-align: middle;\n    }\n\n    .dataframe tbody tr th {\n        vertical-align: top;\n    }\n\n    .dataframe thead th {\n        text-align: right;\n    }\n</style>\n<table border=\"1\" class=\"dataframe\">\n  <thead>\n    <tr style=\"text-align: right;\">\n      <th></th>\n      <th>Country Name</th>\n      <th>Country Code</th>\n      <th>Indicator Name</th>\n      <th>Indicator Code</th>\n      <th>1960</th>\n      <th>1961</th>\n      <th>1962</th>\n      <th>1963</th>\n      <th>1964</th>\n      <th>1965</th>\n      <th>...</th>\n      <th>2011</th>\n      <th>2012</th>\n      <th>2013</th>\n      <th>2014</th>\n      <th>2015</th>\n      <th>2016</th>\n      <th>2017</th>\n      <th>2018</th>\n      <th>2019</th>\n      <th>Unnamed: 64</th>\n    </tr>\n  </thead>\n  <tbody>\n    <tr>\n      <th>0</th>\n      <td>Aruba</td>\n      <td>ABW</td>\n      <td>GDP (current US$)</td>\n      <td>NY.GDP.MKTP.CD</td>\n      <td>NaN</td>\n      <td>NaN</td>\n      <td>NaN</td>\n      <td>NaN</td>\n      <td>NaN</td>\n      <td>NaN</td>\n      <td>...</td>\n      <td>2.549721e+09</td>\n      <td>2.534637e+09</td>\n      <td>2.581564e+09</td>\n      <td>2.649721e+09</td>\n      <td>2.691620e+09</td>\n      <td>2.646927e+09</td>\n      <td>2.700559e+09</td>\n      <td>NaN</td>\n      <td>NaN</td>\n      <td>NaN</td>\n    </tr>\n    <tr>\n      <th>1</th>\n      <td>Afghanistan</td>\n      <td>AFG</td>\n      <td>GDP (current US$)</td>\n      <td>NY.GDP.MKTP.CD</td>\n      <td>5.377778e+08</td>\n      <td>5.488889e+08</td>\n      <td>5.466667e+08</td>\n      <td>7.511112e+08</td>\n      <td>8.000000e+08</td>\n      <td>1.006667e+09</td>\n      <td>...</td>\n      <td>1.780428e+10</td>\n      <td>2.000162e+10</td>\n      <td>2.056105e+10</td>\n      <td>2.048487e+10</td>\n      <td>1.990711e+10</td>\n      <td>1.936264e+10</td>\n      <td>2.019176e+10</td>\n      <td>1.936297e+10</td>\n      <td>NaN</td>\n      <td>NaN</td>\n    </tr>\n    <tr>\n      <th>2</th>\n      <td>Angola</td>\n      <td>AGO</td>\n      <td>GDP (current US$)</td>\n      <td>NY.GDP.MKTP.CD</td>\n      <td>NaN</td>\n      <td>NaN</td>\n      <td>NaN</td>\n      <td>NaN</td>\n      <td>NaN</td>\n      <td>NaN</td>\n      <td>...</td>\n      <td>1.117897e+11</td>\n      <td>1.280529e+11</td>\n      <td>1.367099e+11</td>\n      <td>1.457122e+11</td>\n      <td>1.161936e+11</td>\n      <td>1.011239e+11</td>\n      <td>1.221238e+11</td>\n      <td>1.057510e+11</td>\n      <td>NaN</td>\n      <td>NaN</td>\n    </tr>\n    <tr>\n      <th>3</th>\n      <td>Albania</td>\n      <td>ALB</td>\n      <td>GDP (current US$)</td>\n      <td>NY.GDP.MKTP.CD</td>\n      <td>NaN</td>\n      <td>NaN</td>\n      <td>NaN</td>\n      <td>NaN</td>\n      <td>NaN</td>\n      <td>NaN</td>\n      <td>...</td>\n      <td>1.289087e+10</td>\n      <td>1.231978e+10</td>\n      <td>1.277628e+10</td>\n      <td>1.322824e+10</td>\n      <td>1.138693e+10</td>\n      <td>1.186135e+10</td>\n      <td>1.302506e+10</td>\n      <td>1.510250e+10</td>\n      <td>NaN</td>\n      <td>NaN</td>\n    </tr>\n    <tr>\n      <th>4</th>\n      <td>Andorra</td>\n      <td>AND</td>\n      <td>GDP (current US$)</td>\n      <td>NY.GDP.MKTP.CD</td>\n      <td>NaN</td>\n      <td>NaN</td>\n      <td>NaN</td>\n      <td>NaN</td>\n      <td>NaN</td>\n      <td>NaN</td>\n      <td>...</td>\n      <td>3.442063e+09</td>\n      <td>3.164615e+09</td>\n      <td>3.281585e+09</td>\n      <td>3.350736e+09</td>\n      <td>2.811489e+09</td>\n      <td>2.877312e+09</td>\n      <td>3.013387e+09</td>\n      <td>3.236544e+09</td>\n      <td>NaN</td>\n      <td>NaN</td>\n    </tr>\n  </tbody>\n</table>\n<p>5 rows × 65 columns</p>\n</div>"
     },
     "metadata": {},
     "execution_count": 5
    }
   ],
   "source": [
    "# prepare the gdp dataframe from gdp data of world bank.\n",
    "gdp = pd.read_csv('data/gdp_world_bank/gdp_world_bank.csv', skiprows=4)\n",
    "gdp.head()"
   ]
  },
  {
   "cell_type": "code",
   "execution_count": 6,
   "metadata": {},
   "outputs": [
    {
     "output_type": "execute_result",
     "data": {
      "text/plain": "     Country Name          2018\n0           Aruba           NaN\n1     Afghanistan  1.936297e+10\n2          Angola  1.057510e+11\n3         Albania  1.510250e+10\n4         Andorra  3.236544e+09\n..            ...           ...\n259        Kosovo  7.938991e+09\n260   Yemen, Rep.  2.691440e+10\n261  South Africa  3.682889e+11\n262        Zambia  2.672007e+10\n263      Zimbabwe  3.100052e+10\n\n[264 rows x 2 columns]",
      "text/html": "<div>\n<style scoped>\n    .dataframe tbody tr th:only-of-type {\n        vertical-align: middle;\n    }\n\n    .dataframe tbody tr th {\n        vertical-align: top;\n    }\n\n    .dataframe thead th {\n        text-align: right;\n    }\n</style>\n<table border=\"1\" class=\"dataframe\">\n  <thead>\n    <tr style=\"text-align: right;\">\n      <th></th>\n      <th>Country Name</th>\n      <th>2018</th>\n    </tr>\n  </thead>\n  <tbody>\n    <tr>\n      <th>0</th>\n      <td>Aruba</td>\n      <td>NaN</td>\n    </tr>\n    <tr>\n      <th>1</th>\n      <td>Afghanistan</td>\n      <td>1.936297e+10</td>\n    </tr>\n    <tr>\n      <th>2</th>\n      <td>Angola</td>\n      <td>1.057510e+11</td>\n    </tr>\n    <tr>\n      <th>3</th>\n      <td>Albania</td>\n      <td>1.510250e+10</td>\n    </tr>\n    <tr>\n      <th>4</th>\n      <td>Andorra</td>\n      <td>3.236544e+09</td>\n    </tr>\n    <tr>\n      <th>...</th>\n      <td>...</td>\n      <td>...</td>\n    </tr>\n    <tr>\n      <th>259</th>\n      <td>Kosovo</td>\n      <td>7.938991e+09</td>\n    </tr>\n    <tr>\n      <th>260</th>\n      <td>Yemen, Rep.</td>\n      <td>2.691440e+10</td>\n    </tr>\n    <tr>\n      <th>261</th>\n      <td>South Africa</td>\n      <td>3.682889e+11</td>\n    </tr>\n    <tr>\n      <th>262</th>\n      <td>Zambia</td>\n      <td>2.672007e+10</td>\n    </tr>\n    <tr>\n      <th>263</th>\n      <td>Zimbabwe</td>\n      <td>3.100052e+10</td>\n    </tr>\n  </tbody>\n</table>\n<p>264 rows × 2 columns</p>\n</div>"
     },
     "metadata": {},
     "execution_count": 6
    }
   ],
   "source": [
    "df_gdp = gdp[['Country Name', '2018']]\n",
    "df_gdp"
   ]
  },
  {
   "cell_type": "code",
   "execution_count": 7,
   "metadata": {},
   "outputs": [],
   "source": [
    "df_gdp.rename(columns={\"Country Name\": \"Location\"}, errors=\"raise\", inplace=True)"
   ]
  },
  {
   "cell_type": "code",
   "execution_count": 8,
   "metadata": {},
   "outputs": [
    {
     "output_type": "execute_result",
     "data": {
      "text/plain": "Index(['Bahamas', 'Brunei', 'Burma', 'Congo (Brazzaville)', 'Congo (Kinshasa)',\n       'Czechia', 'Diamond Princess', 'Egypt', 'Gambia', 'Holy See', 'Iran',\n       'Korea, South', 'Kyrgyzstan', 'Laos', 'MS Zaandam', 'Russia',\n       'Saint Kitts and Nevis', 'Saint Lucia',\n       'Saint Vincent and the Grenadines', 'Slovakia', 'Syria', 'Taiwan*',\n       'US', 'Venezuela', 'Western Sahara', 'Yemen'],\n      dtype='object', name='Country_Region')"
     },
     "metadata": {},
     "execution_count": 8
    }
   ],
   "source": [
    "countries_covid19_only = df_covid[~df_covid.index.isin(df_gdp.Location)]\n",
    "countries_covid19_only.index"
   ]
  },
  {
   "cell_type": "code",
   "execution_count": 9,
   "metadata": {},
   "outputs": [
    {
     "output_type": "execute_result",
     "data": {
      "text/plain": "26"
     },
     "metadata": {},
     "execution_count": 9
    }
   ],
   "source": [
    "len(countries_covid19_only)"
   ]
  },
  {
   "cell_type": "code",
   "execution_count": 10,
   "metadata": {},
   "outputs": [
    {
     "output_type": "execute_result",
     "data": {
      "text/plain": "        Location          2018\n260  Yemen, Rep.  2.691440e+10",
      "text/html": "<div>\n<style scoped>\n    .dataframe tbody tr th:only-of-type {\n        vertical-align: middle;\n    }\n\n    .dataframe tbody tr th {\n        vertical-align: top;\n    }\n\n    .dataframe thead th {\n        text-align: right;\n    }\n</style>\n<table border=\"1\" class=\"dataframe\">\n  <thead>\n    <tr style=\"text-align: right;\">\n      <th></th>\n      <th>Location</th>\n      <th>2018</th>\n    </tr>\n  </thead>\n  <tbody>\n    <tr>\n      <th>260</th>\n      <td>Yemen, Rep.</td>\n      <td>2.691440e+10</td>\n    </tr>\n  </tbody>\n</table>\n</div>"
     },
     "metadata": {},
     "execution_count": 10
    }
   ],
   "source": [
    "df_gdp[df_gdp.Location.str.contains('Yemen')]"
   ]
  },
  {
   "cell_type": "code",
   "execution_count": 11,
   "metadata": {},
   "outputs": [
    {
     "output_type": "execute_result",
     "data": {
      "text/plain": "Empty DataFrame\nColumns: [Confirmed, Deaths, Recovered, Active, fatality_rate]\nIndex: []",
      "text/html": "<div>\n<style scoped>\n    .dataframe tbody tr th:only-of-type {\n        vertical-align: middle;\n    }\n\n    .dataframe tbody tr th {\n        vertical-align: top;\n    }\n\n    .dataframe thead th {\n        text-align: right;\n    }\n</style>\n<table border=\"1\" class=\"dataframe\">\n  <thead>\n    <tr style=\"text-align: right;\">\n      <th></th>\n      <th>Confirmed</th>\n      <th>Deaths</th>\n      <th>Recovered</th>\n      <th>Active</th>\n      <th>fatality_rate</th>\n    </tr>\n    <tr>\n      <th>Country_Region</th>\n      <th></th>\n      <th></th>\n      <th></th>\n      <th></th>\n      <th></th>\n    </tr>\n  </thead>\n  <tbody>\n  </tbody>\n</table>\n</div>"
     },
     "metadata": {},
     "execution_count": 11
    }
   ],
   "source": [
    "df_covid[df_covid.index.str.contains('Macao')]"
   ]
  },
  {
   "cell_type": "code",
   "execution_count": 12,
   "metadata": {},
   "outputs": [],
   "source": [
    "df_gdp.Location.replace(\n",
    "    {'Bahamas, The':'Bahamas', \n",
    "    'Brunei Darussalam':'Brunei', \n",
    "    'Myanmar': 'Burma', \n",
    "    'Congo, Rep.':'Congo (Brazzaville)', \n",
    "    'Congo, Dem. Rep.':'Congo (Kinshasa)', \n",
    "    'Czech Republic':'Czechia', \n",
    "    'Egypt, Arab Rep.':'Egypt',\n",
    "    'Gambia, The':'Gambia',\n",
    "    'Iran, Islamic Rep.':'Iran',\n",
    "    'Korea, Rep.':'Korea, Rep.',\n",
    "    'Kyrgyz Republic':'Kyrgyzstan',\n",
    "    'Lao PDR':'Laos',\n",
    "    'Russian Federation':'Russia',\n",
    "    'St. Kitts and Nevis':'Saint Kitts and Nevis',\n",
    "    'St. Lucia':'Saint Lucia',\n",
    "    'St. Vincent and the Grenadines':'Saint Vincent and the Grenadines',\n",
    "    'Slovak Republic':'Slovakia',\n",
    "    'Syrian Arab Republic':'Syria',\n",
    "    'United States':'US',\n",
    "    'Venezuela, RB':'Venezuela',\n",
    "    'Yemen, Rep.':'Yemen'}, inplace=True)"
   ]
  },
  {
   "cell_type": "code",
   "execution_count": 13,
   "metadata": {},
   "outputs": [
    {
     "output_type": "execute_result",
     "data": {
      "text/plain": "   Confirmed  Deaths  Recovered  Active  fatality_rate     Location  \\\n0       2171      64        260    1847       0.029480  Afghanistan   \n1        773      31        470     272       0.040103      Albania   \n2       4006     450       1779    1777       0.112332      Algeria   \n3        745      42        468     235       0.056376      Andorra   \n4         27       2          7      18       0.074074       Angola   \n\n     PopMale  PopFemale   PopTotal  PopDensity  \n0  19529.727  18512.030  38041.757      58.269  \n1   1466.785   1414.128   2880.913     105.143  \n2  21749.666  21303.388  43053.054      18.076  \n3        NaN        NaN     77.146     164.140  \n4  15744.779  16080.520  31825.299      25.528  ",
      "text/html": "<div>\n<style scoped>\n    .dataframe tbody tr th:only-of-type {\n        vertical-align: middle;\n    }\n\n    .dataframe tbody tr th {\n        vertical-align: top;\n    }\n\n    .dataframe thead th {\n        text-align: right;\n    }\n</style>\n<table border=\"1\" class=\"dataframe\">\n  <thead>\n    <tr style=\"text-align: right;\">\n      <th></th>\n      <th>Confirmed</th>\n      <th>Deaths</th>\n      <th>Recovered</th>\n      <th>Active</th>\n      <th>fatality_rate</th>\n      <th>Location</th>\n      <th>PopMale</th>\n      <th>PopFemale</th>\n      <th>PopTotal</th>\n      <th>PopDensity</th>\n    </tr>\n  </thead>\n  <tbody>\n    <tr>\n      <th>0</th>\n      <td>2171</td>\n      <td>64</td>\n      <td>260</td>\n      <td>1847</td>\n      <td>0.029480</td>\n      <td>Afghanistan</td>\n      <td>19529.727</td>\n      <td>18512.030</td>\n      <td>38041.757</td>\n      <td>58.269</td>\n    </tr>\n    <tr>\n      <th>1</th>\n      <td>773</td>\n      <td>31</td>\n      <td>470</td>\n      <td>272</td>\n      <td>0.040103</td>\n      <td>Albania</td>\n      <td>1466.785</td>\n      <td>1414.128</td>\n      <td>2880.913</td>\n      <td>105.143</td>\n    </tr>\n    <tr>\n      <th>2</th>\n      <td>4006</td>\n      <td>450</td>\n      <td>1779</td>\n      <td>1777</td>\n      <td>0.112332</td>\n      <td>Algeria</td>\n      <td>21749.666</td>\n      <td>21303.388</td>\n      <td>43053.054</td>\n      <td>18.076</td>\n    </tr>\n    <tr>\n      <th>3</th>\n      <td>745</td>\n      <td>42</td>\n      <td>468</td>\n      <td>235</td>\n      <td>0.056376</td>\n      <td>Andorra</td>\n      <td>NaN</td>\n      <td>NaN</td>\n      <td>77.146</td>\n      <td>164.140</td>\n    </tr>\n    <tr>\n      <th>4</th>\n      <td>27</td>\n      <td>2</td>\n      <td>7</td>\n      <td>18</td>\n      <td>0.074074</td>\n      <td>Angola</td>\n      <td>15744.779</td>\n      <td>16080.520</td>\n      <td>31825.299</td>\n      <td>25.528</td>\n    </tr>\n  </tbody>\n</table>\n</div>"
     },
     "metadata": {},
     "execution_count": 13
    }
   ],
   "source": [
    "# now join the covid and population data frames\n",
    "\n",
    "df_covid19_pop2019 = pd.merge(df_covid, df_pop2019, how='inner', left_on='Country_Region', right_on='Location')\n",
    "df_covid19_pop2019.head()"
   ]
  },
  {
   "cell_type": "code",
   "execution_count": 14,
   "metadata": {},
   "outputs": [
    {
     "output_type": "execute_result",
     "data": {
      "text/plain": "(184, 10)"
     },
     "metadata": {},
     "execution_count": 14
    }
   ],
   "source": [
    "df_covid19_pop2019.shape"
   ]
  },
  {
   "cell_type": "code",
   "execution_count": 15,
   "metadata": {},
   "outputs": [
    {
     "output_type": "execute_result",
     "data": {
      "text/plain": "   Confirmed  Deaths  Recovered  Active  fatality_rate     Location  \\\n0       2171      64        260    1847       0.029480  Afghanistan   \n1        773      31        470     272       0.040103      Albania   \n2       4006     450       1779    1777       0.112332      Algeria   \n3        745      42        468     235       0.056376      Andorra   \n4         27       2          7      18       0.074074       Angola   \n\n     PopMale  PopFemale   PopTotal  PopDensity          2018  \n0  19529.727  18512.030  38041.757      58.269  1.936297e+10  \n1   1466.785   1414.128   2880.913     105.143  1.510250e+10  \n2  21749.666  21303.388  43053.054      18.076  1.737580e+11  \n3        NaN        NaN     77.146     164.140  3.236544e+09  \n4  15744.779  16080.520  31825.299      25.528  1.057510e+11  ",
      "text/html": "<div>\n<style scoped>\n    .dataframe tbody tr th:only-of-type {\n        vertical-align: middle;\n    }\n\n    .dataframe tbody tr th {\n        vertical-align: top;\n    }\n\n    .dataframe thead th {\n        text-align: right;\n    }\n</style>\n<table border=\"1\" class=\"dataframe\">\n  <thead>\n    <tr style=\"text-align: right;\">\n      <th></th>\n      <th>Confirmed</th>\n      <th>Deaths</th>\n      <th>Recovered</th>\n      <th>Active</th>\n      <th>fatality_rate</th>\n      <th>Location</th>\n      <th>PopMale</th>\n      <th>PopFemale</th>\n      <th>PopTotal</th>\n      <th>PopDensity</th>\n      <th>2018</th>\n    </tr>\n  </thead>\n  <tbody>\n    <tr>\n      <th>0</th>\n      <td>2171</td>\n      <td>64</td>\n      <td>260</td>\n      <td>1847</td>\n      <td>0.029480</td>\n      <td>Afghanistan</td>\n      <td>19529.727</td>\n      <td>18512.030</td>\n      <td>38041.757</td>\n      <td>58.269</td>\n      <td>1.936297e+10</td>\n    </tr>\n    <tr>\n      <th>1</th>\n      <td>773</td>\n      <td>31</td>\n      <td>470</td>\n      <td>272</td>\n      <td>0.040103</td>\n      <td>Albania</td>\n      <td>1466.785</td>\n      <td>1414.128</td>\n      <td>2880.913</td>\n      <td>105.143</td>\n      <td>1.510250e+10</td>\n    </tr>\n    <tr>\n      <th>2</th>\n      <td>4006</td>\n      <td>450</td>\n      <td>1779</td>\n      <td>1777</td>\n      <td>0.112332</td>\n      <td>Algeria</td>\n      <td>21749.666</td>\n      <td>21303.388</td>\n      <td>43053.054</td>\n      <td>18.076</td>\n      <td>1.737580e+11</td>\n    </tr>\n    <tr>\n      <th>3</th>\n      <td>745</td>\n      <td>42</td>\n      <td>468</td>\n      <td>235</td>\n      <td>0.056376</td>\n      <td>Andorra</td>\n      <td>NaN</td>\n      <td>NaN</td>\n      <td>77.146</td>\n      <td>164.140</td>\n      <td>3.236544e+09</td>\n    </tr>\n    <tr>\n      <th>4</th>\n      <td>27</td>\n      <td>2</td>\n      <td>7</td>\n      <td>18</td>\n      <td>0.074074</td>\n      <td>Angola</td>\n      <td>15744.779</td>\n      <td>16080.520</td>\n      <td>31825.299</td>\n      <td>25.528</td>\n      <td>1.057510e+11</td>\n    </tr>\n  </tbody>\n</table>\n</div>"
     },
     "metadata": {},
     "execution_count": 15
    }
   ],
   "source": [
    "# locations that are in the covid19 dataset but not in population or gdp datasets:\n",
    "# Diamond Princess, Ms Zaandam, Kosovo, Taiwan, Holy See.\n",
    "\n",
    "df_overview = pd.merge(df_covid19_pop2019, df_gdp, how='inner', left_on='Location', right_on='Location')\n",
    "df_overview.head()"
   ]
  },
  {
   "cell_type": "code",
   "execution_count": 16,
   "metadata": {},
   "outputs": [
    {
     "output_type": "execute_result",
     "data": {
      "text/plain": "(180, 11)"
     },
     "metadata": {},
     "execution_count": 16
    }
   ],
   "source": [
    "df_overview.shape"
   ]
  },
  {
   "cell_type": "code",
   "execution_count": 17,
   "metadata": {},
   "outputs": [
    {
     "output_type": "execute_result",
     "data": {
      "text/plain": "     Confirmed  Deaths  Recovered  Active  fatality_rate            Location  \\\n0         2171      64        260    1847       0.029480         Afghanistan   \n1          773      31        470     272       0.040103             Albania   \n2         4006     450       1779    1777       0.112332             Algeria   \n3          745      42        468     235       0.056376             Andorra   \n4           27       2          7      18       0.074074              Angola   \n..         ...     ...        ...     ...            ...                 ...   \n175        270       0        219      51       0.000000             Vietnam   \n176        344       2         76     266       0.005814  West Bank and Gaza   \n177          6       2          1       3       0.333333               Yemen   \n178        106       3         55      48       0.028302              Zambia   \n179         40       4          5      31       0.100000            Zimbabwe   \n\n       PopMale  PopFemale   PopTotal  PopDensity      gdp_2018  \n0    19529.727  18512.030  38041.757      58.269  1.936297e+10  \n1     1466.785   1414.128   2880.913     105.143  1.510250e+10  \n2    21749.666  21303.388  43053.054      18.076  1.737580e+11  \n3          NaN        NaN     77.146     164.140  3.236544e+09  \n4    15744.779  16080.520  31825.299      25.528  1.057510e+11  \n..         ...        ...        ...         ...           ...  \n175  48151.352  48310.756  96462.108     311.098  2.452137e+11  \n176   2526.350   2455.072   4981.422     827.479  1.461590e+10  \n177  14692.284  14469.638  29161.922      55.234  2.691440e+10  \n178   8843.214   9017.820  17861.034      24.026  2.672007e+10  \n179   6983.353   7662.120  14645.473      37.858  3.100052e+10  \n\n[180 rows x 11 columns]",
      "text/html": "<div>\n<style scoped>\n    .dataframe tbody tr th:only-of-type {\n        vertical-align: middle;\n    }\n\n    .dataframe tbody tr th {\n        vertical-align: top;\n    }\n\n    .dataframe thead th {\n        text-align: right;\n    }\n</style>\n<table border=\"1\" class=\"dataframe\">\n  <thead>\n    <tr style=\"text-align: right;\">\n      <th></th>\n      <th>Confirmed</th>\n      <th>Deaths</th>\n      <th>Recovered</th>\n      <th>Active</th>\n      <th>fatality_rate</th>\n      <th>Location</th>\n      <th>PopMale</th>\n      <th>PopFemale</th>\n      <th>PopTotal</th>\n      <th>PopDensity</th>\n      <th>gdp_2018</th>\n    </tr>\n  </thead>\n  <tbody>\n    <tr>\n      <th>0</th>\n      <td>2171</td>\n      <td>64</td>\n      <td>260</td>\n      <td>1847</td>\n      <td>0.029480</td>\n      <td>Afghanistan</td>\n      <td>19529.727</td>\n      <td>18512.030</td>\n      <td>38041.757</td>\n      <td>58.269</td>\n      <td>1.936297e+10</td>\n    </tr>\n    <tr>\n      <th>1</th>\n      <td>773</td>\n      <td>31</td>\n      <td>470</td>\n      <td>272</td>\n      <td>0.040103</td>\n      <td>Albania</td>\n      <td>1466.785</td>\n      <td>1414.128</td>\n      <td>2880.913</td>\n      <td>105.143</td>\n      <td>1.510250e+10</td>\n    </tr>\n    <tr>\n      <th>2</th>\n      <td>4006</td>\n      <td>450</td>\n      <td>1779</td>\n      <td>1777</td>\n      <td>0.112332</td>\n      <td>Algeria</td>\n      <td>21749.666</td>\n      <td>21303.388</td>\n      <td>43053.054</td>\n      <td>18.076</td>\n      <td>1.737580e+11</td>\n    </tr>\n    <tr>\n      <th>3</th>\n      <td>745</td>\n      <td>42</td>\n      <td>468</td>\n      <td>235</td>\n      <td>0.056376</td>\n      <td>Andorra</td>\n      <td>NaN</td>\n      <td>NaN</td>\n      <td>77.146</td>\n      <td>164.140</td>\n      <td>3.236544e+09</td>\n    </tr>\n    <tr>\n      <th>4</th>\n      <td>27</td>\n      <td>2</td>\n      <td>7</td>\n      <td>18</td>\n      <td>0.074074</td>\n      <td>Angola</td>\n      <td>15744.779</td>\n      <td>16080.520</td>\n      <td>31825.299</td>\n      <td>25.528</td>\n      <td>1.057510e+11</td>\n    </tr>\n    <tr>\n      <th>...</th>\n      <td>...</td>\n      <td>...</td>\n      <td>...</td>\n      <td>...</td>\n      <td>...</td>\n      <td>...</td>\n      <td>...</td>\n      <td>...</td>\n      <td>...</td>\n      <td>...</td>\n      <td>...</td>\n    </tr>\n    <tr>\n      <th>175</th>\n      <td>270</td>\n      <td>0</td>\n      <td>219</td>\n      <td>51</td>\n      <td>0.000000</td>\n      <td>Vietnam</td>\n      <td>48151.352</td>\n      <td>48310.756</td>\n      <td>96462.108</td>\n      <td>311.098</td>\n      <td>2.452137e+11</td>\n    </tr>\n    <tr>\n      <th>176</th>\n      <td>344</td>\n      <td>2</td>\n      <td>76</td>\n      <td>266</td>\n      <td>0.005814</td>\n      <td>West Bank and Gaza</td>\n      <td>2526.350</td>\n      <td>2455.072</td>\n      <td>4981.422</td>\n      <td>827.479</td>\n      <td>1.461590e+10</td>\n    </tr>\n    <tr>\n      <th>177</th>\n      <td>6</td>\n      <td>2</td>\n      <td>1</td>\n      <td>3</td>\n      <td>0.333333</td>\n      <td>Yemen</td>\n      <td>14692.284</td>\n      <td>14469.638</td>\n      <td>29161.922</td>\n      <td>55.234</td>\n      <td>2.691440e+10</td>\n    </tr>\n    <tr>\n      <th>178</th>\n      <td>106</td>\n      <td>3</td>\n      <td>55</td>\n      <td>48</td>\n      <td>0.028302</td>\n      <td>Zambia</td>\n      <td>8843.214</td>\n      <td>9017.820</td>\n      <td>17861.034</td>\n      <td>24.026</td>\n      <td>2.672007e+10</td>\n    </tr>\n    <tr>\n      <th>179</th>\n      <td>40</td>\n      <td>4</td>\n      <td>5</td>\n      <td>31</td>\n      <td>0.100000</td>\n      <td>Zimbabwe</td>\n      <td>6983.353</td>\n      <td>7662.120</td>\n      <td>14645.473</td>\n      <td>37.858</td>\n      <td>3.100052e+10</td>\n    </tr>\n  </tbody>\n</table>\n<p>180 rows × 11 columns</p>\n</div>"
     },
     "metadata": {},
     "execution_count": 17
    }
   ],
   "source": [
    "df_overview.rename(columns={\"2018\": \"gdp_2018\"}, errors=\"raise\", inplace=True)\n",
    "df_overview"
   ]
  },
  {
   "cell_type": "code",
   "execution_count": 18,
   "metadata": {},
   "outputs": [],
   "source": [
    "df_overview['gdp_per_capita'] = df_overview.gdp_2018 / (df_overview.PopTotal * 1000)\n",
    "df_overview.set_index('Location', inplace=True)"
   ]
  },
  {
   "cell_type": "code",
   "execution_count": 19,
   "metadata": {},
   "outputs": [
    {
     "output_type": "execute_result",
     "data": {
      "text/plain": "                      Confirmed  Deaths  Recovered  Active  fatality_rate  \\\nLocation                                                                    \nMonaco                       95       4         64      27       0.042105   \nLuxembourg                 3784      90       3213     481       0.023784   \nSwitzerland               29586    1737      23400    4449       0.058710   \nNorway                     7738     210         32    7496       0.027139   \nIreland                   20612    1232      13386    5994       0.059771   \nIceland                    1797      10       1670     117       0.005565   \nQatar                     13409      10       1372   12027       0.000746   \nSingapore                 16169      15       1244   14910       0.000928   \nUS                      1069424   62996     153947  878169       0.058906   \nDenmark                    9356     452       6741    2163       0.048311   \nAustralia                  6766      93       5742     931       0.013745   \nSweden                    21092    2586       1005   17501       0.122606   \nNetherlands               39512    4811        125   34576       0.121760   \nAustria                   15452     584      12907    1961       0.037794   \nFinland                    4995     211       3000    1784       0.042242   \nGermany                  163009    6623     123500   32886       0.040630   \nBelgium                   48519    7594      11576   29349       0.156516   \nCanada                    54457    3310      21424   29723       0.060782   \nIsrael                    15946     222       8561    7163       0.013922   \nNew Zealand                1479      19       1252     208       0.012847   \nFrance                   167299   24410      50380   92509       0.145906   \nUnited Arab Emirates      12481     105       2429    9947       0.008413   \nUnited Kingdom           172481   26842        859  144780       0.155623   \nAndorra                     745      42        468     235       0.056376   \nJapan                     14088     430       2460   11198       0.030522   \n\n                         PopMale   PopFemale    PopTotal  PopDensity  \\\nLocation                                                               \nMonaco                       NaN         NaN      38.967   26152.349   \nLuxembourg               311.110     304.620     615.730     237.734   \nSwitzerland             4260.661    4330.700    8591.361     217.415   \nNorway                  2716.812    2662.047    5378.859      14.726   \nIreland                 2422.418    2460.080    4882.498      70.874   \nIceland                  170.230     168.807     339.037       3.382   \nQatar                   2133.521     698.550    2832.071     243.934   \nSingapore               3038.226    2766.117    5804.343    8291.919   \nUS                    162826.299  166238.618  329064.917      35.974   \nDenmark                 2869.672    2902.205    5771.877     136.033   \nAustralia              12551.311   12651.889   25203.200       3.281   \nSweden                  5025.597    5010.794   10036.391      24.459   \nNetherlands             8514.835    8582.288   17097.123     507.032   \nAustria                 4409.380    4545.728    8955.108     108.667   \nFinland                 2727.210    2804.949    5532.159      18.204   \nGermany                41249.115   42267.931   83517.046     239.606   \nBelgium                 5711.479    5827.847   11539.326     381.087   \nCanada                 18563.538   18847.500   37411.038       4.114   \nIsrael                  4237.327    4282.046    8519.373     393.686   \nNew Zealand             2351.162    2431.900    4783.062      18.165   \nFrance                 31524.494   33605.237   65129.731     118.946   \nUnited Arab Emirates    6766.806    3003.720    9770.526     116.872   \nUnited Kingdom         33351.435   34178.726   67530.161     279.131   \nAndorra                      NaN         NaN      77.146     164.140   \nJapan                  61950.310   64909.989  126860.299     347.987   \n\n                          gdp_2018  gdp_per_capita  \nLocation                                            \nMonaco                7.184844e+09   184382.790377  \nLuxembourg            7.088533e+10   115124.041192  \nSwitzerland           7.051404e+11    82075.512153  \nNorway                4.341666e+11    80717.233047  \nIreland               3.824875e+11    78338.483811  \nIceland               2.587848e+10    76329.355675  \nQatar                 1.913621e+11    67569.664713  \nSingapore             3.641567e+11    62738.652380  \nUS                    2.054434e+13    62432.494002  \nDenmark               3.556753e+11    61622.125538  \nAustralia             1.433904e+12    56893.741608  \nSweden                5.560865e+11    55407.017217  \nNetherlands           9.136585e+11    53439.310562  \nAustria               4.552858e+11    50840.907562  \nFinland               2.767431e+11    50024.433592  \nGermany               3.947620e+12    47267.238864  \nBelgium               5.427611e+11    47035.770729  \nCanada                1.713342e+12    45797.759070  \nIsrael                3.705880e+11    43499.442641  \nNew Zealand           2.049239e+11    42843.667481  \nFrance                2.777535e+12    42646.195472  \nUnited Arab Emirates  4.141789e+11    42390.649448  \nUnited Kingdom        2.855297e+12    42281.799558  \nAndorra               3.236544e+09    41953.489609  \nJapan                 4.971323e+12    39187.382648  ",
      "text/html": "<div>\n<style scoped>\n    .dataframe tbody tr th:only-of-type {\n        vertical-align: middle;\n    }\n\n    .dataframe tbody tr th {\n        vertical-align: top;\n    }\n\n    .dataframe thead th {\n        text-align: right;\n    }\n</style>\n<table border=\"1\" class=\"dataframe\">\n  <thead>\n    <tr style=\"text-align: right;\">\n      <th></th>\n      <th>Confirmed</th>\n      <th>Deaths</th>\n      <th>Recovered</th>\n      <th>Active</th>\n      <th>fatality_rate</th>\n      <th>PopMale</th>\n      <th>PopFemale</th>\n      <th>PopTotal</th>\n      <th>PopDensity</th>\n      <th>gdp_2018</th>\n      <th>gdp_per_capita</th>\n    </tr>\n    <tr>\n      <th>Location</th>\n      <th></th>\n      <th></th>\n      <th></th>\n      <th></th>\n      <th></th>\n      <th></th>\n      <th></th>\n      <th></th>\n      <th></th>\n      <th></th>\n      <th></th>\n    </tr>\n  </thead>\n  <tbody>\n    <tr>\n      <th>Monaco</th>\n      <td>95</td>\n      <td>4</td>\n      <td>64</td>\n      <td>27</td>\n      <td>0.042105</td>\n      <td>NaN</td>\n      <td>NaN</td>\n      <td>38.967</td>\n      <td>26152.349</td>\n      <td>7.184844e+09</td>\n      <td>184382.790377</td>\n    </tr>\n    <tr>\n      <th>Luxembourg</th>\n      <td>3784</td>\n      <td>90</td>\n      <td>3213</td>\n      <td>481</td>\n      <td>0.023784</td>\n      <td>311.110</td>\n      <td>304.620</td>\n      <td>615.730</td>\n      <td>237.734</td>\n      <td>7.088533e+10</td>\n      <td>115124.041192</td>\n    </tr>\n    <tr>\n      <th>Switzerland</th>\n      <td>29586</td>\n      <td>1737</td>\n      <td>23400</td>\n      <td>4449</td>\n      <td>0.058710</td>\n      <td>4260.661</td>\n      <td>4330.700</td>\n      <td>8591.361</td>\n      <td>217.415</td>\n      <td>7.051404e+11</td>\n      <td>82075.512153</td>\n    </tr>\n    <tr>\n      <th>Norway</th>\n      <td>7738</td>\n      <td>210</td>\n      <td>32</td>\n      <td>7496</td>\n      <td>0.027139</td>\n      <td>2716.812</td>\n      <td>2662.047</td>\n      <td>5378.859</td>\n      <td>14.726</td>\n      <td>4.341666e+11</td>\n      <td>80717.233047</td>\n    </tr>\n    <tr>\n      <th>Ireland</th>\n      <td>20612</td>\n      <td>1232</td>\n      <td>13386</td>\n      <td>5994</td>\n      <td>0.059771</td>\n      <td>2422.418</td>\n      <td>2460.080</td>\n      <td>4882.498</td>\n      <td>70.874</td>\n      <td>3.824875e+11</td>\n      <td>78338.483811</td>\n    </tr>\n    <tr>\n      <th>Iceland</th>\n      <td>1797</td>\n      <td>10</td>\n      <td>1670</td>\n      <td>117</td>\n      <td>0.005565</td>\n      <td>170.230</td>\n      <td>168.807</td>\n      <td>339.037</td>\n      <td>3.382</td>\n      <td>2.587848e+10</td>\n      <td>76329.355675</td>\n    </tr>\n    <tr>\n      <th>Qatar</th>\n      <td>13409</td>\n      <td>10</td>\n      <td>1372</td>\n      <td>12027</td>\n      <td>0.000746</td>\n      <td>2133.521</td>\n      <td>698.550</td>\n      <td>2832.071</td>\n      <td>243.934</td>\n      <td>1.913621e+11</td>\n      <td>67569.664713</td>\n    </tr>\n    <tr>\n      <th>Singapore</th>\n      <td>16169</td>\n      <td>15</td>\n      <td>1244</td>\n      <td>14910</td>\n      <td>0.000928</td>\n      <td>3038.226</td>\n      <td>2766.117</td>\n      <td>5804.343</td>\n      <td>8291.919</td>\n      <td>3.641567e+11</td>\n      <td>62738.652380</td>\n    </tr>\n    <tr>\n      <th>US</th>\n      <td>1069424</td>\n      <td>62996</td>\n      <td>153947</td>\n      <td>878169</td>\n      <td>0.058906</td>\n      <td>162826.299</td>\n      <td>166238.618</td>\n      <td>329064.917</td>\n      <td>35.974</td>\n      <td>2.054434e+13</td>\n      <td>62432.494002</td>\n    </tr>\n    <tr>\n      <th>Denmark</th>\n      <td>9356</td>\n      <td>452</td>\n      <td>6741</td>\n      <td>2163</td>\n      <td>0.048311</td>\n      <td>2869.672</td>\n      <td>2902.205</td>\n      <td>5771.877</td>\n      <td>136.033</td>\n      <td>3.556753e+11</td>\n      <td>61622.125538</td>\n    </tr>\n    <tr>\n      <th>Australia</th>\n      <td>6766</td>\n      <td>93</td>\n      <td>5742</td>\n      <td>931</td>\n      <td>0.013745</td>\n      <td>12551.311</td>\n      <td>12651.889</td>\n      <td>25203.200</td>\n      <td>3.281</td>\n      <td>1.433904e+12</td>\n      <td>56893.741608</td>\n    </tr>\n    <tr>\n      <th>Sweden</th>\n      <td>21092</td>\n      <td>2586</td>\n      <td>1005</td>\n      <td>17501</td>\n      <td>0.122606</td>\n      <td>5025.597</td>\n      <td>5010.794</td>\n      <td>10036.391</td>\n      <td>24.459</td>\n      <td>5.560865e+11</td>\n      <td>55407.017217</td>\n    </tr>\n    <tr>\n      <th>Netherlands</th>\n      <td>39512</td>\n      <td>4811</td>\n      <td>125</td>\n      <td>34576</td>\n      <td>0.121760</td>\n      <td>8514.835</td>\n      <td>8582.288</td>\n      <td>17097.123</td>\n      <td>507.032</td>\n      <td>9.136585e+11</td>\n      <td>53439.310562</td>\n    </tr>\n    <tr>\n      <th>Austria</th>\n      <td>15452</td>\n      <td>584</td>\n      <td>12907</td>\n      <td>1961</td>\n      <td>0.037794</td>\n      <td>4409.380</td>\n      <td>4545.728</td>\n      <td>8955.108</td>\n      <td>108.667</td>\n      <td>4.552858e+11</td>\n      <td>50840.907562</td>\n    </tr>\n    <tr>\n      <th>Finland</th>\n      <td>4995</td>\n      <td>211</td>\n      <td>3000</td>\n      <td>1784</td>\n      <td>0.042242</td>\n      <td>2727.210</td>\n      <td>2804.949</td>\n      <td>5532.159</td>\n      <td>18.204</td>\n      <td>2.767431e+11</td>\n      <td>50024.433592</td>\n    </tr>\n    <tr>\n      <th>Germany</th>\n      <td>163009</td>\n      <td>6623</td>\n      <td>123500</td>\n      <td>32886</td>\n      <td>0.040630</td>\n      <td>41249.115</td>\n      <td>42267.931</td>\n      <td>83517.046</td>\n      <td>239.606</td>\n      <td>3.947620e+12</td>\n      <td>47267.238864</td>\n    </tr>\n    <tr>\n      <th>Belgium</th>\n      <td>48519</td>\n      <td>7594</td>\n      <td>11576</td>\n      <td>29349</td>\n      <td>0.156516</td>\n      <td>5711.479</td>\n      <td>5827.847</td>\n      <td>11539.326</td>\n      <td>381.087</td>\n      <td>5.427611e+11</td>\n      <td>47035.770729</td>\n    </tr>\n    <tr>\n      <th>Canada</th>\n      <td>54457</td>\n      <td>3310</td>\n      <td>21424</td>\n      <td>29723</td>\n      <td>0.060782</td>\n      <td>18563.538</td>\n      <td>18847.500</td>\n      <td>37411.038</td>\n      <td>4.114</td>\n      <td>1.713342e+12</td>\n      <td>45797.759070</td>\n    </tr>\n    <tr>\n      <th>Israel</th>\n      <td>15946</td>\n      <td>222</td>\n      <td>8561</td>\n      <td>7163</td>\n      <td>0.013922</td>\n      <td>4237.327</td>\n      <td>4282.046</td>\n      <td>8519.373</td>\n      <td>393.686</td>\n      <td>3.705880e+11</td>\n      <td>43499.442641</td>\n    </tr>\n    <tr>\n      <th>New Zealand</th>\n      <td>1479</td>\n      <td>19</td>\n      <td>1252</td>\n      <td>208</td>\n      <td>0.012847</td>\n      <td>2351.162</td>\n      <td>2431.900</td>\n      <td>4783.062</td>\n      <td>18.165</td>\n      <td>2.049239e+11</td>\n      <td>42843.667481</td>\n    </tr>\n    <tr>\n      <th>France</th>\n      <td>167299</td>\n      <td>24410</td>\n      <td>50380</td>\n      <td>92509</td>\n      <td>0.145906</td>\n      <td>31524.494</td>\n      <td>33605.237</td>\n      <td>65129.731</td>\n      <td>118.946</td>\n      <td>2.777535e+12</td>\n      <td>42646.195472</td>\n    </tr>\n    <tr>\n      <th>United Arab Emirates</th>\n      <td>12481</td>\n      <td>105</td>\n      <td>2429</td>\n      <td>9947</td>\n      <td>0.008413</td>\n      <td>6766.806</td>\n      <td>3003.720</td>\n      <td>9770.526</td>\n      <td>116.872</td>\n      <td>4.141789e+11</td>\n      <td>42390.649448</td>\n    </tr>\n    <tr>\n      <th>United Kingdom</th>\n      <td>172481</td>\n      <td>26842</td>\n      <td>859</td>\n      <td>144780</td>\n      <td>0.155623</td>\n      <td>33351.435</td>\n      <td>34178.726</td>\n      <td>67530.161</td>\n      <td>279.131</td>\n      <td>2.855297e+12</td>\n      <td>42281.799558</td>\n    </tr>\n    <tr>\n      <th>Andorra</th>\n      <td>745</td>\n      <td>42</td>\n      <td>468</td>\n      <td>235</td>\n      <td>0.056376</td>\n      <td>NaN</td>\n      <td>NaN</td>\n      <td>77.146</td>\n      <td>164.140</td>\n      <td>3.236544e+09</td>\n      <td>41953.489609</td>\n    </tr>\n    <tr>\n      <th>Japan</th>\n      <td>14088</td>\n      <td>430</td>\n      <td>2460</td>\n      <td>11198</td>\n      <td>0.030522</td>\n      <td>61950.310</td>\n      <td>64909.989</td>\n      <td>126860.299</td>\n      <td>347.987</td>\n      <td>4.971323e+12</td>\n      <td>39187.382648</td>\n    </tr>\n  </tbody>\n</table>\n</div>"
     },
     "metadata": {},
     "execution_count": 19
    }
   ],
   "source": [
    "df_overview.sort_values(by = 'gdp_per_capita', ascending=False).head(25)"
   ]
  },
  {
   "cell_type": "code",
   "execution_count": 20,
   "metadata": {},
   "outputs": [
    {
     "output_type": "execute_result",
     "data": {
      "text/plain": "0.06285896774804249"
     },
     "metadata": {},
     "execution_count": 20
    }
   ],
   "source": [
    "corr1 = df_overview.fatality_rate.corr(df_overview.gdp_per_capita)\n",
    "corr1"
   ]
  },
  {
   "cell_type": "code",
   "execution_count": null,
   "metadata": {},
   "outputs": [],
   "source": []
  }
 ],
 "metadata": {
  "kernelspec": {
   "display_name": "Python 3",
   "language": "python",
   "name": "python3"
  },
  "language_info": {
   "codemirror_mode": {
    "name": "ipython",
    "version": 3
   },
   "file_extension": ".py",
   "mimetype": "text/x-python",
   "name": "python",
   "nbconvert_exporter": "python",
   "pygments_lexer": "ipython3",
   "version": "3.7.7-final"
  }
 },
 "nbformat": 4,
 "nbformat_minor": 4
}